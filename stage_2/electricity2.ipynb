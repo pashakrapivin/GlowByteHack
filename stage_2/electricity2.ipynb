{
 "cells": [
  {
   "cell_type": "code",
   "execution_count": 20,
   "id": "initial_id",
   "metadata": {
    "collapsed": true,
    "ExecuteTime": {
     "end_time": "2023-11-01T13:36:56.600059900Z",
     "start_time": "2023-11-01T13:36:56.559185200Z"
    }
   },
   "outputs": [],
   "source": [
    "import pandas as pd\n",
    "import numpy as np\n",
    "import joblib\n",
    "import warnings\n",
    "import holidays\n",
    "from datetime import timedelta\n",
    "import matplotlib.pyplot as plt\n",
    "\n",
    "from sklearn.preprocessing import MinMaxScaler\n",
    "from sklearn.model_selection import cross_val_score, TimeSeriesSplit\n",
    "from sklearn.linear_model import LinearRegression\n",
    "from sklearn.metrics import mean_absolute_error, r2_score, mean_absolute_percentage_error\n",
    "from category_encoders.target_encoder import TargetEncoder\n",
    "from sklearn.pipeline import make_pipeline\n",
    "from sklearn.inspection import permutation_importance\n",
    "from sklearn.ensemble import StackingRegressor\n",
    "\n",
    "from lightgbm import LGBMRegressor\n",
    "import optuna"
   ]
  },
  {
   "cell_type": "code",
   "execution_count": 3,
   "outputs": [],
   "source": [
    "warnings.simplefilter('ignore', category=FutureWarning)"
   ],
   "metadata": {
    "collapsed": false,
    "ExecuteTime": {
     "end_time": "2023-11-01T13:34:00.563620600Z",
     "start_time": "2023-11-01T13:34:00.515097900Z"
    }
   },
   "id": "b37cd3db0e474a11"
  },
  {
   "cell_type": "markdown",
   "source": [
    "## Prepairing"
   ],
   "metadata": {
    "collapsed": false
   },
   "id": "b282184b2b52ec32"
  },
  {
   "cell_type": "code",
   "execution_count": 5,
   "outputs": [],
   "source": [
    "# Таргет-энкодер и модель для предсказаний на 1 день\n",
    "target_encoder_1d = joblib.load('../files/target_encoder_1d')\n",
    "stack_pipeline_1d = joblib.load('../files/stack_pipeline_1d')"
   ],
   "metadata": {
    "collapsed": false,
    "ExecuteTime": {
     "end_time": "2023-11-01T13:34:29.664627800Z",
     "start_time": "2023-11-01T13:34:29.544015Z"
    }
   },
   "id": "b769185b679f802d"
  },
  {
   "cell_type": "code",
   "execution_count": 6,
   "outputs": [],
   "source": [
    "# Функция извлечения признаков, для предсказаний на 1 день\n",
    "def features_extractor_1d(dataset, target_encoder):\n",
    "    features = pd.DataFrame()\n",
    "    res_dataset = dataset.resample('1D')\n",
    "\n",
    "    # Вчерашняя температура\n",
    "    features['temp_pred'] = res_dataset.agg({'temp_pred': 'mean'})\n",
    "    features['yst_temp_min'] = res_dataset.agg({'temp': 'min'}).shift(1)\n",
    "    features['yst_temp_med'] = res_dataset.agg({'temp': 'median'}).shift(1)\n",
    "    for i in range(3):\n",
    "        features[f'yst_temp_mean{i+1}'] = res_dataset.agg({'temp': 'mean'}).shift(i+1)\n",
    "    features['yst_temp_max'] = res_dataset.agg({'temp': 'max'}).shift(1)\n",
    "    features['yst_temp_last'] = dataset.query('time==23')['temp'].shift(1)\n",
    "    # Вчерашний таргет\n",
    "    features['yst_target_min'] = res_dataset.agg({'target': 'min'}).shift(1)\n",
    "    features['yst_target_med'] = res_dataset.agg({'target': 'median'}).shift(1)\n",
    "    features['yst_target_mean'] = res_dataset.agg({'target': 'mean'}).shift(1)\n",
    "    features['yst_target_max'] = res_dataset.agg({'target': 'max'}).shift(1)\n",
    "    features['yst_target_last'] = dataset.query('time==23')['target'].shift(1)\n",
    "\n",
    "    # Погода энкодед\n",
    "    features[['weather_pred', 'yst_weather_fact_1']] = (\n",
    "        target_encoder.transform(dataset[['weather_pred', 'weather_fact']]).resample('D').mean()\n",
    "    )\n",
    "    features['yst_weather_fact_1'] = features['yst_weather_fact_1'].shift(1)\n",
    "    for i in range(1, 2):\n",
    "        features[f'yst_weather_fact_{i+1}'] = features['yst_weather_fact_1'].shift(i+1)\n",
    "\n",
    "\n",
    "    # Лаг\n",
    "    for i in range(31):\n",
    "        features[f'target_lag_{i+1}'] = res_dataset.agg({'target': 'sum'}).shift(i+1)\n",
    "\n",
    "\n",
    "    # Дни\n",
    "    features['week_day'] = features.index.dayofweek\n",
    "    features['year'] = features.index.year\n",
    "    features['month'] = features.index.month\n",
    "    features['day'] = features.index.day\n",
    "    #features['quarter'] = (features.index.month - 1) // 3 + 1\n",
    "\n",
    "    # Выходные праздники\n",
    "    #features['is_weekend'] = [1 if day == 6 or day == 0 else 0 for day in features.week_day]\n",
    "    holidays_list = []\n",
    "    for i in holidays.RUS(years=[2019, 2020, 2021, 2022, 2023]).items():\n",
    "        holidays_list.append(str(i[0]))\n",
    "    holidays_list = holidays_list + ['2019-12-31', '2020-12-31', '2021-12-31', '2022-12-31', '2023-12-31']\n",
    "    features['is_holiday'] = [1 if str(val).split()[0] in holidays_list else 0 for val in features.index]\n",
    "\n",
    "    features = features.dropna()\n",
    "    return features"
   ],
   "metadata": {
    "collapsed": false,
    "ExecuteTime": {
     "end_time": "2023-11-01T13:34:31.583076900Z",
     "start_time": "2023-11-01T13:34:31.551290400Z"
    }
   },
   "id": "4da5c09e52ea5c9"
  },
  {
   "cell_type": "code",
   "execution_count": 7,
   "outputs": [],
   "source": [
    "# Функция извлечения признаков, для предсказаний на 1 час\n",
    "def features_extractor(dataset, target_encoder, predict_1d):\n",
    "    features = pd.DataFrame()\n",
    "    \n",
    "    features['time'] = dataset['time']\n",
    "    \n",
    "    # Температура\n",
    "    features['temp_pred'] = dataset['temp_pred']\n",
    "    features['temp_pred'] = features['temp_pred'].ffill()\n",
    "    features['yst_temp'] = dataset['temp'].shift(24)\n",
    "    features['yst_temp_mean'] = features.resample('1D').agg({'yst_temp': 'mean'})\n",
    "    features['yst_temp_med'] = features.resample('1D').agg({'yst_temp': 'median'})\n",
    "    \n",
    "    # Погода\n",
    "    features['weather_pred'] = dataset['weather_pred']\n",
    "    features['weather_pred'] = features['weather_pred'].ffill()\n",
    "    features['weather_fact'] = dataset['weather_fact'].shift(24)\n",
    "    features[['weather_pred', 'weather_fact']] = (\n",
    "        target_encoder.transform(features[['weather_pred', 'weather_fact']])\n",
    "    )\n",
    "    features = features.rename(columns={'weather_fact': 'yst_weather_fact'})\n",
    "    features['yst_weather_fact_mean'] = features.resample('1D').agg({'yst_weather_fact': 'mean'})\n",
    "    features['yst_weather_fact_med'] = features.resample('1D').agg({'yst_weather_fact': 'median'})\n",
    "    \n",
    "    # Лаг таргета на 7 дней\n",
    "    for i in range(24, 192, 24):\n",
    "        features[f'yst_target_{i}'] = dataset['target'].shift(i)\n",
    "    \n",
    "    features['yst_target_sum'] = features.resample('1D').agg({'yst_target_24': 'sum'})\n",
    "    \n",
    "    # Предикт на 1 день\n",
    "    features = features.join(predict_1d)\n",
    "\n",
    "    # Дни\n",
    "    features['week_day'] = features.index.dayofweek\n",
    "    features['year'] = features.index.year\n",
    "    features['month'] = features.index.month\n",
    "    features['day'] = features.index.day\n",
    "    \n",
    "    # Праздники\n",
    "    holidays_list = []\n",
    "    for i in holidays.RUS(years=[2019, 2020, 2021, 2022, 2023]).items():\n",
    "        holidays_list.append(str(i[0]))\n",
    "    holidays_list = holidays_list + ['2019-12-31', '2020-12-31', '2021-12-31', '2022-12-31', '2023-12-31']\n",
    "    features['is_holiday'] = [1 if str(val).split()[0] in holidays_list else 0 for val in features.index]\n",
    "    \n",
    "    features = features.dropna()\n",
    "    return features"
   ],
   "metadata": {
    "collapsed": false,
    "ExecuteTime": {
     "end_time": "2023-11-01T13:34:32.185446900Z",
     "start_time": "2023-11-01T13:34:32.154834100Z"
    }
   },
   "id": "7a420c7113c6e978"
  },
  {
   "cell_type": "code",
   "execution_count": 8,
   "outputs": [],
   "source": [
    "# Функция для извлечения таргета\n",
    "def target_creator(dataset, features_idx):\n",
    "    target = dataset['target']\n",
    "    target = target.loc[features_idx.unique()]\n",
    "    return target"
   ],
   "metadata": {
    "collapsed": false,
    "ExecuteTime": {
     "end_time": "2023-11-01T13:34:32.949642300Z",
     "start_time": "2023-11-01T13:34:32.924635500Z"
    }
   },
   "id": "6dc7d52d1e37ecd7"
  },
  {
   "cell_type": "code",
   "execution_count": 9,
   "outputs": [],
   "source": [
    "target_encoder = TargetEncoder()\n",
    "scaler = MinMaxScaler()\n",
    "CV = TimeSeriesSplit(n_splits=5)"
   ],
   "metadata": {
    "collapsed": false,
    "ExecuteTime": {
     "end_time": "2023-11-01T13:34:34.015474700Z",
     "start_time": "2023-11-01T13:34:33.950479500Z"
    }
   },
   "id": "eb4ad55af60e5313"
  },
  {
   "cell_type": "markdown",
   "source": [
    "## TRAIN"
   ],
   "metadata": {
    "collapsed": false
   },
   "id": "16deadc7f172e940"
  },
  {
   "cell_type": "code",
   "execution_count": 10,
   "outputs": [
    {
     "data": {
      "text/plain": "            time   target  temp  temp_pred weather_pred weather_fact\ndate                                                                \n2019-01-01     0  481.510   2.9        2.0  пасм, ветер        ветер\n2019-01-01     1  462.872   2.9        2.0  пасм, ветер        ветер\n2019-01-01     2  449.718   2.9        2.0  пасм, ветер        ветер\n2019-01-01     3  430.908   4.3        2.0  пасм, ветер  ветер, пасм\n2019-01-01     4  415.163   4.3        2.0  пасм, ветер  ветер, пасм\n...          ...      ...   ...        ...          ...          ...\n2023-03-31    19  552.960   7.9        6.0    пасм, 61%  пасм, дымка\n2023-03-31    20  563.985   7.9        6.0    пасм, 61%  пасм, дымка\n2023-03-31    21  560.191   6.3        5.0    пасм, 61%  пасм, дымка\n2023-03-31    22  538.796   6.3        5.0    пасм, 61%  пасм, дымка\n2023-03-31    23  518.685   6.3        5.0    пасм, 61%  пасм, дымка\n\n[37224 rows x 6 columns]",
      "text/html": "<div>\n<style scoped>\n    .dataframe tbody tr th:only-of-type {\n        vertical-align: middle;\n    }\n\n    .dataframe tbody tr th {\n        vertical-align: top;\n    }\n\n    .dataframe thead th {\n        text-align: right;\n    }\n</style>\n<table border=\"1\" class=\"dataframe\">\n  <thead>\n    <tr style=\"text-align: right;\">\n      <th></th>\n      <th>time</th>\n      <th>target</th>\n      <th>temp</th>\n      <th>temp_pred</th>\n      <th>weather_pred</th>\n      <th>weather_fact</th>\n    </tr>\n    <tr>\n      <th>date</th>\n      <th></th>\n      <th></th>\n      <th></th>\n      <th></th>\n      <th></th>\n      <th></th>\n    </tr>\n  </thead>\n  <tbody>\n    <tr>\n      <th>2019-01-01</th>\n      <td>0</td>\n      <td>481.510</td>\n      <td>2.9</td>\n      <td>2.0</td>\n      <td>пасм, ветер</td>\n      <td>ветер</td>\n    </tr>\n    <tr>\n      <th>2019-01-01</th>\n      <td>1</td>\n      <td>462.872</td>\n      <td>2.9</td>\n      <td>2.0</td>\n      <td>пасм, ветер</td>\n      <td>ветер</td>\n    </tr>\n    <tr>\n      <th>2019-01-01</th>\n      <td>2</td>\n      <td>449.718</td>\n      <td>2.9</td>\n      <td>2.0</td>\n      <td>пасм, ветер</td>\n      <td>ветер</td>\n    </tr>\n    <tr>\n      <th>2019-01-01</th>\n      <td>3</td>\n      <td>430.908</td>\n      <td>4.3</td>\n      <td>2.0</td>\n      <td>пасм, ветер</td>\n      <td>ветер, пасм</td>\n    </tr>\n    <tr>\n      <th>2019-01-01</th>\n      <td>4</td>\n      <td>415.163</td>\n      <td>4.3</td>\n      <td>2.0</td>\n      <td>пасм, ветер</td>\n      <td>ветер, пасм</td>\n    </tr>\n    <tr>\n      <th>...</th>\n      <td>...</td>\n      <td>...</td>\n      <td>...</td>\n      <td>...</td>\n      <td>...</td>\n      <td>...</td>\n    </tr>\n    <tr>\n      <th>2023-03-31</th>\n      <td>19</td>\n      <td>552.960</td>\n      <td>7.9</td>\n      <td>6.0</td>\n      <td>пасм, 61%</td>\n      <td>пасм, дымка</td>\n    </tr>\n    <tr>\n      <th>2023-03-31</th>\n      <td>20</td>\n      <td>563.985</td>\n      <td>7.9</td>\n      <td>6.0</td>\n      <td>пасм, 61%</td>\n      <td>пасм, дымка</td>\n    </tr>\n    <tr>\n      <th>2023-03-31</th>\n      <td>21</td>\n      <td>560.191</td>\n      <td>6.3</td>\n      <td>5.0</td>\n      <td>пасм, 61%</td>\n      <td>пасм, дымка</td>\n    </tr>\n    <tr>\n      <th>2023-03-31</th>\n      <td>22</td>\n      <td>538.796</td>\n      <td>6.3</td>\n      <td>5.0</td>\n      <td>пасм, 61%</td>\n      <td>пасм, дымка</td>\n    </tr>\n    <tr>\n      <th>2023-03-31</th>\n      <td>23</td>\n      <td>518.685</td>\n      <td>6.3</td>\n      <td>5.0</td>\n      <td>пасм, 61%</td>\n      <td>пасм, дымка</td>\n    </tr>\n  </tbody>\n</table>\n<p>37224 rows × 6 columns</p>\n</div>"
     },
     "execution_count": 10,
     "metadata": {},
     "output_type": "execute_result"
    }
   ],
   "source": [
    "df_train = pd.read_csv('../data/train_dataset.csv', index_col='date', parse_dates=True)\n",
    "df_train"
   ],
   "metadata": {
    "collapsed": false,
    "ExecuteTime": {
     "end_time": "2023-11-01T13:34:36.782487100Z",
     "start_time": "2023-11-01T13:34:36.672741100Z"
    }
   },
   "id": "44b6c39283de8503"
  },
  {
   "cell_type": "code",
   "execution_count": 11,
   "outputs": [],
   "source": [
    "# Извлекаем признаки для предсказания суммарного потребления электричества на 1 день\n",
    "features_train_1d = features_extractor_1d(df_train, target_encoder_1d)"
   ],
   "metadata": {
    "collapsed": false,
    "ExecuteTime": {
     "end_time": "2023-11-01T13:34:39.169944800Z",
     "start_time": "2023-11-01T13:34:38.887561200Z"
    }
   },
   "id": "65fcd570d0b370c1"
  },
  {
   "cell_type": "code",
   "execution_count": 12,
   "outputs": [],
   "source": [
    "# Получаем предсказания суммарного потребления на 1 день \n",
    "predict_train_1d = pd.DataFrame(\n",
    "    stack_pipeline_1d.predict(features_train_1d),\n",
    "    index=features_train_1d.index,\n",
    "    columns=['target_sum_pred']\n",
    ")"
   ],
   "metadata": {
    "collapsed": false,
    "ExecuteTime": {
     "end_time": "2023-11-01T13:34:57.965167500Z",
     "start_time": "2023-11-01T13:34:57.850141400Z"
    }
   },
   "id": "96cba359efd0a200"
  },
  {
   "cell_type": "code",
   "execution_count": 13,
   "outputs": [
    {
     "data": {
      "text/plain": "TargetEncoder(cols=['weather_pred', 'weather_fact'])",
      "text/html": "<style>#sk-container-id-1 {color: black;}#sk-container-id-1 pre{padding: 0;}#sk-container-id-1 div.sk-toggleable {background-color: white;}#sk-container-id-1 label.sk-toggleable__label {cursor: pointer;display: block;width: 100%;margin-bottom: 0;padding: 0.3em;box-sizing: border-box;text-align: center;}#sk-container-id-1 label.sk-toggleable__label-arrow:before {content: \"▸\";float: left;margin-right: 0.25em;color: #696969;}#sk-container-id-1 label.sk-toggleable__label-arrow:hover:before {color: black;}#sk-container-id-1 div.sk-estimator:hover label.sk-toggleable__label-arrow:before {color: black;}#sk-container-id-1 div.sk-toggleable__content {max-height: 0;max-width: 0;overflow: hidden;text-align: left;background-color: #f0f8ff;}#sk-container-id-1 div.sk-toggleable__content pre {margin: 0.2em;color: black;border-radius: 0.25em;background-color: #f0f8ff;}#sk-container-id-1 input.sk-toggleable__control:checked~div.sk-toggleable__content {max-height: 200px;max-width: 100%;overflow: auto;}#sk-container-id-1 input.sk-toggleable__control:checked~label.sk-toggleable__label-arrow:before {content: \"▾\";}#sk-container-id-1 div.sk-estimator input.sk-toggleable__control:checked~label.sk-toggleable__label {background-color: #d4ebff;}#sk-container-id-1 div.sk-label input.sk-toggleable__control:checked~label.sk-toggleable__label {background-color: #d4ebff;}#sk-container-id-1 input.sk-hidden--visually {border: 0;clip: rect(1px 1px 1px 1px);clip: rect(1px, 1px, 1px, 1px);height: 1px;margin: -1px;overflow: hidden;padding: 0;position: absolute;width: 1px;}#sk-container-id-1 div.sk-estimator {font-family: monospace;background-color: #f0f8ff;border: 1px dotted black;border-radius: 0.25em;box-sizing: border-box;margin-bottom: 0.5em;}#sk-container-id-1 div.sk-estimator:hover {background-color: #d4ebff;}#sk-container-id-1 div.sk-parallel-item::after {content: \"\";width: 100%;border-bottom: 1px solid gray;flex-grow: 1;}#sk-container-id-1 div.sk-label:hover label.sk-toggleable__label {background-color: #d4ebff;}#sk-container-id-1 div.sk-serial::before {content: \"\";position: absolute;border-left: 1px solid gray;box-sizing: border-box;top: 0;bottom: 0;left: 50%;z-index: 0;}#sk-container-id-1 div.sk-serial {display: flex;flex-direction: column;align-items: center;background-color: white;padding-right: 0.2em;padding-left: 0.2em;position: relative;}#sk-container-id-1 div.sk-item {position: relative;z-index: 1;}#sk-container-id-1 div.sk-parallel {display: flex;align-items: stretch;justify-content: center;background-color: white;position: relative;}#sk-container-id-1 div.sk-item::before, #sk-container-id-1 div.sk-parallel-item::before {content: \"\";position: absolute;border-left: 1px solid gray;box-sizing: border-box;top: 0;bottom: 0;left: 50%;z-index: -1;}#sk-container-id-1 div.sk-parallel-item {display: flex;flex-direction: column;z-index: 1;position: relative;background-color: white;}#sk-container-id-1 div.sk-parallel-item:first-child::after {align-self: flex-end;width: 50%;}#sk-container-id-1 div.sk-parallel-item:last-child::after {align-self: flex-start;width: 50%;}#sk-container-id-1 div.sk-parallel-item:only-child::after {width: 0;}#sk-container-id-1 div.sk-dashed-wrapped {border: 1px dashed gray;margin: 0 0.4em 0.5em 0.4em;box-sizing: border-box;padding-bottom: 0.4em;background-color: white;}#sk-container-id-1 div.sk-label label {font-family: monospace;font-weight: bold;display: inline-block;line-height: 1.2em;}#sk-container-id-1 div.sk-label-container {text-align: center;}#sk-container-id-1 div.sk-container {/* jupyter's `normalize.less` sets `[hidden] { display: none; }` but bootstrap.min.css set `[hidden] { display: none !important; }` so we also need the `!important` here to be able to override the default hidden behavior on the sphinx rendered scikit-learn.org. See: https://github.com/scikit-learn/scikit-learn/issues/21755 */display: inline-block !important;position: relative;}#sk-container-id-1 div.sk-text-repr-fallback {display: none;}</style><div id=\"sk-container-id-1\" class=\"sk-top-container\"><div class=\"sk-text-repr-fallback\"><pre>TargetEncoder(cols=[&#x27;weather_pred&#x27;, &#x27;weather_fact&#x27;])</pre><b>In a Jupyter environment, please rerun this cell to show the HTML representation or trust the notebook. <br />On GitHub, the HTML representation is unable to render, please try loading this page with nbviewer.org.</b></div><div class=\"sk-container\" hidden><div class=\"sk-item\"><div class=\"sk-estimator sk-toggleable\"><input class=\"sk-toggleable__control sk-hidden--visually\" id=\"sk-estimator-id-1\" type=\"checkbox\" checked><label for=\"sk-estimator-id-1\" class=\"sk-toggleable__label sk-toggleable__label-arrow\">TargetEncoder</label><div class=\"sk-toggleable__content\"><pre>TargetEncoder(cols=[&#x27;weather_pred&#x27;, &#x27;weather_fact&#x27;])</pre></div></div></div></div></div>"
     },
     "execution_count": 13,
     "metadata": {},
     "output_type": "execute_result"
    }
   ],
   "source": [
    "target_encoder.fit(df_train[['weather_pred', 'weather_fact']], df_train['target'])"
   ],
   "metadata": {
    "collapsed": false,
    "ExecuteTime": {
     "end_time": "2023-11-01T13:34:59.264751800Z",
     "start_time": "2023-11-01T13:34:59.116258200Z"
    }
   },
   "id": "4048b18cdbb6c8e"
  },
  {
   "cell_type": "code",
   "execution_count": 14,
   "outputs": [
    {
     "data": {
      "text/plain": "            time  temp_pred  yst_temp  yst_temp_mean  yst_temp_med  \\\ndate                                                                 \n2019-02-01     0       -2.0      -5.4        -2.2125         -1.40   \n2019-02-01     1       -2.0      -5.4        -2.2125         -1.40   \n2019-02-01     2       -2.0      -5.4        -2.2125         -1.40   \n2019-02-01     3       -3.0      -4.7        -2.2125         -1.40   \n2019-02-01     4       -3.0      -4.7        -2.2125         -1.40   \n...          ...        ...       ...            ...           ...   \n2023-03-31    19        6.0       7.8         7.4375          7.45   \n2023-03-31    20        6.0       7.8         7.4375          7.45   \n2023-03-31    21        5.0       7.1         7.4375          7.45   \n2023-03-31    22        5.0       7.1         7.4375          7.45   \n2023-03-31    23        5.0       7.1         7.4375          7.45   \n\n            weather_pred  yst_weather_fact  yst_weather_fact_mean  \\\ndate                                                                \n2019-02-01    569.001286        497.958169             508.221174   \n2019-02-01    569.001286        497.958169             508.221174   \n2019-02-01    569.001286        497.958169             508.221174   \n2019-02-01    569.001286        497.958169             508.221174   \n2019-02-01    569.001286        497.958169             508.221174   \n...                  ...               ...                    ...   \n2023-03-31    485.578462        492.763055             504.097550   \n2023-03-31    485.578462        492.763055             504.097550   \n2023-03-31    485.578462        492.763055             504.097550   \n2023-03-31    485.578462        492.763055             504.097550   \n2023-03-31    485.578462        492.763055             504.097550   \n\n            yst_weather_fact_med  yst_target_24  ...  yst_target_120  \\\ndate                                             ...                   \n2019-02-01            509.859225        551.764  ...         574.720   \n2019-02-01            509.859225        509.703  ...         538.396   \n2019-02-01            509.859225        486.041  ...         513.026   \n2019-02-01            509.859225        476.100  ...         501.166   \n2019-02-01            509.859225        471.236  ...         491.833   \n...                          ...            ...  ...             ...   \n2023-03-31            509.859225        561.542  ...         544.108   \n2023-03-31            509.859225        582.464  ...         560.807   \n2023-03-31            509.859225        571.899  ...         564.381   \n2023-03-31            509.859225        545.723  ...         543.763   \n2023-03-31            509.859225        520.055  ...         512.350   \n\n            yst_target_144  yst_target_168  yst_target_sum  target_sum_pred  \\\ndate                                                                          \n2019-02-01         578.847         576.305       14543.391     14321.601822   \n2019-02-01         538.638         537.491       14543.391     14321.601822   \n2019-02-01         512.829         515.493       14543.391     14321.601822   \n2019-02-01         500.753         504.864       14543.391     14321.601822   \n2019-02-01         494.790         498.515       14543.391     14321.601822   \n...                    ...             ...             ...              ...   \n2023-03-31         534.198         559.747       12478.985     12305.600969   \n2023-03-31         556.276         570.206       12478.985     12305.600969   \n2023-03-31         551.944         555.419       12478.985     12305.600969   \n2023-03-31         532.412         530.734       12478.985     12305.600969   \n2023-03-31         501.791         511.163       12478.985     12305.600969   \n\n            week_day  year  month  day  is_holiday  \ndate                                                \n2019-02-01         4  2019      2    1           0  \n2019-02-01         4  2019      2    1           0  \n2019-02-01         4  2019      2    1           0  \n2019-02-01         4  2019      2    1           0  \n2019-02-01         4  2019      2    1           0  \n...              ...   ...    ...  ...         ...  \n2023-03-31         4  2023      3   31           0  \n2023-03-31         4  2023      3   31           0  \n2023-03-31         4  2023      3   31           0  \n2023-03-31         4  2023      3   31           0  \n2023-03-31         4  2023      3   31           0  \n\n[36480 rows x 23 columns]",
      "text/html": "<div>\n<style scoped>\n    .dataframe tbody tr th:only-of-type {\n        vertical-align: middle;\n    }\n\n    .dataframe tbody tr th {\n        vertical-align: top;\n    }\n\n    .dataframe thead th {\n        text-align: right;\n    }\n</style>\n<table border=\"1\" class=\"dataframe\">\n  <thead>\n    <tr style=\"text-align: right;\">\n      <th></th>\n      <th>time</th>\n      <th>temp_pred</th>\n      <th>yst_temp</th>\n      <th>yst_temp_mean</th>\n      <th>yst_temp_med</th>\n      <th>weather_pred</th>\n      <th>yst_weather_fact</th>\n      <th>yst_weather_fact_mean</th>\n      <th>yst_weather_fact_med</th>\n      <th>yst_target_24</th>\n      <th>...</th>\n      <th>yst_target_120</th>\n      <th>yst_target_144</th>\n      <th>yst_target_168</th>\n      <th>yst_target_sum</th>\n      <th>target_sum_pred</th>\n      <th>week_day</th>\n      <th>year</th>\n      <th>month</th>\n      <th>day</th>\n      <th>is_holiday</th>\n    </tr>\n    <tr>\n      <th>date</th>\n      <th></th>\n      <th></th>\n      <th></th>\n      <th></th>\n      <th></th>\n      <th></th>\n      <th></th>\n      <th></th>\n      <th></th>\n      <th></th>\n      <th></th>\n      <th></th>\n      <th></th>\n      <th></th>\n      <th></th>\n      <th></th>\n      <th></th>\n      <th></th>\n      <th></th>\n      <th></th>\n      <th></th>\n    </tr>\n  </thead>\n  <tbody>\n    <tr>\n      <th>2019-02-01</th>\n      <td>0</td>\n      <td>-2.0</td>\n      <td>-5.4</td>\n      <td>-2.2125</td>\n      <td>-1.40</td>\n      <td>569.001286</td>\n      <td>497.958169</td>\n      <td>508.221174</td>\n      <td>509.859225</td>\n      <td>551.764</td>\n      <td>...</td>\n      <td>574.720</td>\n      <td>578.847</td>\n      <td>576.305</td>\n      <td>14543.391</td>\n      <td>14321.601822</td>\n      <td>4</td>\n      <td>2019</td>\n      <td>2</td>\n      <td>1</td>\n      <td>0</td>\n    </tr>\n    <tr>\n      <th>2019-02-01</th>\n      <td>1</td>\n      <td>-2.0</td>\n      <td>-5.4</td>\n      <td>-2.2125</td>\n      <td>-1.40</td>\n      <td>569.001286</td>\n      <td>497.958169</td>\n      <td>508.221174</td>\n      <td>509.859225</td>\n      <td>509.703</td>\n      <td>...</td>\n      <td>538.396</td>\n      <td>538.638</td>\n      <td>537.491</td>\n      <td>14543.391</td>\n      <td>14321.601822</td>\n      <td>4</td>\n      <td>2019</td>\n      <td>2</td>\n      <td>1</td>\n      <td>0</td>\n    </tr>\n    <tr>\n      <th>2019-02-01</th>\n      <td>2</td>\n      <td>-2.0</td>\n      <td>-5.4</td>\n      <td>-2.2125</td>\n      <td>-1.40</td>\n      <td>569.001286</td>\n      <td>497.958169</td>\n      <td>508.221174</td>\n      <td>509.859225</td>\n      <td>486.041</td>\n      <td>...</td>\n      <td>513.026</td>\n      <td>512.829</td>\n      <td>515.493</td>\n      <td>14543.391</td>\n      <td>14321.601822</td>\n      <td>4</td>\n      <td>2019</td>\n      <td>2</td>\n      <td>1</td>\n      <td>0</td>\n    </tr>\n    <tr>\n      <th>2019-02-01</th>\n      <td>3</td>\n      <td>-3.0</td>\n      <td>-4.7</td>\n      <td>-2.2125</td>\n      <td>-1.40</td>\n      <td>569.001286</td>\n      <td>497.958169</td>\n      <td>508.221174</td>\n      <td>509.859225</td>\n      <td>476.100</td>\n      <td>...</td>\n      <td>501.166</td>\n      <td>500.753</td>\n      <td>504.864</td>\n      <td>14543.391</td>\n      <td>14321.601822</td>\n      <td>4</td>\n      <td>2019</td>\n      <td>2</td>\n      <td>1</td>\n      <td>0</td>\n    </tr>\n    <tr>\n      <th>2019-02-01</th>\n      <td>4</td>\n      <td>-3.0</td>\n      <td>-4.7</td>\n      <td>-2.2125</td>\n      <td>-1.40</td>\n      <td>569.001286</td>\n      <td>497.958169</td>\n      <td>508.221174</td>\n      <td>509.859225</td>\n      <td>471.236</td>\n      <td>...</td>\n      <td>491.833</td>\n      <td>494.790</td>\n      <td>498.515</td>\n      <td>14543.391</td>\n      <td>14321.601822</td>\n      <td>4</td>\n      <td>2019</td>\n      <td>2</td>\n      <td>1</td>\n      <td>0</td>\n    </tr>\n    <tr>\n      <th>...</th>\n      <td>...</td>\n      <td>...</td>\n      <td>...</td>\n      <td>...</td>\n      <td>...</td>\n      <td>...</td>\n      <td>...</td>\n      <td>...</td>\n      <td>...</td>\n      <td>...</td>\n      <td>...</td>\n      <td>...</td>\n      <td>...</td>\n      <td>...</td>\n      <td>...</td>\n      <td>...</td>\n      <td>...</td>\n      <td>...</td>\n      <td>...</td>\n      <td>...</td>\n      <td>...</td>\n    </tr>\n    <tr>\n      <th>2023-03-31</th>\n      <td>19</td>\n      <td>6.0</td>\n      <td>7.8</td>\n      <td>7.4375</td>\n      <td>7.45</td>\n      <td>485.578462</td>\n      <td>492.763055</td>\n      <td>504.097550</td>\n      <td>509.859225</td>\n      <td>561.542</td>\n      <td>...</td>\n      <td>544.108</td>\n      <td>534.198</td>\n      <td>559.747</td>\n      <td>12478.985</td>\n      <td>12305.600969</td>\n      <td>4</td>\n      <td>2023</td>\n      <td>3</td>\n      <td>31</td>\n      <td>0</td>\n    </tr>\n    <tr>\n      <th>2023-03-31</th>\n      <td>20</td>\n      <td>6.0</td>\n      <td>7.8</td>\n      <td>7.4375</td>\n      <td>7.45</td>\n      <td>485.578462</td>\n      <td>492.763055</td>\n      <td>504.097550</td>\n      <td>509.859225</td>\n      <td>582.464</td>\n      <td>...</td>\n      <td>560.807</td>\n      <td>556.276</td>\n      <td>570.206</td>\n      <td>12478.985</td>\n      <td>12305.600969</td>\n      <td>4</td>\n      <td>2023</td>\n      <td>3</td>\n      <td>31</td>\n      <td>0</td>\n    </tr>\n    <tr>\n      <th>2023-03-31</th>\n      <td>21</td>\n      <td>5.0</td>\n      <td>7.1</td>\n      <td>7.4375</td>\n      <td>7.45</td>\n      <td>485.578462</td>\n      <td>492.763055</td>\n      <td>504.097550</td>\n      <td>509.859225</td>\n      <td>571.899</td>\n      <td>...</td>\n      <td>564.381</td>\n      <td>551.944</td>\n      <td>555.419</td>\n      <td>12478.985</td>\n      <td>12305.600969</td>\n      <td>4</td>\n      <td>2023</td>\n      <td>3</td>\n      <td>31</td>\n      <td>0</td>\n    </tr>\n    <tr>\n      <th>2023-03-31</th>\n      <td>22</td>\n      <td>5.0</td>\n      <td>7.1</td>\n      <td>7.4375</td>\n      <td>7.45</td>\n      <td>485.578462</td>\n      <td>492.763055</td>\n      <td>504.097550</td>\n      <td>509.859225</td>\n      <td>545.723</td>\n      <td>...</td>\n      <td>543.763</td>\n      <td>532.412</td>\n      <td>530.734</td>\n      <td>12478.985</td>\n      <td>12305.600969</td>\n      <td>4</td>\n      <td>2023</td>\n      <td>3</td>\n      <td>31</td>\n      <td>0</td>\n    </tr>\n    <tr>\n      <th>2023-03-31</th>\n      <td>23</td>\n      <td>5.0</td>\n      <td>7.1</td>\n      <td>7.4375</td>\n      <td>7.45</td>\n      <td>485.578462</td>\n      <td>492.763055</td>\n      <td>504.097550</td>\n      <td>509.859225</td>\n      <td>520.055</td>\n      <td>...</td>\n      <td>512.350</td>\n      <td>501.791</td>\n      <td>511.163</td>\n      <td>12478.985</td>\n      <td>12305.600969</td>\n      <td>4</td>\n      <td>2023</td>\n      <td>3</td>\n      <td>31</td>\n      <td>0</td>\n    </tr>\n  </tbody>\n</table>\n<p>36480 rows × 23 columns</p>\n</div>"
     },
     "execution_count": 14,
     "metadata": {},
     "output_type": "execute_result"
    }
   ],
   "source": [
    "features_train = features_extractor(df_train, target_encoder, predict_train_1d)\n",
    "features_train"
   ],
   "metadata": {
    "collapsed": false,
    "ExecuteTime": {
     "end_time": "2023-11-01T13:35:01.836658800Z",
     "start_time": "2023-11-01T13:35:01.314510600Z"
    }
   },
   "id": "1035c78b86c97116"
  },
  {
   "cell_type": "code",
   "execution_count": 15,
   "outputs": [
    {
     "data": {
      "text/plain": "date\n2019-02-01    557.528\n2019-02-01    519.482\n2019-02-01    494.380\n2019-02-01    484.917\n2019-02-01    478.837\n               ...   \n2023-03-31    552.960\n2023-03-31    563.985\n2023-03-31    560.191\n2023-03-31    538.796\n2023-03-31    518.685\nName: target, Length: 36480, dtype: float64"
     },
     "execution_count": 15,
     "metadata": {},
     "output_type": "execute_result"
    }
   ],
   "source": [
    "target_train = target_creator(df_train, features_train.index)\n",
    "target_train"
   ],
   "metadata": {
    "collapsed": false,
    "ExecuteTime": {
     "end_time": "2023-11-01T13:35:03.538724200Z",
     "start_time": "2023-11-01T13:35:03.497889200Z"
    }
   },
   "id": "5a6f6ca50f10a91b"
  },
  {
   "cell_type": "code",
   "execution_count": 16,
   "outputs": [
    {
     "data": {
      "text/plain": "((36480, 23), (36480,))"
     },
     "execution_count": 16,
     "metadata": {},
     "output_type": "execute_result"
    }
   ],
   "source": [
    "features_train.shape, target_train.shape"
   ],
   "metadata": {
    "collapsed": false,
    "ExecuteTime": {
     "end_time": "2023-11-01T13:35:04.575608300Z",
     "start_time": "2023-11-01T13:35:04.515727100Z"
    }
   },
   "id": "5c9283dbd17cd51d"
  },
  {
   "cell_type": "markdown",
   "source": [
    "### Linear Regression"
   ],
   "metadata": {
    "collapsed": false
   },
   "id": "9fe18dbb849e1690"
  },
  {
   "cell_type": "code",
   "execution_count": 17,
   "outputs": [
    {
     "data": {
      "text/plain": "Pipeline(steps=[('minmaxscaler', MinMaxScaler()),\n                ('linearregression', LinearRegression())])",
      "text/html": "<style>#sk-container-id-2 {color: black;}#sk-container-id-2 pre{padding: 0;}#sk-container-id-2 div.sk-toggleable {background-color: white;}#sk-container-id-2 label.sk-toggleable__label {cursor: pointer;display: block;width: 100%;margin-bottom: 0;padding: 0.3em;box-sizing: border-box;text-align: center;}#sk-container-id-2 label.sk-toggleable__label-arrow:before {content: \"▸\";float: left;margin-right: 0.25em;color: #696969;}#sk-container-id-2 label.sk-toggleable__label-arrow:hover:before {color: black;}#sk-container-id-2 div.sk-estimator:hover label.sk-toggleable__label-arrow:before {color: black;}#sk-container-id-2 div.sk-toggleable__content {max-height: 0;max-width: 0;overflow: hidden;text-align: left;background-color: #f0f8ff;}#sk-container-id-2 div.sk-toggleable__content pre {margin: 0.2em;color: black;border-radius: 0.25em;background-color: #f0f8ff;}#sk-container-id-2 input.sk-toggleable__control:checked~div.sk-toggleable__content {max-height: 200px;max-width: 100%;overflow: auto;}#sk-container-id-2 input.sk-toggleable__control:checked~label.sk-toggleable__label-arrow:before {content: \"▾\";}#sk-container-id-2 div.sk-estimator input.sk-toggleable__control:checked~label.sk-toggleable__label {background-color: #d4ebff;}#sk-container-id-2 div.sk-label input.sk-toggleable__control:checked~label.sk-toggleable__label {background-color: #d4ebff;}#sk-container-id-2 input.sk-hidden--visually {border: 0;clip: rect(1px 1px 1px 1px);clip: rect(1px, 1px, 1px, 1px);height: 1px;margin: -1px;overflow: hidden;padding: 0;position: absolute;width: 1px;}#sk-container-id-2 div.sk-estimator {font-family: monospace;background-color: #f0f8ff;border: 1px dotted black;border-radius: 0.25em;box-sizing: border-box;margin-bottom: 0.5em;}#sk-container-id-2 div.sk-estimator:hover {background-color: #d4ebff;}#sk-container-id-2 div.sk-parallel-item::after {content: \"\";width: 100%;border-bottom: 1px solid gray;flex-grow: 1;}#sk-container-id-2 div.sk-label:hover label.sk-toggleable__label {background-color: #d4ebff;}#sk-container-id-2 div.sk-serial::before {content: \"\";position: absolute;border-left: 1px solid gray;box-sizing: border-box;top: 0;bottom: 0;left: 50%;z-index: 0;}#sk-container-id-2 div.sk-serial {display: flex;flex-direction: column;align-items: center;background-color: white;padding-right: 0.2em;padding-left: 0.2em;position: relative;}#sk-container-id-2 div.sk-item {position: relative;z-index: 1;}#sk-container-id-2 div.sk-parallel {display: flex;align-items: stretch;justify-content: center;background-color: white;position: relative;}#sk-container-id-2 div.sk-item::before, #sk-container-id-2 div.sk-parallel-item::before {content: \"\";position: absolute;border-left: 1px solid gray;box-sizing: border-box;top: 0;bottom: 0;left: 50%;z-index: -1;}#sk-container-id-2 div.sk-parallel-item {display: flex;flex-direction: column;z-index: 1;position: relative;background-color: white;}#sk-container-id-2 div.sk-parallel-item:first-child::after {align-self: flex-end;width: 50%;}#sk-container-id-2 div.sk-parallel-item:last-child::after {align-self: flex-start;width: 50%;}#sk-container-id-2 div.sk-parallel-item:only-child::after {width: 0;}#sk-container-id-2 div.sk-dashed-wrapped {border: 1px dashed gray;margin: 0 0.4em 0.5em 0.4em;box-sizing: border-box;padding-bottom: 0.4em;background-color: white;}#sk-container-id-2 div.sk-label label {font-family: monospace;font-weight: bold;display: inline-block;line-height: 1.2em;}#sk-container-id-2 div.sk-label-container {text-align: center;}#sk-container-id-2 div.sk-container {/* jupyter's `normalize.less` sets `[hidden] { display: none; }` but bootstrap.min.css set `[hidden] { display: none !important; }` so we also need the `!important` here to be able to override the default hidden behavior on the sphinx rendered scikit-learn.org. See: https://github.com/scikit-learn/scikit-learn/issues/21755 */display: inline-block !important;position: relative;}#sk-container-id-2 div.sk-text-repr-fallback {display: none;}</style><div id=\"sk-container-id-2\" class=\"sk-top-container\"><div class=\"sk-text-repr-fallback\"><pre>Pipeline(steps=[(&#x27;minmaxscaler&#x27;, MinMaxScaler()),\n                (&#x27;linearregression&#x27;, LinearRegression())])</pre><b>In a Jupyter environment, please rerun this cell to show the HTML representation or trust the notebook. <br />On GitHub, the HTML representation is unable to render, please try loading this page with nbviewer.org.</b></div><div class=\"sk-container\" hidden><div class=\"sk-item sk-dashed-wrapped\"><div class=\"sk-label-container\"><div class=\"sk-label sk-toggleable\"><input class=\"sk-toggleable__control sk-hidden--visually\" id=\"sk-estimator-id-2\" type=\"checkbox\" ><label for=\"sk-estimator-id-2\" class=\"sk-toggleable__label sk-toggleable__label-arrow\">Pipeline</label><div class=\"sk-toggleable__content\"><pre>Pipeline(steps=[(&#x27;minmaxscaler&#x27;, MinMaxScaler()),\n                (&#x27;linearregression&#x27;, LinearRegression())])</pre></div></div></div><div class=\"sk-serial\"><div class=\"sk-item\"><div class=\"sk-estimator sk-toggleable\"><input class=\"sk-toggleable__control sk-hidden--visually\" id=\"sk-estimator-id-3\" type=\"checkbox\" ><label for=\"sk-estimator-id-3\" class=\"sk-toggleable__label sk-toggleable__label-arrow\">MinMaxScaler</label><div class=\"sk-toggleable__content\"><pre>MinMaxScaler()</pre></div></div></div><div class=\"sk-item\"><div class=\"sk-estimator sk-toggleable\"><input class=\"sk-toggleable__control sk-hidden--visually\" id=\"sk-estimator-id-4\" type=\"checkbox\" ><label for=\"sk-estimator-id-4\" class=\"sk-toggleable__label sk-toggleable__label-arrow\">LinearRegression</label><div class=\"sk-toggleable__content\"><pre>LinearRegression()</pre></div></div></div></div></div></div></div>"
     },
     "execution_count": 17,
     "metadata": {},
     "output_type": "execute_result"
    }
   ],
   "source": [
    "linear_pipeline = make_pipeline(scaler, LinearRegression())\n",
    "linear_pipeline.fit(features_train, target_train)"
   ],
   "metadata": {
    "collapsed": false,
    "ExecuteTime": {
     "end_time": "2023-11-01T13:35:09.197600200Z",
     "start_time": "2023-11-01T13:35:09.139532900Z"
    }
   },
   "id": "14d41b083c8e129b"
  },
  {
   "cell_type": "code",
   "execution_count": 18,
   "outputs": [],
   "source": [
    "lin_cv_mae = -np.mean(cross_val_score(\n",
    "    linear_pipeline,\n",
    "    features_train,\n",
    "    target_train,\n",
    "    scoring='neg_mean_absolute_error',\n",
    "    cv=CV\n",
    "))"
   ],
   "metadata": {
    "collapsed": false,
    "ExecuteTime": {
     "end_time": "2023-11-01T13:35:11.930391200Z",
     "start_time": "2023-11-01T13:35:11.769482400Z"
    }
   },
   "id": "31a870068f261ca5"
  },
  {
   "cell_type": "code",
   "execution_count": 22,
   "outputs": [],
   "source": [
    "lin_mae = mean_absolute_error(target_train, linear_pipeline.predict(features_train))\n",
    "lin_r2 = r2_score(target_train, linear_pipeline.predict(features_train))\n",
    "lin_mape = mean_absolute_percentage_error(target_train, linear_pipeline.predict(features_train))"
   ],
   "metadata": {
    "collapsed": false,
    "ExecuteTime": {
     "end_time": "2023-11-01T13:38:07.821785900Z",
     "start_time": "2023-11-01T13:38:07.730046400Z"
    }
   },
   "id": "62872761d6d90a72"
  },
  {
   "cell_type": "markdown",
   "source": [
    "### LightGBM Regressor"
   ],
   "metadata": {
    "collapsed": false
   },
   "id": "7a97c12f7e927118"
  },
  {
   "cell_type": "code",
   "execution_count": 23,
   "outputs": [],
   "source": [
    "def objective(trial):\n",
    "    # Объявляем гиперпараметры для оптимизации\n",
    "    params = {\n",
    "        'objective': trial.suggest_categorical('objective', ['regression', 'regression_l1']),\n",
    "        'max_depth': trial.suggest_int('max_depth', 3, 12),\n",
    "        'n_estimators': trial.suggest_int('n_estimators', 200, 600),\n",
    "        'learning_rate': trial.suggest_float('learning_rate', 0.01, 0.1),\n",
    "        'num_leaves': trial.suggest_int('num_leaves', 30, 50),\n",
    "        'feature_fraction': trial.suggest_float('feature_fraction', 0, 1),\n",
    "        'bagging_fraction': trial.suggest_float('bagging_fraction', 0, 1),\n",
    "        'lambda_l1': trial.suggest_float('lambda_l1', 0, 1),\n",
    "        'lambda_l2': trial.suggest_float('lambda_l2', 0, 1),\n",
    "        #'min_gain_to_split': trial.suggest_float('min_gain_to_split', 0, 1),\n",
    "        #'min_sum_hessian_in_leaf': trial.suggest_int('min_sum_hessian_in_leaf', 1, 7, 2),\n",
    "        'random_state': 42,\n",
    "        'verbosity': -1\n",
    "    }\n",
    "\n",
    "    # Объявляем модель\n",
    "    model = LGBMRegressor(**params)\n",
    "    pipeline = make_pipeline(scaler, model)\n",
    "\n",
    "    # Вычисляем качество\n",
    "    result = cross_val_score(\n",
    "        pipeline,\n",
    "        features_train,\n",
    "        target_train,\n",
    "        scoring='neg_mean_absolute_error',\n",
    "        cv=CV).mean() * -1\n",
    "\n",
    "    return result"
   ],
   "metadata": {
    "collapsed": false,
    "ExecuteTime": {
     "end_time": "2023-11-01T13:38:09.802481100Z",
     "start_time": "2023-11-01T13:38:09.767474400Z"
    }
   },
   "id": "a1d52c7c402edca"
  },
  {
   "cell_type": "code",
   "execution_count": null,
   "outputs": [],
   "source": [
    "study = optuna.create_study(direction=\"minimize\", sampler=optuna.samplers.TPESampler(seed=42))\n",
    "study.optimize(objective, n_trials=300, n_jobs=-1)"
   ],
   "metadata": {
    "collapsed": false
   },
   "id": "12b79fc85a1644bf"
  },
  {
   "cell_type": "code",
   "execution_count": 25,
   "outputs": [
    {
     "data": {
      "text/plain": "Pipeline(steps=[('minmaxscaler', MinMaxScaler()),\n                ('lgbmregressor',\n                 LGBMRegressor(bagging_fraction=0.2715629921058105,\n                               feature_fraction=0.870877190020895,\n                               lambda_l1=0.7596497242527024,\n                               lambda_l2=0.9316685605931798,\n                               learning_rate=0.0653492843240291, max_depth=10,\n                               n_estimators=586, n_jobs=-1, num_leaves=47,\n                               objective='regression', random_state=42,\n                               verbosity=-1))])",
      "text/html": "<style>#sk-container-id-3 {color: black;}#sk-container-id-3 pre{padding: 0;}#sk-container-id-3 div.sk-toggleable {background-color: white;}#sk-container-id-3 label.sk-toggleable__label {cursor: pointer;display: block;width: 100%;margin-bottom: 0;padding: 0.3em;box-sizing: border-box;text-align: center;}#sk-container-id-3 label.sk-toggleable__label-arrow:before {content: \"▸\";float: left;margin-right: 0.25em;color: #696969;}#sk-container-id-3 label.sk-toggleable__label-arrow:hover:before {color: black;}#sk-container-id-3 div.sk-estimator:hover label.sk-toggleable__label-arrow:before {color: black;}#sk-container-id-3 div.sk-toggleable__content {max-height: 0;max-width: 0;overflow: hidden;text-align: left;background-color: #f0f8ff;}#sk-container-id-3 div.sk-toggleable__content pre {margin: 0.2em;color: black;border-radius: 0.25em;background-color: #f0f8ff;}#sk-container-id-3 input.sk-toggleable__control:checked~div.sk-toggleable__content {max-height: 200px;max-width: 100%;overflow: auto;}#sk-container-id-3 input.sk-toggleable__control:checked~label.sk-toggleable__label-arrow:before {content: \"▾\";}#sk-container-id-3 div.sk-estimator input.sk-toggleable__control:checked~label.sk-toggleable__label {background-color: #d4ebff;}#sk-container-id-3 div.sk-label input.sk-toggleable__control:checked~label.sk-toggleable__label {background-color: #d4ebff;}#sk-container-id-3 input.sk-hidden--visually {border: 0;clip: rect(1px 1px 1px 1px);clip: rect(1px, 1px, 1px, 1px);height: 1px;margin: -1px;overflow: hidden;padding: 0;position: absolute;width: 1px;}#sk-container-id-3 div.sk-estimator {font-family: monospace;background-color: #f0f8ff;border: 1px dotted black;border-radius: 0.25em;box-sizing: border-box;margin-bottom: 0.5em;}#sk-container-id-3 div.sk-estimator:hover {background-color: #d4ebff;}#sk-container-id-3 div.sk-parallel-item::after {content: \"\";width: 100%;border-bottom: 1px solid gray;flex-grow: 1;}#sk-container-id-3 div.sk-label:hover label.sk-toggleable__label {background-color: #d4ebff;}#sk-container-id-3 div.sk-serial::before {content: \"\";position: absolute;border-left: 1px solid gray;box-sizing: border-box;top: 0;bottom: 0;left: 50%;z-index: 0;}#sk-container-id-3 div.sk-serial {display: flex;flex-direction: column;align-items: center;background-color: white;padding-right: 0.2em;padding-left: 0.2em;position: relative;}#sk-container-id-3 div.sk-item {position: relative;z-index: 1;}#sk-container-id-3 div.sk-parallel {display: flex;align-items: stretch;justify-content: center;background-color: white;position: relative;}#sk-container-id-3 div.sk-item::before, #sk-container-id-3 div.sk-parallel-item::before {content: \"\";position: absolute;border-left: 1px solid gray;box-sizing: border-box;top: 0;bottom: 0;left: 50%;z-index: -1;}#sk-container-id-3 div.sk-parallel-item {display: flex;flex-direction: column;z-index: 1;position: relative;background-color: white;}#sk-container-id-3 div.sk-parallel-item:first-child::after {align-self: flex-end;width: 50%;}#sk-container-id-3 div.sk-parallel-item:last-child::after {align-self: flex-start;width: 50%;}#sk-container-id-3 div.sk-parallel-item:only-child::after {width: 0;}#sk-container-id-3 div.sk-dashed-wrapped {border: 1px dashed gray;margin: 0 0.4em 0.5em 0.4em;box-sizing: border-box;padding-bottom: 0.4em;background-color: white;}#sk-container-id-3 div.sk-label label {font-family: monospace;font-weight: bold;display: inline-block;line-height: 1.2em;}#sk-container-id-3 div.sk-label-container {text-align: center;}#sk-container-id-3 div.sk-container {/* jupyter's `normalize.less` sets `[hidden] { display: none; }` but bootstrap.min.css set `[hidden] { display: none !important; }` so we also need the `!important` here to be able to override the default hidden behavior on the sphinx rendered scikit-learn.org. See: https://github.com/scikit-learn/scikit-learn/issues/21755 */display: inline-block !important;position: relative;}#sk-container-id-3 div.sk-text-repr-fallback {display: none;}</style><div id=\"sk-container-id-3\" class=\"sk-top-container\"><div class=\"sk-text-repr-fallback\"><pre>Pipeline(steps=[(&#x27;minmaxscaler&#x27;, MinMaxScaler()),\n                (&#x27;lgbmregressor&#x27;,\n                 LGBMRegressor(bagging_fraction=0.2715629921058105,\n                               feature_fraction=0.870877190020895,\n                               lambda_l1=0.7596497242527024,\n                               lambda_l2=0.9316685605931798,\n                               learning_rate=0.0653492843240291, max_depth=10,\n                               n_estimators=586, n_jobs=-1, num_leaves=47,\n                               objective=&#x27;regression&#x27;, random_state=42,\n                               verbosity=-1))])</pre><b>In a Jupyter environment, please rerun this cell to show the HTML representation or trust the notebook. <br />On GitHub, the HTML representation is unable to render, please try loading this page with nbviewer.org.</b></div><div class=\"sk-container\" hidden><div class=\"sk-item sk-dashed-wrapped\"><div class=\"sk-label-container\"><div class=\"sk-label sk-toggleable\"><input class=\"sk-toggleable__control sk-hidden--visually\" id=\"sk-estimator-id-5\" type=\"checkbox\" ><label for=\"sk-estimator-id-5\" class=\"sk-toggleable__label sk-toggleable__label-arrow\">Pipeline</label><div class=\"sk-toggleable__content\"><pre>Pipeline(steps=[(&#x27;minmaxscaler&#x27;, MinMaxScaler()),\n                (&#x27;lgbmregressor&#x27;,\n                 LGBMRegressor(bagging_fraction=0.2715629921058105,\n                               feature_fraction=0.870877190020895,\n                               lambda_l1=0.7596497242527024,\n                               lambda_l2=0.9316685605931798,\n                               learning_rate=0.0653492843240291, max_depth=10,\n                               n_estimators=586, n_jobs=-1, num_leaves=47,\n                               objective=&#x27;regression&#x27;, random_state=42,\n                               verbosity=-1))])</pre></div></div></div><div class=\"sk-serial\"><div class=\"sk-item\"><div class=\"sk-estimator sk-toggleable\"><input class=\"sk-toggleable__control sk-hidden--visually\" id=\"sk-estimator-id-6\" type=\"checkbox\" ><label for=\"sk-estimator-id-6\" class=\"sk-toggleable__label sk-toggleable__label-arrow\">MinMaxScaler</label><div class=\"sk-toggleable__content\"><pre>MinMaxScaler()</pre></div></div></div><div class=\"sk-item\"><div class=\"sk-estimator sk-toggleable\"><input class=\"sk-toggleable__control sk-hidden--visually\" id=\"sk-estimator-id-7\" type=\"checkbox\" ><label for=\"sk-estimator-id-7\" class=\"sk-toggleable__label sk-toggleable__label-arrow\">LGBMRegressor</label><div class=\"sk-toggleable__content\"><pre>LGBMRegressor(bagging_fraction=0.2715629921058105,\n              feature_fraction=0.870877190020895, lambda_l1=0.7596497242527024,\n              lambda_l2=0.9316685605931798, learning_rate=0.0653492843240291,\n              max_depth=10, n_estimators=586, n_jobs=-1, num_leaves=47,\n              objective=&#x27;regression&#x27;, random_state=42, verbosity=-1)</pre></div></div></div></div></div></div></div>"
     },
     "execution_count": 25,
     "metadata": {},
     "output_type": "execute_result"
    }
   ],
   "source": [
    "lgbm_model = LGBMRegressor(**study.best_params, random_state=42, verbosity=-1, n_jobs=-1)\n",
    "lgbm_pipeline = make_pipeline(scaler, lgbm_model)\n",
    "lgbm_pipeline.fit(features_train, target_train)"
   ],
   "metadata": {
    "collapsed": false,
    "ExecuteTime": {
     "end_time": "2023-11-01T14:07:52.838776900Z",
     "start_time": "2023-11-01T14:07:49.167027100Z"
    }
   },
   "id": "7a9ba35bbe83839e"
  },
  {
   "cell_type": "code",
   "execution_count": 26,
   "outputs": [],
   "source": [
    "lgbm_cv_mae = -np.mean(cross_val_score(\n",
    "    lgbm_pipeline,\n",
    "    features_train,\n",
    "    target_train,\n",
    "    scoring='neg_mean_absolute_error',\n",
    "    cv=CV\n",
    "))"
   ],
   "metadata": {
    "collapsed": false,
    "ExecuteTime": {
     "end_time": "2023-11-01T14:08:06.479677600Z",
     "start_time": "2023-11-01T14:07:52.833779Z"
    }
   },
   "id": "e5464105081f474e"
  },
  {
   "cell_type": "markdown",
   "source": [
    "### Results"
   ],
   "metadata": {
    "collapsed": false
   },
   "id": "1c9628f7cbb9bd0e"
  },
  {
   "cell_type": "code",
   "execution_count": 27,
   "outputs": [],
   "source": [
    "lgbm_mae = mean_absolute_error(target_train, lgbm_pipeline.predict(features_train))\n",
    "lgbm_r2 = r2_score(target_train, lgbm_pipeline.predict(features_train))\n",
    "lgbm_mape = mean_absolute_percentage_error(target_train, lgbm_pipeline.predict(features_train))"
   ],
   "metadata": {
    "collapsed": false,
    "ExecuteTime": {
     "start_time": "2023-11-01T14:08:06.482679200Z"
    }
   },
   "id": "1c32ef7fcaecd32f"
  },
  {
   "cell_type": "code",
   "execution_count": 28,
   "outputs": [
    {
     "name": "stdout",
     "output_type": "stream",
     "text": [
      "Linear MAE: 10.082733644761788 \n",
      "Linear CV MAE: 10.681892204283287 \n",
      "Linear r2: 0.9820737282393059 \n",
      "Linear MAPE: 0.021852068848155964 \n",
      "LGBM MAE: 3.364175351288271 \n",
      "LGBM CV MAE: 9.282748073494087 \n",
      "LGBM r2: 0.9980425112378374 \n",
      "LGBM MAPE: 0.007142422771827111 \n"
     ]
    }
   ],
   "source": [
    "print(f'Linear MAE: {lin_mae} \\n'\n",
    "      f'Linear CV MAE: {lin_cv_mae} \\n'\n",
    "      f'Linear r2: {lin_r2} \\n'\n",
    "      f'Linear MAPE: {lin_mape} \\n'\n",
    "      f'LGBM MAE: {lgbm_mae} \\n'\n",
    "      f'LGBM CV MAE: {lgbm_cv_mae} \\n'\n",
    "      f'LGBM r2: {lgbm_r2} \\n'\n",
    "      f'LGBM MAPE: {lgbm_mape} \\n')"
   ],
   "metadata": {
    "collapsed": false,
    "ExecuteTime": {
     "end_time": "2023-11-01T14:08:08.348065700Z",
     "start_time": "2023-11-01T14:08:08.315775600Z"
    }
   },
   "id": "c213b7977188edcb"
  },
  {
   "cell_type": "markdown",
   "source": [
    "## TEST"
   ],
   "metadata": {
    "collapsed": false
   },
   "id": "1fbcadb963f9884c"
  },
  {
   "cell_type": "code",
   "execution_count": 29,
   "outputs": [
    {
     "data": {
      "text/plain": "            time   target  temp  temp_pred     weather_pred  weather_fact\ndate                                                                     \n2023-04-01     0  479.282   5.7        5.0        пасм, 58%  пасм, морось\n2023-04-01     1  445.182   5.7        5.0        пасм, 58%  пасм, морось\n2023-04-01     2  424.225   5.7        5.0        пасм, 58%  пасм, морось\n2023-04-01     3  413.866   5.0        4.0  пасм, 71% дождь   пасм, дымка\n2023-04-01     4  408.146   5.0        4.0  пасм, 71% дождь   пасм, дымка\n...          ...      ...   ...        ...              ...           ...\n2023-07-31    19  453.173  17.2       18.0  пасм, 24% дождь         п/обл\n2023-07-31    20  446.287  17.2       18.0  пасм, 24% дождь         п/обл\n2023-07-31    21  444.373  15.8       17.0  пасм, 24% дождь         п/обл\n2023-07-31    22  449.078  15.8       17.0  пасм, 24% дождь         п/обл\n2023-07-31    23  416.078  15.8       17.0  пасм, 24% дождь         п/обл\n\n[2928 rows x 6 columns]",
      "text/html": "<div>\n<style scoped>\n    .dataframe tbody tr th:only-of-type {\n        vertical-align: middle;\n    }\n\n    .dataframe tbody tr th {\n        vertical-align: top;\n    }\n\n    .dataframe thead th {\n        text-align: right;\n    }\n</style>\n<table border=\"1\" class=\"dataframe\">\n  <thead>\n    <tr style=\"text-align: right;\">\n      <th></th>\n      <th>time</th>\n      <th>target</th>\n      <th>temp</th>\n      <th>temp_pred</th>\n      <th>weather_pred</th>\n      <th>weather_fact</th>\n    </tr>\n    <tr>\n      <th>date</th>\n      <th></th>\n      <th></th>\n      <th></th>\n      <th></th>\n      <th></th>\n      <th></th>\n    </tr>\n  </thead>\n  <tbody>\n    <tr>\n      <th>2023-04-01</th>\n      <td>0</td>\n      <td>479.282</td>\n      <td>5.7</td>\n      <td>5.0</td>\n      <td>пасм, 58%</td>\n      <td>пасм, морось</td>\n    </tr>\n    <tr>\n      <th>2023-04-01</th>\n      <td>1</td>\n      <td>445.182</td>\n      <td>5.7</td>\n      <td>5.0</td>\n      <td>пасм, 58%</td>\n      <td>пасм, морось</td>\n    </tr>\n    <tr>\n      <th>2023-04-01</th>\n      <td>2</td>\n      <td>424.225</td>\n      <td>5.7</td>\n      <td>5.0</td>\n      <td>пасм, 58%</td>\n      <td>пасм, морось</td>\n    </tr>\n    <tr>\n      <th>2023-04-01</th>\n      <td>3</td>\n      <td>413.866</td>\n      <td>5.0</td>\n      <td>4.0</td>\n      <td>пасм, 71% дождь</td>\n      <td>пасм, дымка</td>\n    </tr>\n    <tr>\n      <th>2023-04-01</th>\n      <td>4</td>\n      <td>408.146</td>\n      <td>5.0</td>\n      <td>4.0</td>\n      <td>пасм, 71% дождь</td>\n      <td>пасм, дымка</td>\n    </tr>\n    <tr>\n      <th>...</th>\n      <td>...</td>\n      <td>...</td>\n      <td>...</td>\n      <td>...</td>\n      <td>...</td>\n      <td>...</td>\n    </tr>\n    <tr>\n      <th>2023-07-31</th>\n      <td>19</td>\n      <td>453.173</td>\n      <td>17.2</td>\n      <td>18.0</td>\n      <td>пасм, 24% дождь</td>\n      <td>п/обл</td>\n    </tr>\n    <tr>\n      <th>2023-07-31</th>\n      <td>20</td>\n      <td>446.287</td>\n      <td>17.2</td>\n      <td>18.0</td>\n      <td>пасм, 24% дождь</td>\n      <td>п/обл</td>\n    </tr>\n    <tr>\n      <th>2023-07-31</th>\n      <td>21</td>\n      <td>444.373</td>\n      <td>15.8</td>\n      <td>17.0</td>\n      <td>пасм, 24% дождь</td>\n      <td>п/обл</td>\n    </tr>\n    <tr>\n      <th>2023-07-31</th>\n      <td>22</td>\n      <td>449.078</td>\n      <td>15.8</td>\n      <td>17.0</td>\n      <td>пасм, 24% дождь</td>\n      <td>п/обл</td>\n    </tr>\n    <tr>\n      <th>2023-07-31</th>\n      <td>23</td>\n      <td>416.078</td>\n      <td>15.8</td>\n      <td>17.0</td>\n      <td>пасм, 24% дождь</td>\n      <td>п/обл</td>\n    </tr>\n  </tbody>\n</table>\n<p>2928 rows × 6 columns</p>\n</div>"
     },
     "execution_count": 29,
     "metadata": {},
     "output_type": "execute_result"
    }
   ],
   "source": [
    "df_test = pd.read_csv('../data/test_dataset.csv', index_col='date', parse_dates=True)\n",
    "df_test"
   ],
   "metadata": {
    "collapsed": false,
    "ExecuteTime": {
     "end_time": "2023-11-01T14:09:33.094924Z",
     "start_time": "2023-11-01T14:09:32.988930900Z"
    }
   },
   "id": "6f85682dd2b24d62"
  },
  {
   "cell_type": "code",
   "execution_count": 30,
   "outputs": [],
   "source": [
    "get_idx = [df_test.index[0] - timedelta(days=i) for i in range(1, 32)]"
   ],
   "metadata": {
    "collapsed": false,
    "ExecuteTime": {
     "end_time": "2023-11-01T14:09:34.167528600Z",
     "start_time": "2023-11-01T14:09:34.108529Z"
    }
   },
   "id": "cd5b68db4a6c8fe2"
  },
  {
   "cell_type": "code",
   "execution_count": 31,
   "outputs": [
    {
     "data": {
      "text/plain": "            time   target  temp  temp_pred     weather_pred   weather_fact\ndate                                                                      \n2023-03-01     0  512.865   2.5        2.0             пасм       пасмурно\n2023-03-01     1  478.071   2.5        2.0             пасм       пасмурно\n2023-03-01     2  456.643   2.5        2.0             пасм       пасмурно\n2023-03-01     3  448.305   1.5        1.0             пасм  пасм, ветерок\n2023-03-01     4  442.351   1.5        1.0             пасм  пасм, ветерок\n...          ...      ...   ...        ...              ...            ...\n2023-07-31    19  453.173  17.2       18.0  пасм, 24% дождь          п/обл\n2023-07-31    20  446.287  17.2       18.0  пасм, 24% дождь          п/обл\n2023-07-31    21  444.373  15.8       17.0  пасм, 24% дождь          п/обл\n2023-07-31    22  449.078  15.8       17.0  пасм, 24% дождь          п/обл\n2023-07-31    23  416.078  15.8       17.0  пасм, 24% дождь          п/обл\n\n[3672 rows x 6 columns]",
      "text/html": "<div>\n<style scoped>\n    .dataframe tbody tr th:only-of-type {\n        vertical-align: middle;\n    }\n\n    .dataframe tbody tr th {\n        vertical-align: top;\n    }\n\n    .dataframe thead th {\n        text-align: right;\n    }\n</style>\n<table border=\"1\" class=\"dataframe\">\n  <thead>\n    <tr style=\"text-align: right;\">\n      <th></th>\n      <th>time</th>\n      <th>target</th>\n      <th>temp</th>\n      <th>temp_pred</th>\n      <th>weather_pred</th>\n      <th>weather_fact</th>\n    </tr>\n    <tr>\n      <th>date</th>\n      <th></th>\n      <th></th>\n      <th></th>\n      <th></th>\n      <th></th>\n      <th></th>\n    </tr>\n  </thead>\n  <tbody>\n    <tr>\n      <th>2023-03-01</th>\n      <td>0</td>\n      <td>512.865</td>\n      <td>2.5</td>\n      <td>2.0</td>\n      <td>пасм</td>\n      <td>пасмурно</td>\n    </tr>\n    <tr>\n      <th>2023-03-01</th>\n      <td>1</td>\n      <td>478.071</td>\n      <td>2.5</td>\n      <td>2.0</td>\n      <td>пасм</td>\n      <td>пасмурно</td>\n    </tr>\n    <tr>\n      <th>2023-03-01</th>\n      <td>2</td>\n      <td>456.643</td>\n      <td>2.5</td>\n      <td>2.0</td>\n      <td>пасм</td>\n      <td>пасмурно</td>\n    </tr>\n    <tr>\n      <th>2023-03-01</th>\n      <td>3</td>\n      <td>448.305</td>\n      <td>1.5</td>\n      <td>1.0</td>\n      <td>пасм</td>\n      <td>пасм, ветерок</td>\n    </tr>\n    <tr>\n      <th>2023-03-01</th>\n      <td>4</td>\n      <td>442.351</td>\n      <td>1.5</td>\n      <td>1.0</td>\n      <td>пасм</td>\n      <td>пасм, ветерок</td>\n    </tr>\n    <tr>\n      <th>...</th>\n      <td>...</td>\n      <td>...</td>\n      <td>...</td>\n      <td>...</td>\n      <td>...</td>\n      <td>...</td>\n    </tr>\n    <tr>\n      <th>2023-07-31</th>\n      <td>19</td>\n      <td>453.173</td>\n      <td>17.2</td>\n      <td>18.0</td>\n      <td>пасм, 24% дождь</td>\n      <td>п/обл</td>\n    </tr>\n    <tr>\n      <th>2023-07-31</th>\n      <td>20</td>\n      <td>446.287</td>\n      <td>17.2</td>\n      <td>18.0</td>\n      <td>пасм, 24% дождь</td>\n      <td>п/обл</td>\n    </tr>\n    <tr>\n      <th>2023-07-31</th>\n      <td>21</td>\n      <td>444.373</td>\n      <td>15.8</td>\n      <td>17.0</td>\n      <td>пасм, 24% дождь</td>\n      <td>п/обл</td>\n    </tr>\n    <tr>\n      <th>2023-07-31</th>\n      <td>22</td>\n      <td>449.078</td>\n      <td>15.8</td>\n      <td>17.0</td>\n      <td>пасм, 24% дождь</td>\n      <td>п/обл</td>\n    </tr>\n    <tr>\n      <th>2023-07-31</th>\n      <td>23</td>\n      <td>416.078</td>\n      <td>15.8</td>\n      <td>17.0</td>\n      <td>пасм, 24% дождь</td>\n      <td>п/обл</td>\n    </tr>\n  </tbody>\n</table>\n<p>3672 rows × 6 columns</p>\n</div>"
     },
     "execution_count": 31,
     "metadata": {},
     "output_type": "execute_result"
    }
   ],
   "source": [
    "df_test = pd.concat([df_test, df_train.loc[get_idx]], axis=0)\n",
    "df_test = df_test.sort_values(by=['date', 'time'])\n",
    "df_test"
   ],
   "metadata": {
    "collapsed": false,
    "ExecuteTime": {
     "end_time": "2023-11-01T14:09:36.699139Z",
     "start_time": "2023-11-01T14:09:36.613660200Z"
    }
   },
   "id": "6138c44504d1d34"
  },
  {
   "cell_type": "code",
   "execution_count": 32,
   "outputs": [],
   "source": [
    "# Извлекаем признаки для предсказания суммарного потребления электричества на 1 день\n",
    "features_test_1d = features_extractor_1d(df_test, target_encoder_1d)"
   ],
   "metadata": {
    "collapsed": false,
    "ExecuteTime": {
     "end_time": "2023-11-01T14:09:43.761518800Z",
     "start_time": "2023-11-01T14:09:43.650350200Z"
    }
   },
   "id": "239a507d6316ab63"
  },
  {
   "cell_type": "code",
   "execution_count": 33,
   "outputs": [],
   "source": [
    "# Получаем предсказания суммарного потребления на 1 день \n",
    "predict_test_1d = pd.DataFrame(\n",
    "    stack_pipeline_1d.predict(features_test_1d),\n",
    "    index=features_test_1d.index,\n",
    "    columns=['target_sum_pred']\n",
    ")"
   ],
   "metadata": {
    "collapsed": false,
    "ExecuteTime": {
     "end_time": "2023-11-01T14:09:52.606868400Z",
     "start_time": "2023-11-01T14:09:52.527255100Z"
    }
   },
   "id": "74a936732a3e4548"
  },
  {
   "cell_type": "code",
   "execution_count": 34,
   "outputs": [
    {
     "data": {
      "text/plain": "            time  temp_pred  yst_temp  yst_temp_mean  yst_temp_med  \\\ndate                                                                 \n2023-04-01     0        5.0       7.2         8.8125           7.9   \n2023-04-01     1        5.0       7.2         8.8125           7.9   \n2023-04-01     2        5.0       7.2         8.8125           7.9   \n2023-04-01     3        4.0       7.9         8.8125           7.9   \n2023-04-01     4        4.0       7.9         8.8125           7.9   \n...          ...        ...       ...            ...           ...   \n2023-07-31    19       18.0      19.7        18.8250          18.0   \n2023-07-31    20       18.0      19.7        18.8250          18.0   \n2023-07-31    21       17.0      16.6        18.8250          18.0   \n2023-07-31    22       17.0      16.6        18.8250          18.0   \n2023-07-31    23       17.0      16.6        18.8250          18.0   \n\n            weather_pred  yst_weather_fact  yst_weather_fact_mean  \\\ndate                                                                \n2023-04-01    459.902061        492.763055             514.485231   \n2023-04-01    459.902061        492.763055             514.485231   \n2023-04-01    459.902061        492.763055             514.485231   \n2023-04-01    503.832900        492.763055             514.485231   \n2023-04-01    503.832900        492.763055             514.485231   \n...                  ...               ...                    ...   \n2023-07-31    528.770689        470.997571             481.880313   \n2023-07-31    528.770689        470.997571             481.880313   \n2023-07-31    528.770689        470.997571             481.880313   \n2023-07-31    528.770689        470.997571             481.880313   \n2023-07-31    528.770689        470.997571             481.880313   \n\n            yst_weather_fact_med  yst_target_24  ...  yst_target_120  \\\ndate                                             ...                   \n2023-04-01            501.311140        481.201  ...         469.910   \n2023-04-01            501.311140        446.881  ...         436.449   \n2023-04-01            501.311140        425.556  ...         415.774   \n2023-04-01            501.311140        416.225  ...         404.896   \n2023-04-01            501.311140        411.703  ...         401.041   \n...                          ...            ...  ...             ...   \n2023-07-31            481.880313        429.767  ...         446.658   \n2023-07-31            481.880313        424.231  ...         438.176   \n2023-07-31            481.880313        433.278  ...         438.106   \n2023-07-31            481.880313        440.695  ...         447.976   \n2023-07-31            481.880313        413.233  ...         421.352   \n\n            yst_target_144  yst_target_168  yst_target_sum  target_sum_pred  \\\ndate                                                                          \n2023-04-01         467.235         474.667       12414.945     12017.517456   \n2023-04-01         434.829         443.669       12414.945     12017.517456   \n2023-04-01         412.991         420.886       12414.945     12017.517456   \n2023-04-01         400.996         409.593       12414.945     12017.517456   \n2023-04-01         395.980         405.119       12414.945     12017.517456   \n...                    ...             ...             ...              ...   \n2023-07-31         450.699         452.459        9296.344      9668.609133   \n2023-07-31         440.681         447.430        9296.344      9668.609133   \n2023-07-31         438.982         451.141        9296.344      9668.609133   \n2023-07-31         449.350         453.595        9296.344      9668.609133   \n2023-07-31         423.133         428.070        9296.344      9668.609133   \n\n            week_day  year  month  day  is_holiday  \ndate                                                \n2023-04-01         5  2023      4    1           0  \n2023-04-01         5  2023      4    1           0  \n2023-04-01         5  2023      4    1           0  \n2023-04-01         5  2023      4    1           0  \n2023-04-01         5  2023      4    1           0  \n...              ...   ...    ...  ...         ...  \n2023-07-31         0  2023      7   31           0  \n2023-07-31         0  2023      7   31           0  \n2023-07-31         0  2023      7   31           0  \n2023-07-31         0  2023      7   31           0  \n2023-07-31         0  2023      7   31           0  \n\n[2928 rows x 23 columns]",
      "text/html": "<div>\n<style scoped>\n    .dataframe tbody tr th:only-of-type {\n        vertical-align: middle;\n    }\n\n    .dataframe tbody tr th {\n        vertical-align: top;\n    }\n\n    .dataframe thead th {\n        text-align: right;\n    }\n</style>\n<table border=\"1\" class=\"dataframe\">\n  <thead>\n    <tr style=\"text-align: right;\">\n      <th></th>\n      <th>time</th>\n      <th>temp_pred</th>\n      <th>yst_temp</th>\n      <th>yst_temp_mean</th>\n      <th>yst_temp_med</th>\n      <th>weather_pred</th>\n      <th>yst_weather_fact</th>\n      <th>yst_weather_fact_mean</th>\n      <th>yst_weather_fact_med</th>\n      <th>yst_target_24</th>\n      <th>...</th>\n      <th>yst_target_120</th>\n      <th>yst_target_144</th>\n      <th>yst_target_168</th>\n      <th>yst_target_sum</th>\n      <th>target_sum_pred</th>\n      <th>week_day</th>\n      <th>year</th>\n      <th>month</th>\n      <th>day</th>\n      <th>is_holiday</th>\n    </tr>\n    <tr>\n      <th>date</th>\n      <th></th>\n      <th></th>\n      <th></th>\n      <th></th>\n      <th></th>\n      <th></th>\n      <th></th>\n      <th></th>\n      <th></th>\n      <th></th>\n      <th></th>\n      <th></th>\n      <th></th>\n      <th></th>\n      <th></th>\n      <th></th>\n      <th></th>\n      <th></th>\n      <th></th>\n      <th></th>\n      <th></th>\n    </tr>\n  </thead>\n  <tbody>\n    <tr>\n      <th>2023-04-01</th>\n      <td>0</td>\n      <td>5.0</td>\n      <td>7.2</td>\n      <td>8.8125</td>\n      <td>7.9</td>\n      <td>459.902061</td>\n      <td>492.763055</td>\n      <td>514.485231</td>\n      <td>501.311140</td>\n      <td>481.201</td>\n      <td>...</td>\n      <td>469.910</td>\n      <td>467.235</td>\n      <td>474.667</td>\n      <td>12414.945</td>\n      <td>12017.517456</td>\n      <td>5</td>\n      <td>2023</td>\n      <td>4</td>\n      <td>1</td>\n      <td>0</td>\n    </tr>\n    <tr>\n      <th>2023-04-01</th>\n      <td>1</td>\n      <td>5.0</td>\n      <td>7.2</td>\n      <td>8.8125</td>\n      <td>7.9</td>\n      <td>459.902061</td>\n      <td>492.763055</td>\n      <td>514.485231</td>\n      <td>501.311140</td>\n      <td>446.881</td>\n      <td>...</td>\n      <td>436.449</td>\n      <td>434.829</td>\n      <td>443.669</td>\n      <td>12414.945</td>\n      <td>12017.517456</td>\n      <td>5</td>\n      <td>2023</td>\n      <td>4</td>\n      <td>1</td>\n      <td>0</td>\n    </tr>\n    <tr>\n      <th>2023-04-01</th>\n      <td>2</td>\n      <td>5.0</td>\n      <td>7.2</td>\n      <td>8.8125</td>\n      <td>7.9</td>\n      <td>459.902061</td>\n      <td>492.763055</td>\n      <td>514.485231</td>\n      <td>501.311140</td>\n      <td>425.556</td>\n      <td>...</td>\n      <td>415.774</td>\n      <td>412.991</td>\n      <td>420.886</td>\n      <td>12414.945</td>\n      <td>12017.517456</td>\n      <td>5</td>\n      <td>2023</td>\n      <td>4</td>\n      <td>1</td>\n      <td>0</td>\n    </tr>\n    <tr>\n      <th>2023-04-01</th>\n      <td>3</td>\n      <td>4.0</td>\n      <td>7.9</td>\n      <td>8.8125</td>\n      <td>7.9</td>\n      <td>503.832900</td>\n      <td>492.763055</td>\n      <td>514.485231</td>\n      <td>501.311140</td>\n      <td>416.225</td>\n      <td>...</td>\n      <td>404.896</td>\n      <td>400.996</td>\n      <td>409.593</td>\n      <td>12414.945</td>\n      <td>12017.517456</td>\n      <td>5</td>\n      <td>2023</td>\n      <td>4</td>\n      <td>1</td>\n      <td>0</td>\n    </tr>\n    <tr>\n      <th>2023-04-01</th>\n      <td>4</td>\n      <td>4.0</td>\n      <td>7.9</td>\n      <td>8.8125</td>\n      <td>7.9</td>\n      <td>503.832900</td>\n      <td>492.763055</td>\n      <td>514.485231</td>\n      <td>501.311140</td>\n      <td>411.703</td>\n      <td>...</td>\n      <td>401.041</td>\n      <td>395.980</td>\n      <td>405.119</td>\n      <td>12414.945</td>\n      <td>12017.517456</td>\n      <td>5</td>\n      <td>2023</td>\n      <td>4</td>\n      <td>1</td>\n      <td>0</td>\n    </tr>\n    <tr>\n      <th>...</th>\n      <td>...</td>\n      <td>...</td>\n      <td>...</td>\n      <td>...</td>\n      <td>...</td>\n      <td>...</td>\n      <td>...</td>\n      <td>...</td>\n      <td>...</td>\n      <td>...</td>\n      <td>...</td>\n      <td>...</td>\n      <td>...</td>\n      <td>...</td>\n      <td>...</td>\n      <td>...</td>\n      <td>...</td>\n      <td>...</td>\n      <td>...</td>\n      <td>...</td>\n      <td>...</td>\n    </tr>\n    <tr>\n      <th>2023-07-31</th>\n      <td>19</td>\n      <td>18.0</td>\n      <td>19.7</td>\n      <td>18.8250</td>\n      <td>18.0</td>\n      <td>528.770689</td>\n      <td>470.997571</td>\n      <td>481.880313</td>\n      <td>481.880313</td>\n      <td>429.767</td>\n      <td>...</td>\n      <td>446.658</td>\n      <td>450.699</td>\n      <td>452.459</td>\n      <td>9296.344</td>\n      <td>9668.609133</td>\n      <td>0</td>\n      <td>2023</td>\n      <td>7</td>\n      <td>31</td>\n      <td>0</td>\n    </tr>\n    <tr>\n      <th>2023-07-31</th>\n      <td>20</td>\n      <td>18.0</td>\n      <td>19.7</td>\n      <td>18.8250</td>\n      <td>18.0</td>\n      <td>528.770689</td>\n      <td>470.997571</td>\n      <td>481.880313</td>\n      <td>481.880313</td>\n      <td>424.231</td>\n      <td>...</td>\n      <td>438.176</td>\n      <td>440.681</td>\n      <td>447.430</td>\n      <td>9296.344</td>\n      <td>9668.609133</td>\n      <td>0</td>\n      <td>2023</td>\n      <td>7</td>\n      <td>31</td>\n      <td>0</td>\n    </tr>\n    <tr>\n      <th>2023-07-31</th>\n      <td>21</td>\n      <td>17.0</td>\n      <td>16.6</td>\n      <td>18.8250</td>\n      <td>18.0</td>\n      <td>528.770689</td>\n      <td>470.997571</td>\n      <td>481.880313</td>\n      <td>481.880313</td>\n      <td>433.278</td>\n      <td>...</td>\n      <td>438.106</td>\n      <td>438.982</td>\n      <td>451.141</td>\n      <td>9296.344</td>\n      <td>9668.609133</td>\n      <td>0</td>\n      <td>2023</td>\n      <td>7</td>\n      <td>31</td>\n      <td>0</td>\n    </tr>\n    <tr>\n      <th>2023-07-31</th>\n      <td>22</td>\n      <td>17.0</td>\n      <td>16.6</td>\n      <td>18.8250</td>\n      <td>18.0</td>\n      <td>528.770689</td>\n      <td>470.997571</td>\n      <td>481.880313</td>\n      <td>481.880313</td>\n      <td>440.695</td>\n      <td>...</td>\n      <td>447.976</td>\n      <td>449.350</td>\n      <td>453.595</td>\n      <td>9296.344</td>\n      <td>9668.609133</td>\n      <td>0</td>\n      <td>2023</td>\n      <td>7</td>\n      <td>31</td>\n      <td>0</td>\n    </tr>\n    <tr>\n      <th>2023-07-31</th>\n      <td>23</td>\n      <td>17.0</td>\n      <td>16.6</td>\n      <td>18.8250</td>\n      <td>18.0</td>\n      <td>528.770689</td>\n      <td>470.997571</td>\n      <td>481.880313</td>\n      <td>481.880313</td>\n      <td>413.233</td>\n      <td>...</td>\n      <td>421.352</td>\n      <td>423.133</td>\n      <td>428.070</td>\n      <td>9296.344</td>\n      <td>9668.609133</td>\n      <td>0</td>\n      <td>2023</td>\n      <td>7</td>\n      <td>31</td>\n      <td>0</td>\n    </tr>\n  </tbody>\n</table>\n<p>2928 rows × 23 columns</p>\n</div>"
     },
     "execution_count": 34,
     "metadata": {},
     "output_type": "execute_result"
    }
   ],
   "source": [
    "features_test = features_extractor(df_test, target_encoder, predict_test_1d)\n",
    "features_test"
   ],
   "metadata": {
    "collapsed": false,
    "ExecuteTime": {
     "end_time": "2023-11-01T14:09:57.045045700Z",
     "start_time": "2023-11-01T14:09:56.943613700Z"
    }
   },
   "id": "276ccc97cba48f56"
  },
  {
   "cell_type": "code",
   "execution_count": 35,
   "outputs": [
    {
     "data": {
      "text/plain": "date\n2023-04-01    479.282\n2023-04-01    445.182\n2023-04-01    424.225\n2023-04-01    413.866\n2023-04-01    408.146\n               ...   \n2023-07-31    453.173\n2023-07-31    446.287\n2023-07-31    444.373\n2023-07-31    449.078\n2023-07-31    416.078\nName: target, Length: 2928, dtype: float64"
     },
     "execution_count": 35,
     "metadata": {},
     "output_type": "execute_result"
    }
   ],
   "source": [
    "target_test = target_creator(df_test, features_test.index)\n",
    "target_test"
   ],
   "metadata": {
    "collapsed": false,
    "ExecuteTime": {
     "end_time": "2023-11-01T14:09:59.547053400Z",
     "start_time": "2023-11-01T14:09:59.504761500Z"
    }
   },
   "id": "e29eeb6d87c7e097"
  },
  {
   "cell_type": "code",
   "execution_count": 36,
   "outputs": [
    {
     "data": {
      "text/plain": "((2928, 23), (2928,))"
     },
     "execution_count": 36,
     "metadata": {},
     "output_type": "execute_result"
    }
   ],
   "source": [
    "features_test.shape, target_test.shape"
   ],
   "metadata": {
    "collapsed": false,
    "ExecuteTime": {
     "end_time": "2023-11-01T14:10:01.454743600Z",
     "start_time": "2023-11-01T14:10:01.408038Z"
    }
   },
   "id": "819c0639baf98a7b"
  },
  {
   "cell_type": "code",
   "execution_count": 37,
   "outputs": [],
   "source": [
    "lin_mae = mean_absolute_error(target_test, linear_pipeline.predict(features_test))\n",
    "lgbm_mae = mean_absolute_error(target_test, lgbm_pipeline.predict(features_test))\n",
    "lin_mape = mean_absolute_percentage_error(target_test, linear_pipeline.predict(features_test))\n",
    "lgbm_mape = mean_absolute_percentage_error(target_test, lgbm_pipeline.predict(features_test))\n",
    "lin_r2 = r2_score(target_test, linear_pipeline.predict(features_test))\n",
    "lgbm_r2 = r2_score(target_test, lgbm_pipeline.predict(features_test))"
   ],
   "metadata": {
    "collapsed": false,
    "ExecuteTime": {
     "end_time": "2023-11-01T14:10:48.699381200Z",
     "start_time": "2023-11-01T14:10:48.446463500Z"
    }
   },
   "id": "2886230e72d9abbc"
  },
  {
   "cell_type": "code",
   "execution_count": 38,
   "outputs": [
    {
     "name": "stdout",
     "output_type": "stream",
     "text": [
      "Linear MAE: 8.53458294290885 \n",
      "Linear r2: 0.9745862493909938 \n",
      "Linear MAPE: 0.02079793733354389 \n",
      "LGBM MAE: 6.439385376770354 \n",
      "LGBM r2: 0.9844497155734939 \n",
      "LGBM MAPE: 0.015167085629997003\n"
     ]
    }
   ],
   "source": [
    "print(f'Linear MAE: {lin_mae} \\n'\n",
    "      f'Linear r2: {lin_r2} \\n'\n",
    "      f'Linear MAPE: {lin_mape} \\n'\n",
    "      f'LGBM MAE: {lgbm_mae} \\n'\n",
    "      f'LGBM r2: {lgbm_r2} \\n'\n",
    "      f'LGBM MAPE: {lgbm_mape}')"
   ],
   "metadata": {
    "collapsed": false,
    "ExecuteTime": {
     "end_time": "2023-11-01T14:10:49.483623600Z",
     "start_time": "2023-11-01T14:10:49.421328400Z"
    }
   },
   "id": "ee628ff6a04ea8f7"
  },
  {
   "cell_type": "markdown",
   "source": [
    "## FULL"
   ],
   "metadata": {
    "collapsed": false
   },
   "id": "6343ddc34e5a1018"
  },
  {
   "cell_type": "code",
   "execution_count": 39,
   "outputs": [],
   "source": [
    "CV = TimeSeriesSplit(n_splits=27)"
   ],
   "metadata": {
    "collapsed": false,
    "ExecuteTime": {
     "end_time": "2023-11-01T14:11:21.845355400Z",
     "start_time": "2023-11-01T14:11:21.794930200Z"
    }
   },
   "id": "a8172a9ada03e093"
  },
  {
   "cell_type": "code",
   "execution_count": 40,
   "outputs": [],
   "source": [
    "df_full = pd.concat([\n",
    "    pd.read_csv('../data/train_dataset.csv', index_col='date', parse_dates=True),\n",
    "    pd.read_csv('../data/test_dataset.csv', index_col='date', parse_dates=True)\n",
    "], axis=0)"
   ],
   "metadata": {
    "collapsed": false,
    "ExecuteTime": {
     "end_time": "2023-11-01T14:11:22.507043600Z",
     "start_time": "2023-11-01T14:11:22.406627200Z"
    }
   },
   "id": "6865f32d465142ca"
  },
  {
   "cell_type": "code",
   "execution_count": 41,
   "outputs": [
    {
     "data": {
      "text/plain": "            time   target  temp  temp_pred     weather_pred weather_fact\ndate                                                                    \n2019-01-01     0  481.510   2.9        2.0      пасм, ветер        ветер\n2019-01-01     1  462.872   2.9        2.0      пасм, ветер        ветер\n2019-01-01     2  449.718   2.9        2.0      пасм, ветер        ветер\n2019-01-01     3  430.908   4.3        2.0      пасм, ветер  ветер, пасм\n2019-01-01     4  415.163   4.3        2.0      пасм, ветер  ветер, пасм\n...          ...      ...   ...        ...              ...          ...\n2023-07-31    19  453.173  17.2       18.0  пасм, 24% дождь        п/обл\n2023-07-31    20  446.287  17.2       18.0  пасм, 24% дождь        п/обл\n2023-07-31    21  444.373  15.8       17.0  пасм, 24% дождь        п/обл\n2023-07-31    22  449.078  15.8       17.0  пасм, 24% дождь        п/обл\n2023-07-31    23  416.078  15.8       17.0  пасм, 24% дождь        п/обл\n\n[40152 rows x 6 columns]",
      "text/html": "<div>\n<style scoped>\n    .dataframe tbody tr th:only-of-type {\n        vertical-align: middle;\n    }\n\n    .dataframe tbody tr th {\n        vertical-align: top;\n    }\n\n    .dataframe thead th {\n        text-align: right;\n    }\n</style>\n<table border=\"1\" class=\"dataframe\">\n  <thead>\n    <tr style=\"text-align: right;\">\n      <th></th>\n      <th>time</th>\n      <th>target</th>\n      <th>temp</th>\n      <th>temp_pred</th>\n      <th>weather_pred</th>\n      <th>weather_fact</th>\n    </tr>\n    <tr>\n      <th>date</th>\n      <th></th>\n      <th></th>\n      <th></th>\n      <th></th>\n      <th></th>\n      <th></th>\n    </tr>\n  </thead>\n  <tbody>\n    <tr>\n      <th>2019-01-01</th>\n      <td>0</td>\n      <td>481.510</td>\n      <td>2.9</td>\n      <td>2.0</td>\n      <td>пасм, ветер</td>\n      <td>ветер</td>\n    </tr>\n    <tr>\n      <th>2019-01-01</th>\n      <td>1</td>\n      <td>462.872</td>\n      <td>2.9</td>\n      <td>2.0</td>\n      <td>пасм, ветер</td>\n      <td>ветер</td>\n    </tr>\n    <tr>\n      <th>2019-01-01</th>\n      <td>2</td>\n      <td>449.718</td>\n      <td>2.9</td>\n      <td>2.0</td>\n      <td>пасм, ветер</td>\n      <td>ветер</td>\n    </tr>\n    <tr>\n      <th>2019-01-01</th>\n      <td>3</td>\n      <td>430.908</td>\n      <td>4.3</td>\n      <td>2.0</td>\n      <td>пасм, ветер</td>\n      <td>ветер, пасм</td>\n    </tr>\n    <tr>\n      <th>2019-01-01</th>\n      <td>4</td>\n      <td>415.163</td>\n      <td>4.3</td>\n      <td>2.0</td>\n      <td>пасм, ветер</td>\n      <td>ветер, пасм</td>\n    </tr>\n    <tr>\n      <th>...</th>\n      <td>...</td>\n      <td>...</td>\n      <td>...</td>\n      <td>...</td>\n      <td>...</td>\n      <td>...</td>\n    </tr>\n    <tr>\n      <th>2023-07-31</th>\n      <td>19</td>\n      <td>453.173</td>\n      <td>17.2</td>\n      <td>18.0</td>\n      <td>пасм, 24% дождь</td>\n      <td>п/обл</td>\n    </tr>\n    <tr>\n      <th>2023-07-31</th>\n      <td>20</td>\n      <td>446.287</td>\n      <td>17.2</td>\n      <td>18.0</td>\n      <td>пасм, 24% дождь</td>\n      <td>п/обл</td>\n    </tr>\n    <tr>\n      <th>2023-07-31</th>\n      <td>21</td>\n      <td>444.373</td>\n      <td>15.8</td>\n      <td>17.0</td>\n      <td>пасм, 24% дождь</td>\n      <td>п/обл</td>\n    </tr>\n    <tr>\n      <th>2023-07-31</th>\n      <td>22</td>\n      <td>449.078</td>\n      <td>15.8</td>\n      <td>17.0</td>\n      <td>пасм, 24% дождь</td>\n      <td>п/обл</td>\n    </tr>\n    <tr>\n      <th>2023-07-31</th>\n      <td>23</td>\n      <td>416.078</td>\n      <td>15.8</td>\n      <td>17.0</td>\n      <td>пасм, 24% дождь</td>\n      <td>п/обл</td>\n    </tr>\n  </tbody>\n</table>\n<p>40152 rows × 6 columns</p>\n</div>"
     },
     "execution_count": 41,
     "metadata": {},
     "output_type": "execute_result"
    }
   ],
   "source": [
    "df_full"
   ],
   "metadata": {
    "collapsed": false,
    "ExecuteTime": {
     "end_time": "2023-11-01T14:11:23.131698600Z",
     "start_time": "2023-11-01T14:11:23.075903700Z"
    }
   },
   "id": "fec222547f0ba0ec"
  },
  {
   "cell_type": "code",
   "execution_count": 42,
   "outputs": [],
   "source": [
    "# Извлекаем признаки для предсказания суммарного потребления электричества на 1 день\n",
    "features_full_1d = features_extractor_1d(df_full, target_encoder_1d)"
   ],
   "metadata": {
    "collapsed": false,
    "ExecuteTime": {
     "end_time": "2023-11-01T14:11:26.180913800Z",
     "start_time": "2023-11-01T14:11:25.992121500Z"
    }
   },
   "id": "7df96a9a71c0dd66"
  },
  {
   "cell_type": "code",
   "execution_count": 43,
   "outputs": [],
   "source": [
    "# Получаем предсказания суммарного потребления на 1 день \n",
    "predict_full_1d = pd.DataFrame(\n",
    "    stack_pipeline_1d.predict(features_full_1d),\n",
    "    index=features_full_1d.index,\n",
    "    columns=['target_sum_pred']\n",
    ")"
   ],
   "metadata": {
    "collapsed": false,
    "ExecuteTime": {
     "end_time": "2023-11-01T14:11:30.646335100Z",
     "start_time": "2023-11-01T14:11:30.508385Z"
    }
   },
   "id": "48ce204b8d55bf11"
  },
  {
   "cell_type": "code",
   "execution_count": 44,
   "outputs": [
    {
     "data": {
      "text/plain": "TargetEncoder(cols=['weather_pred', 'weather_fact'])",
      "text/html": "<style>#sk-container-id-4 {color: black;}#sk-container-id-4 pre{padding: 0;}#sk-container-id-4 div.sk-toggleable {background-color: white;}#sk-container-id-4 label.sk-toggleable__label {cursor: pointer;display: block;width: 100%;margin-bottom: 0;padding: 0.3em;box-sizing: border-box;text-align: center;}#sk-container-id-4 label.sk-toggleable__label-arrow:before {content: \"▸\";float: left;margin-right: 0.25em;color: #696969;}#sk-container-id-4 label.sk-toggleable__label-arrow:hover:before {color: black;}#sk-container-id-4 div.sk-estimator:hover label.sk-toggleable__label-arrow:before {color: black;}#sk-container-id-4 div.sk-toggleable__content {max-height: 0;max-width: 0;overflow: hidden;text-align: left;background-color: #f0f8ff;}#sk-container-id-4 div.sk-toggleable__content pre {margin: 0.2em;color: black;border-radius: 0.25em;background-color: #f0f8ff;}#sk-container-id-4 input.sk-toggleable__control:checked~div.sk-toggleable__content {max-height: 200px;max-width: 100%;overflow: auto;}#sk-container-id-4 input.sk-toggleable__control:checked~label.sk-toggleable__label-arrow:before {content: \"▾\";}#sk-container-id-4 div.sk-estimator input.sk-toggleable__control:checked~label.sk-toggleable__label {background-color: #d4ebff;}#sk-container-id-4 div.sk-label input.sk-toggleable__control:checked~label.sk-toggleable__label {background-color: #d4ebff;}#sk-container-id-4 input.sk-hidden--visually {border: 0;clip: rect(1px 1px 1px 1px);clip: rect(1px, 1px, 1px, 1px);height: 1px;margin: -1px;overflow: hidden;padding: 0;position: absolute;width: 1px;}#sk-container-id-4 div.sk-estimator {font-family: monospace;background-color: #f0f8ff;border: 1px dotted black;border-radius: 0.25em;box-sizing: border-box;margin-bottom: 0.5em;}#sk-container-id-4 div.sk-estimator:hover {background-color: #d4ebff;}#sk-container-id-4 div.sk-parallel-item::after {content: \"\";width: 100%;border-bottom: 1px solid gray;flex-grow: 1;}#sk-container-id-4 div.sk-label:hover label.sk-toggleable__label {background-color: #d4ebff;}#sk-container-id-4 div.sk-serial::before {content: \"\";position: absolute;border-left: 1px solid gray;box-sizing: border-box;top: 0;bottom: 0;left: 50%;z-index: 0;}#sk-container-id-4 div.sk-serial {display: flex;flex-direction: column;align-items: center;background-color: white;padding-right: 0.2em;padding-left: 0.2em;position: relative;}#sk-container-id-4 div.sk-item {position: relative;z-index: 1;}#sk-container-id-4 div.sk-parallel {display: flex;align-items: stretch;justify-content: center;background-color: white;position: relative;}#sk-container-id-4 div.sk-item::before, #sk-container-id-4 div.sk-parallel-item::before {content: \"\";position: absolute;border-left: 1px solid gray;box-sizing: border-box;top: 0;bottom: 0;left: 50%;z-index: -1;}#sk-container-id-4 div.sk-parallel-item {display: flex;flex-direction: column;z-index: 1;position: relative;background-color: white;}#sk-container-id-4 div.sk-parallel-item:first-child::after {align-self: flex-end;width: 50%;}#sk-container-id-4 div.sk-parallel-item:last-child::after {align-self: flex-start;width: 50%;}#sk-container-id-4 div.sk-parallel-item:only-child::after {width: 0;}#sk-container-id-4 div.sk-dashed-wrapped {border: 1px dashed gray;margin: 0 0.4em 0.5em 0.4em;box-sizing: border-box;padding-bottom: 0.4em;background-color: white;}#sk-container-id-4 div.sk-label label {font-family: monospace;font-weight: bold;display: inline-block;line-height: 1.2em;}#sk-container-id-4 div.sk-label-container {text-align: center;}#sk-container-id-4 div.sk-container {/* jupyter's `normalize.less` sets `[hidden] { display: none; }` but bootstrap.min.css set `[hidden] { display: none !important; }` so we also need the `!important` here to be able to override the default hidden behavior on the sphinx rendered scikit-learn.org. See: https://github.com/scikit-learn/scikit-learn/issues/21755 */display: inline-block !important;position: relative;}#sk-container-id-4 div.sk-text-repr-fallback {display: none;}</style><div id=\"sk-container-id-4\" class=\"sk-top-container\"><div class=\"sk-text-repr-fallback\"><pre>TargetEncoder(cols=[&#x27;weather_pred&#x27;, &#x27;weather_fact&#x27;])</pre><b>In a Jupyter environment, please rerun this cell to show the HTML representation or trust the notebook. <br />On GitHub, the HTML representation is unable to render, please try loading this page with nbviewer.org.</b></div><div class=\"sk-container\" hidden><div class=\"sk-item\"><div class=\"sk-estimator sk-toggleable\"><input class=\"sk-toggleable__control sk-hidden--visually\" id=\"sk-estimator-id-8\" type=\"checkbox\" checked><label for=\"sk-estimator-id-8\" class=\"sk-toggleable__label sk-toggleable__label-arrow\">TargetEncoder</label><div class=\"sk-toggleable__content\"><pre>TargetEncoder(cols=[&#x27;weather_pred&#x27;, &#x27;weather_fact&#x27;])</pre></div></div></div></div></div>"
     },
     "execution_count": 44,
     "metadata": {},
     "output_type": "execute_result"
    }
   ],
   "source": [
    "target_encoder.fit(df_full[['weather_pred', 'weather_fact']], df_full['target'])"
   ],
   "metadata": {
    "collapsed": false,
    "ExecuteTime": {
     "end_time": "2023-11-01T14:11:32.071763500Z",
     "start_time": "2023-11-01T14:11:31.906399400Z"
    }
   },
   "id": "80c16d5fd9f5561f"
  },
  {
   "cell_type": "code",
   "execution_count": 45,
   "outputs": [
    {
     "data": {
      "text/plain": "            time  temp_pred  yst_temp  yst_temp_mean  yst_temp_med  \\\ndate                                                                 \n2019-02-01     0       -2.0      -5.4        -2.2125          -1.4   \n2019-02-01     1       -2.0      -5.4        -2.2125          -1.4   \n2019-02-01     2       -2.0      -5.4        -2.2125          -1.4   \n2019-02-01     3       -3.0      -4.7        -2.2125          -1.4   \n2019-02-01     4       -3.0      -4.7        -2.2125          -1.4   \n...          ...        ...       ...            ...           ...   \n2023-07-31    19       18.0      19.7        18.8250          18.0   \n2023-07-31    20       18.0      19.7        18.8250          18.0   \n2023-07-31    21       17.0      16.6        18.8250          18.0   \n2023-07-31    22       17.0      16.6        18.8250          18.0   \n2023-07-31    23       17.0      16.6        18.8250          18.0   \n\n            weather_pred  yst_weather_fact  yst_weather_fact_mean  \\\ndate                                                                \n2019-02-01    567.446299         494.72471             505.506553   \n2019-02-01    567.446299         494.72471             505.506553   \n2019-02-01    567.446299         494.72471             505.506553   \n2019-02-01    567.446299         494.72471             505.506553   \n2019-02-01    567.446299         494.72471             505.506553   \n...                  ...               ...                    ...   \n2023-07-31    510.031230         467.27507             477.169233   \n2023-07-31    510.031230         467.27507             477.169233   \n2023-07-31    510.031230         467.27507             477.169233   \n2023-07-31    510.031230         467.27507             477.169233   \n2023-07-31    510.031230         467.27507             477.169233   \n\n            yst_weather_fact_med  yst_target_24  ...  yst_target_120  \\\ndate                                             ...                   \n2019-02-01            507.804703        551.764  ...         574.720   \n2019-02-01            507.804703        509.703  ...         538.396   \n2019-02-01            507.804703        486.041  ...         513.026   \n2019-02-01            507.804703        476.100  ...         501.166   \n2019-02-01            507.804703        471.236  ...         491.833   \n...                          ...            ...  ...             ...   \n2023-07-31            477.169233        429.767  ...         446.658   \n2023-07-31            477.169233        424.231  ...         438.176   \n2023-07-31            477.169233        433.278  ...         438.106   \n2023-07-31            477.169233        440.695  ...         447.976   \n2023-07-31            477.169233        413.233  ...         421.352   \n\n            yst_target_144  yst_target_168  yst_target_sum  target_sum_pred  \\\ndate                                                                          \n2019-02-01         578.847         576.305       14543.391     14321.601822   \n2019-02-01         538.638         537.491       14543.391     14321.601822   \n2019-02-01         512.829         515.493       14543.391     14321.601822   \n2019-02-01         500.753         504.864       14543.391     14321.601822   \n2019-02-01         494.790         498.515       14543.391     14321.601822   \n...                    ...             ...             ...              ...   \n2023-07-31         450.699         452.459        9296.344      9668.609133   \n2023-07-31         440.681         447.430        9296.344      9668.609133   \n2023-07-31         438.982         451.141        9296.344      9668.609133   \n2023-07-31         449.350         453.595        9296.344      9668.609133   \n2023-07-31         423.133         428.070        9296.344      9668.609133   \n\n            week_day  year  month  day  is_holiday  \ndate                                                \n2019-02-01         4  2019      2    1           0  \n2019-02-01         4  2019      2    1           0  \n2019-02-01         4  2019      2    1           0  \n2019-02-01         4  2019      2    1           0  \n2019-02-01         4  2019      2    1           0  \n...              ...   ...    ...  ...         ...  \n2023-07-31         0  2023      7   31           0  \n2023-07-31         0  2023      7   31           0  \n2023-07-31         0  2023      7   31           0  \n2023-07-31         0  2023      7   31           0  \n2023-07-31         0  2023      7   31           0  \n\n[39408 rows x 23 columns]",
      "text/html": "<div>\n<style scoped>\n    .dataframe tbody tr th:only-of-type {\n        vertical-align: middle;\n    }\n\n    .dataframe tbody tr th {\n        vertical-align: top;\n    }\n\n    .dataframe thead th {\n        text-align: right;\n    }\n</style>\n<table border=\"1\" class=\"dataframe\">\n  <thead>\n    <tr style=\"text-align: right;\">\n      <th></th>\n      <th>time</th>\n      <th>temp_pred</th>\n      <th>yst_temp</th>\n      <th>yst_temp_mean</th>\n      <th>yst_temp_med</th>\n      <th>weather_pred</th>\n      <th>yst_weather_fact</th>\n      <th>yst_weather_fact_mean</th>\n      <th>yst_weather_fact_med</th>\n      <th>yst_target_24</th>\n      <th>...</th>\n      <th>yst_target_120</th>\n      <th>yst_target_144</th>\n      <th>yst_target_168</th>\n      <th>yst_target_sum</th>\n      <th>target_sum_pred</th>\n      <th>week_day</th>\n      <th>year</th>\n      <th>month</th>\n      <th>day</th>\n      <th>is_holiday</th>\n    </tr>\n    <tr>\n      <th>date</th>\n      <th></th>\n      <th></th>\n      <th></th>\n      <th></th>\n      <th></th>\n      <th></th>\n      <th></th>\n      <th></th>\n      <th></th>\n      <th></th>\n      <th></th>\n      <th></th>\n      <th></th>\n      <th></th>\n      <th></th>\n      <th></th>\n      <th></th>\n      <th></th>\n      <th></th>\n      <th></th>\n      <th></th>\n    </tr>\n  </thead>\n  <tbody>\n    <tr>\n      <th>2019-02-01</th>\n      <td>0</td>\n      <td>-2.0</td>\n      <td>-5.4</td>\n      <td>-2.2125</td>\n      <td>-1.4</td>\n      <td>567.446299</td>\n      <td>494.72471</td>\n      <td>505.506553</td>\n      <td>507.804703</td>\n      <td>551.764</td>\n      <td>...</td>\n      <td>574.720</td>\n      <td>578.847</td>\n      <td>576.305</td>\n      <td>14543.391</td>\n      <td>14321.601822</td>\n      <td>4</td>\n      <td>2019</td>\n      <td>2</td>\n      <td>1</td>\n      <td>0</td>\n    </tr>\n    <tr>\n      <th>2019-02-01</th>\n      <td>1</td>\n      <td>-2.0</td>\n      <td>-5.4</td>\n      <td>-2.2125</td>\n      <td>-1.4</td>\n      <td>567.446299</td>\n      <td>494.72471</td>\n      <td>505.506553</td>\n      <td>507.804703</td>\n      <td>509.703</td>\n      <td>...</td>\n      <td>538.396</td>\n      <td>538.638</td>\n      <td>537.491</td>\n      <td>14543.391</td>\n      <td>14321.601822</td>\n      <td>4</td>\n      <td>2019</td>\n      <td>2</td>\n      <td>1</td>\n      <td>0</td>\n    </tr>\n    <tr>\n      <th>2019-02-01</th>\n      <td>2</td>\n      <td>-2.0</td>\n      <td>-5.4</td>\n      <td>-2.2125</td>\n      <td>-1.4</td>\n      <td>567.446299</td>\n      <td>494.72471</td>\n      <td>505.506553</td>\n      <td>507.804703</td>\n      <td>486.041</td>\n      <td>...</td>\n      <td>513.026</td>\n      <td>512.829</td>\n      <td>515.493</td>\n      <td>14543.391</td>\n      <td>14321.601822</td>\n      <td>4</td>\n      <td>2019</td>\n      <td>2</td>\n      <td>1</td>\n      <td>0</td>\n    </tr>\n    <tr>\n      <th>2019-02-01</th>\n      <td>3</td>\n      <td>-3.0</td>\n      <td>-4.7</td>\n      <td>-2.2125</td>\n      <td>-1.4</td>\n      <td>567.446299</td>\n      <td>494.72471</td>\n      <td>505.506553</td>\n      <td>507.804703</td>\n      <td>476.100</td>\n      <td>...</td>\n      <td>501.166</td>\n      <td>500.753</td>\n      <td>504.864</td>\n      <td>14543.391</td>\n      <td>14321.601822</td>\n      <td>4</td>\n      <td>2019</td>\n      <td>2</td>\n      <td>1</td>\n      <td>0</td>\n    </tr>\n    <tr>\n      <th>2019-02-01</th>\n      <td>4</td>\n      <td>-3.0</td>\n      <td>-4.7</td>\n      <td>-2.2125</td>\n      <td>-1.4</td>\n      <td>567.446299</td>\n      <td>494.72471</td>\n      <td>505.506553</td>\n      <td>507.804703</td>\n      <td>471.236</td>\n      <td>...</td>\n      <td>491.833</td>\n      <td>494.790</td>\n      <td>498.515</td>\n      <td>14543.391</td>\n      <td>14321.601822</td>\n      <td>4</td>\n      <td>2019</td>\n      <td>2</td>\n      <td>1</td>\n      <td>0</td>\n    </tr>\n    <tr>\n      <th>...</th>\n      <td>...</td>\n      <td>...</td>\n      <td>...</td>\n      <td>...</td>\n      <td>...</td>\n      <td>...</td>\n      <td>...</td>\n      <td>...</td>\n      <td>...</td>\n      <td>...</td>\n      <td>...</td>\n      <td>...</td>\n      <td>...</td>\n      <td>...</td>\n      <td>...</td>\n      <td>...</td>\n      <td>...</td>\n      <td>...</td>\n      <td>...</td>\n      <td>...</td>\n      <td>...</td>\n    </tr>\n    <tr>\n      <th>2023-07-31</th>\n      <td>19</td>\n      <td>18.0</td>\n      <td>19.7</td>\n      <td>18.8250</td>\n      <td>18.0</td>\n      <td>510.031230</td>\n      <td>467.27507</td>\n      <td>477.169233</td>\n      <td>477.169233</td>\n      <td>429.767</td>\n      <td>...</td>\n      <td>446.658</td>\n      <td>450.699</td>\n      <td>452.459</td>\n      <td>9296.344</td>\n      <td>9668.609133</td>\n      <td>0</td>\n      <td>2023</td>\n      <td>7</td>\n      <td>31</td>\n      <td>0</td>\n    </tr>\n    <tr>\n      <th>2023-07-31</th>\n      <td>20</td>\n      <td>18.0</td>\n      <td>19.7</td>\n      <td>18.8250</td>\n      <td>18.0</td>\n      <td>510.031230</td>\n      <td>467.27507</td>\n      <td>477.169233</td>\n      <td>477.169233</td>\n      <td>424.231</td>\n      <td>...</td>\n      <td>438.176</td>\n      <td>440.681</td>\n      <td>447.430</td>\n      <td>9296.344</td>\n      <td>9668.609133</td>\n      <td>0</td>\n      <td>2023</td>\n      <td>7</td>\n      <td>31</td>\n      <td>0</td>\n    </tr>\n    <tr>\n      <th>2023-07-31</th>\n      <td>21</td>\n      <td>17.0</td>\n      <td>16.6</td>\n      <td>18.8250</td>\n      <td>18.0</td>\n      <td>510.031230</td>\n      <td>467.27507</td>\n      <td>477.169233</td>\n      <td>477.169233</td>\n      <td>433.278</td>\n      <td>...</td>\n      <td>438.106</td>\n      <td>438.982</td>\n      <td>451.141</td>\n      <td>9296.344</td>\n      <td>9668.609133</td>\n      <td>0</td>\n      <td>2023</td>\n      <td>7</td>\n      <td>31</td>\n      <td>0</td>\n    </tr>\n    <tr>\n      <th>2023-07-31</th>\n      <td>22</td>\n      <td>17.0</td>\n      <td>16.6</td>\n      <td>18.8250</td>\n      <td>18.0</td>\n      <td>510.031230</td>\n      <td>467.27507</td>\n      <td>477.169233</td>\n      <td>477.169233</td>\n      <td>440.695</td>\n      <td>...</td>\n      <td>447.976</td>\n      <td>449.350</td>\n      <td>453.595</td>\n      <td>9296.344</td>\n      <td>9668.609133</td>\n      <td>0</td>\n      <td>2023</td>\n      <td>7</td>\n      <td>31</td>\n      <td>0</td>\n    </tr>\n    <tr>\n      <th>2023-07-31</th>\n      <td>23</td>\n      <td>17.0</td>\n      <td>16.6</td>\n      <td>18.8250</td>\n      <td>18.0</td>\n      <td>510.031230</td>\n      <td>467.27507</td>\n      <td>477.169233</td>\n      <td>477.169233</td>\n      <td>413.233</td>\n      <td>...</td>\n      <td>421.352</td>\n      <td>423.133</td>\n      <td>428.070</td>\n      <td>9296.344</td>\n      <td>9668.609133</td>\n      <td>0</td>\n      <td>2023</td>\n      <td>7</td>\n      <td>31</td>\n      <td>0</td>\n    </tr>\n  </tbody>\n</table>\n<p>39408 rows × 23 columns</p>\n</div>"
     },
     "execution_count": 45,
     "metadata": {},
     "output_type": "execute_result"
    }
   ],
   "source": [
    "features_full = features_extractor(df_full, target_encoder, predict_full_1d)\n",
    "features_full"
   ],
   "metadata": {
    "collapsed": false,
    "ExecuteTime": {
     "end_time": "2023-11-01T14:11:35.960588300Z",
     "start_time": "2023-11-01T14:11:35.398111700Z"
    }
   },
   "id": "780fe9d5bd69c8db"
  },
  {
   "cell_type": "code",
   "execution_count": 46,
   "outputs": [
    {
     "data": {
      "text/plain": "date\n2019-02-01    557.528\n2019-02-01    519.482\n2019-02-01    494.380\n2019-02-01    484.917\n2019-02-01    478.837\n               ...   \n2023-07-31    453.173\n2023-07-31    446.287\n2023-07-31    444.373\n2023-07-31    449.078\n2023-07-31    416.078\nName: target, Length: 39408, dtype: float64"
     },
     "execution_count": 46,
     "metadata": {},
     "output_type": "execute_result"
    }
   ],
   "source": [
    "target_full = target_creator(df_full, features_full.index)\n",
    "target_full"
   ],
   "metadata": {
    "collapsed": false,
    "ExecuteTime": {
     "end_time": "2023-11-01T14:11:37.186299Z",
     "start_time": "2023-11-01T14:11:37.117187100Z"
    }
   },
   "id": "20cdfc47b73b0abc"
  },
  {
   "cell_type": "code",
   "execution_count": 47,
   "outputs": [
    {
     "data": {
      "text/plain": "((39408, 23), (39408,))"
     },
     "execution_count": 47,
     "metadata": {},
     "output_type": "execute_result"
    }
   ],
   "source": [
    "features_full.shape, target_full.shape"
   ],
   "metadata": {
    "collapsed": false,
    "ExecuteTime": {
     "end_time": "2023-11-01T14:11:39.510951600Z",
     "start_time": "2023-11-01T14:11:39.464830700Z"
    }
   },
   "id": "ccf1c138bb427ba"
  },
  {
   "cell_type": "code",
   "execution_count": 48,
   "outputs": [
    {
     "data": {
      "text/plain": "Pipeline(steps=[('minmaxscaler', MinMaxScaler()),\n                ('linearregression', LinearRegression())])",
      "text/html": "<style>#sk-container-id-5 {color: black;}#sk-container-id-5 pre{padding: 0;}#sk-container-id-5 div.sk-toggleable {background-color: white;}#sk-container-id-5 label.sk-toggleable__label {cursor: pointer;display: block;width: 100%;margin-bottom: 0;padding: 0.3em;box-sizing: border-box;text-align: center;}#sk-container-id-5 label.sk-toggleable__label-arrow:before {content: \"▸\";float: left;margin-right: 0.25em;color: #696969;}#sk-container-id-5 label.sk-toggleable__label-arrow:hover:before {color: black;}#sk-container-id-5 div.sk-estimator:hover label.sk-toggleable__label-arrow:before {color: black;}#sk-container-id-5 div.sk-toggleable__content {max-height: 0;max-width: 0;overflow: hidden;text-align: left;background-color: #f0f8ff;}#sk-container-id-5 div.sk-toggleable__content pre {margin: 0.2em;color: black;border-radius: 0.25em;background-color: #f0f8ff;}#sk-container-id-5 input.sk-toggleable__control:checked~div.sk-toggleable__content {max-height: 200px;max-width: 100%;overflow: auto;}#sk-container-id-5 input.sk-toggleable__control:checked~label.sk-toggleable__label-arrow:before {content: \"▾\";}#sk-container-id-5 div.sk-estimator input.sk-toggleable__control:checked~label.sk-toggleable__label {background-color: #d4ebff;}#sk-container-id-5 div.sk-label input.sk-toggleable__control:checked~label.sk-toggleable__label {background-color: #d4ebff;}#sk-container-id-5 input.sk-hidden--visually {border: 0;clip: rect(1px 1px 1px 1px);clip: rect(1px, 1px, 1px, 1px);height: 1px;margin: -1px;overflow: hidden;padding: 0;position: absolute;width: 1px;}#sk-container-id-5 div.sk-estimator {font-family: monospace;background-color: #f0f8ff;border: 1px dotted black;border-radius: 0.25em;box-sizing: border-box;margin-bottom: 0.5em;}#sk-container-id-5 div.sk-estimator:hover {background-color: #d4ebff;}#sk-container-id-5 div.sk-parallel-item::after {content: \"\";width: 100%;border-bottom: 1px solid gray;flex-grow: 1;}#sk-container-id-5 div.sk-label:hover label.sk-toggleable__label {background-color: #d4ebff;}#sk-container-id-5 div.sk-serial::before {content: \"\";position: absolute;border-left: 1px solid gray;box-sizing: border-box;top: 0;bottom: 0;left: 50%;z-index: 0;}#sk-container-id-5 div.sk-serial {display: flex;flex-direction: column;align-items: center;background-color: white;padding-right: 0.2em;padding-left: 0.2em;position: relative;}#sk-container-id-5 div.sk-item {position: relative;z-index: 1;}#sk-container-id-5 div.sk-parallel {display: flex;align-items: stretch;justify-content: center;background-color: white;position: relative;}#sk-container-id-5 div.sk-item::before, #sk-container-id-5 div.sk-parallel-item::before {content: \"\";position: absolute;border-left: 1px solid gray;box-sizing: border-box;top: 0;bottom: 0;left: 50%;z-index: -1;}#sk-container-id-5 div.sk-parallel-item {display: flex;flex-direction: column;z-index: 1;position: relative;background-color: white;}#sk-container-id-5 div.sk-parallel-item:first-child::after {align-self: flex-end;width: 50%;}#sk-container-id-5 div.sk-parallel-item:last-child::after {align-self: flex-start;width: 50%;}#sk-container-id-5 div.sk-parallel-item:only-child::after {width: 0;}#sk-container-id-5 div.sk-dashed-wrapped {border: 1px dashed gray;margin: 0 0.4em 0.5em 0.4em;box-sizing: border-box;padding-bottom: 0.4em;background-color: white;}#sk-container-id-5 div.sk-label label {font-family: monospace;font-weight: bold;display: inline-block;line-height: 1.2em;}#sk-container-id-5 div.sk-label-container {text-align: center;}#sk-container-id-5 div.sk-container {/* jupyter's `normalize.less` sets `[hidden] { display: none; }` but bootstrap.min.css set `[hidden] { display: none !important; }` so we also need the `!important` here to be able to override the default hidden behavior on the sphinx rendered scikit-learn.org. See: https://github.com/scikit-learn/scikit-learn/issues/21755 */display: inline-block !important;position: relative;}#sk-container-id-5 div.sk-text-repr-fallback {display: none;}</style><div id=\"sk-container-id-5\" class=\"sk-top-container\"><div class=\"sk-text-repr-fallback\"><pre>Pipeline(steps=[(&#x27;minmaxscaler&#x27;, MinMaxScaler()),\n                (&#x27;linearregression&#x27;, LinearRegression())])</pre><b>In a Jupyter environment, please rerun this cell to show the HTML representation or trust the notebook. <br />On GitHub, the HTML representation is unable to render, please try loading this page with nbviewer.org.</b></div><div class=\"sk-container\" hidden><div class=\"sk-item sk-dashed-wrapped\"><div class=\"sk-label-container\"><div class=\"sk-label sk-toggleable\"><input class=\"sk-toggleable__control sk-hidden--visually\" id=\"sk-estimator-id-9\" type=\"checkbox\" ><label for=\"sk-estimator-id-9\" class=\"sk-toggleable__label sk-toggleable__label-arrow\">Pipeline</label><div class=\"sk-toggleable__content\"><pre>Pipeline(steps=[(&#x27;minmaxscaler&#x27;, MinMaxScaler()),\n                (&#x27;linearregression&#x27;, LinearRegression())])</pre></div></div></div><div class=\"sk-serial\"><div class=\"sk-item\"><div class=\"sk-estimator sk-toggleable\"><input class=\"sk-toggleable__control sk-hidden--visually\" id=\"sk-estimator-id-10\" type=\"checkbox\" ><label for=\"sk-estimator-id-10\" class=\"sk-toggleable__label sk-toggleable__label-arrow\">MinMaxScaler</label><div class=\"sk-toggleable__content\"><pre>MinMaxScaler()</pre></div></div></div><div class=\"sk-item\"><div class=\"sk-estimator sk-toggleable\"><input class=\"sk-toggleable__control sk-hidden--visually\" id=\"sk-estimator-id-11\" type=\"checkbox\" ><label for=\"sk-estimator-id-11\" class=\"sk-toggleable__label sk-toggleable__label-arrow\">LinearRegression</label><div class=\"sk-toggleable__content\"><pre>LinearRegression()</pre></div></div></div></div></div></div></div>"
     },
     "execution_count": 48,
     "metadata": {},
     "output_type": "execute_result"
    }
   ],
   "source": [
    "linear_pipeline.fit(features_full, target_full)"
   ],
   "metadata": {
    "collapsed": false,
    "ExecuteTime": {
     "end_time": "2023-11-01T14:11:42.753179200Z",
     "start_time": "2023-11-01T14:11:42.676313500Z"
    }
   },
   "id": "d16cec269ea9b95c"
  },
  {
   "cell_type": "code",
   "execution_count": 49,
   "outputs": [],
   "source": [
    "def objective(trial):\n",
    "    # Объявляем гиперпараметры для оптимизации\n",
    "    params = {\n",
    "        'objective': trial.suggest_categorical('objective', ['regression', 'regression_l1']),\n",
    "        'max_depth': trial.suggest_int('max_depth', 3, 12),\n",
    "        'n_estimators': trial.suggest_int('n_estimators', 200, 600),\n",
    "        'learning_rate': trial.suggest_float('learning_rate', 0.01, 0.1),\n",
    "        'num_leaves': trial.suggest_int('num_leaves', 30, 50),\n",
    "        'feature_fraction': trial.suggest_float('feature_fraction', 0, 1),\n",
    "        'bagging_fraction': trial.suggest_float('bagging_fraction', 0, 1),\n",
    "        'lambda_l1': trial.suggest_float('lambda_l1', 0, 1),\n",
    "        'lambda_l2': trial.suggest_float('lambda_l2', 0, 1),\n",
    "        #'min_gain_to_split': trial.suggest_float('min_gain_to_split', 0, 1),\n",
    "        #'min_sum_hessian_in_leaf': trial.suggest_int('min_sum_hessian_in_leaf', 1, 7, 2),\n",
    "        'random_state': 42,\n",
    "        'verbosity': -1\n",
    "    }\n",
    "\n",
    "    # Объявляем модель\n",
    "    model = LGBMRegressor(**params)\n",
    "    pipeline = make_pipeline(scaler, model)\n",
    "\n",
    "    # Вычисляем качество\n",
    "    result = cross_val_score(\n",
    "        pipeline,\n",
    "        features_full,\n",
    "        target_full,\n",
    "        scoring='neg_mean_absolute_error',\n",
    "        cv=CV).mean() * -1\n",
    "\n",
    "    return result"
   ],
   "metadata": {
    "collapsed": false,
    "ExecuteTime": {
     "end_time": "2023-11-01T14:11:48.016292100Z",
     "start_time": "2023-11-01T14:11:47.977768300Z"
    }
   },
   "id": "fc69abdf9d31e45c"
  },
  {
   "cell_type": "code",
   "execution_count": 50,
   "outputs": [
    {
     "name": "stderr",
     "output_type": "stream",
     "text": [
      "[I 2023-11-01 17:11:51,510] A new study created in memory with name: no-name-93a1f433-7eec-4d2f-90b8-b55d2d4eff32\n",
      "[I 2023-11-01 17:12:23,008] Trial 3 finished with value: 10.070325216454002 and parameters: {'objective': 'regression', 'max_depth': 12, 'n_estimators': 250, 'learning_rate': 0.09767436694732451, 'num_leaves': 39, 'feature_fraction': 0.4376774771490364, 'bagging_fraction': 0.1396072525702634, 'lambda_l1': 0.7010233307925243, 'lambda_l2': 0.5416068624168902}. Best is trial 3 with value: 10.070325216454002.\n",
      "[I 2023-11-01 17:12:29,906] Trial 1 finished with value: 18.497125760098736 and parameters: {'objective': 'regression', 'max_depth': 9, 'n_estimators': 411, 'learning_rate': 0.0302563963039418, 'num_leaves': 48, 'feature_fraction': 0.03536005991103952, 'bagging_fraction': 0.4382671890001333, 'lambda_l1': 0.43727479836001837, 'lambda_l2': 0.21013922721802047}. Best is trial 3 with value: 10.070325216454002.\n",
      "[I 2023-11-01 17:12:32,414] Trial 0 finished with value: 10.897105652572579 and parameters: {'objective': 'regression_l1', 'max_depth': 5, 'n_estimators': 519, 'learning_rate': 0.05051798099056647, 'num_leaves': 30, 'feature_fraction': 0.21655498304752363, 'bagging_fraction': 0.48141119094856233, 'lambda_l1': 0.6057299782685047, 'lambda_l2': 0.5229747092377819}. Best is trial 3 with value: 10.070325216454002.\n",
      "[I 2023-11-01 17:12:43,375] Trial 5 finished with value: 11.431763860754408 and parameters: {'objective': 'regression', 'max_depth': 3, 'n_estimators': 281, 'learning_rate': 0.057325228401157766, 'num_leaves': 43, 'feature_fraction': 0.31353852625999856, 'bagging_fraction': 0.02858298565884576, 'lambda_l1': 0.04399625455727063, 'lambda_l2': 0.07874481742626127}. Best is trial 3 with value: 10.070325216454002.\n",
      "[I 2023-11-01 17:12:45,465] Trial 2 finished with value: 10.422094996594163 and parameters: {'objective': 'regression', 'max_depth': 12, 'n_estimators': 435, 'learning_rate': 0.09079816736868399, 'num_leaves': 39, 'feature_fraction': 0.29333915808155875, 'bagging_fraction': 0.41000026406445855, 'lambda_l1': 0.09623239357391511, 'lambda_l2': 0.8960998223581765}. Best is trial 3 with value: 10.070325216454002.\n",
      "[I 2023-11-01 17:13:20,700] Trial 4 finished with value: 9.975333869199241 and parameters: {'objective': 'regression_l1', 'max_depth': 5, 'n_estimators': 463, 'learning_rate': 0.08160759527938127, 'num_leaves': 36, 'feature_fraction': 0.9587159294275461, 'bagging_fraction': 0.42048267339363377, 'lambda_l1': 0.1197456851060017, 'lambda_l2': 0.30670861970669616}. Best is trial 4 with value: 9.975333869199241.\n",
      "[I 2023-11-01 17:13:32,149] Trial 7 finished with value: 9.78444341562133 and parameters: {'objective': 'regression', 'max_depth': 6, 'n_estimators': 258, 'learning_rate': 0.03749043765210913, 'num_leaves': 50, 'feature_fraction': 0.7791317763996392, 'bagging_fraction': 0.5668275521431372, 'lambda_l1': 0.2998338748498772, 'lambda_l2': 0.4500215858999922}. Best is trial 7 with value: 9.78444341562133.\n",
      "[I 2023-11-01 17:14:45,078] Trial 10 finished with value: 9.50977130170786 and parameters: {'objective': 'regression', 'max_depth': 5, 'n_estimators': 545, 'learning_rate': 0.08553686147689082, 'num_leaves': 40, 'feature_fraction': 0.9516831147207657, 'bagging_fraction': 0.3351940456212713, 'lambda_l1': 0.5074820852352823, 'lambda_l2': 0.37061139637818774}. Best is trial 10 with value: 9.50977130170786.\n",
      "[I 2023-11-01 17:14:46,162] Trial 6 finished with value: 9.674301891762216 and parameters: {'objective': 'regression', 'max_depth': 11, 'n_estimators': 562, 'learning_rate': 0.03296799503100891, 'num_leaves': 49, 'feature_fraction': 0.6052533715223055, 'bagging_fraction': 0.4816233048167483, 'lambda_l1': 0.3598012039021703, 'lambda_l2': 0.9181857442686542}. Best is trial 10 with value: 9.50977130170786.\n",
      "[I 2023-11-01 17:15:13,595] Trial 8 finished with value: 10.053734846183245 and parameters: {'objective': 'regression', 'max_depth': 8, 'n_estimators': 576, 'learning_rate': 0.01134393884451089, 'num_leaves': 42, 'feature_fraction': 0.9753912171716532, 'bagging_fraction': 0.11822024486627403, 'lambda_l1': 0.9387274996339042, 'lambda_l2': 0.5031541042352716}. Best is trial 10 with value: 9.50977130170786.\n",
      "[I 2023-11-01 17:15:16,678] Trial 11 finished with value: 18.844767687653942 and parameters: {'objective': 'regression_l1', 'max_depth': 9, 'n_estimators': 219, 'learning_rate': 0.07666347956975564, 'num_leaves': 49, 'feature_fraction': 0.04489863203969491, 'bagging_fraction': 0.35736633255419703, 'lambda_l1': 0.2438889196558488, 'lambda_l2': 0.497502005716416}. Best is trial 10 with value: 9.50977130170786.\n",
      "[I 2023-11-01 17:15:44,168] Trial 13 finished with value: 10.995066113881805 and parameters: {'objective': 'regression_l1', 'max_depth': 3, 'n_estimators': 352, 'learning_rate': 0.07577654271570625, 'num_leaves': 33, 'feature_fraction': 0.6814070615362386, 'bagging_fraction': 0.9911103702122686, 'lambda_l1': 0.704820303907828, 'lambda_l2': 0.7415989195420474}. Best is trial 10 with value: 9.50977130170786.\n",
      "[I 2023-11-01 17:15:52,700] Trial 9 finished with value: 10.722329306843172 and parameters: {'objective': 'regression_l1', 'max_depth': 12, 'n_estimators': 482, 'learning_rate': 0.012195250181645273, 'num_leaves': 46, 'feature_fraction': 0.8969136491883574, 'bagging_fraction': 0.04440683024158776, 'lambda_l1': 0.05918065788690141, 'lambda_l2': 0.8868796288306416}. Best is trial 10 with value: 9.50977130170786.\n",
      "[I 2023-11-01 17:16:00,020] Trial 14 finished with value: 10.09321898633486 and parameters: {'objective': 'regression', 'max_depth': 3, 'n_estimators': 588, 'learning_rate': 0.06765957608944857, 'num_leaves': 45, 'feature_fraction': 0.6528577880221591, 'bagging_fraction': 0.6707195940354701, 'lambda_l1': 0.45130802447841467, 'lambda_l2': 0.9992391663947259}. Best is trial 10 with value: 9.50977130170786.\n",
      "[I 2023-11-01 17:16:39,549] Trial 12 finished with value: 10.029486038366157 and parameters: {'objective': 'regression_l1', 'max_depth': 12, 'n_estimators': 379, 'learning_rate': 0.03660510556024958, 'num_leaves': 50, 'feature_fraction': 0.7048647624941938, 'bagging_fraction': 0.3442062283477676, 'lambda_l1': 0.17779965349019922, 'lambda_l2': 0.17722965085088083}. Best is trial 10 with value: 9.50977130170786.\n",
      "[I 2023-11-01 17:17:24,106] Trial 17 finished with value: 9.846722789089306 and parameters: {'objective': 'regression', 'max_depth': 10, 'n_estimators': 525, 'learning_rate': 0.09827921347462244, 'num_leaves': 36, 'feature_fraction': 0.583177018641179, 'bagging_fraction': 0.26201890508495373, 'lambda_l1': 0.3363363223514888, 'lambda_l2': 0.6753021632650169}. Best is trial 10 with value: 9.50977130170786.\n",
      "[I 2023-11-01 17:17:43,434] Trial 15 finished with value: 9.605321113625726 and parameters: {'objective': 'regression', 'max_depth': 10, 'n_estimators': 583, 'learning_rate': 0.06364425106101955, 'num_leaves': 45, 'feature_fraction': 0.6166116691139405, 'bagging_fraction': 0.6808273119712726, 'lambda_l1': 0.4393476996602148, 'lambda_l2': 0.9986380480059859}. Best is trial 10 with value: 9.50977130170786.\n",
      "[I 2023-11-01 17:17:50,277] Trial 16 finished with value: 9.626074972504123 and parameters: {'objective': 'regression', 'max_depth': 10, 'n_estimators': 594, 'learning_rate': 0.06418289243183667, 'num_leaves': 45, 'feature_fraction': 0.6312415760618948, 'bagging_fraction': 0.6425965693614879, 'lambda_l1': 0.438359720570896, 'lambda_l2': 0.9980242150998303}. Best is trial 10 with value: 9.50977130170786.\n",
      "[I 2023-11-01 17:18:06,424] Trial 18 finished with value: 9.779252913431478 and parameters: {'objective': 'regression', 'max_depth': 10, 'n_estimators': 533, 'learning_rate': 0.06188388474450629, 'num_leaves': 36, 'feature_fraction': 0.5582888897964, 'bagging_fraction': 0.23456154016943875, 'lambda_l1': 0.3162563155324068, 'lambda_l2': 0.6938796314328144}. Best is trial 10 with value: 9.50977130170786.\n",
      "[I 2023-11-01 17:18:50,546] Trial 19 finished with value: 9.483470599124862 and parameters: {'objective': 'regression', 'max_depth': 6, 'n_estimators': 535, 'learning_rate': 0.0584045095828926, 'num_leaves': 42, 'feature_fraction': 0.833283182849751, 'bagging_fraction': 0.24629760175324303, 'lambda_l1': 0.34790989323812765, 'lambda_l2': 0.3681297146375769}. Best is trial 19 with value: 9.483470599124862.\n",
      "[I 2023-11-01 17:19:23,383] Trial 20 finished with value: 9.507932575727587 and parameters: {'objective': 'regression', 'max_depth': 7, 'n_estimators': 524, 'learning_rate': 0.06457527058773753, 'num_leaves': 42, 'feature_fraction': 0.8106629920348811, 'bagging_fraction': 0.6965089950484815, 'lambda_l1': 0.5497751616519015, 'lambda_l2': 0.34978046768241267}. Best is trial 19 with value: 9.483470599124862.\n",
      "[I 2023-11-01 17:19:27,474] Trial 21 finished with value: 9.446587733536026 and parameters: {'objective': 'regression', 'max_depth': 7, 'n_estimators': 525, 'learning_rate': 0.08411363718812348, 'num_leaves': 41, 'feature_fraction': 0.8379100051563602, 'bagging_fraction': 0.7654070727865276, 'lambda_l1': 0.5673210637936903, 'lambda_l2': 0.7268372915135146}. Best is trial 21 with value: 9.446587733536026.\n",
      "[I 2023-11-01 17:19:39,726] Trial 22 finished with value: 9.533542788881585 and parameters: {'objective': 'regression', 'max_depth': 7, 'n_estimators': 490, 'learning_rate': 0.084047360342722, 'num_leaves': 41, 'feature_fraction': 0.8245061505855594, 'bagging_fraction': 0.7840039135638819, 'lambda_l1': 0.5357838964634202, 'lambda_l2': 0.3680711309752042}. Best is trial 21 with value: 9.446587733536026.\n",
      "[I 2023-11-01 17:20:14,038] Trial 23 finished with value: 9.448238888243331 and parameters: {'objective': 'regression', 'max_depth': 6, 'n_estimators': 488, 'learning_rate': 0.0861708499932713, 'num_leaves': 41, 'feature_fraction': 0.8486731111491013, 'bagging_fraction': 0.24393452194456636, 'lambda_l1': 0.5437358167411905, 'lambda_l2': 0.35113015824723204}. Best is trial 21 with value: 9.446587733536026.\n",
      "[I 2023-11-01 17:20:44,703] Trial 24 finished with value: 9.558303326086422 and parameters: {'objective': 'regression', 'max_depth': 6, 'n_estimators': 488, 'learning_rate': 0.08616269042853472, 'num_leaves': 41, 'feature_fraction': 0.8310122499006729, 'bagging_fraction': 0.24222998068014598, 'lambda_l1': 0.5885896102902345, 'lambda_l2': 0.3497356213877384}. Best is trial 21 with value: 9.446587733536026.\n",
      "[I 2023-11-01 17:21:01,878] Trial 25 finished with value: 9.474413427946315 and parameters: {'objective': 'regression', 'max_depth': 7, 'n_estimators': 484, 'learning_rate': 0.07252682774707109, 'num_leaves': 42, 'feature_fraction': 0.8112416099765078, 'bagging_fraction': 0.8122823039192222, 'lambda_l1': 0.5582120387005081, 'lambda_l2': 0.3706980367490151}. Best is trial 21 with value: 9.446587733536026.\n",
      "[I 2023-11-01 17:21:09,964] Trial 26 finished with value: 9.492440534386217 and parameters: {'objective': 'regression', 'max_depth': 7, 'n_estimators': 452, 'learning_rate': 0.07069009287347748, 'num_leaves': 43, 'feature_fraction': 0.8042314696949935, 'bagging_fraction': 0.7983764360436255, 'lambda_l1': 0.6005543725203144, 'lambda_l2': 0.6017910720474935}. Best is trial 21 with value: 9.446587733536026.\n",
      "[I 2023-11-01 17:21:33,019] Trial 27 finished with value: 9.444008029145166 and parameters: {'objective': 'regression', 'max_depth': 6, 'n_estimators': 454, 'learning_rate': 0.07368768010750774, 'num_leaves': 38, 'feature_fraction': 0.8720354634414778, 'bagging_fraction': 0.21605553969388822, 'lambda_l1': 0.6362029734542757, 'lambda_l2': 0.6065155338209939}. Best is trial 27 with value: 9.444008029145166.\n",
      "[I 2023-11-01 17:21:53,951] Trial 28 finished with value: 9.486440277209457 and parameters: {'objective': 'regression', 'max_depth': 6, 'n_estimators': 442, 'learning_rate': 0.07235208710111357, 'num_leaves': 38, 'feature_fraction': 0.743747574875219, 'bagging_fraction': 0.17157184362095268, 'lambda_l1': 0.23682651727509318, 'lambda_l2': 0.6246322495442498}. Best is trial 27 with value: 9.444008029145166.\n",
      "[I 2023-11-01 17:22:28,814] Trial 30 finished with value: 9.521217161561129 and parameters: {'objective': 'regression', 'max_depth': 8, 'n_estimators': 409, 'learning_rate': 0.07702752908554965, 'num_leaves': 38, 'feature_fraction': 0.7320349983406951, 'bagging_fraction': 0.5661770001242382, 'lambda_l1': 0.6698871897067502, 'lambda_l2': 0.26833316602543666}. Best is trial 27 with value: 9.444008029145166.\n",
      "[I 2023-11-01 17:22:32,182] Trial 29 finished with value: 9.59943486810963 and parameters: {'objective': 'regression', 'max_depth': 8, 'n_estimators': 459, 'learning_rate': 0.07147424568815366, 'num_leaves': 39, 'feature_fraction': 0.7390427287875271, 'bagging_fraction': 0.8627758098553026, 'lambda_l1': 0.6636961819587939, 'lambda_l2': 0.5892579641880423}. Best is trial 27 with value: 9.444008029145166.\n",
      "[I 2023-11-01 17:22:33,326] Trial 32 finished with value: 10.38200203675523 and parameters: {'objective': 'regression_l1', 'max_depth': 4, 'n_estimators': 353, 'learning_rate': 0.07937312671030772, 'num_leaves': 37, 'feature_fraction': 0.8917359562900751, 'bagging_fraction': 0.5061001487402522, 'lambda_l1': 0.6750124769175507, 'lambda_l2': 0.7810192715436323}. Best is trial 27 with value: 9.444008029145166.\n",
      "[I 2023-11-01 17:22:43,542] Trial 31 finished with value: 9.586929642870656 and parameters: {'objective': 'regression', 'max_depth': 8, 'n_estimators': 351, 'learning_rate': 0.09155649736554755, 'num_leaves': 38, 'feature_fraction': 0.7306310090198664, 'bagging_fraction': 0.16258055270376562, 'lambda_l1': 0.6520964587923304, 'lambda_l2': 0.5934179794736074}. Best is trial 27 with value: 9.444008029145166.\n",
      "[I 2023-11-01 17:23:03,132] Trial 33 finished with value: 10.351632418845576 and parameters: {'objective': 'regression_l1', 'max_depth': 4, 'n_estimators': 319, 'learning_rate': 0.09278763582726035, 'num_leaves': 31, 'feature_fraction': 0.8993306378338985, 'bagging_fraction': 0.10615476485852893, 'lambda_l1': 0.8157129898157247, 'lambda_l2': 0.777398462932186}. Best is trial 27 with value: 9.444008029145166.\n",
      "[I 2023-11-01 17:23:40,582] Trial 35 finished with value: 9.580848924767045 and parameters: {'objective': 'regression', 'max_depth': 5, 'n_estimators': 484, 'learning_rate': 0.09269110557069418, 'num_leaves': 34, 'feature_fraction': 0.892861195008648, 'bagging_fraction': 0.9256735565715964, 'lambda_l1': 0.5993498756028858, 'lambda_l2': 0.4536932975000813}. Best is trial 27 with value: 9.444008029145166.\n",
      "[I 2023-11-01 17:23:42,263] Trial 34 finished with value: 9.60510281923293 and parameters: {'objective': 'regression', 'max_depth': 5, 'n_estimators': 500, 'learning_rate': 0.09005075637213067, 'num_leaves': 33, 'feature_fraction': 0.9092101075349848, 'bagging_fraction': 0.5700734796883796, 'lambda_l1': 0.7727848569668242, 'lambda_l2': 0.4682465786844684}. Best is trial 27 with value: 9.444008029145166.\n",
      "[I 2023-11-01 17:23:54,409] Trial 36 finished with value: 9.522863940263447 and parameters: {'objective': 'regression', 'max_depth': 5, 'n_estimators': 499, 'learning_rate': 0.08870703185468862, 'num_leaves': 34, 'feature_fraction': 0.9055895501081898, 'bagging_fraction': 0.9283782849196419, 'lambda_l1': 0.7825210665193518, 'lambda_l2': 0.41545907837252144}. Best is trial 27 with value: 9.444008029145166.\n",
      "[I 2023-11-01 17:24:46,218] Trial 37 finished with value: 9.473256661412396 and parameters: {'objective': 'regression', 'max_depth': 7, 'n_estimators': 504, 'learning_rate': 0.0867702039209995, 'num_leaves': 40, 'feature_fraction': 0.8765056982556093, 'bagging_fraction': 0.8949299689507978, 'lambda_l1': 0.49205370200621357, 'lambda_l2': 0.4313311559673688}. Best is trial 27 with value: 9.444008029145166.\n",
      "[I 2023-11-01 17:25:11,029] Trial 39 finished with value: 9.476436895914354 and parameters: {'objective': 'regression', 'max_depth': 7, 'n_estimators': 425, 'learning_rate': 0.08124073857277682, 'num_leaves': 40, 'feature_fraction': 0.9914950704087027, 'bagging_fraction': 0.7672182281746522, 'lambda_l1': 0.5254087202799183, 'lambda_l2': 0.41078407704926645}. Best is trial 27 with value: 9.444008029145166.\n",
      "[I 2023-11-01 17:25:25,466] Trial 40 finished with value: 9.51153015150592 and parameters: {'objective': 'regression', 'max_depth': 7, 'n_estimators': 431, 'learning_rate': 0.08194505906046672, 'num_leaves': 40, 'feature_fraction': 0.9889907137398706, 'bagging_fraction': 0.7610260253631531, 'lambda_l1': 0.5050593033144193, 'lambda_l2': 0.5506593734413905}. Best is trial 27 with value: 9.444008029145166.\n",
      "[I 2023-11-01 17:25:25,650] Trial 38 finished with value: 9.461709359959583 and parameters: {'objective': 'regression', 'max_depth': 7, 'n_estimators': 510, 'learning_rate': 0.08293632256431854, 'num_leaves': 40, 'feature_fraction': 0.9925199577420883, 'bagging_fraction': 0.7976061732861192, 'lambda_l1': 0.48985253490939373, 'lambda_l2': 0.43970472578091924}. Best is trial 27 with value: 9.444008029145166.\n",
      "[I 2023-11-01 17:26:02,140] Trial 41 finished with value: 9.47939472686972 and parameters: {'objective': 'regression', 'max_depth': 6, 'n_estimators': 416, 'learning_rate': 0.08167903794271819, 'num_leaves': 40, 'feature_fraction': 0.9846025788119505, 'bagging_fraction': 0.4039741460219656, 'lambda_l1': 0.48812816536619563, 'lambda_l2': 0.5540683616851777}. Best is trial 27 with value: 9.444008029145166.\n",
      "[I 2023-11-01 17:26:40,451] Trial 42 finished with value: 9.450996758744962 and parameters: {'objective': 'regression', 'max_depth': 6, 'n_estimators': 548, 'learning_rate': 0.09654867005828163, 'num_leaves': 44, 'feature_fraction': 0.8618964049623673, 'bagging_fraction': 6.921709719012736e-05, 'lambda_l1': 0.49416883044078075, 'lambda_l2': 0.5233860956781464}. Best is trial 27 with value: 9.444008029145166.\n",
      "[I 2023-11-01 17:26:50,572] Trial 44 finished with value: 9.453846681174381 and parameters: {'objective': 'regression', 'max_depth': 6, 'n_estimators': 551, 'learning_rate': 0.09657625601365294, 'num_leaves': 39, 'feature_fraction': 0.8643971008698694, 'bagging_fraction': 0.8543144482007204, 'lambda_l1': 0.47339896770518725, 'lambda_l2': 0.5434235734571674}. Best is trial 27 with value: 9.444008029145166.\n",
      "[I 2023-11-01 17:27:03,931] Trial 43 finished with value: 9.843972309621746 and parameters: {'objective': 'regression', 'max_depth': 9, 'n_estimators': 555, 'learning_rate': 0.09646985362532211, 'num_leaves': 44, 'feature_fraction': 0.48752398082880666, 'bagging_fraction': 0.388120846246123, 'lambda_l1': 0.40897526353695873, 'lambda_l2': 0.27072919751770685}. Best is trial 27 with value: 9.444008029145166.\n",
      "[I 2023-11-01 17:27:43,373] Trial 47 finished with value: 9.582452971575394 and parameters: {'objective': 'regression', 'max_depth': 4, 'n_estimators': 559, 'learning_rate': 0.09953549157285602, 'num_leaves': 47, 'feature_fraction': 0.9415402862902926, 'bagging_fraction': 0.03533749140929904, 'lambda_l1': 0.3875067890675428, 'lambda_l2': 0.5073279470423866}. Best is trial 27 with value: 9.444008029145166.\n",
      "[I 2023-11-01 17:27:55,976] Trial 48 finished with value: 9.56965841976971 and parameters: {'objective': 'regression', 'max_depth': 4, 'n_estimators': 555, 'learning_rate': 0.09979908526726493, 'num_leaves': 43, 'feature_fraction': 0.7649268601028019, 'bagging_fraction': 0.0003577607227580326, 'lambda_l1': 0.40748814180691484, 'lambda_l2': 0.5208587275116425}. Best is trial 27 with value: 9.444008029145166.\n",
      "[I 2023-11-01 17:28:04,721] Trial 45 finished with value: 9.393541992724039 and parameters: {'objective': 'regression', 'max_depth': 9, 'n_estimators': 563, 'learning_rate': 0.09999035126266356, 'num_leaves': 44, 'feature_fraction': 0.8632609998541577, 'bagging_fraction': 0.726310845606191, 'lambda_l1': 0.3831278615173321, 'lambda_l2': 0.5129630087170781}. Best is trial 45 with value: 9.393541992724039.\n",
      "[I 2023-11-01 17:28:14,428] Trial 46 finished with value: 9.461417371175825 and parameters: {'objective': 'regression', 'max_depth': 6, 'n_estimators': 553, 'learning_rate': 0.09976013179634217, 'num_leaves': 44, 'feature_fraction': 0.7798724681793566, 'bagging_fraction': 0.08250970568691669, 'lambda_l1': 0.3982901999820153, 'lambda_l2': 0.5059164628454348}. Best is trial 45 with value: 9.393541992724039.\n",
      "[I 2023-11-01 17:29:07,092] Trial 49 finished with value: 9.944964799657756 and parameters: {'objective': 'regression_l1', 'max_depth': 6, 'n_estimators': 466, 'learning_rate': 0.09432510206184713, 'num_leaves': 44, 'feature_fraction': 0.8575888543332443, 'bagging_fraction': 0.09332198021213459, 'lambda_l1': 0.5728195971803711, 'lambda_l2': 0.5227464541904561}. Best is trial 45 with value: 9.393541992724039.\n",
      "[I 2023-11-01 17:29:14,818] Trial 50 finished with value: 9.881239792021212 and parameters: {'objective': 'regression_l1', 'max_depth': 6, 'n_estimators': 465, 'learning_rate': 0.09412017428517597, 'num_leaves': 37, 'feature_fraction': 0.8646718017177146, 'bagging_fraction': 0.0678507814892696, 'lambda_l1': 0.6250246208293203, 'lambda_l2': 0.6508362262106024}. Best is trial 45 with value: 9.393541992724039.\n",
      "[I 2023-11-01 17:29:52,519] Trial 51 finished with value: 9.815861360869185 and parameters: {'objective': 'regression_l1', 'max_depth': 9, 'n_estimators': 468, 'learning_rate': 0.09478264348590595, 'num_leaves': 47, 'feature_fraction': 0.7743169413993034, 'bagging_fraction': 0.10433976049081738, 'lambda_l1': 0.5570334780065918, 'lambda_l2': 0.47775894279379966}. Best is trial 45 with value: 9.393541992724039.\n",
      "[I 2023-11-01 17:30:27,748] Trial 52 finished with value: 9.853640622299086 and parameters: {'objective': 'regression_l1', 'max_depth': 8, 'n_estimators': 574, 'learning_rate': 0.09414948153556811, 'num_leaves': 47, 'feature_fraction': 0.9414501821144864, 'bagging_fraction': 0.07013388045734698, 'lambda_l1': 0.5686280357439956, 'lambda_l2': 0.655699411061482}. Best is trial 45 with value: 9.393541992724039.\n",
      "[I 2023-11-01 17:31:12,550] Trial 55 finished with value: 9.521104889625523 and parameters: {'objective': 'regression', 'max_depth': 5, 'n_estimators': 580, 'learning_rate': 0.08789640767515562, 'num_leaves': 41, 'feature_fraction': 0.8520393555101985, 'bagging_fraction': 0.3070680724445347, 'lambda_l1': 0.47359249885354393, 'lambda_l2': 0.5635402076014353}. Best is trial 45 with value: 9.393541992724039.\n",
      "[I 2023-11-01 17:31:18,027] Trial 54 finished with value: 9.453844087831673 and parameters: {'objective': 'regression', 'max_depth': 8, 'n_estimators': 567, 'learning_rate': 0.0886740322084067, 'num_leaves': 41, 'feature_fraction': 0.947118008226571, 'bagging_fraction': 0.1755478918988999, 'lambda_l1': 0.4542122895025073, 'lambda_l2': 0.5658691023426924}. Best is trial 45 with value: 9.393541992724039.\n",
      "[I 2023-11-01 17:31:37,718] Trial 53 finished with value: 9.82766677427467 and parameters: {'objective': 'regression_l1', 'max_depth': 9, 'n_estimators': 574, 'learning_rate': 0.08670999904955665, 'num_leaves': 47, 'feature_fraction': 0.94722080897363, 'bagging_fraction': 0.30594832379648024, 'lambda_l1': 0.45366369292787534, 'lambda_l2': 0.6506712957106637}. Best is trial 45 with value: 9.393541992724039.\n",
      "[I 2023-11-01 17:31:48,391] Trial 56 finished with value: 9.489996891782694 and parameters: {'objective': 'regression', 'max_depth': 5, 'n_estimators': 575, 'learning_rate': 0.08929313058435905, 'num_leaves': 41, 'feature_fraction': 0.8569921547405608, 'bagging_fraction': 0.19769299848204547, 'lambda_l1': 0.46871617767298823, 'lambda_l2': 0.5543561136541584}. Best is trial 45 with value: 9.393541992724039.\n",
      "[I 2023-11-01 17:32:59,796] Trial 57 finished with value: 9.503698068017771 and parameters: {'objective': 'regression', 'max_depth': 11, 'n_estimators': 513, 'learning_rate': 0.08919120454026466, 'num_leaves': 39, 'feature_fraction': 0.9217717438474811, 'bagging_fraction': 0.19410789576323723, 'lambda_l1': 0.45322835682887086, 'lambda_l2': 0.5642134538627892}. Best is trial 45 with value: 9.393541992724039.\n",
      "[I 2023-11-01 17:33:13,882] Trial 58 finished with value: 9.462660916547616 and parameters: {'objective': 'regression', 'max_depth': 9, 'n_estimators': 518, 'learning_rate': 0.0879295398845659, 'num_leaves': 46, 'feature_fraction': 0.9474287102608856, 'bagging_fraction': 0.19687264970885587, 'lambda_l1': 0.4381140613338379, 'lambda_l2': 0.6983800006376212}. Best is trial 45 with value: 9.393541992724039.\n",
      "[I 2023-11-01 17:33:37,255] Trial 60 finished with value: 9.652324286777084 and parameters: {'objective': 'regression', 'max_depth': 8, 'n_estimators': 599, 'learning_rate': 0.0905672241294876, 'num_leaves': 43, 'feature_fraction': 0.6998498452804318, 'bagging_fraction': 0.1497749017915272, 'lambda_l1': 0.5275048857131186, 'lambda_l2': 0.4852529611163552}. Best is trial 45 with value: 9.393541992724039.\n",
      "[I 2023-11-01 17:33:42,155] Trial 59 finished with value: 9.513338243538968 and parameters: {'objective': 'regression', 'max_depth': 11, 'n_estimators': 596, 'learning_rate': 0.08988771447692301, 'num_leaves': 43, 'feature_fraction': 0.9271834782149985, 'bagging_fraction': 0.17927739998943265, 'lambda_l1': 0.37024217326635955, 'lambda_l2': 0.7097660411332939}. Best is trial 45 with value: 9.393541992724039.\n",
      "[I 2023-11-01 17:34:45,608] Trial 61 finished with value: 9.645913015455873 and parameters: {'objective': 'regression', 'max_depth': 8, 'n_estimators': 598, 'learning_rate': 0.08545662906050808, 'num_leaves': 43, 'feature_fraction': 0.6734193357785524, 'bagging_fraction': 0.1552742208385536, 'lambda_l1': 0.5241752781716779, 'lambda_l2': 0.7215840504339759}. Best is trial 45 with value: 9.393541992724039.\n",
      "[I 2023-11-01 17:35:00,993] Trial 62 finished with value: 9.606065142313225 and parameters: {'objective': 'regression', 'max_depth': 8, 'n_estimators': 596, 'learning_rate': 0.08455984863804256, 'num_leaves': 43, 'feature_fraction': 0.6909426331483313, 'bagging_fraction': 0.14037085045245365, 'lambda_l1': 0.5276557623650006, 'lambda_l2': 0.6056897717730582}. Best is trial 45 with value: 9.393541992724039.\n",
      "[I 2023-11-01 17:35:05,102] Trial 64 finished with value: 9.468456132566127 and parameters: {'objective': 'regression', 'max_depth': 6, 'n_estimators': 536, 'learning_rate': 0.09697322424941135, 'num_leaves': 39, 'feature_fraction': 0.8144040572227257, 'bagging_fraction': 0.14264082331047823, 'lambda_l1': 0.5217917098876472, 'lambda_l2': 0.6231867118754699}. Best is trial 45 with value: 9.393541992724039.\n",
      "[I 2023-11-01 17:35:16,843] Trial 63 finished with value: 9.492360872101388 and parameters: {'objective': 'regression', 'max_depth': 8, 'n_estimators': 536, 'learning_rate': 0.08495241870864235, 'num_leaves': 42, 'feature_fraction': 0.793703322883407, 'bagging_fraction': 0.13869855516002116, 'lambda_l1': 0.6285273839353422, 'lambda_l2': 0.6004288608056083}. Best is trial 45 with value: 9.393541992724039.\n",
      "[I 2023-11-01 17:36:11,887] Trial 65 finished with value: 9.520296438964339 and parameters: {'objective': 'regression', 'max_depth': 6, 'n_estimators': 539, 'learning_rate': 0.09645133928599778, 'num_leaves': 39, 'feature_fraction': 0.8012049968702221, 'bagging_fraction': 0.13745260343863486, 'lambda_l1': 0.6297519784000739, 'lambda_l2': 0.6165116495099131}. Best is trial 45 with value: 9.393541992724039.\n",
      "[I 2023-11-01 17:36:27,799] Trial 66 finished with value: 9.495921134267041 and parameters: {'objective': 'regression', 'max_depth': 6, 'n_estimators': 535, 'learning_rate': 0.09564647612244567, 'num_leaves': 39, 'feature_fraction': 0.814474481503225, 'bagging_fraction': 0.12352341782471823, 'lambda_l1': 0.625343153294707, 'lambda_l2': 0.6222839181467021}. Best is trial 45 with value: 9.393541992724039.\n",
      "[I 2023-11-01 17:36:30,668] Trial 67 finished with value: 9.424843303729867 and parameters: {'objective': 'regression', 'max_depth': 6, 'n_estimators': 540, 'learning_rate': 0.0956818430815154, 'num_leaves': 37, 'feature_fraction': 0.8440021025214162, 'bagging_fraction': 0.27765519376620923, 'lambda_l1': 0.6285271919161055, 'lambda_l2': 0.5311008658212226}. Best is trial 45 with value: 9.393541992724039.\n",
      "[I 2023-11-01 17:36:56,699] Trial 68 finished with value: 9.481347216429018 and parameters: {'objective': 'regression', 'max_depth': 7, 'n_estimators': 542, 'learning_rate': 0.09648011714805778, 'num_leaves': 41, 'feature_fraction': 0.8364566306591683, 'bagging_fraction': 0.2693033298032262, 'lambda_l1': 0.4188058570198562, 'lambda_l2': 0.5275595703693986}. Best is trial 45 with value: 9.393541992724039.\n",
      "[I 2023-11-01 17:37:39,557] Trial 72 finished with value: 9.67893775285149 and parameters: {'objective': 'regression', 'max_depth': 7, 'n_estimators': 200, 'learning_rate': 0.07929897970101585, 'num_leaves': 37, 'feature_fraction': 0.8759120656547068, 'bagging_fraction': 0.23013740829853016, 'lambda_l1': 0.5856792528255926, 'lambda_l2': 0.4849579144796917}. Best is trial 45 with value: 9.393541992724039.\n",
      "[I 2023-11-01 17:37:49,139] Trial 69 finished with value: 9.506069987940641 and parameters: {'objective': 'regression', 'max_depth': 7, 'n_estimators': 544, 'learning_rate': 0.0918627556006015, 'num_leaves': 37, 'feature_fraction': 0.8457818818423823, 'bagging_fraction': 0.0016945728306840546, 'lambda_l1': 0.33254443186306054, 'lambda_l2': 0.5201965205950884}. Best is trial 45 with value: 9.393541992724039.\n",
      "[I 2023-11-01 17:38:02,172] Trial 71 finished with value: 9.479800454034567 and parameters: {'objective': 'regression', 'max_depth': 7, 'n_estimators': 518, 'learning_rate': 0.07809754906153259, 'num_leaves': 36, 'feature_fraction': 0.8363869615788654, 'bagging_fraction': 0.2542212648223165, 'lambda_l1': 0.5913121481959526, 'lambda_l2': 0.48245238582710764}. Best is trial 45 with value: 9.393541992724039.\n",
      "[I 2023-11-01 17:38:07,751] Trial 70 finished with value: 9.456783691343432 and parameters: {'objective': 'regression', 'max_depth': 7, 'n_estimators': 563, 'learning_rate': 0.09230784758777136, 'num_leaves': 37, 'feature_fraction': 0.8785396197297283, 'bagging_fraction': 0.2752333712103304, 'lambda_l1': 0.42147622821001707, 'lambda_l2': 0.5175865958164512}. Best is trial 45 with value: 9.393541992724039.\n",
      "[I 2023-11-01 17:39:01,412] Trial 73 finished with value: 9.602418845062449 and parameters: {'objective': 'regression', 'max_depth': 10, 'n_estimators': 393, 'learning_rate': 0.09121714306254712, 'num_leaves': 35, 'feature_fraction': 0.9614240668773504, 'bagging_fraction': 0.00977217289202889, 'lambda_l1': 0.3054861403161837, 'lambda_l2': 0.46036944943596664}. Best is trial 45 with value: 9.393541992724039.\n",
      "[I 2023-11-01 17:39:14,928] Trial 74 finished with value: 9.486887533762173 and parameters: {'objective': 'regression', 'max_depth': 6, 'n_estimators': 522, 'learning_rate': 0.09278511793665832, 'num_leaves': 35, 'feature_fraction': 0.8834471724060362, 'bagging_fraction': 0.2853065556601297, 'lambda_l1': 0.5569047712033144, 'lambda_l2': 0.46277264838188814}. Best is trial 45 with value: 9.393541992724039.\n",
      "[I 2023-11-01 17:39:35,547] Trial 75 finished with value: 9.432676212880803 and parameters: {'objective': 'regression', 'max_depth': 6, 'n_estimators': 565, 'learning_rate': 0.09245958464997603, 'num_leaves': 35, 'feature_fraction': 0.8855617888237215, 'bagging_fraction': 0.21617711982491822, 'lambda_l1': 0.5485843734268467, 'lambda_l2': 0.579423294360246}. Best is trial 45 with value: 9.393541992724039.\n",
      "[I 2023-11-01 17:39:42,857] Trial 76 finished with value: 9.478891896518542 and parameters: {'objective': 'regression', 'max_depth': 6, 'n_estimators': 568, 'learning_rate': 0.0975419036658102, 'num_leaves': 35, 'feature_fraction': 0.9052215560953795, 'bagging_fraction': 0.22187272971439814, 'lambda_l1': 0.5448910285661438, 'lambda_l2': 0.4561329473590811}. Best is trial 45 with value: 9.393541992724039.\n",
      "[I 2023-11-01 17:40:38,665] Trial 78 finished with value: 9.511142314816789 and parameters: {'objective': 'regression', 'max_depth': 5, 'n_estimators': 564, 'learning_rate': 0.09770209963133279, 'num_leaves': 38, 'feature_fraction': 0.9086535535741078, 'bagging_fraction': 0.23018168201879247, 'lambda_l1': 0.48606567085744734, 'lambda_l2': 0.5653631360945964}. Best is trial 45 with value: 9.393541992724039.\n",
      "[I 2023-11-01 17:40:43,959] Trial 77 finished with value: 9.495444042769654 and parameters: {'objective': 'regression', 'max_depth': 6, 'n_estimators': 527, 'learning_rate': 0.0971452670879701, 'num_leaves': 38, 'feature_fraction': 0.9145904906824356, 'bagging_fraction': 0.3668308032159149, 'lambda_l1': 0.5488346826445727, 'lambda_l2': 0.5760159716737294}. Best is trial 45 with value: 9.393541992724039.\n",
      "[I 2023-11-01 17:40:58,711] Trial 80 finished with value: 9.546733124942886 and parameters: {'objective': 'regression', 'max_depth': 5, 'n_estimators': 476, 'learning_rate': 0.07512800694993137, 'num_leaves': 32, 'feature_fraction': 0.9178052257333544, 'bagging_fraction': 0.3556979170006609, 'lambda_l1': 0.49885601386056305, 'lambda_l2': 0.5861611732907247}. Best is trial 45 with value: 9.393541992724039.\n",
      "[I 2023-11-01 17:41:02,113] Trial 79 finished with value: 9.469062382545628 and parameters: {'objective': 'regression', 'max_depth': 5, 'n_estimators': 570, 'learning_rate': 0.08365521444289684, 'num_leaves': 38, 'feature_fraction': 0.9159098744740253, 'bagging_fraction': 0.21736410498379724, 'lambda_l1': 0.49455331769813393, 'lambda_l2': 0.561697697066728}. Best is trial 45 with value: 9.393541992724039.\n",
      "[I 2023-11-01 17:41:54,524] Trial 82 finished with value: 9.526844023285866 and parameters: {'objective': 'regression', 'max_depth': 5, 'n_estimators': 497, 'learning_rate': 0.07436830759690306, 'num_leaves': 45, 'feature_fraction': 0.9542591857703134, 'bagging_fraction': 0.323516817069023, 'lambda_l1': 0.6846023928023234, 'lambda_l2': 0.39545109511996157}. Best is trial 45 with value: 9.393541992724039.\n",
      "[I 2023-11-01 17:42:25,016] Trial 83 finished with value: 9.466122649417018 and parameters: {'objective': 'regression', 'max_depth': 6, 'n_estimators': 447, 'learning_rate': 0.0835277669433846, 'num_leaves': 46, 'feature_fraction': 0.9663150190902389, 'bagging_fraction': 0.05327362080994722, 'lambda_l1': 0.6883387012998654, 'lambda_l2': 0.40829353738025703}. Best is trial 45 with value: 9.393541992724039.\n",
      "[I 2023-11-01 17:42:42,967] Trial 81 finished with value: 9.476599034234452 and parameters: {'objective': 'regression', 'max_depth': 9, 'n_estimators': 497, 'learning_rate': 0.07520375123667672, 'num_leaves': 45, 'feature_fraction': 0.9627093248659395, 'bagging_fraction': 0.3768092715017686, 'lambda_l1': 0.7006475046377457, 'lambda_l2': 0.40590433264879366}. Best is trial 45 with value: 9.393541992724039.\n",
      "[I 2023-11-01 17:42:43,382] Trial 84 finished with value: 9.468146024105119 and parameters: {'objective': 'regression', 'max_depth': 6, 'n_estimators': 549, 'learning_rate': 0.09387645245759384, 'num_leaves': 45, 'feature_fraction': 0.9615015058649818, 'bagging_fraction': 0.04923964966514172, 'lambda_l1': 0.36515982390611257, 'lambda_l2': 0.5397810560415649}. Best is trial 45 with value: 9.393541992724039.\n",
      "[I 2023-11-01 17:43:25,396] Trial 85 finished with value: 9.462700752129766 and parameters: {'objective': 'regression', 'max_depth': 6, 'n_estimators': 548, 'learning_rate': 0.09403150571570473, 'num_leaves': 42, 'feature_fraction': 0.7619590585666105, 'bagging_fraction': 0.05209338647524728, 'lambda_l1': 0.3772571576214304, 'lambda_l2': 0.5385077908331033}. Best is trial 45 with value: 9.393541992724039.\n",
      "[I 2023-11-01 17:43:51,741] Trial 86 finished with value: 9.411263970131033 and parameters: {'objective': 'regression', 'max_depth': 6, 'n_estimators': 548, 'learning_rate': 0.08682785615284667, 'num_leaves': 40, 'feature_fraction': 0.7650377930729901, 'bagging_fraction': 0.1666727930401619, 'lambda_l1': 0.37319210355369975, 'lambda_l2': 0.5366612850158602}. Best is trial 45 with value: 9.393541992724039.\n",
      "[I 2023-11-01 17:44:09,215] Trial 87 finished with value: 9.487368869947124 and parameters: {'objective': 'regression', 'max_depth': 6, 'n_estimators': 551, 'learning_rate': 0.0940994724075455, 'num_leaves': 42, 'feature_fraction': 0.769881271968311, 'bagging_fraction': 0.170257399205917, 'lambda_l1': 0.46491842160013463, 'lambda_l2': 0.5352715684604697}. Best is trial 45 with value: 9.393541992724039.\n",
      "[I 2023-11-01 17:44:22,827] Trial 88 finished with value: 9.452005186157075 and parameters: {'objective': 'regression', 'max_depth': 7, 'n_estimators': 581, 'learning_rate': 0.08699969970317849, 'num_leaves': 41, 'feature_fraction': 0.7517802464283319, 'bagging_fraction': 0.18013680432607565, 'lambda_l1': 0.4580274764368216, 'lambda_l2': 0.6736020338616462}. Best is trial 45 with value: 9.393541992724039.\n",
      "[I 2023-11-01 17:45:18,081] Trial 89 finished with value: 9.476086467803174 and parameters: {'objective': 'regression', 'max_depth': 7, 'n_estimators': 585, 'learning_rate': 0.0872028805962753, 'num_leaves': 44, 'feature_fraction': 0.860528670907115, 'bagging_fraction': 0.11350841454379496, 'lambda_l1': 0.5746578902111038, 'lambda_l2': 0.5025306636488587}. Best is trial 45 with value: 9.393541992724039.\n",
      "[I 2023-11-01 17:45:37,439] Trial 90 finished with value: 9.458317220559826 and parameters: {'objective': 'regression', 'max_depth': 7, 'n_estimators': 583, 'learning_rate': 0.08707176444208062, 'num_leaves': 41, 'feature_fraction': 0.7888793479476288, 'bagging_fraction': 0.1721261060403133, 'lambda_l1': 0.6022856323849133, 'lambda_l2': 0.6673338853870321}. Best is trial 45 with value: 9.393541992724039.\n",
      "[I 2023-11-01 17:45:43,657] Trial 91 finished with value: 9.480912585573956 and parameters: {'objective': 'regression', 'max_depth': 7, 'n_estimators': 508, 'learning_rate': 0.08669975035437995, 'num_leaves': 41, 'feature_fraction': 0.8206605693567495, 'bagging_fraction': 0.10712378163389491, 'lambda_l1': 0.5785562839015277, 'lambda_l2': 0.5042413563719307}. Best is trial 45 with value: 9.393541992724039.\n",
      "[I 2023-11-01 17:46:03,141] Trial 92 finished with value: 9.46306889348057 and parameters: {'objective': 'regression', 'max_depth': 7, 'n_estimators': 583, 'learning_rate': 0.08097898862854928, 'num_leaves': 36, 'feature_fraction': 0.8259431307339036, 'bagging_fraction': 0.11015325321104714, 'lambda_l1': 0.5923375155267289, 'lambda_l2': 0.670025912173154}. Best is trial 45 with value: 9.393541992724039.\n",
      "[I 2023-11-01 17:46:46,362] Trial 93 finished with value: 9.472848745654288 and parameters: {'objective': 'regression', 'max_depth': 7, 'n_estimators': 529, 'learning_rate': 0.09956812875504588, 'num_leaves': 36, 'feature_fraction': 0.7439465481467394, 'bagging_fraction': 0.24767601623644273, 'lambda_l1': 0.6075994832966951, 'lambda_l2': 0.6772274202595625}. Best is trial 45 with value: 9.393541992724039.\n",
      "[I 2023-11-01 17:47:16,357] Trial 95 finished with value: 9.51938011030832 and parameters: {'objective': 'regression', 'max_depth': 6, 'n_estimators': 567, 'learning_rate': 0.08172407705457768, 'num_leaves': 40, 'feature_fraction': 0.8831284637951444, 'bagging_fraction': 0.20746536619517197, 'lambda_l1': 0.42317030658843485, 'lambda_l2': 0.6358916256547466}. Best is trial 45 with value: 9.393541992724039.\n",
      "[I 2023-11-01 17:47:16,733] Trial 94 finished with value: 9.487864979046527 and parameters: {'objective': 'regression', 'max_depth': 8, 'n_estimators': 527, 'learning_rate': 0.08998513932919283, 'num_leaves': 41, 'feature_fraction': 0.7263200879553423, 'bagging_fraction': 0.20542091904912904, 'lambda_l1': 0.43951326562144005, 'lambda_l2': 0.5887396214133858}. Best is trial 45 with value: 9.393541992724039.\n",
      "[I 2023-11-01 17:47:31,362] Trial 96 finished with value: 9.481477011941596 and parameters: {'objective': 'regression', 'max_depth': 6, 'n_estimators': 558, 'learning_rate': 0.08978830576087514, 'num_leaves': 40, 'feature_fraction': 0.722611658885316, 'bagging_fraction': 0.2073963905286923, 'lambda_l1': 0.42736696456680945, 'lambda_l2': 0.6331614274093134}. Best is trial 45 with value: 9.393541992724039.\n",
      "[I 2023-11-01 17:48:06,262] Trial 100 finished with value: 9.665528871269643 and parameters: {'objective': 'regression', 'max_depth': 5, 'n_estimators': 268, 'learning_rate': 0.08522741335986375, 'num_leaves': 34, 'feature_fraction': 0.844491836638962, 'bagging_fraction': 0.18104115530210252, 'lambda_l1': 0.5080269761606763, 'lambda_l2': 0.5850687603799596}. Best is trial 45 with value: 9.393541992724039.\n",
      "[I 2023-11-01 17:48:35,881] Trial 97 finished with value: 9.51904340564401 and parameters: {'objective': 'regression', 'max_depth': 8, 'n_estimators': 562, 'learning_rate': 0.09041258778910731, 'num_leaves': 40, 'feature_fraction': 0.8755742726935841, 'bagging_fraction': 0.21797279021693095, 'lambda_l1': 0.44568496185170914, 'lambda_l2': 0.5888766119341743}. Best is trial 45 with value: 9.393541992724039.\n",
      "[I 2023-11-01 17:48:45,979] Trial 99 finished with value: 9.48028118154978 and parameters: {'objective': 'regression', 'max_depth': 6, 'n_estimators': 557, 'learning_rate': 0.08914866753550742, 'num_leaves': 40, 'feature_fraction': 0.841847964966832, 'bagging_fraction': 0.1812672705611715, 'lambda_l1': 0.38936761777131346, 'lambda_l2': 0.6357627604957542}. Best is trial 45 with value: 9.393541992724039.\n",
      "[I 2023-11-01 17:49:02,073] Trial 98 finished with value: 9.505630266226955 and parameters: {'objective': 'regression', 'max_depth': 8, 'n_estimators': 589, 'learning_rate': 0.09162519573964248, 'num_leaves': 40, 'feature_fraction': 0.7204321922437302, 'bagging_fraction': 0.1869989003632465, 'lambda_l1': 0.3966901728388841, 'lambda_l2': 0.5929656458204452}. Best is trial 45 with value: 9.393541992724039.\n",
      "[I 2023-11-01 17:49:56,285] Trial 102 finished with value: 9.901786140690682 and parameters: {'objective': 'regression_l1', 'max_depth': 6, 'n_estimators': 476, 'learning_rate': 0.0881870308122375, 'num_leaves': 42, 'feature_fraction': 0.8000541909890861, 'bagging_fraction': 0.2658015176298156, 'lambda_l1': 0.40231119229033857, 'lambda_l2': 0.7478345948552616}. Best is trial 45 with value: 9.393541992724039.\n",
      "[I 2023-11-01 17:50:10,029] Trial 101 finished with value: 9.783368056048868 and parameters: {'objective': 'regression_l1', 'max_depth': 8, 'n_estimators': 591, 'learning_rate': 0.09175974998268001, 'num_leaves': 42, 'feature_fraction': 0.7948890117047922, 'bagging_fraction': 0.24644665612377484, 'lambda_l1': 0.35150002994283236, 'lambda_l2': 0.4354126024397302}. Best is trial 45 with value: 9.393541992724039.\n",
      "[I 2023-11-01 17:50:41,845] Trial 104 finished with value: 9.808083583591005 and parameters: {'objective': 'regression_l1', 'max_depth': 6, 'n_estimators': 578, 'learning_rate': 0.09226970802744006, 'num_leaves': 39, 'feature_fraction': 0.7931743324632855, 'bagging_fraction': 0.2901413416626214, 'lambda_l1': 0.4812652648694757, 'lambda_l2': 0.5371500036382083}. Best is trial 45 with value: 9.393541992724039.\n",
      "[I 2023-11-01 17:50:43,014] Trial 103 finished with value: 9.88584993529413 and parameters: {'objective': 'regression_l1', 'max_depth': 7, 'n_estimators': 590, 'learning_rate': 0.0920302919203827, 'num_leaves': 42, 'feature_fraction': 0.7987708357594498, 'bagging_fraction': 0.24508662522785313, 'lambda_l1': 0.6485943462251746, 'lambda_l2': 0.6089148214549858}. Best is trial 45 with value: 9.393541992724039.\n",
      "[I 2023-11-01 17:51:31,977] Trial 105 finished with value: 9.465304682204865 and parameters: {'objective': 'regression', 'max_depth': 6, 'n_estimators': 543, 'learning_rate': 0.09556279923632506, 'num_leaves': 39, 'feature_fraction': 0.8600285812109082, 'bagging_fraction': 0.08459605790874658, 'lambda_l1': 0.4768962767936462, 'lambda_l2': 0.4977369103135839}. Best is trial 45 with value: 9.393541992724039.\n",
      "[I 2023-11-01 17:51:49,202] Trial 106 finished with value: 9.528358631935419 and parameters: {'objective': 'regression', 'max_depth': 6, 'n_estimators': 548, 'learning_rate': 0.098854482803005, 'num_leaves': 39, 'feature_fraction': 0.9332045660219808, 'bagging_fraction': 0.15637899024094415, 'lambda_l1': 0.45799295403645707, 'lambda_l2': 0.5438310603513768}. Best is trial 45 with value: 9.393541992724039.\n",
      "[I 2023-11-01 17:51:56,568] Trial 107 finished with value: 9.483095775152613 and parameters: {'objective': 'regression', 'max_depth': 5, 'n_estimators': 546, 'learning_rate': 0.09536714244669062, 'num_leaves': 38, 'feature_fraction': 0.863840204862551, 'bagging_fraction': 0.08398300905392524, 'lambda_l1': 0.5115597253066055, 'lambda_l2': 0.5660995300447121}. Best is trial 45 with value: 9.393541992724039.\n",
      "[I 2023-11-01 17:51:57,642] Trial 108 finished with value: 9.490847093299495 and parameters: {'objective': 'regression', 'max_depth': 5, 'n_estimators': 541, 'learning_rate': 0.09539316718316226, 'num_leaves': 38, 'feature_fraction': 0.8611053316840379, 'bagging_fraction': 0.1258434987063409, 'lambda_l1': 0.5081293471067424, 'lambda_l2': 0.4896833340973658}. Best is trial 45 with value: 9.393541992724039.\n",
      "[I 2023-11-01 17:52:39,538] Trial 109 finished with value: 9.47368815543562 and parameters: {'objective': 'regression', 'max_depth': 5, 'n_estimators': 513, 'learning_rate': 0.09889979024723176, 'num_leaves': 38, 'feature_fraction': 0.927506829262246, 'bagging_fraction': 0.15547963762148465, 'lambda_l1': 0.5381880286736728, 'lambda_l2': 0.5468499353030871}. Best is trial 45 with value: 9.393541992724039.\n",
      "[I 2023-11-01 17:53:25,676] Trial 110 finished with value: 9.518344436383462 and parameters: {'objective': 'regression', 'max_depth': 9, 'n_estimators': 456, 'learning_rate': 0.09858057298190248, 'num_leaves': 41, 'feature_fraction': 0.8958162652511915, 'bagging_fraction': 0.3361598961795046, 'lambda_l1': 0.5130575838992145, 'lambda_l2': 0.5738410788034957}. Best is trial 45 with value: 9.393541992724039.\n",
      "[I 2023-11-01 17:53:35,445] Trial 112 finished with value: 9.465764753366173 and parameters: {'objective': 'regression', 'max_depth': 7, 'n_estimators': 513, 'learning_rate': 0.09843009404131237, 'num_leaves': 44, 'feature_fraction': 0.8389384993281223, 'bagging_fraction': 0.3216496409867403, 'lambda_l1': 0.5406551534470172, 'lambda_l2': 0.47412004417609904}. Best is trial 45 with value: 9.393541992724039.\n",
      "[I 2023-11-01 17:53:44,233] Trial 111 finished with value: 9.510792576129504 and parameters: {'objective': 'regression', 'max_depth': 7, 'n_estimators': 574, 'learning_rate': 0.09754773991525457, 'num_leaves': 41, 'feature_fraction': 0.8945600345498319, 'bagging_fraction': 0.3223794622507948, 'lambda_l1': 0.5404366192943062, 'lambda_l2': 0.482002846749683}. Best is trial 45 with value: 9.393541992724039.\n",
      "[I 2023-11-01 17:54:39,187] Trial 113 finished with value: 9.511279459514109 and parameters: {'objective': 'regression', 'max_depth': 9, 'n_estimators': 572, 'learning_rate': 0.08467628792940407, 'num_leaves': 41, 'feature_fraction': 0.8971083795185113, 'bagging_fraction': 0.336268148878717, 'lambda_l1': 0.5559187214540318, 'lambda_l2': 0.47268209478540013}. Best is trial 45 with value: 9.393541992724039.\n",
      "[I 2023-11-01 17:55:14,938] Trial 115 finished with value: 9.455969746288016 and parameters: {'objective': 'regression', 'max_depth': 7, 'n_estimators': 565, 'learning_rate': 0.08496149047579442, 'num_leaves': 37, 'feature_fraction': 0.8888018930339507, 'bagging_fraction': 0.023999765111633764, 'lambda_l1': 0.41275657790651293, 'lambda_l2': 0.5141110330732724}. Best is trial 45 with value: 9.393541992724039.\n",
      "[I 2023-11-01 17:55:21,296] Trial 114 finished with value: 9.484966846261086 and parameters: {'objective': 'regression', 'max_depth': 7, 'n_estimators': 569, 'learning_rate': 0.08567121728692162, 'num_leaves': 49, 'feature_fraction': 0.8888992359890685, 'bagging_fraction': 0.2767300397925381, 'lambda_l1': 0.41662117519856245, 'lambda_l2': 0.5196631730742601}. Best is trial 45 with value: 9.393541992724039.\n",
      "[I 2023-11-01 17:55:35,932] Trial 116 finished with value: 9.465381088892276 and parameters: {'objective': 'regression', 'max_depth': 7, 'n_estimators': 565, 'learning_rate': 0.08530477691253158, 'num_leaves': 48, 'feature_fraction': 0.8216978255663655, 'bagging_fraction': 0.27406800300681833, 'lambda_l1': 0.4303793108060025, 'lambda_l2': 0.5154024312427831}. Best is trial 45 with value: 9.393541992724039.\n",
      "[I 2023-11-01 17:56:19,626] Trial 117 finished with value: 9.48726764431814 and parameters: {'objective': 'regression', 'max_depth': 7, 'n_estimators': 564, 'learning_rate': 0.09339573771119603, 'num_leaves': 37, 'feature_fraction': 0.8240623500481038, 'bagging_fraction': 0.2953108348821819, 'lambda_l1': 0.4226737585467355, 'lambda_l2': 0.5195895192504729}. Best is trial 45 with value: 9.393541992724039.\n",
      "[I 2023-11-01 17:56:48,516] Trial 118 finished with value: 9.428209843024609 and parameters: {'objective': 'regression', 'max_depth': 6, 'n_estimators': 557, 'learning_rate': 0.08000314528532487, 'num_leaves': 37, 'feature_fraction': 0.8231418054116065, 'bagging_fraction': 0.022798165838553125, 'lambda_l1': 0.46076153239333506, 'lambda_l2': 0.5164112306005155}. Best is trial 45 with value: 9.393541992724039.\n",
      "[I 2023-11-01 17:56:56,358] Trial 119 finished with value: 9.520233589399014 and parameters: {'objective': 'regression', 'max_depth': 6, 'n_estimators': 555, 'learning_rate': 0.08720149884456178, 'num_leaves': 37, 'feature_fraction': 0.93713104154126, 'bagging_fraction': 0.7211347521177991, 'lambda_l1': 0.4607314477966896, 'lambda_l2': 0.6100452762721079}. Best is trial 45 with value: 9.393541992724039.\n",
      "[I 2023-11-01 17:57:07,475] Trial 120 finished with value: 9.543146397369572 and parameters: {'objective': 'regression', 'max_depth': 6, 'n_estimators': 532, 'learning_rate': 0.08021598881817221, 'num_leaves': 37, 'feature_fraction': 0.9344946201296461, 'bagging_fraction': 0.025889253853943237, 'lambda_l1': 0.471024286879654, 'lambda_l2': 0.6092487142699329}. Best is trial 45 with value: 9.393541992724039.\n",
      "[I 2023-11-01 17:58:05,168] Trial 121 finished with value: 9.581563093561126 and parameters: {'objective': 'regression', 'max_depth': 10, 'n_estimators': 530, 'learning_rate': 0.08865354760914161, 'num_leaves': 35, 'feature_fraction': 0.9372246396447221, 'bagging_fraction': 0.038176991283401886, 'lambda_l1': 0.4674632140735766, 'lambda_l2': 0.6091876332255479}. Best is trial 45 with value: 9.393541992724039.\n",
      "[I 2023-11-01 17:58:32,204] Trial 124 finished with value: 9.500152593986384 and parameters: {'objective': 'regression', 'max_depth': 6, 'n_estimators': 522, 'learning_rate': 0.07847530771153069, 'num_leaves': 43, 'feature_fraction': 0.7539694363062218, 'bagging_fraction': 0.028569281400457752, 'lambda_l1': 0.37272320235794304, 'lambda_l2': 0.5531604106348698}. Best is trial 45 with value: 9.393541992724039.\n",
      "[I 2023-11-01 17:58:32,414] Trial 123 finished with value: 9.489528216153811 and parameters: {'objective': 'regression', 'max_depth': 10, 'n_estimators': 524, 'learning_rate': 0.07873094578058137, 'num_leaves': 35, 'feature_fraction': 0.7665904574168785, 'bagging_fraction': 0.8357081307518124, 'lambda_l1': 0.48047897136990153, 'lambda_l2': 0.45093858900117423}. Best is trial 45 with value: 9.393541992724039.\n",
      "[I 2023-11-01 17:58:33,254] Trial 122 finished with value: 9.479886777100607 and parameters: {'objective': 'regression', 'max_depth': 10, 'n_estimators': 529, 'learning_rate': 0.0803021109092455, 'num_leaves': 39, 'feature_fraction': 0.7646039741686191, 'bagging_fraction': 0.1256894716831044, 'lambda_l1': 0.47148572342015316, 'lambda_l2': 0.6074048659037925}. Best is trial 45 with value: 9.393541992724039.\n",
      "[I 2023-11-01 17:59:26,420] Trial 127 finished with value: 9.554349919194115 and parameters: {'objective': 'regression', 'max_depth': 6, 'n_estimators': 317, 'learning_rate': 0.08163663416442263, 'num_leaves': 36, 'feature_fraction': 0.8697095801590934, 'bagging_fraction': 0.06300569456732916, 'lambda_l1': 0.44195353111387636, 'lambda_l2': 0.5751759402516149}. Best is trial 45 with value: 9.393541992724039.\n",
      "[I 2023-11-01 17:59:33,829] Trial 125 finished with value: 9.434843768346779 and parameters: {'objective': 'regression', 'max_depth': 6, 'n_estimators': 556, 'learning_rate': 0.07763292564511792, 'num_leaves': 36, 'feature_fraction': 0.7593576579478748, 'bagging_fraction': 0.02639422045542583, 'lambda_l1': 0.3798925749841918, 'lambda_l2': 0.44423271373942935}. Best is trial 45 with value: 9.393541992724039.\n",
      "[I 2023-11-01 17:59:46,964] Trial 128 finished with value: 9.46846566441236 and parameters: {'objective': 'regression', 'max_depth': 6, 'n_estimators': 438, 'learning_rate': 0.0830278788250427, 'num_leaves': 36, 'feature_fraction': 0.8765664370733482, 'bagging_fraction': 0.017059483361549665, 'lambda_l1': 0.44469493887464595, 'lambda_l2': 0.49632876430862366}. Best is trial 45 with value: 9.393541992724039.\n",
      "[I 2023-11-01 17:59:55,918] Trial 126 finished with value: 9.471326270308639 and parameters: {'objective': 'regression', 'max_depth': 6, 'n_estimators': 554, 'learning_rate': 0.08334527088315775, 'num_leaves': 30, 'feature_fraction': 0.8728494135238335, 'bagging_fraction': 0.06384086828274269, 'lambda_l1': 0.4399241680207371, 'lambda_l2': 0.44791177611430916}. Best is trial 45 with value: 9.393541992724039.\n",
      "[I 2023-11-01 18:00:41,400] Trial 129 finished with value: 9.472720182722389 and parameters: {'objective': 'regression', 'max_depth': 6, 'n_estimators': 437, 'learning_rate': 0.08286520350010684, 'num_leaves': 38, 'feature_fraction': 0.8507686750880898, 'bagging_fraction': 0.006656205933173398, 'lambda_l1': 0.3506435935183401, 'lambda_l2': 0.5009183980842746}. Best is trial 45 with value: 9.393541992724039.\n",
      "[I 2023-11-01 18:01:01,620] Trial 130 finished with value: 9.439314530494087 and parameters: {'objective': 'regression', 'max_depth': 6, 'n_estimators': 552, 'learning_rate': 0.08253086922965426, 'num_leaves': 34, 'feature_fraction': 0.8150324211094527, 'bagging_fraction': 0.07104557790292246, 'lambda_l1': 0.3446163797580575, 'lambda_l2': 0.4270220591775596}. Best is trial 45 with value: 9.393541992724039.\n",
      "[I 2023-11-01 18:01:14,437] Trial 131 finished with value: 9.461447904790772 and parameters: {'objective': 'regression', 'max_depth': 6, 'n_estimators': 557, 'learning_rate': 0.07762238599772042, 'num_leaves': 33, 'feature_fraction': 0.812658563744901, 'bagging_fraction': 0.0003756382471858924, 'lambda_l1': 0.3503188532535332, 'lambda_l2': 0.4319255619660676}. Best is trial 45 with value: 9.393541992724039.\n",
      "[I 2023-11-01 18:01:18,833] Trial 132 finished with value: 9.462846623619349 and parameters: {'objective': 'regression', 'max_depth': 6, 'n_estimators': 491, 'learning_rate': 0.07649896393007856, 'num_leaves': 38, 'feature_fraction': 0.8207203678162561, 'bagging_fraction': 0.08688183981217046, 'lambda_l1': 0.338124358979955, 'lambda_l2': 0.42644941071693776}. Best is trial 45 with value: 9.393541992724039.\n",
      "[I 2023-11-01 18:02:09,508] Trial 133 finished with value: 9.459442980693327 and parameters: {'objective': 'regression', 'max_depth': 6, 'n_estimators': 539, 'learning_rate': 0.07223728973930811, 'num_leaves': 36, 'feature_fraction': 0.7810631413295607, 'bagging_fraction': 0.10002049169211011, 'lambda_l1': 0.3285932837674298, 'lambda_l2': 0.4255227993059682}. Best is trial 45 with value: 9.393541992724039.\n",
      "[I 2023-11-01 18:02:25,318] Trial 134 finished with value: 9.450839460692166 and parameters: {'objective': 'regression', 'max_depth': 6, 'n_estimators': 540, 'learning_rate': 0.0771759750140923, 'num_leaves': 34, 'feature_fraction': 0.7806972961852106, 'bagging_fraction': 0.09914740672609387, 'lambda_l1': 0.3217036149324685, 'lambda_l2': 0.4336393806373292}. Best is trial 45 with value: 9.393541992724039.\n",
      "[I 2023-11-01 18:02:37,392] Trial 135 finished with value: 9.536841003893713 and parameters: {'objective': 'regression', 'max_depth': 6, 'n_estimators': 539, 'learning_rate': 0.07648437627211495, 'num_leaves': 33, 'feature_fraction': 0.7825975870462235, 'bagging_fraction': 0.0814529032536974, 'lambda_l1': 0.28947356627355736, 'lambda_l2': 0.3853435253315167}. Best is trial 45 with value: 9.393541992724039.\n",
      "[I 2023-11-01 18:02:43,194] Trial 136 finished with value: 9.443267893847452 and parameters: {'objective': 'regression', 'max_depth': 6, 'n_estimators': 539, 'learning_rate': 0.07330883454589357, 'num_leaves': 34, 'feature_fraction': 0.7819967172301792, 'bagging_fraction': 0.042884136599521214, 'lambda_l1': 0.3131729501049923, 'lambda_l2': 0.38384002440792286}. Best is trial 45 with value: 9.393541992724039.\n",
      "[I 2023-11-01 18:03:41,893] Trial 138 finished with value: 9.456333175195716 and parameters: {'objective': 'regression', 'max_depth': 5, 'n_estimators': 579, 'learning_rate': 0.07635344558342232, 'num_leaves': 34, 'feature_fraction': 0.7805064078827608, 'bagging_fraction': 0.0429642546887388, 'lambda_l1': 0.31946937144178184, 'lambda_l2': 0.3700614978171912}. Best is trial 45 with value: 9.393541992724039.\n",
      "[I 2023-11-01 18:03:44,080] Trial 137 finished with value: 9.483525592283092 and parameters: {'objective': 'regression', 'max_depth': 6, 'n_estimators': 579, 'learning_rate': 0.06884385306424878, 'num_leaves': 34, 'feature_fraction': 0.7490897813140877, 'bagging_fraction': 0.04285421771279962, 'lambda_l1': 0.3859339734296063, 'lambda_l2': 0.3744295959444518}. Best is trial 45 with value: 9.393541992724039.\n",
      "[I 2023-11-01 18:03:50,277] Trial 140 finished with value: 9.487934356856085 and parameters: {'objective': 'regression', 'max_depth': 5, 'n_estimators': 504, 'learning_rate': 0.06892544578016341, 'num_leaves': 34, 'feature_fraction': 0.7498715800977607, 'bagging_fraction': 0.0474986185245488, 'lambda_l1': 0.27329360539709535, 'lambda_l2': 0.36612373000152465}. Best is trial 45 with value: 9.393541992724039.\n",
      "[I 2023-11-01 18:03:52,149] Trial 139 finished with value: 9.513751679019602 and parameters: {'objective': 'regression', 'max_depth': 5, 'n_estimators': 580, 'learning_rate': 0.08034755745074004, 'num_leaves': 35, 'feature_fraction': 0.7430507145479313, 'bagging_fraction': 0.05942496152601365, 'lambda_l1': 0.38130003997166273, 'lambda_l2': 0.37278544732370494}. Best is trial 45 with value: 9.393541992724039.\n",
      "[I 2023-11-01 18:04:58,558] Trial 141 finished with value: 9.475286137616422 and parameters: {'objective': 'regression', 'max_depth': 6, 'n_estimators': 506, 'learning_rate': 0.07398447777471825, 'num_leaves': 34, 'feature_fraction': 0.748961740322802, 'bagging_fraction': 0.06304512964518025, 'lambda_l1': 0.30079212945088407, 'lambda_l2': 0.33778727889879145}. Best is trial 45 with value: 9.393541992724039.\n",
      "[I 2023-11-01 18:04:59,798] Trial 142 finished with value: 9.566457115368943 and parameters: {'objective': 'regression', 'max_depth': 6, 'n_estimators': 507, 'learning_rate': 0.07922127651432545, 'num_leaves': 33, 'feature_fraction': 0.7100969262451007, 'bagging_fraction': 0.07666424499958951, 'lambda_l1': 0.2859931477605081, 'lambda_l2': 0.33367379470478276}. Best is trial 45 with value: 9.393541992724039.\n",
      "[I 2023-11-01 18:05:09,669] Trial 143 finished with value: 9.604448801302643 and parameters: {'objective': 'regression', 'max_depth': 6, 'n_estimators': 552, 'learning_rate': 0.07856030873404833, 'num_leaves': 32, 'feature_fraction': 0.7038073604125598, 'bagging_fraction': 0.06824016324131771, 'lambda_l1': 0.36261422558805556, 'lambda_l2': 0.40132562210093264}. Best is trial 45 with value: 9.393541992724039.\n",
      "[I 2023-11-01 18:05:13,850] Trial 144 finished with value: 9.401870311384481 and parameters: {'objective': 'regression', 'max_depth': 6, 'n_estimators': 548, 'learning_rate': 0.07874721766739508, 'num_leaves': 32, 'feature_fraction': 0.8097511243565944, 'bagging_fraction': 0.19332599730341923, 'lambda_l1': 0.3082565456491135, 'lambda_l2': 0.327866604454051}. Best is trial 45 with value: 9.393541992724039.\n",
      "[I 2023-11-01 18:06:23,847] Trial 145 finished with value: 9.594203737286906 and parameters: {'objective': 'regression', 'max_depth': 6, 'n_estimators': 549, 'learning_rate': 0.07323566084892585, 'num_leaves': 35, 'feature_fraction': 0.7084616148325884, 'bagging_fraction': 0.2333880785158029, 'lambda_l1': 0.36213947824174253, 'lambda_l2': 0.40349052930688356}. Best is trial 45 with value: 9.393541992724039.\n",
      "[I 2023-11-01 18:06:24,799] Trial 146 finished with value: 9.395626374525445 and parameters: {'objective': 'regression', 'max_depth': 6, 'n_estimators': 548, 'learning_rate': 0.0735449497114271, 'num_leaves': 32, 'feature_fraction': 0.8363602629688504, 'bagging_fraction': 0.2266142136308315, 'lambda_l1': 0.3620565775648362, 'lambda_l2': 0.3970915076562897}. Best is trial 45 with value: 9.393541992724039.\n",
      "[I 2023-11-01 18:06:36,719] Trial 147 finished with value: 9.499603276048981 and parameters: {'objective': 'regression', 'max_depth': 6, 'n_estimators': 547, 'learning_rate': 0.0730828974727128, 'num_leaves': 34, 'feature_fraction': 0.8411307586197834, 'bagging_fraction': 0.1915463263055384, 'lambda_l1': 0.33980322469517066, 'lambda_l2': 0.46157364642083726}. Best is trial 45 with value: 9.393541992724039.\n",
      "[I 2023-11-01 18:06:38,856] Trial 148 finished with value: 9.492246057476818 and parameters: {'objective': 'regression', 'max_depth': 6, 'n_estimators': 547, 'learning_rate': 0.07397328370443339, 'num_leaves': 32, 'feature_fraction': 0.8065789431828068, 'bagging_fraction': 0.20494593057555566, 'lambda_l1': 0.30862327749895097, 'lambda_l2': 0.4171411366174079}. Best is trial 45 with value: 9.393541992724039.\n",
      "[I 2023-11-01 18:07:49,072] Trial 151 finished with value: 9.42964279145107 and parameters: {'objective': 'regression', 'max_depth': 5, 'n_estimators': 534, 'learning_rate': 0.07442594347472208, 'num_leaves': 32, 'feature_fraction': 0.8020657725970004, 'bagging_fraction': 0.21913156016031127, 'lambda_l1': 0.3165729937839154, 'lambda_l2': 0.4237223451491881}. Best is trial 45 with value: 9.393541992724039.\n",
      "[I 2023-11-01 18:07:50,755] Trial 149 finished with value: 9.407258912155944 and parameters: {'objective': 'regression', 'max_depth': 6, 'n_estimators': 536, 'learning_rate': 0.07546682322898804, 'num_leaves': 31, 'feature_fraction': 0.8462478287136951, 'bagging_fraction': 0.20217266956459018, 'lambda_l1': 0.32308911430202064, 'lambda_l2': 0.32164240078444484}. Best is trial 45 with value: 9.393541992724039.\n",
      "[I 2023-11-01 18:07:55,474] Trial 150 finished with value: 9.469453382148068 and parameters: {'objective': 'regression', 'max_depth': 6, 'n_estimators': 542, 'learning_rate': 0.07148441328540828, 'num_leaves': 33, 'feature_fraction': 0.8398743824193178, 'bagging_fraction': 0.20651935502663804, 'lambda_l1': 0.31442238315383547, 'lambda_l2': 0.31004052164129486}. Best is trial 45 with value: 9.393541992724039.\n",
      "[I 2023-11-01 18:08:07,285] Trial 152 finished with value: 9.40349578730648 and parameters: {'objective': 'regression', 'max_depth': 6, 'n_estimators': 537, 'learning_rate': 0.07032083773251113, 'num_leaves': 31, 'feature_fraction': 0.8312371312319949, 'bagging_fraction': 0.023153000365213037, 'lambda_l1': 0.3303695612789765, 'lambda_l2': 0.31884775659151726}. Best is trial 45 with value: 9.393541992724039.\n",
      "[I 2023-11-01 18:08:44,927] Trial 154 finished with value: 9.728700037760275 and parameters: {'objective': 'regression', 'max_depth': 4, 'n_estimators': 518, 'learning_rate': 0.0716103000941741, 'num_leaves': 31, 'feature_fraction': 0.8339023526421296, 'bagging_fraction': 0.22873251203863015, 'lambda_l1': 0.32583896188439143, 'lambda_l2': 0.3422362585456475}. Best is trial 45 with value: 9.393541992724039.\n",
      "[I 2023-11-01 18:08:50,778] Trial 155 finished with value: 9.6208663799067 and parameters: {'objective': 'regression', 'max_depth': 4, 'n_estimators': 518, 'learning_rate': 0.07533232005368229, 'num_leaves': 31, 'feature_fraction': 0.8066660706027164, 'bagging_fraction': 0.23530303947174014, 'lambda_l1': 0.2644814165488112, 'lambda_l2': 0.3855792874287451}. Best is trial 45 with value: 9.393541992724039.\n",
      "[I 2023-11-01 18:09:05,469] Trial 156 finished with value: 9.671341301855069 and parameters: {'objective': 'regression', 'max_depth': 4, 'n_estimators': 520, 'learning_rate': 0.07678265627091424, 'num_leaves': 31, 'feature_fraction': 0.8100106173695824, 'bagging_fraction': 0.25953061408353606, 'lambda_l1': 0.2672381114184758, 'lambda_l2': 0.3464666254930547}. Best is trial 45 with value: 9.393541992724039.\n",
      "[I 2023-11-01 18:09:12,985] Trial 153 finished with value: 9.495282178235831 and parameters: {'objective': 'regression', 'max_depth': 5, 'n_estimators': 535, 'learning_rate': 0.07095177878462106, 'num_leaves': 31, 'feature_fraction': 0.8313655726680038, 'bagging_fraction': 0.25764439147579427, 'lambda_l1': 0.26308748167734725, 'lambda_l2': 0.30562768917866734}. Best is trial 45 with value: 9.393541992724039.\n",
      "[I 2023-11-01 18:10:05,077] Trial 157 finished with value: 9.443070343467207 and parameters: {'objective': 'regression', 'max_depth': 5, 'n_estimators': 533, 'learning_rate': 0.07519847171654633, 'num_leaves': 31, 'feature_fraction': 0.808081565405543, 'bagging_fraction': 0.2532731509696581, 'lambda_l1': 0.2763179922770567, 'lambda_l2': 0.31010107519792063}. Best is trial 45 with value: 9.393541992724039.\n",
      "[I 2023-11-01 18:10:14,562] Trial 158 finished with value: 9.481670638023004 and parameters: {'objective': 'regression', 'max_depth': 5, 'n_estimators': 559, 'learning_rate': 0.07002627811126648, 'num_leaves': 30, 'feature_fraction': 0.8240698247436286, 'bagging_fraction': 0.25578946570259276, 'lambda_l1': 0.24329482140824588, 'lambda_l2': 0.29830691168535717}. Best is trial 45 with value: 9.393541992724039.\n",
      "[I 2023-11-01 18:10:27,161] Trial 159 finished with value: 9.52578136074103 and parameters: {'objective': 'regression', 'max_depth': 5, 'n_estimators': 559, 'learning_rate': 0.07065291174177522, 'num_leaves': 30, 'feature_fraction': 0.8260261219680661, 'bagging_fraction': 0.1605695235605657, 'lambda_l1': 0.34292648229166156, 'lambda_l2': 0.30258139567484577}. Best is trial 45 with value: 9.393541992724039.\n",
      "[I 2023-11-01 18:10:31,924] Trial 160 finished with value: 9.518311020750799 and parameters: {'objective': 'regression', 'max_depth': 5, 'n_estimators': 532, 'learning_rate': 0.06902837784595252, 'num_leaves': 30, 'feature_fraction': 0.8491490086544754, 'bagging_fraction': 0.14085540197867746, 'lambda_l1': 0.3455654654352393, 'lambda_l2': 0.39292549542935873}. Best is trial 45 with value: 9.393541992724039.\n",
      "[I 2023-11-01 18:11:19,956] Trial 161 finished with value: 9.444414426927434 and parameters: {'objective': 'regression', 'max_depth': 5, 'n_estimators': 558, 'learning_rate': 0.07462133443080254, 'num_leaves': 30, 'feature_fraction': 0.7930625538252455, 'bagging_fraction': 0.43575932244936455, 'lambda_l1': 0.29521718332613933, 'lambda_l2': 0.28314922436860235}. Best is trial 45 with value: 9.393541992724039.\n",
      "[I 2023-11-01 18:11:25,214] Trial 162 finished with value: 9.517124812505115 and parameters: {'objective': 'regression', 'max_depth': 5, 'n_estimators': 530, 'learning_rate': 0.06567118312373726, 'num_leaves': 32, 'feature_fraction': 0.7912363612545302, 'bagging_fraction': 0.134718640079586, 'lambda_l1': 0.3008411222972995, 'lambda_l2': 0.3208730985707177}. Best is trial 45 with value: 9.393541992724039.\n",
      "[I 2023-11-01 18:11:38,440] Trial 163 finished with value: 9.555593244752911 and parameters: {'objective': 'regression', 'max_depth': 5, 'n_estimators': 530, 'learning_rate': 0.06714157219905366, 'num_leaves': 32, 'feature_fraction': 0.8539436638107466, 'bagging_fraction': 0.13999276609932787, 'lambda_l1': 0.2904103322957833, 'lambda_l2': 0.2805443383142555}. Best is trial 45 with value: 9.393541992724039.\n",
      "[I 2023-11-01 18:11:58,347] Trial 164 finished with value: 9.466653263872544 and parameters: {'objective': 'regression', 'max_depth': 6, 'n_estimators': 535, 'learning_rate': 0.07533148897915325, 'num_leaves': 31, 'feature_fraction': 0.8541064927715222, 'bagging_fraction': 0.22694068564914074, 'lambda_l1': 0.29387616605805955, 'lambda_l2': 0.2767722207712782}. Best is trial 45 with value: 9.393541992724039.\n",
      "[I 2023-11-01 18:12:28,193] Trial 165 finished with value: 9.499964283685962 and parameters: {'objective': 'regression', 'max_depth': 5, 'n_estimators': 533, 'learning_rate': 0.07480841827751185, 'num_leaves': 32, 'feature_fraction': 0.7949667802952822, 'bagging_fraction': 0.4509774424248729, 'lambda_l1': 0.29974949092601116, 'lambda_l2': 0.25614176035498915}. Best is trial 45 with value: 9.393541992724039.\n",
      "[I 2023-11-01 18:12:33,633] Trial 166 finished with value: 9.495238817851886 and parameters: {'objective': 'regression', 'max_depth': 5, 'n_estimators': 538, 'learning_rate': 0.07480847344059258, 'num_leaves': 32, 'feature_fraction': 0.7747294972448079, 'bagging_fraction': 0.47918650865949797, 'lambda_l1': 0.2211901282207674, 'lambda_l2': 0.27659023506797087}. Best is trial 45 with value: 9.393541992724039.\n",
      "[I 2023-11-01 18:12:59,835] Trial 168 finished with value: 9.501174023492592 and parameters: {'objective': 'regression', 'max_depth': 6, 'n_estimators': 390, 'learning_rate': 0.0732929600853009, 'num_leaves': 31, 'feature_fraction': 0.8032264188114017, 'bagging_fraction': 0.4787417169721598, 'lambda_l1': 0.21178581113947298, 'lambda_l2': 0.2516094061241806}. Best is trial 45 with value: 9.393541992724039.\n",
      "[I 2023-11-01 18:13:00,164] Trial 167 finished with value: 9.44693142875932 and parameters: {'objective': 'regression', 'max_depth': 6, 'n_estimators': 539, 'learning_rate': 0.07461952331076992, 'num_leaves': 31, 'feature_fraction': 0.7978545730969653, 'bagging_fraction': 0.429711382325923, 'lambda_l1': 0.2271881003732845, 'lambda_l2': 0.26765088536546944}. Best is trial 45 with value: 9.393541992724039.\n",
      "[I 2023-11-01 18:13:31,602] Trial 172 finished with value: 10.171720450601404 and parameters: {'objective': 'regression', 'max_depth': 3, 'n_estimators': 554, 'learning_rate': 0.07794126892380022, 'num_leaves': 33, 'feature_fraction': 0.6736817982256877, 'bagging_fraction': 0.21787474259741058, 'lambda_l1': 0.3280697143441267, 'lambda_l2': 0.3545384814610125}. Best is trial 45 with value: 9.393541992724039.\n",
      "[I 2023-11-01 18:13:51,662] Trial 169 finished with value: 9.44758888468555 and parameters: {'objective': 'regression', 'max_depth': 6, 'n_estimators': 553, 'learning_rate': 0.07813357476662502, 'num_leaves': 31, 'feature_fraction': 0.8017835372441141, 'bagging_fraction': 0.30063310546415745, 'lambda_l1': 0.3699500957024465, 'lambda_l2': 0.33007930441247385}. Best is trial 45 with value: 9.393541992724039.\n",
      "[I 2023-11-01 18:14:12,937] Trial 170 finished with value: 9.498560199394785 and parameters: {'objective': 'regression', 'max_depth': 12, 'n_estimators': 552, 'learning_rate': 0.07347813870419193, 'num_leaves': 31, 'feature_fraction': 0.808077420614616, 'bagging_fraction': 0.19104707840696494, 'lambda_l1': 0.3780907972260468, 'lambda_l2': 0.3623521632095445}. Best is trial 45 with value: 9.393541992724039.\n",
      "[I 2023-11-01 18:14:24,544] Trial 171 finished with value: 9.443422311294569 and parameters: {'objective': 'regression', 'max_depth': 6, 'n_estimators': 557, 'learning_rate': 0.07841359661558284, 'num_leaves': 30, 'feature_fraction': 0.8190090823885758, 'bagging_fraction': 0.40477599892602045, 'lambda_l1': 0.37510658796518676, 'lambda_l2': 0.3504990488802646}. Best is trial 45 with value: 9.393541992724039.\n",
      "[I 2023-11-01 18:14:47,440] Trial 174 finished with value: 9.55036087150005 and parameters: {'objective': 'regression', 'max_depth': 6, 'n_estimators': 365, 'learning_rate': 0.07997314457033299, 'num_leaves': 30, 'feature_fraction': 0.7692729419522512, 'bagging_fraction': 0.41036542100143597, 'lambda_l1': 0.3966529305879656, 'lambda_l2': 0.23874734038096976}. Best is trial 45 with value: 9.393541992724039.\n",
      "[I 2023-11-01 18:14:57,173] Trial 173 finished with value: 9.410382279542523 and parameters: {'objective': 'regression', 'max_depth': 6, 'n_estimators': 569, 'learning_rate': 0.08069218388964111, 'num_leaves': 31, 'feature_fraction': 0.7711140151984336, 'bagging_fraction': 0.40096028157341834, 'lambda_l1': 0.3669404193805739, 'lambda_l2': 0.45227192444090597}. Best is trial 45 with value: 9.393541992724039.\n",
      "[I 2023-11-01 18:15:32,225] Trial 175 finished with value: 9.472161520982208 and parameters: {'objective': 'regression', 'max_depth': 6, 'n_estimators': 544, 'learning_rate': 0.08111292294424402, 'num_leaves': 30, 'feature_fraction': 0.765201308843395, 'bagging_fraction': 0.4437685169137284, 'lambda_l1': 0.3190675965359348, 'lambda_l2': 0.32733871565497735}. Best is trial 45 with value: 9.393541992724039.\n",
      "[I 2023-11-01 18:15:47,107] Trial 176 finished with value: 9.445291096040044 and parameters: {'objective': 'regression', 'max_depth': 6, 'n_estimators': 568, 'learning_rate': 0.08077109813623834, 'num_leaves': 30, 'feature_fraction': 0.7709767506555882, 'bagging_fraction': 0.41008082745289365, 'lambda_l1': 0.3570794403186491, 'lambda_l2': 0.327267463776003}. Best is trial 45 with value: 9.393541992724039.\n",
      "[I 2023-11-01 18:16:11,277] Trial 177 finished with value: 9.487605474299343 and parameters: {'objective': 'regression', 'max_depth': 6, 'n_estimators': 569, 'learning_rate': 0.08190170797522539, 'num_leaves': 30, 'feature_fraction': 0.8259722081631845, 'bagging_fraction': 0.023988853478214476, 'lambda_l1': 0.31719470232614094, 'lambda_l2': 0.3215850463340642}. Best is trial 45 with value: 9.393541992724039.\n",
      "[I 2023-11-01 18:16:18,765] Trial 178 finished with value: 9.536436383468477 and parameters: {'objective': 'regression', 'max_depth': 6, 'n_estimators': 570, 'learning_rate': 0.08128217056599212, 'num_leaves': 30, 'feature_fraction': 0.725193572524108, 'bagging_fraction': 0.3599380946148615, 'lambda_l1': 0.3569637475020717, 'lambda_l2': 0.3254795399624831}. Best is trial 45 with value: 9.393541992724039.\n",
      "[I 2023-11-01 18:16:57,046] Trial 179 finished with value: 9.459725415817628 and parameters: {'objective': 'regression', 'max_depth': 6, 'n_estimators': 567, 'learning_rate': 0.07663562409971945, 'num_leaves': 30, 'feature_fraction': 0.8270188928484423, 'bagging_fraction': 0.36867730383535363, 'lambda_l1': 0.3644435465189202, 'lambda_l2': 0.4441264617120749}. Best is trial 45 with value: 9.393541992724039.\n",
      "[I 2023-11-01 18:17:10,491] Trial 180 finished with value: 9.556958059050295 and parameters: {'objective': 'regression', 'max_depth': 6, 'n_estimators': 561, 'learning_rate': 0.07655344499587542, 'num_leaves': 32, 'feature_fraction': 0.7303414534773653, 'bagging_fraction': 0.3824150334247978, 'lambda_l1': 0.3975490438910158, 'lambda_l2': 0.4177319959995805}. Best is trial 45 with value: 9.393541992724039.\n",
      "[I 2023-11-01 18:17:28,739] Trial 182 finished with value: 10.028331761629602 and parameters: {'objective': 'regression_l1', 'max_depth': 5, 'n_estimators': 559, 'learning_rate': 0.0762309777752344, 'num_leaves': 32, 'feature_fraction': 0.6555179680711556, 'bagging_fraction': 0.2833559033985975, 'lambda_l1': 0.403150045844058, 'lambda_l2': 0.41500881593690425}. Best is trial 45 with value: 9.393541992724039.\n",
      "[I 2023-11-01 18:17:37,960] Trial 181 finished with value: 9.906840908611214 and parameters: {'objective': 'regression_l1', 'max_depth': 6, 'n_estimators': 561, 'learning_rate': 0.07799206672509561, 'num_leaves': 32, 'feature_fraction': 0.7315459963739964, 'bagging_fraction': 0.36327853080170586, 'lambda_l1': 0.40175750898464324, 'lambda_l2': 0.448678691231988}. Best is trial 45 with value: 9.393541992724039.\n",
      "[I 2023-11-01 18:18:47,606] Trial 184 finished with value: 9.464251195736061 and parameters: {'objective': 'regression', 'max_depth': 11, 'n_estimators': 559, 'learning_rate': 0.0792578919790642, 'num_leaves': 31, 'feature_fraction': 0.7842890092361537, 'bagging_fraction': 0.41532490379344905, 'lambda_l1': 0.33432792214343676, 'lambda_l2': 0.3555396221772345}. Best is trial 45 with value: 9.393541992724039.\n",
      "[I 2023-11-01 18:18:49,748] Trial 183 finished with value: 9.902902766454979 and parameters: {'objective': 'regression_l1', 'max_depth': 11, 'n_estimators': 561, 'learning_rate': 0.07211631523249452, 'num_leaves': 32, 'feature_fraction': 0.8664220372232067, 'bagging_fraction': 0.38079779312641865, 'lambda_l1': 0.3965044890376976, 'lambda_l2': 0.4146726925108006}. Best is trial 45 with value: 9.393541992724039.\n",
      "[I 2023-11-01 18:18:53,873] Trial 185 finished with value: 9.49003012120373 and parameters: {'objective': 'regression', 'max_depth': 6, 'n_estimators': 574, 'learning_rate': 0.07960312358639868, 'num_leaves': 31, 'feature_fraction': 0.7796426463292018, 'bagging_fraction': 0.5311788841779895, 'lambda_l1': 0.3435769447556518, 'lambda_l2': 0.343017334142275}. Best is trial 45 with value: 9.393541992724039.\n",
      "[I 2023-11-01 18:19:03,228] Trial 186 finished with value: 9.459323292562955 and parameters: {'objective': 'regression', 'max_depth': 6, 'n_estimators': 572, 'learning_rate': 0.08023709708535713, 'num_leaves': 31, 'feature_fraction': 0.7711966800844614, 'bagging_fraction': 0.3937339372545006, 'lambda_l1': 0.33855032002645, 'lambda_l2': 0.3538886610211635}. Best is trial 45 with value: 9.393541992724039.\n",
      "[I 2023-11-01 18:20:10,344] Trial 188 finished with value: 9.43838149166534 and parameters: {'objective': 'regression', 'max_depth': 6, 'n_estimators': 546, 'learning_rate': 0.07952163497379669, 'num_leaves': 31, 'feature_fraction': 0.7742213029550453, 'bagging_fraction': 0.43945824919138204, 'lambda_l1': 0.3431303005067911, 'lambda_l2': 0.29598157916830214}. Best is trial 45 with value: 9.393541992724039.\n",
      "[I 2023-11-01 18:20:11,995] Trial 187 finished with value: 9.455208993071928 and parameters: {'objective': 'regression', 'max_depth': 6, 'n_estimators': 549, 'learning_rate': 0.07981045684037273, 'num_leaves': 31, 'feature_fraction': 0.8697626669015399, 'bagging_fraction': 0.39983083161518373, 'lambda_l1': 0.35364548056951134, 'lambda_l2': 0.2935359062004662}. Best is trial 45 with value: 9.393541992724039.\n",
      "[I 2023-11-01 18:20:15,400] Trial 189 finished with value: 9.514314429344365 and parameters: {'objective': 'regression', 'max_depth': 6, 'n_estimators': 547, 'learning_rate': 0.08250156034509847, 'num_leaves': 30, 'feature_fraction': 0.8455546035384497, 'bagging_fraction': 0.42566258352473607, 'lambda_l1': 0.3754714536246896, 'lambda_l2': 0.2954846130142691}. Best is trial 45 with value: 9.393541992724039.\n",
      "[I 2023-11-01 18:20:19,552] Trial 190 finished with value: 9.773053327689286 and parameters: {'objective': 'regression', 'max_depth': 6, 'n_estimators': 546, 'learning_rate': 0.08327679976792345, 'num_leaves': 30, 'feature_fraction': 0.5919859650976026, 'bagging_fraction': 0.4474772047926138, 'lambda_l1': 0.3672206290136674, 'lambda_l2': 0.2924892507624786}. Best is trial 45 with value: 9.393541992724039.\n",
      "[I 2023-11-01 18:21:18,709] Trial 192 finished with value: 9.452715896376866 and parameters: {'objective': 'regression', 'max_depth': 5, 'n_estimators': 543, 'learning_rate': 0.07230716694494503, 'num_leaves': 37, 'feature_fraction': 0.8153811531551189, 'bagging_fraction': 0.17421144271288488, 'lambda_l1': 0.28055328499271576, 'lambda_l2': 0.38518822028567834}. Best is trial 45 with value: 9.393541992724039.\n",
      "[I 2023-11-01 18:21:30,998] Trial 191 finished with value: 9.713942156134644 and parameters: {'objective': 'regression', 'max_depth': 6, 'n_estimators': 544, 'learning_rate': 0.07247969173106626, 'num_leaves': 36, 'feature_fraction': 0.5837188148903523, 'bagging_fraction': 0.43113178402550384, 'lambda_l1': 0.2764255500147216, 'lambda_l2': 0.297969892221037}. Best is trial 45 with value: 9.393541992724039.\n",
      "[I 2023-11-01 18:21:41,001] Trial 193 finished with value: 9.491070701399103 and parameters: {'objective': 'regression', 'max_depth': 6, 'n_estimators': 549, 'learning_rate': 0.07326711099125105, 'num_leaves': 36, 'feature_fraction': 0.8159015300445287, 'bagging_fraction': 0.4653484160285407, 'lambda_l1': 0.28310893348063226, 'lambda_l2': 0.3876957596326575}. Best is trial 45 with value: 9.393541992724039.\n",
      "[I 2023-11-01 18:21:44,244] Trial 194 finished with value: 9.464295848414958 and parameters: {'objective': 'regression', 'max_depth': 6, 'n_estimators': 542, 'learning_rate': 0.07532065192022441, 'num_leaves': 36, 'feature_fraction': 0.8151253762061871, 'bagging_fraction': 0.39560802494919095, 'lambda_l1': 0.27885842118546056, 'lambda_l2': 0.31327064443998676}. Best is trial 45 with value: 9.393541992724039.\n",
      "[I 2023-11-01 18:22:37,787] Trial 195 finished with value: 9.78848731121246 and parameters: {'objective': 'regression', 'max_depth': 6, 'n_estimators': 555, 'learning_rate': 0.07766654899166237, 'num_leaves': 36, 'feature_fraction': 0.5315605566214039, 'bagging_fraction': 0.41704022768459426, 'lambda_l1': 0.3018352118273542, 'lambda_l2': 0.3204276067570452}. Best is trial 45 with value: 9.393541992724039.\n",
      "[I 2023-11-01 18:22:50,406] Trial 196 finished with value: 9.501892522103445 and parameters: {'objective': 'regression', 'max_depth': 6, 'n_estimators': 555, 'learning_rate': 0.07772624870698926, 'num_leaves': 33, 'feature_fraction': 0.7532492861623445, 'bagging_fraction': 0.4124705788913145, 'lambda_l1': 0.30728228720799833, 'lambda_l2': 0.3844086906425604}. Best is trial 45 with value: 9.393541992724039.\n",
      "[I 2023-11-01 18:22:55,396] Trial 198 finished with value: 9.478492999737666 and parameters: {'objective': 'regression', 'max_depth': 6, 'n_estimators': 525, 'learning_rate': 0.07820683497695809, 'num_leaves': 30, 'feature_fraction': 0.756000102806243, 'bagging_fraction': 0.2121471775427465, 'lambda_l1': 0.3129573300429703, 'lambda_l2': 0.47860654023154486}. Best is trial 45 with value: 9.393541992724039.\n",
      "[I 2023-11-01 18:22:59,651] Trial 197 finished with value: 9.460433789416324 and parameters: {'objective': 'regression', 'max_depth': 6, 'n_estimators': 566, 'learning_rate': 0.07766351109609486, 'num_leaves': 33, 'feature_fraction': 0.789158520359095, 'bagging_fraction': 0.20511695363867094, 'lambda_l1': 0.3140094419599735, 'lambda_l2': 0.31245593173775255}. Best is trial 45 with value: 9.393541992724039.\n",
      "[I 2023-11-01 18:23:20,995] Trial 199 finished with value: 9.468339751048932 and parameters: {'objective': 'regression', 'max_depth': 6, 'n_estimators': 587, 'learning_rate': 0.0778869216993865, 'num_leaves': 33, 'feature_fraction': 0.7551093219735733, 'bagging_fraction': 0.5120679011369162, 'lambda_l1': 0.3149432559740434, 'lambda_l2': 0.4823887201073759}. Best is trial 45 with value: 9.393541992724039.\n"
     ]
    }
   ],
   "source": [
    "study = optuna.create_study(direction=\"minimize\", sampler=optuna.samplers.TPESampler(seed=42))\n",
    "study.optimize(objective, n_trials=200, n_jobs=-1)"
   ],
   "metadata": {
    "collapsed": false,
    "ExecuteTime": {
     "end_time": "2023-11-01T15:23:21.005639200Z",
     "start_time": "2023-11-01T14:11:51.513793800Z"
    }
   },
   "id": "95688fd8a513248a"
  },
  {
   "cell_type": "code",
   "execution_count": 51,
   "outputs": [],
   "source": [
    "lgbm_model = LGBMRegressor(**study.best_params, random_state=42, verbosity=-1, n_jobs=-1)\n",
    "lgbm_pipeline = make_pipeline(scaler, lgbm_model)"
   ],
   "metadata": {
    "collapsed": false,
    "ExecuteTime": {
     "end_time": "2023-11-01T15:23:21.024651900Z",
     "start_time": "2023-11-01T15:23:21.001897700Z"
    }
   },
   "id": "b3279e27eee9870a"
  },
  {
   "cell_type": "code",
   "execution_count": 52,
   "outputs": [
    {
     "data": {
      "text/plain": "Pipeline(steps=[('minmaxscaler', MinMaxScaler()),\n                ('lgbmregressor',\n                 LGBMRegressor(bagging_fraction=0.726310845606191,\n                               feature_fraction=0.8632609998541577,\n                               lambda_l1=0.3831278615173321,\n                               lambda_l2=0.5129630087170781,\n                               learning_rate=0.09999035126266356, max_depth=9,\n                               n_estimators=563, n_jobs=-1, num_leaves=44,\n                               objective='regression', random_state=42,\n                               verbosity=-1))])",
      "text/html": "<style>#sk-container-id-6 {color: black;}#sk-container-id-6 pre{padding: 0;}#sk-container-id-6 div.sk-toggleable {background-color: white;}#sk-container-id-6 label.sk-toggleable__label {cursor: pointer;display: block;width: 100%;margin-bottom: 0;padding: 0.3em;box-sizing: border-box;text-align: center;}#sk-container-id-6 label.sk-toggleable__label-arrow:before {content: \"▸\";float: left;margin-right: 0.25em;color: #696969;}#sk-container-id-6 label.sk-toggleable__label-arrow:hover:before {color: black;}#sk-container-id-6 div.sk-estimator:hover label.sk-toggleable__label-arrow:before {color: black;}#sk-container-id-6 div.sk-toggleable__content {max-height: 0;max-width: 0;overflow: hidden;text-align: left;background-color: #f0f8ff;}#sk-container-id-6 div.sk-toggleable__content pre {margin: 0.2em;color: black;border-radius: 0.25em;background-color: #f0f8ff;}#sk-container-id-6 input.sk-toggleable__control:checked~div.sk-toggleable__content {max-height: 200px;max-width: 100%;overflow: auto;}#sk-container-id-6 input.sk-toggleable__control:checked~label.sk-toggleable__label-arrow:before {content: \"▾\";}#sk-container-id-6 div.sk-estimator input.sk-toggleable__control:checked~label.sk-toggleable__label {background-color: #d4ebff;}#sk-container-id-6 div.sk-label input.sk-toggleable__control:checked~label.sk-toggleable__label {background-color: #d4ebff;}#sk-container-id-6 input.sk-hidden--visually {border: 0;clip: rect(1px 1px 1px 1px);clip: rect(1px, 1px, 1px, 1px);height: 1px;margin: -1px;overflow: hidden;padding: 0;position: absolute;width: 1px;}#sk-container-id-6 div.sk-estimator {font-family: monospace;background-color: #f0f8ff;border: 1px dotted black;border-radius: 0.25em;box-sizing: border-box;margin-bottom: 0.5em;}#sk-container-id-6 div.sk-estimator:hover {background-color: #d4ebff;}#sk-container-id-6 div.sk-parallel-item::after {content: \"\";width: 100%;border-bottom: 1px solid gray;flex-grow: 1;}#sk-container-id-6 div.sk-label:hover label.sk-toggleable__label {background-color: #d4ebff;}#sk-container-id-6 div.sk-serial::before {content: \"\";position: absolute;border-left: 1px solid gray;box-sizing: border-box;top: 0;bottom: 0;left: 50%;z-index: 0;}#sk-container-id-6 div.sk-serial {display: flex;flex-direction: column;align-items: center;background-color: white;padding-right: 0.2em;padding-left: 0.2em;position: relative;}#sk-container-id-6 div.sk-item {position: relative;z-index: 1;}#sk-container-id-6 div.sk-parallel {display: flex;align-items: stretch;justify-content: center;background-color: white;position: relative;}#sk-container-id-6 div.sk-item::before, #sk-container-id-6 div.sk-parallel-item::before {content: \"\";position: absolute;border-left: 1px solid gray;box-sizing: border-box;top: 0;bottom: 0;left: 50%;z-index: -1;}#sk-container-id-6 div.sk-parallel-item {display: flex;flex-direction: column;z-index: 1;position: relative;background-color: white;}#sk-container-id-6 div.sk-parallel-item:first-child::after {align-self: flex-end;width: 50%;}#sk-container-id-6 div.sk-parallel-item:last-child::after {align-self: flex-start;width: 50%;}#sk-container-id-6 div.sk-parallel-item:only-child::after {width: 0;}#sk-container-id-6 div.sk-dashed-wrapped {border: 1px dashed gray;margin: 0 0.4em 0.5em 0.4em;box-sizing: border-box;padding-bottom: 0.4em;background-color: white;}#sk-container-id-6 div.sk-label label {font-family: monospace;font-weight: bold;display: inline-block;line-height: 1.2em;}#sk-container-id-6 div.sk-label-container {text-align: center;}#sk-container-id-6 div.sk-container {/* jupyter's `normalize.less` sets `[hidden] { display: none; }` but bootstrap.min.css set `[hidden] { display: none !important; }` so we also need the `!important` here to be able to override the default hidden behavior on the sphinx rendered scikit-learn.org. See: https://github.com/scikit-learn/scikit-learn/issues/21755 */display: inline-block !important;position: relative;}#sk-container-id-6 div.sk-text-repr-fallback {display: none;}</style><div id=\"sk-container-id-6\" class=\"sk-top-container\"><div class=\"sk-text-repr-fallback\"><pre>Pipeline(steps=[(&#x27;minmaxscaler&#x27;, MinMaxScaler()),\n                (&#x27;lgbmregressor&#x27;,\n                 LGBMRegressor(bagging_fraction=0.726310845606191,\n                               feature_fraction=0.8632609998541577,\n                               lambda_l1=0.3831278615173321,\n                               lambda_l2=0.5129630087170781,\n                               learning_rate=0.09999035126266356, max_depth=9,\n                               n_estimators=563, n_jobs=-1, num_leaves=44,\n                               objective=&#x27;regression&#x27;, random_state=42,\n                               verbosity=-1))])</pre><b>In a Jupyter environment, please rerun this cell to show the HTML representation or trust the notebook. <br />On GitHub, the HTML representation is unable to render, please try loading this page with nbviewer.org.</b></div><div class=\"sk-container\" hidden><div class=\"sk-item sk-dashed-wrapped\"><div class=\"sk-label-container\"><div class=\"sk-label sk-toggleable\"><input class=\"sk-toggleable__control sk-hidden--visually\" id=\"sk-estimator-id-12\" type=\"checkbox\" ><label for=\"sk-estimator-id-12\" class=\"sk-toggleable__label sk-toggleable__label-arrow\">Pipeline</label><div class=\"sk-toggleable__content\"><pre>Pipeline(steps=[(&#x27;minmaxscaler&#x27;, MinMaxScaler()),\n                (&#x27;lgbmregressor&#x27;,\n                 LGBMRegressor(bagging_fraction=0.726310845606191,\n                               feature_fraction=0.8632609998541577,\n                               lambda_l1=0.3831278615173321,\n                               lambda_l2=0.5129630087170781,\n                               learning_rate=0.09999035126266356, max_depth=9,\n                               n_estimators=563, n_jobs=-1, num_leaves=44,\n                               objective=&#x27;regression&#x27;, random_state=42,\n                               verbosity=-1))])</pre></div></div></div><div class=\"sk-serial\"><div class=\"sk-item\"><div class=\"sk-estimator sk-toggleable\"><input class=\"sk-toggleable__control sk-hidden--visually\" id=\"sk-estimator-id-13\" type=\"checkbox\" ><label for=\"sk-estimator-id-13\" class=\"sk-toggleable__label sk-toggleable__label-arrow\">MinMaxScaler</label><div class=\"sk-toggleable__content\"><pre>MinMaxScaler()</pre></div></div></div><div class=\"sk-item\"><div class=\"sk-estimator sk-toggleable\"><input class=\"sk-toggleable__control sk-hidden--visually\" id=\"sk-estimator-id-14\" type=\"checkbox\" ><label for=\"sk-estimator-id-14\" class=\"sk-toggleable__label sk-toggleable__label-arrow\">LGBMRegressor</label><div class=\"sk-toggleable__content\"><pre>LGBMRegressor(bagging_fraction=0.726310845606191,\n              feature_fraction=0.8632609998541577, lambda_l1=0.3831278615173321,\n              lambda_l2=0.5129630087170781, learning_rate=0.09999035126266356,\n              max_depth=9, n_estimators=563, n_jobs=-1, num_leaves=44,\n              objective=&#x27;regression&#x27;, random_state=42, verbosity=-1)</pre></div></div></div></div></div></div></div>"
     },
     "execution_count": 52,
     "metadata": {},
     "output_type": "execute_result"
    }
   ],
   "source": [
    "lgbm_pipeline.fit(features_full, target_full)"
   ],
   "metadata": {
    "collapsed": false,
    "ExecuteTime": {
     "end_time": "2023-11-01T15:23:22.707524800Z",
     "start_time": "2023-11-01T15:23:21.012650300Z"
    }
   },
   "id": "abd3cbd1cff9c756"
  },
  {
   "cell_type": "markdown",
   "source": [
    "### Results"
   ],
   "metadata": {
    "collapsed": false
   },
   "id": "ac34153c945c1c5c"
  },
  {
   "cell_type": "code",
   "execution_count": 53,
   "outputs": [],
   "source": [
    "lin_mae = mean_absolute_error(target_full, linear_pipeline.predict(features_full))\n",
    "lgbm_mae = mean_absolute_error(target_full, lgbm_pipeline.predict(features_full))\n",
    "lin_cv_mae = -np.mean(cross_val_score(linear_pipeline, features_full, target_full, cv=CV, scoring='neg_mean_absolute_error'))\n",
    "lgbm_cv_mae = -np.mean(cross_val_score(lgbm_pipeline, features_full, target_full, cv=CV, scoring='neg_mean_absolute_error'))\n",
    "lin_r2 = r2_score(target_full, linear_pipeline.predict(features_full))\n",
    "lgbm_r2 = r2_score(target_full, lgbm_pipeline.predict(features_full))\n",
    "lin_mape = mean_absolute_percentage_error(target_full, linear_pipeline.predict(features_full))\n",
    "lgbm_mape = mean_absolute_percentage_error(target_full, lgbm_pipeline.predict(features_full))"
   ],
   "metadata": {
    "collapsed": false,
    "ExecuteTime": {
     "end_time": "2023-11-01T15:23:58.690516400Z",
     "start_time": "2023-11-01T15:23:22.707524800Z"
    }
   },
   "id": "1431ca6061a2ab11"
  },
  {
   "cell_type": "code",
   "execution_count": 54,
   "outputs": [
    {
     "name": "stdout",
     "output_type": "stream",
     "text": [
      "Linear MAE: 9.959395502742572 \n",
      "Linear CV MAE: 10.548051668093981 \n",
      "Linear r2: 0.9822725326235461 \n",
      "Linear MAPE: 0.021755508853499323 \n",
      "LGBM MAE: 3.030099212835933 \n",
      "LGBM CV MAE: 9.393541992724039 \n",
      "LGBM r2: 0.9983879317782108 \n",
      "LGBM MAPE: 0.006492255283355377\n"
     ]
    }
   ],
   "source": [
    "print(f'Linear MAE: {lin_mae} \\n'\n",
    "      f'Linear CV MAE: {lin_cv_mae} \\n'\n",
    "      f'Linear r2: {lin_r2} \\n'\n",
    "      f'Linear MAPE: {lin_mape} \\n'\n",
    "      f'LGBM MAE: {lgbm_mae} \\n'\n",
    "      f'LGBM CV MAE: {lgbm_cv_mae} \\n'\n",
    "      f'LGBM r2: {lgbm_r2} \\n'\n",
    "      f'LGBM MAPE: {lgbm_mape}')"
   ],
   "metadata": {
    "collapsed": false,
    "ExecuteTime": {
     "end_time": "2023-11-01T15:23:58.699976200Z",
     "start_time": "2023-11-01T15:23:58.690516400Z"
    }
   },
   "id": "42159aae4a56eb07"
  },
  {
   "cell_type": "markdown",
   "source": [
    "### Features importance"
   ],
   "metadata": {
    "collapsed": false
   },
   "id": "726ab93fc31e06d7"
  },
  {
   "cell_type": "code",
   "execution_count": 55,
   "outputs": [
    {
     "name": "stdout",
     "output_type": "stream",
     "text": [
      "yst_target_24                           75.775 +/- 0.215\n",
      "target_sum_pred                         70.098 +/- 0.249\n",
      "yst_target_sum                          65.856 +/- 0.225\n",
      "yst_target_168                          9.500 +/- 0.055\n",
      "yst_target_120                          4.317 +/- 0.029\n",
      "yst_temp_mean                           4.255 +/- 0.037\n",
      "yst_target_144                          3.325 +/- 0.032\n",
      "yst_temp                                1.282 +/- 0.019\n",
      "yst_target_72                           1.259 +/- 0.019\n",
      "yst_temp_med                            0.830 +/- 0.016\n",
      "yst_target_96                           0.490 +/- 0.013\n",
      "time                                    0.296 +/- 0.012\n",
      "month                                   0.109 +/- 0.007\n",
      "is_holiday                              0.063 +/- 0.004\n",
      "week_day                                0.034 +/- 0.004\n",
      "yst_target_48                           0.031 +/- 0.002\n",
      "yst_weather_fact_mean                   0.011 +/- 0.001\n",
      "yst_weather_fact_med                    0.008 +/- 0.002\n",
      "day                                     0.001 +/- 0.001\n",
      "year                                    0.000 +/- 0.000\n",
      "yst_weather_fact                        0.000 +/- 0.000\n",
      "temp_pred                               -0.000 +/- 0.000\n",
      "weather_pred                            -0.000 +/- 0.001\n"
     ]
    }
   ],
   "source": [
    "# Важность фичей для линейной регрессии\n",
    "importance = permutation_importance(linear_pipeline,\n",
    "                                    features_full,\n",
    "                                    target_full,\n",
    "                                    n_repeats=50,\n",
    "                                    random_state=42,\n",
    "                                    scoring='neg_mean_absolute_error')\n",
    "for i in importance.importances_mean.argsort()[::-1]:\n",
    "    print(f'{features_test.columns[i]:<40}'\n",
    "          f'{importance.importances_mean[i]:.3f}'\n",
    "          f' +/- {importance.importances_std[i]:.3f}')"
   ],
   "metadata": {
    "collapsed": false,
    "ExecuteTime": {
     "end_time": "2023-11-01T15:24:13.930837400Z",
     "start_time": "2023-11-01T15:23:58.699976200Z"
    }
   },
   "id": "12a087d81bf0dfe9"
  },
  {
   "cell_type": "code",
   "execution_count": 56,
   "outputs": [
    {
     "name": "stdout",
     "output_type": "stream",
     "text": [
      "yst_target_24                           66.612 +/- 0.198\n",
      "target_sum_pred                         19.864 +/- 0.062\n",
      "time                                    12.210 +/- 0.052\n",
      "yst_target_sum                          9.323 +/- 0.032\n",
      "week_day                                5.216 +/- 0.032\n",
      "yst_target_144                          4.948 +/- 0.022\n",
      "yst_target_168                          4.328 +/- 0.019\n",
      "temp_pred                               3.314 +/- 0.019\n",
      "yst_target_48                           2.246 +/- 0.012\n",
      "month                                   2.119 +/- 0.015\n",
      "yst_temp_mean                           2.005 +/- 0.016\n",
      "yst_target_72                           1.524 +/- 0.010\n",
      "yst_temp_med                            1.355 +/- 0.010\n",
      "yst_target_96                           1.324 +/- 0.010\n",
      "yst_temp                                1.062 +/- 0.009\n",
      "yst_target_120                          0.854 +/- 0.008\n",
      "weather_pred                            0.706 +/- 0.007\n",
      "day                                     0.687 +/- 0.006\n",
      "yst_weather_fact_mean                   0.637 +/- 0.006\n",
      "is_holiday                              0.625 +/- 0.009\n",
      "yst_weather_fact_med                    0.406 +/- 0.005\n",
      "yst_weather_fact                        0.309 +/- 0.004\n",
      "year                                    0.285 +/- 0.004\n"
     ]
    }
   ],
   "source": [
    "# Важность фичей для бустинга\n",
    "importance = permutation_importance(lgbm_pipeline,\n",
    "                                    features_full,\n",
    "                                    target_full,\n",
    "                                    n_repeats=50,\n",
    "                                    random_state=42,\n",
    "                                    scoring='neg_mean_absolute_error')\n",
    "for i in importance.importances_mean.argsort()[::-1]:\n",
    "    print(f'{features_test.columns[i]:<40}'\n",
    "          f'{importance.importances_mean[i]:.3f}'\n",
    "          f' +/- {importance.importances_std[i]:.3f}')"
   ],
   "metadata": {
    "collapsed": false,
    "ExecuteTime": {
     "end_time": "2023-11-01T15:34:44.942188500Z",
     "start_time": "2023-11-01T15:24:13.930837400Z"
    }
   },
   "id": "bcdc6f3fa9411cad"
  },
  {
   "cell_type": "markdown",
   "source": [
    "## STACK"
   ],
   "metadata": {
    "collapsed": false
   },
   "id": "c38b7580c0389e8c"
  },
  {
   "cell_type": "code",
   "execution_count": 57,
   "outputs": [],
   "source": [
    "def objective(trial):\n",
    "    # Объявляем гиперпараметры для оптимизации\n",
    "    params = {\n",
    "        'objective': trial.suggest_categorical('objective', ['regression', 'regression_l1']),\n",
    "        'max_depth': trial.suggest_int('max_depth', 3, 12),\n",
    "        'n_estimators': trial.suggest_int('n_estimators', 200, 600),\n",
    "        'learning_rate': trial.suggest_float('learning_rate', 0.01, 0.1),\n",
    "        'num_leaves': trial.suggest_int('num_leaves', 30, 50),\n",
    "        'feature_fraction': trial.suggest_float('feature_fraction', 0, 1),\n",
    "        'bagging_fraction': trial.suggest_float('bagging_fraction', 0, 1),\n",
    "        'lambda_l1': trial.suggest_float('lambda_l1', 0, 1),\n",
    "        'lambda_l2': trial.suggest_float('lambda_l2', 0, 1),\n",
    "        #'min_gain_to_split': trial.suggest_float('min_gain_to_split', 0, 1),\n",
    "        #'min_sum_hessian_in_leaf': trial.suggest_int('min_sum_hessian_in_leaf', 1, 7, 2),\n",
    "        'random_state': 42,\n",
    "        'verbosity': -1\n",
    "    }\n",
    "\n",
    "    # Объявляем модель\n",
    "    model = StackingRegressor(\n",
    "        estimators=[('lin', linear_pipeline)],\n",
    "        final_estimator=make_pipeline(scaler, LGBMRegressor(**params)), passthrough=True)\n",
    "    pipeline = make_pipeline(scaler, model)\n",
    "\n",
    "    # Вычисляем качество\n",
    "    result = cross_val_score(\n",
    "        pipeline,\n",
    "        features_full,\n",
    "        target_full,\n",
    "        scoring='neg_mean_absolute_error',\n",
    "        cv=CV).mean() * -1\n",
    "\n",
    "    return result"
   ],
   "metadata": {
    "collapsed": false,
    "ExecuteTime": {
     "end_time": "2023-11-01T15:34:44.977285500Z",
     "start_time": "2023-11-01T15:34:44.936193Z"
    }
   },
   "id": "337332eb837401eb"
  },
  {
   "cell_type": "code",
   "execution_count": 58,
   "outputs": [
    {
     "name": "stderr",
     "output_type": "stream",
     "text": [
      "[I 2023-11-01 18:34:44,952] A new study created in memory with name: no-name-d0db8425-0156-4909-a5f5-828158298f53\n",
      "[I 2023-11-01 18:35:06,074] Trial 0 finished with value: 9.184465370624473 and parameters: {'objective': 'regression', 'max_depth': 4, 'n_estimators': 349, 'learning_rate': 0.06418671762619714, 'num_leaves': 48, 'feature_fraction': 0.5790192787129002, 'bagging_fraction': 0.5017385767971078, 'lambda_l1': 0.8951985208122711, 'lambda_l2': 0.16177567761259437}. Best is trial 0 with value: 9.184465370624473.\n",
      "[I 2023-11-01 18:35:27,285] Trial 2 finished with value: 11.224247525685238 and parameters: {'objective': 'regression_l1', 'max_depth': 6, 'n_estimators': 338, 'learning_rate': 0.09019623248443509, 'num_leaves': 33, 'feature_fraction': 0.13635385858511873, 'bagging_fraction': 0.9302491823339929, 'lambda_l1': 0.13929970814804538, 'lambda_l2': 0.26036110245129873}. Best is trial 0 with value: 9.184465370624473.\n",
      "[I 2023-11-01 18:35:28,653] Trial 1 finished with value: 9.408345753662077 and parameters: {'objective': 'regression', 'max_depth': 7, 'n_estimators': 578, 'learning_rate': 0.040056437211770844, 'num_leaves': 48, 'feature_fraction': 0.32316538788127547, 'bagging_fraction': 0.10897944739059484, 'lambda_l1': 0.935634832310738, 'lambda_l2': 0.8652280776490245}. Best is trial 0 with value: 9.184465370624473.\n",
      "[I 2023-11-01 18:36:01,077] Trial 4 finished with value: 9.82132670415532 and parameters: {'objective': 'regression', 'max_depth': 10, 'n_estimators': 495, 'learning_rate': 0.0945035034874983, 'num_leaves': 49, 'feature_fraction': 0.21550797673803423, 'bagging_fraction': 0.6658820512121547, 'lambda_l1': 0.003255244267541646, 'lambda_l2': 0.6772161908456463}. Best is trial 0 with value: 9.184465370624473.\n",
      "[I 2023-11-01 18:36:30,145] Trial 3 finished with value: 8.930302154696166 and parameters: {'objective': 'regression_l1', 'max_depth': 11, 'n_estimators': 564, 'learning_rate': 0.05330043481304393, 'num_leaves': 41, 'feature_fraction': 0.6435465405390245, 'bagging_fraction': 0.583551365400074, 'lambda_l1': 0.8503233608634266, 'lambda_l2': 0.29046235337409343}. Best is trial 3 with value: 8.930302154696166.\n",
      "[I 2023-11-01 18:36:52,076] Trial 5 finished with value: 8.889111435156313 and parameters: {'objective': 'regression', 'max_depth': 10, 'n_estimators': 398, 'learning_rate': 0.022690371309516667, 'num_leaves': 30, 'feature_fraction': 0.8724444928190918, 'bagging_fraction': 0.899913579908622, 'lambda_l1': 0.8381296280908399, 'lambda_l2': 0.03599465811560465}. Best is trial 5 with value: 8.889111435156313.\n",
      "[I 2023-11-01 18:37:24,588] Trial 6 finished with value: 9.048481566170981 and parameters: {'objective': 'regression_l1', 'max_depth': 12, 'n_estimators': 345, 'learning_rate': 0.029030288059145447, 'num_leaves': 41, 'feature_fraction': 0.8841549538341013, 'bagging_fraction': 0.20240387382197156, 'lambda_l1': 0.7380584203065441, 'lambda_l2': 0.5793180588719772}. Best is trial 5 with value: 8.889111435156313.\n",
      "[I 2023-11-01 18:37:52,186] Trial 7 finished with value: 8.623798458216763 and parameters: {'objective': 'regression', 'max_depth': 8, 'n_estimators': 520, 'learning_rate': 0.03748257200122546, 'num_leaves': 33, 'feature_fraction': 0.9052033185761562, 'bagging_fraction': 0.11468631566998178, 'lambda_l1': 0.29791784495862184, 'lambda_l2': 0.2826876382965039}. Best is trial 7 with value: 8.623798458216763.\n",
      "[I 2023-11-01 18:37:56,848] Trial 8 finished with value: 9.491112713442531 and parameters: {'objective': 'regression', 'max_depth': 10, 'n_estimators': 379, 'learning_rate': 0.039897423796351986, 'num_leaves': 36, 'feature_fraction': 0.3588863234179478, 'bagging_fraction': 0.265106906200409, 'lambda_l1': 0.5341212952211281, 'lambda_l2': 0.810620593950165}. Best is trial 7 with value: 8.623798458216763.\n",
      "[I 2023-11-01 18:38:10,617] Trial 9 finished with value: 17.18648342629416 and parameters: {'objective': 'regression_l1', 'max_depth': 8, 'n_estimators': 319, 'learning_rate': 0.04884240959621445, 'num_leaves': 42, 'feature_fraction': 0.025376008495550106, 'bagging_fraction': 0.6130092871280522, 'lambda_l1': 0.37709234295854943, 'lambda_l2': 0.14266096772962522}. Best is trial 7 with value: 8.623798458216763.\n",
      "[I 2023-11-01 18:38:27,945] Trial 11 finished with value: 11.419752040864132 and parameters: {'objective': 'regression', 'max_depth': 3, 'n_estimators': 251, 'learning_rate': 0.015619560521855966, 'num_leaves': 36, 'feature_fraction': 0.7578558642189133, 'bagging_fraction': 0.08135372351372716, 'lambda_l1': 0.32164367641071284, 'lambda_l2': 0.4233015331909764}. Best is trial 7 with value: 8.623798458216763.\n",
      "[I 2023-11-01 18:39:09,573] Trial 10 finished with value: 9.068728931234569 and parameters: {'objective': 'regression_l1', 'max_depth': 10, 'n_estimators': 501, 'learning_rate': 0.021833716431257234, 'num_leaves': 35, 'feature_fraction': 0.9526997834488734, 'bagging_fraction': 0.5914476569911132, 'lambda_l1': 0.6206686621449036, 'lambda_l2': 0.6640467139093217}. Best is trial 7 with value: 8.623798458216763.\n",
      "[I 2023-11-01 18:39:28,678] Trial 12 finished with value: 8.942845263100473 and parameters: {'objective': 'regression', 'max_depth': 9, 'n_estimators': 452, 'learning_rate': 0.017379695448962177, 'num_leaves': 30, 'feature_fraction': 0.9470168539565045, 'bagging_fraction': 0.3314830425484154, 'lambda_l1': 0.7116228210011823, 'lambda_l2': 0.004854490208104356}. Best is trial 7 with value: 8.623798458216763.\n",
      "[I 2023-11-01 18:40:12,150] Trial 13 finished with value: 9.48117874715715 and parameters: {'objective': 'regression', 'max_depth': 8, 'n_estimators': 453, 'learning_rate': 0.011177795707501551, 'num_leaves': 30, 'feature_fraction': 0.966296765846731, 'bagging_fraction': 0.3475610586282981, 'lambda_l1': 0.6912544758594528, 'lambda_l2': 0.010016165827548149}. Best is trial 7 with value: 8.623798458216763.\n",
      "[I 2023-11-01 18:40:19,477] Trial 14 finished with value: 9.873766079249332 and parameters: {'objective': 'regression', 'max_depth': 6, 'n_estimators': 436, 'learning_rate': 0.01032501182348212, 'num_leaves': 30, 'feature_fraction': 0.7789176221006864, 'bagging_fraction': 0.0008257519386330597, 'lambda_l1': 0.9920594608739498, 'lambda_l2': 0.01854706014295593}. Best is trial 7 with value: 8.623798458216763.\n",
      "[I 2023-11-01 18:40:38,401] Trial 15 finished with value: 9.255989538933257 and parameters: {'objective': 'regression', 'max_depth': 6, 'n_estimators': 200, 'learning_rate': 0.031178553007912974, 'num_leaves': 33, 'feature_fraction': 0.7861953586659839, 'bagging_fraction': 0.011994872224463604, 'lambda_l1': 0.42892780027888044, 'lambda_l2': 0.3651017209864358}. Best is trial 7 with value: 8.623798458216763.\n",
      "[I 2023-11-01 18:40:52,796] Trial 16 finished with value: 8.932286072659855 and parameters: {'objective': 'regression', 'max_depth': 12, 'n_estimators': 241, 'learning_rate': 0.032936501860820096, 'num_leaves': 34, 'feature_fraction': 0.7935154019800443, 'bagging_fraction': 0.9495525131682928, 'lambda_l1': 0.46377856961646635, 'lambda_l2': 0.38147197806871624}. Best is trial 7 with value: 8.623798458216763.\n",
      "[I 2023-11-01 18:41:32,591] Trial 17 finished with value: 8.705448278443624 and parameters: {'objective': 'regression', 'max_depth': 12, 'n_estimators': 529, 'learning_rate': 0.028455213323364772, 'num_leaves': 33, 'feature_fraction': 0.6541747798144149, 'bagging_fraction': 0.9549470094096979, 'lambda_l1': 0.5175834095940419, 'lambda_l2': 0.44520438957386266}. Best is trial 7 with value: 8.623798458216763.\n",
      "[I 2023-11-01 18:41:50,072] Trial 18 finished with value: 8.714992096199492 and parameters: {'objective': 'regression', 'max_depth': 9, 'n_estimators': 528, 'learning_rate': 0.02547783546879981, 'num_leaves': 38, 'feature_fraction': 0.6509757231958159, 'bagging_fraction': 0.8655015266088978, 'lambda_l1': 0.29006863622241785, 'lambda_l2': 0.1943041764946582}. Best is trial 7 with value: 8.623798458216763.\n",
      "[I 2023-11-01 18:42:01,754] Trial 19 finished with value: 8.91046980330593 and parameters: {'objective': 'regression', 'max_depth': 4, 'n_estimators': 530, 'learning_rate': 0.06417790143227371, 'num_leaves': 38, 'feature_fraction': 0.6393033870727823, 'bagging_fraction': 0.7715718070634634, 'lambda_l1': 0.23534270381940045, 'lambda_l2': 0.5206386452899932}. Best is trial 7 with value: 8.623798458216763.\n",
      "[I 2023-11-01 18:42:26,137] Trial 20 finished with value: 9.08372301986059 and parameters: {'objective': 'regression', 'max_depth': 5, 'n_estimators': 600, 'learning_rate': 0.06566237374415543, 'num_leaves': 44, 'feature_fraction': 0.507554335264509, 'bagging_fraction': 0.8274204698037547, 'lambda_l1': 0.5546521418627415, 'lambda_l2': 0.5166435375414602}. Best is trial 7 with value: 8.623798458216763.\n",
      "[I 2023-11-01 18:42:55,597] Trial 21 finished with value: 9.012765900400481 and parameters: {'objective': 'regression', 'max_depth': 12, 'n_estimators': 596, 'learning_rate': 0.04150070106037648, 'num_leaves': 45, 'feature_fraction': 0.47433551466605406, 'bagging_fraction': 0.399670241714014, 'lambda_l1': 0.5371071815277879, 'lambda_l2': 0.48122371857600715}. Best is trial 7 with value: 8.623798458216763.\n",
      "[I 2023-11-01 18:43:19,507] Trial 22 finished with value: 8.74131264004973 and parameters: {'objective': 'regression', 'max_depth': 9, 'n_estimators': 530, 'learning_rate': 0.024669886271948674, 'num_leaves': 32, 'feature_fraction': 0.6858331723974462, 'bagging_fraction': 0.9943402349873397, 'lambda_l1': 0.24348281062282123, 'lambda_l2': 0.3184159827227215}. Best is trial 7 with value: 8.623798458216763.\n",
      "[I 2023-11-01 18:43:51,711] Trial 23 finished with value: 8.705288397373858 and parameters: {'objective': 'regression', 'max_depth': 9, 'n_estimators': 520, 'learning_rate': 0.027175577339938292, 'num_leaves': 38, 'feature_fraction': 0.6646458316844065, 'bagging_fraction': 0.9926714114627943, 'lambda_l1': 0.3039918710314597, 'lambda_l2': 0.29636499568910424}. Best is trial 7 with value: 8.623798458216763.\n",
      "[I 2023-11-01 18:44:18,687] Trial 24 finished with value: 8.613135464156318 and parameters: {'objective': 'regression', 'max_depth': 9, 'n_estimators': 543, 'learning_rate': 0.0313290746582168, 'num_leaves': 38, 'feature_fraction': 0.6939044098024455, 'bagging_fraction': 0.8163024266124421, 'lambda_l1': 0.3823007847292561, 'lambda_l2': 0.22090081999706873}. Best is trial 24 with value: 8.613135464156318.\n",
      "[I 2023-11-01 18:44:42,276] Trial 25 finished with value: 8.639339574570549 and parameters: {'objective': 'regression', 'max_depth': 7, 'n_estimators': 484, 'learning_rate': 0.03510379025944687, 'num_leaves': 38, 'feature_fraction': 0.7177846813220619, 'bagging_fraction': 0.9984807481217503, 'lambda_l1': 0.3765188731308071, 'lambda_l2': 0.4175196697920603}. Best is trial 24 with value: 8.613135464156318.\n",
      "[I 2023-11-01 18:45:15,565] Trial 26 finished with value: 8.645301891557255 and parameters: {'objective': 'regression', 'max_depth': 7, 'n_estimators': 484, 'learning_rate': 0.03593564196878091, 'num_leaves': 38, 'feature_fraction': 0.8662145256794884, 'bagging_fraction': 0.7474493811267742, 'lambda_l1': 0.39084048592995946, 'lambda_l2': 0.2447604083774212}. Best is trial 24 with value: 8.613135464156318.\n",
      "[I 2023-11-01 18:45:38,814] Trial 27 finished with value: 8.90968359979493 and parameters: {'objective': 'regression_l1', 'max_depth': 7, 'n_estimators': 473, 'learning_rate': 0.044957909838733906, 'num_leaves': 39, 'feature_fraction': 0.8534445374175206, 'bagging_fraction': 0.7855755006805867, 'lambda_l1': 0.4028289720731809, 'lambda_l2': 0.23088904030728732}. Best is trial 24 with value: 8.613135464156318.\n",
      "[I 2023-11-01 18:46:19,189] Trial 28 finished with value: 8.860617401609504 and parameters: {'objective': 'regression_l1', 'max_depth': 8, 'n_estimators': 559, 'learning_rate': 0.04525549901892503, 'num_leaves': 39, 'feature_fraction': 0.7556192837207152, 'bagging_fraction': 0.789757770973619, 'lambda_l1': 0.4585807676589494, 'lambda_l2': 0.360388675641178}. Best is trial 24 with value: 8.613135464156318.\n",
      "[I 2023-11-01 18:46:36,903] Trial 29 finished with value: 8.628345535933143 and parameters: {'objective': 'regression', 'max_depth': 8, 'n_estimators': 563, 'learning_rate': 0.03671390346068544, 'num_leaves': 36, 'feature_fraction': 0.7280264600586638, 'bagging_fraction': 0.8549119057404695, 'lambda_l1': 0.460069537027349, 'lambda_l2': 0.34535213520470687}. Best is trial 24 with value: 8.613135464156318.\n",
      "[I 2023-11-01 18:46:51,822] Trial 30 finished with value: 9.092956456880538 and parameters: {'objective': 'regression', 'max_depth': 5, 'n_estimators': 433, 'learning_rate': 0.03568195712230028, 'num_leaves': 36, 'feature_fraction': 0.5615333620860057, 'bagging_fraction': 0.49340838775716206, 'lambda_l1': 0.19256217216122262, 'lambda_l2': 0.12169525269589528}. Best is trial 24 with value: 8.613135464156318.\n",
      "[I 2023-11-01 18:47:28,667] Trial 31 finished with value: 8.759863554948904 and parameters: {'objective': 'regression', 'max_depth': 8, 'n_estimators': 562, 'learning_rate': 0.035259938009654074, 'num_leaves': 36, 'feature_fraction': 0.5816391595067318, 'bagging_fraction': 0.5396011188882959, 'lambda_l1': 0.1871162715763754, 'lambda_l2': 0.12335236336362701}. Best is trial 24 with value: 8.613135464156318.\n",
      "[I 2023-11-01 18:47:49,834] Trial 32 finished with value: 8.586480734333778 and parameters: {'objective': 'regression', 'max_depth': 8, 'n_estimators': 556, 'learning_rate': 0.03324502673666754, 'num_leaves': 35, 'feature_fraction': 0.7346612445414833, 'bagging_fraction': 0.8517301373886161, 'lambda_l1': 0.34287150257096993, 'lambda_l2': 0.17994593469905484}. Best is trial 32 with value: 8.586480734333778.\n",
      "[I 2023-11-01 18:48:21,919] Trial 33 finished with value: 8.613566918182725 and parameters: {'objective': 'regression', 'max_depth': 7, 'n_estimators': 551, 'learning_rate': 0.03844089130917012, 'num_leaves': 35, 'feature_fraction': 0.7230445789735904, 'bagging_fraction': 0.8730313187592604, 'lambda_l1': 0.34121406206938565, 'lambda_l2': 0.3265396660564859}. Best is trial 32 with value: 8.586480734333778.\n",
      "[I 2023-11-01 18:48:54,532] Trial 34 finished with value: 8.593661200130732 and parameters: {'objective': 'regression', 'max_depth': 8, 'n_estimators': 555, 'learning_rate': 0.041234153470487936, 'num_leaves': 32, 'feature_fraction': 0.9983595747381105, 'bagging_fraction': 0.8534910156312361, 'lambda_l1': 0.3451452666640743, 'lambda_l2': 0.20222964246243688}. Best is trial 32 with value: 8.586480734333778.\n",
      "[I 2023-11-01 18:49:15,262] Trial 35 finished with value: 8.628076581137632 and parameters: {'objective': 'regression', 'max_depth': 6, 'n_estimators': 582, 'learning_rate': 0.04103307467985148, 'num_leaves': 32, 'feature_fraction': 0.7940297979090614, 'bagging_fraction': 0.7008737249754257, 'lambda_l1': 0.32190334706156243, 'lambda_l2': 0.19461313965100166}. Best is trial 32 with value: 8.586480734333778.\n",
      "[I 2023-11-01 18:49:54,321] Trial 36 finished with value: 8.609572043242169 and parameters: {'objective': 'regression', 'max_depth': 6, 'n_estimators': 583, 'learning_rate': 0.05283860712477966, 'num_leaves': 32, 'feature_fraction': 0.9969924760442381, 'bagging_fraction': 0.7055540174053612, 'lambda_l1': 0.323914324176203, 'lambda_l2': 0.18192558953343532}. Best is trial 32 with value: 8.586480734333778.\n",
      "[I 2023-11-01 18:50:22,898] Trial 37 finished with value: 8.568896801735464 and parameters: {'objective': 'regression', 'max_depth': 11, 'n_estimators': 553, 'learning_rate': 0.052442576395165745, 'num_leaves': 34, 'feature_fraction': 0.9999565400669257, 'bagging_fraction': 0.8364332032059214, 'lambda_l1': 0.35614301381227675, 'lambda_l2': 0.21772305058662877}. Best is trial 37 with value: 8.568896801735464.\n",
      "[I 2023-11-01 18:50:47,303] Trial 38 finished with value: 8.715103938389774 and parameters: {'objective': 'regression', 'max_depth': 5, 'n_estimators': 581, 'learning_rate': 0.05199586731559464, 'num_leaves': 32, 'feature_fraction': 0.991092446066072, 'bagging_fraction': 0.7137712613057746, 'lambda_l1': 0.10829319407965932, 'lambda_l2': 0.07886421771970714}. Best is trial 37 with value: 8.568896801735464.\n",
      "[I 2023-11-01 18:51:36,891] Trial 39 finished with value: 8.86310176298616 and parameters: {'objective': 'regression_l1', 'max_depth': 11, 'n_estimators': 577, 'learning_rate': 0.05591386757932987, 'num_leaves': 32, 'feature_fraction': 0.9984629940154119, 'bagging_fraction': 0.9155264430410834, 'lambda_l1': 0.08940039404592459, 'lambda_l2': 0.07918300994854385}. Best is trial 37 with value: 8.568896801735464.\n",
      "[I 2023-11-01 18:51:54,990] Trial 40 finished with value: 8.833433430107638 and parameters: {'objective': 'regression_l1', 'max_depth': 11, 'n_estimators': 505, 'learning_rate': 0.0567945751914543, 'num_leaves': 31, 'feature_fraction': 0.9932568491748888, 'bagging_fraction': 0.903996785065642, 'lambda_l1': 0.24575777873066984, 'lambda_l2': 0.16133380913054346}. Best is trial 37 with value: 8.568896801735464.\n",
      "[I 2023-11-01 18:52:38,354] Trial 41 finished with value: 8.54915757739488 and parameters: {'objective': 'regression', 'max_depth': 11, 'n_estimators': 503, 'learning_rate': 0.0563021693672095, 'num_leaves': 31, 'feature_fraction': 0.9273042767171089, 'bagging_fraction': 0.658510673817469, 'lambda_l1': 0.24085395190357317, 'lambda_l2': 0.1731054660264159}. Best is trial 41 with value: 8.54915757739488.\n",
      "[I 2023-11-01 18:53:04,192] Trial 42 finished with value: 8.63617180977546 and parameters: {'objective': 'regression', 'max_depth': 9, 'n_estimators': 547, 'learning_rate': 0.04619571645700641, 'num_leaves': 34, 'feature_fraction': 0.9375922356285256, 'bagging_fraction': 0.8201623913044396, 'lambda_l1': 0.35487165930060455, 'lambda_l2': 0.2243377638798988}. Best is trial 41 with value: 8.54915757739488.\n",
      "[I 2023-11-01 18:53:44,139] Trial 43 finished with value: 8.544851181864713 and parameters: {'objective': 'regression', 'max_depth': 11, 'n_estimators': 545, 'learning_rate': 0.049428423725247736, 'num_leaves': 34, 'feature_fraction': 0.9195231105245096, 'bagging_fraction': 0.6597185705080365, 'lambda_l1': 0.35313054781949466, 'lambda_l2': 0.27617727898186983}. Best is trial 43 with value: 8.544851181864713.\n",
      "[I 2023-11-01 18:54:06,981] Trial 44 finished with value: 8.551861423102498 and parameters: {'objective': 'regression', 'max_depth': 11, 'n_estimators': 568, 'learning_rate': 0.060011134360414525, 'num_leaves': 31, 'feature_fraction': 0.9148172510433931, 'bagging_fraction': 0.6914213806965307, 'lambda_l1': 0.2688525347775537, 'lambda_l2': 0.28327914312069247}. Best is trial 43 with value: 8.544851181864713.\n",
      "[I 2023-11-01 18:54:43,189] Trial 45 finished with value: 8.616606434442902 and parameters: {'objective': 'regression', 'max_depth': 11, 'n_estimators': 512, 'learning_rate': 0.06025652310356714, 'num_leaves': 34, 'feature_fraction': 0.8893867892284465, 'bagging_fraction': 0.6329100433591435, 'lambda_l1': 0.42129176813152824, 'lambda_l2': 0.27498642436739557}. Best is trial 43 with value: 8.544851181864713.\n",
      "[I 2023-11-01 18:55:07,387] Trial 46 finished with value: 8.511438769615786 and parameters: {'objective': 'regression', 'max_depth': 11, 'n_estimators': 511, 'learning_rate': 0.06036512408063123, 'num_leaves': 34, 'feature_fraction': 0.9098947358405132, 'bagging_fraction': 0.6319200029882311, 'lambda_l1': 0.2661045551756977, 'lambda_l2': 0.2532000895176094}. Best is trial 46 with value: 8.511438769615786.\n",
      "[I 2023-11-01 18:55:36,400] Trial 47 finished with value: 8.567292899980352 and parameters: {'objective': 'regression', 'max_depth': 11, 'n_estimators': 468, 'learning_rate': 0.07004041520769452, 'num_leaves': 31, 'feature_fraction': 0.9188719785053495, 'bagging_fraction': 0.6718566343044861, 'lambda_l1': 0.2824658717816629, 'lambda_l2': 0.2853493720676537}. Best is trial 46 with value: 8.511438769615786.\n",
      "[I 2023-11-01 18:56:00,670] Trial 48 finished with value: 8.57854141238859 and parameters: {'objective': 'regression', 'max_depth': 10, 'n_estimators': 469, 'learning_rate': 0.06951273949646232, 'num_leaves': 31, 'feature_fraction': 0.9168596850472586, 'bagging_fraction': 0.6524980107229277, 'lambda_l1': 0.2801123415475282, 'lambda_l2': 0.2673266971311312}. Best is trial 46 with value: 8.511438769615786.\n",
      "[I 2023-11-01 18:56:26,682] Trial 49 finished with value: 8.638631888155029 and parameters: {'objective': 'regression', 'max_depth': 10, 'n_estimators': 413, 'learning_rate': 0.07253147197385307, 'num_leaves': 31, 'feature_fraction': 0.9382233280689399, 'bagging_fraction': 0.6518805146870396, 'lambda_l1': 0.2651795405244244, 'lambda_l2': 0.266900167032861}. Best is trial 46 with value: 8.511438769615786.\n",
      "[I 2023-11-01 18:56:48,214] Trial 50 finished with value: 8.612377265897058 and parameters: {'objective': 'regression', 'max_depth': 10, 'n_estimators': 409, 'learning_rate': 0.0694621796289456, 'num_leaves': 31, 'feature_fraction': 0.8555893734593866, 'bagging_fraction': 0.6616394296760078, 'lambda_l1': 0.16881284105331223, 'lambda_l2': 0.28611106725800667}. Best is trial 46 with value: 8.511438769615786.\n",
      "[I 2023-11-01 18:57:26,141] Trial 51 finished with value: 8.834362225749853 and parameters: {'objective': 'regression_l1', 'max_depth': 11, 'n_estimators': 391, 'learning_rate': 0.07685249821200447, 'num_leaves': 50, 'feature_fraction': 0.8256371645959397, 'bagging_fraction': 0.5918491956065742, 'lambda_l1': 0.1868643654997609, 'lambda_l2': 0.31329027848051355}. Best is trial 46 with value: 8.511438769615786.\n",
      "[I 2023-11-01 18:57:45,581] Trial 52 finished with value: 8.562553758065592 and parameters: {'objective': 'regression', 'max_depth': 11, 'n_estimators': 511, 'learning_rate': 0.05980624079872752, 'num_leaves': 30, 'feature_fraction': 0.9158289482245893, 'bagging_fraction': 0.598006391522496, 'lambda_l1': 0.2190004478953341, 'lambda_l2': 0.3212404777917821}. Best is trial 46 with value: 8.511438769615786.\n",
      "[I 2023-11-01 18:58:42,411] Trial 53 finished with value: 8.600721267294617 and parameters: {'objective': 'regression', 'max_depth': 11, 'n_estimators': 505, 'learning_rate': 0.060490683457505516, 'num_leaves': 34, 'feature_fraction': 0.8955408970118766, 'bagging_fraction': 0.7449878699420627, 'lambda_l1': 0.22528979604304264, 'lambda_l2': 0.14891773943837436}. Best is trial 46 with value: 8.511438769615786.\n",
      "[I 2023-11-01 18:59:06,425] Trial 54 finished with value: 8.59198382693452 and parameters: {'objective': 'regression', 'max_depth': 12, 'n_estimators': 496, 'learning_rate': 0.059572452508475836, 'num_leaves': 30, 'feature_fraction': 0.9087794315082349, 'bagging_fraction': 0.609557331246822, 'lambda_l1': 0.23674417838710776, 'lambda_l2': 0.3878579478039066}. Best is trial 46 with value: 8.511438769615786.\n",
      "[I 2023-11-01 18:59:56,345] Trial 55 finished with value: 8.57379061632331 and parameters: {'objective': 'regression', 'max_depth': 12, 'n_estimators': 492, 'learning_rate': 0.05923838052087973, 'num_leaves': 30, 'feature_fraction': 0.9116738813491717, 'bagging_fraction': 0.610559476813481, 'lambda_l1': 0.14434177395484837, 'lambda_l2': 0.38137976760355696}. Best is trial 46 with value: 8.511438769615786.\n",
      "[I 2023-11-01 19:00:16,645] Trial 56 finished with value: 8.655607803551936 and parameters: {'objective': 'regression', 'max_depth': 12, 'n_estimators': 458, 'learning_rate': 0.05052032716609154, 'num_leaves': 30, 'feature_fraction': 0.9500308990245011, 'bagging_fraction': 0.5489614377442422, 'lambda_l1': 0.28472473814357646, 'lambda_l2': 0.333539099784374}. Best is trial 46 with value: 8.511438769615786.\n",
      "[I 2023-11-01 19:01:02,638] Trial 57 finished with value: 8.617924029127675 and parameters: {'objective': 'regression', 'max_depth': 10, 'n_estimators': 458, 'learning_rate': 0.049751883348756194, 'num_leaves': 33, 'feature_fraction': 0.8269484375746905, 'bagging_fraction': 0.5593282539233743, 'lambda_l1': 0.2925763678222797, 'lambda_l2': 0.33999466696571906}. Best is trial 46 with value: 8.511438769615786.\n",
      "[I 2023-11-01 19:01:19,762] Trial 58 finished with value: 8.596974629431289 and parameters: {'objective': 'regression', 'max_depth': 11, 'n_estimators': 432, 'learning_rate': 0.05626090966055368, 'num_leaves': 33, 'feature_fraction': 0.8301236307149574, 'bagging_fraction': 0.6882275632016787, 'lambda_l1': 0.21777470606872307, 'lambda_l2': 0.24517830244749336}. Best is trial 46 with value: 8.511438769615786.\n",
      "[I 2023-11-01 19:01:53,152] Trial 59 finished with value: 8.615813643089067 and parameters: {'objective': 'regression', 'max_depth': 11, 'n_estimators': 360, 'learning_rate': 0.06303021644346882, 'num_leaves': 33, 'feature_fraction': 0.8738498639354968, 'bagging_fraction': 0.6855537490338087, 'lambda_l1': 0.27463165375286586, 'lambda_l2': 0.249270364968387}. Best is trial 46 with value: 8.511438769615786.\n",
      "[I 2023-11-01 19:02:05,708] Trial 60 finished with value: 8.659969011868554 and parameters: {'objective': 'regression', 'max_depth': 10, 'n_estimators': 316, 'learning_rate': 0.05465601278304509, 'num_leaves': 31, 'feature_fraction': 0.9460333927877134, 'bagging_fraction': 0.6761065651926864, 'lambda_l1': 0.2516707284002885, 'lambda_l2': 0.3088544792314995}. Best is trial 46 with value: 8.511438769615786.\n",
      "[I 2023-11-01 19:02:59,455] Trial 61 finished with value: 8.54748957662301 and parameters: {'objective': 'regression', 'max_depth': 10, 'n_estimators': 537, 'learning_rate': 0.05524298050611876, 'num_leaves': 31, 'feature_fraction': 0.9303237826847722, 'bagging_fraction': 0.630731210501846, 'lambda_l1': 0.21326228631374358, 'lambda_l2': 0.28562412568004447}. Best is trial 46 with value: 8.511438769615786.\n",
      "[I 2023-11-01 19:03:19,382] Trial 62 finished with value: 8.537366022819834 and parameters: {'objective': 'regression', 'max_depth': 12, 'n_estimators': 534, 'learning_rate': 0.04829730660682263, 'num_leaves': 35, 'feature_fraction': 0.9629865105247922, 'bagging_fraction': 0.6262164798139019, 'lambda_l1': 0.3111274507286308, 'lambda_l2': 0.20571138542174502}. Best is trial 46 with value: 8.511438769615786.\n",
      "[I 2023-11-01 19:04:04,227] Trial 63 finished with value: 8.521813440042598 and parameters: {'objective': 'regression', 'max_depth': 11, 'n_estimators': 534, 'learning_rate': 0.06431450233696301, 'num_leaves': 31, 'feature_fraction': 0.9119267368944687, 'bagging_fraction': 0.6200794290540843, 'lambda_l1': 0.2093414810434689, 'lambda_l2': 0.2915271101235124}. Best is trial 46 with value: 8.511438769615786.\n",
      "[I 2023-11-01 19:04:32,103] Trial 64 finished with value: 8.586238954472389 and parameters: {'objective': 'regression', 'max_depth': 12, 'n_estimators': 520, 'learning_rate': 0.04784009470036579, 'num_leaves': 35, 'feature_fraction': 0.9546617122477138, 'bagging_fraction': 0.616959558465014, 'lambda_l1': 0.2036422764528445, 'lambda_l2': 0.2390182255537865}. Best is trial 46 with value: 8.511438769615786.\n",
      "[I 2023-11-01 19:05:21,405] Trial 65 finished with value: 8.599596694705964 and parameters: {'objective': 'regression', 'max_depth': 12, 'n_estimators': 534, 'learning_rate': 0.04954093549903836, 'num_leaves': 37, 'feature_fraction': 0.9572480122882737, 'bagging_fraction': 0.6356622880961695, 'lambda_l1': 0.1440390405562404, 'lambda_l2': 0.1701199135652723}. Best is trial 46 with value: 8.511438769615786.\n",
      "[I 2023-11-01 19:05:45,160] Trial 66 finished with value: 8.60656780030432 and parameters: {'objective': 'regression', 'max_depth': 12, 'n_estimators': 536, 'learning_rate': 0.05438033785375534, 'num_leaves': 37, 'feature_fraction': 0.858943542199602, 'bagging_fraction': 0.6376908457946768, 'lambda_l1': 0.32007510060617816, 'lambda_l2': 0.17114790772881236}. Best is trial 46 with value: 8.511438769615786.\n",
      "[I 2023-11-01 19:06:36,226] Trial 67 finished with value: 8.504399424241976 and parameters: {'objective': 'regression', 'max_depth': 10, 'n_estimators': 539, 'learning_rate': 0.056069517163817695, 'num_leaves': 43, 'feature_fraction': 0.8818873255404363, 'bagging_fraction': 0.7261165070779398, 'lambda_l1': 0.25124986824478324, 'lambda_l2': 0.13353455715834284}. Best is trial 67 with value: 8.504399424241976.\n",
      "[I 2023-11-01 19:07:01,262] Trial 68 finished with value: 8.526040215732372 and parameters: {'objective': 'regression', 'max_depth': 10, 'n_estimators': 573, 'learning_rate': 0.06463667832548334, 'num_leaves': 42, 'feature_fraction': 0.8905358114940077, 'bagging_fraction': 0.731642771996879, 'lambda_l1': 0.2612684794979586, 'lambda_l2': 0.28610258544542827}. Best is trial 67 with value: 8.504399424241976.\n",
      "[I 2023-11-01 19:07:56,257] Trial 69 finished with value: 8.86995077779487 and parameters: {'objective': 'regression_l1', 'max_depth': 10, 'n_estimators': 520, 'learning_rate': 0.043882698862615796, 'num_leaves': 43, 'feature_fraction': 0.8797461319770344, 'bagging_fraction': 0.7235364559966355, 'lambda_l1': 0.16273276771314177, 'lambda_l2': 0.12220435000089991}. Best is trial 67 with value: 8.504399424241976.\n",
      "[I 2023-11-01 19:08:27,213] Trial 70 finished with value: 8.840101167716554 and parameters: {'objective': 'regression_l1', 'max_depth': 10, 'n_estimators': 597, 'learning_rate': 0.06621763345752935, 'num_leaves': 42, 'feature_fraction': 0.8839176946693779, 'bagging_fraction': 0.7344546093030885, 'lambda_l1': 0.16733204860979875, 'lambda_l2': 0.12154681334498678}. Best is trial 67 with value: 8.504399424241976.\n",
      "[I 2023-11-01 19:09:07,807] Trial 71 finished with value: 8.578793943538626 and parameters: {'objective': 'regression', 'max_depth': 9, 'n_estimators': 594, 'learning_rate': 0.06479350272317413, 'num_leaves': 41, 'feature_fraction': 0.8021030144134705, 'bagging_fraction': 0.7450249461687372, 'lambda_l1': 0.11301485581276793, 'lambda_l2': 0.42232044312507355}. Best is trial 67 with value: 8.504399424241976.\n",
      "[I 2023-11-01 19:09:41,506] Trial 72 finished with value: 8.555116706752184 and parameters: {'objective': 'regression', 'max_depth': 9, 'n_estimators': 543, 'learning_rate': 0.047557023171661945, 'num_leaves': 45, 'feature_fraction': 0.8250856562463693, 'bagging_fraction': 0.7743076877342041, 'lambda_l1': 0.24554323861060273, 'lambda_l2': 0.21382084982165647}. Best is trial 67 with value: 8.504399424241976.\n",
      "[I 2023-11-01 19:10:24,855] Trial 73 finished with value: 8.544561521584196 and parameters: {'objective': 'regression', 'max_depth': 10, 'n_estimators': 542, 'learning_rate': 0.04814855004173985, 'num_leaves': 46, 'feature_fraction': 0.8418137699544886, 'bagging_fraction': 0.7652099176379907, 'lambda_l1': 0.3059955492781248, 'lambda_l2': 0.21566242306404726}. Best is trial 67 with value: 8.504399424241976.\n",
      "[I 2023-11-01 19:11:03,911] Trial 74 finished with value: 8.563853492628434 and parameters: {'objective': 'regression', 'max_depth': 11, 'n_estimators': 539, 'learning_rate': 0.05672409973083964, 'num_leaves': 43, 'feature_fraction': 0.9551896434404002, 'bagging_fraction': 0.5649258096044676, 'lambda_l1': 0.20704272973741972, 'lambda_l2': 0.1966755911317502}. Best is trial 67 with value: 8.504399424241976.\n",
      "[I 2023-11-01 19:11:54,517] Trial 75 finished with value: 8.51635701664493 and parameters: {'objective': 'regression', 'max_depth': 10, 'n_estimators': 571, 'learning_rate': 0.05125916685298476, 'num_leaves': 47, 'feature_fraction': 0.9668470072020412, 'bagging_fraction': 0.5677763567542451, 'lambda_l1': 0.31672420487999425, 'lambda_l2': 0.24522168112771836}. Best is trial 67 with value: 8.504399424241976.\n",
      "[I 2023-11-01 19:12:21,946] Trial 76 finished with value: 8.535973572523199 and parameters: {'objective': 'regression', 'max_depth': 10, 'n_estimators': 564, 'learning_rate': 0.052070517740431546, 'num_leaves': 48, 'feature_fraction': 0.7681832865658846, 'bagging_fraction': 0.7631631958062225, 'lambda_l1': 0.3133127629721888, 'lambda_l2': 0.2542991256295892}. Best is trial 67 with value: 8.504399424241976.\n",
      "[I 2023-11-01 19:13:26,863] Trial 77 finished with value: 8.504870692981406 and parameters: {'objective': 'regression', 'max_depth': 10, 'n_estimators': 571, 'learning_rate': 0.052064460685955466, 'num_leaves': 47, 'feature_fraction': 0.973329207130494, 'bagging_fraction': 0.5071239041259741, 'lambda_l1': 0.3713101401104803, 'lambda_l2': 0.2531873634245136}. Best is trial 67 with value: 8.504399424241976.\n",
      "[I 2023-11-01 19:13:43,709] Trial 78 finished with value: 8.50605791263531 and parameters: {'objective': 'regression', 'max_depth': 10, 'n_estimators': 570, 'learning_rate': 0.052181511797881386, 'num_leaves': 46, 'feature_fraction': 0.778619609791805, 'bagging_fraction': 0.8012522880570112, 'lambda_l1': 0.30395320631375794, 'lambda_l2': 0.23449338953537258}. Best is trial 67 with value: 8.504399424241976.\n",
      "[I 2023-11-01 19:15:02,713] Trial 79 finished with value: 8.535881269040567 and parameters: {'objective': 'regression', 'max_depth': 9, 'n_estimators': 570, 'learning_rate': 0.051817356957432635, 'num_leaves': 48, 'feature_fraction': 0.9663096338449638, 'bagging_fraction': 0.5180545397208933, 'lambda_l1': 0.3924734924832106, 'lambda_l2': 0.2562547188845865}. Best is trial 67 with value: 8.504399424241976.\n",
      "[I 2023-11-01 19:15:10,522] Trial 80 finished with value: 8.528687297161836 and parameters: {'objective': 'regression', 'max_depth': 9, 'n_estimators': 575, 'learning_rate': 0.05277372205272401, 'num_leaves': 48, 'feature_fraction': 0.7819175660065616, 'bagging_fraction': 0.5167841270287548, 'lambda_l1': 0.3788186700301951, 'lambda_l2': 0.2515459970653045}. Best is trial 67 with value: 8.504399424241976.\n",
      "[I 2023-11-01 19:16:22,713] Trial 81 finished with value: 8.537241622207416 and parameters: {'objective': 'regression', 'max_depth': 9, 'n_estimators': 575, 'learning_rate': 0.06271517457401504, 'num_leaves': 47, 'feature_fraction': 0.882875529066282, 'bagging_fraction': 0.520786700077301, 'lambda_l1': 0.37876487003230647, 'lambda_l2': 0.3505635998676925}. Best is trial 67 with value: 8.504399424241976.\n",
      "[I 2023-11-01 19:16:36,366] Trial 82 finished with value: 8.513873166390079 and parameters: {'objective': 'regression', 'max_depth': 9, 'n_estimators': 571, 'learning_rate': 0.05146121574259408, 'num_leaves': 47, 'feature_fraction': 0.9765492285564995, 'bagging_fraction': 0.5099134615580402, 'lambda_l1': 0.3787623953404448, 'lambda_l2': 0.23977369188795952}. Best is trial 67 with value: 8.504399424241976.\n",
      "[I 2023-11-01 19:17:50,932] Trial 83 finished with value: 8.509828991820752 and parameters: {'objective': 'regression', 'max_depth': 9, 'n_estimators': 572, 'learning_rate': 0.053080219696955984, 'num_leaves': 49, 'feature_fraction': 0.9756982918779363, 'bagging_fraction': 0.4599066811816908, 'lambda_l1': 0.41082380748592606, 'lambda_l2': 0.23902041422652864}. Best is trial 67 with value: 8.504399424241976.\n",
      "[I 2023-11-01 19:17:58,393] Trial 84 finished with value: 8.523220546194347 and parameters: {'objective': 'regression', 'max_depth': 9, 'n_estimators': 589, 'learning_rate': 0.05350552076654729, 'num_leaves': 47, 'feature_fraction': 0.853535936866797, 'bagging_fraction': 0.46183551395870653, 'lambda_l1': 0.4204834566391926, 'lambda_l2': 0.3053319453667957}. Best is trial 67 with value: 8.504399424241976.\n",
      "[I 2023-11-01 19:19:29,494] Trial 85 finished with value: 8.532647423688262 and parameters: {'objective': 'regression', 'max_depth': 10, 'n_estimators': 588, 'learning_rate': 0.05739518527937688, 'num_leaves': 49, 'feature_fraction': 0.9827356252492911, 'bagging_fraction': 0.5801608701280259, 'lambda_l1': 0.4200130684156983, 'lambda_l2': 0.29996188692474973}. Best is trial 67 with value: 8.504399424241976.\n",
      "[I 2023-11-01 19:19:37,178] Trial 86 finished with value: 8.527394904728064 and parameters: {'objective': 'regression', 'max_depth': 9, 'n_estimators': 589, 'learning_rate': 0.04425044963796457, 'num_leaves': 49, 'feature_fraction': 0.9744495015025397, 'bagging_fraction': 0.46524528717464253, 'lambda_l1': 0.4262488484447157, 'lambda_l2': 0.23565202666642102}. Best is trial 67 with value: 8.504399424241976.\n",
      "[I 2023-11-01 19:21:14,336] Trial 87 finished with value: 8.582917989384576 and parameters: {'objective': 'regression', 'max_depth': 9, 'n_estimators': 585, 'learning_rate': 0.042697505460631606, 'num_leaves': 46, 'feature_fraction': 0.9802135836480803, 'bagging_fraction': 0.47622223858490975, 'lambda_l1': 0.4873095027014031, 'lambda_l2': 0.142097201187735}. Best is trial 67 with value: 8.504399424241976.\n",
      "[I 2023-11-01 19:21:15,992] Trial 88 finished with value: 8.514069419461716 and parameters: {'objective': 'regression', 'max_depth': 9, 'n_estimators': 557, 'learning_rate': 0.05464032740591379, 'num_leaves': 46, 'feature_fraction': 0.979959132949775, 'bagging_fraction': 0.4746258677999711, 'lambda_l1': 0.4852813261728302, 'lambda_l2': 0.31437518950965687}. Best is trial 67 with value: 8.504399424241976.\n",
      "[I 2023-11-01 19:22:32,965] Trial 89 finished with value: 8.528048006433725 and parameters: {'objective': 'regression', 'max_depth': 8, 'n_estimators': 556, 'learning_rate': 0.05361430586197994, 'num_leaves': 47, 'feature_fraction': 0.86176629522434, 'bagging_fraction': 0.4352973336483107, 'lambda_l1': 0.44681985071699143, 'lambda_l2': 0.22761670873109013}. Best is trial 67 with value: 8.504399424241976.\n",
      "[I 2023-11-01 19:22:36,990] Trial 90 finished with value: 8.559986217952488 and parameters: {'objective': 'regression', 'max_depth': 8, 'n_estimators': 554, 'learning_rate': 0.05069967359032649, 'num_leaves': 47, 'feature_fraction': 0.9351520121409982, 'bagging_fraction': 0.43160861491247454, 'lambda_l1': 0.45458291820908525, 'lambda_l2': 0.1891391296958199}. Best is trial 67 with value: 8.504399424241976.\n",
      "[I 2023-11-01 19:24:05,577] Trial 91 finished with value: 8.545466261484709 and parameters: {'objective': 'regression', 'max_depth': 10, 'n_estimators': 564, 'learning_rate': 0.04654821110544333, 'num_leaves': 46, 'feature_fraction': 0.9422268862183595, 'bagging_fraction': 0.5340759264276939, 'lambda_l1': 0.3362992438212628, 'lambda_l2': 0.36796733130079406}. Best is trial 67 with value: 8.504399424241976.\n",
      "[I 2023-11-01 19:24:10,744] Trial 92 finished with value: 8.493674196666912 and parameters: {'objective': 'regression', 'max_depth': 9, 'n_estimators': 600, 'learning_rate': 0.054000071052298246, 'num_leaves': 46, 'feature_fraction': 0.9756440654090341, 'bagging_fraction': 0.5375671231124836, 'lambda_l1': 0.4095974631147241, 'lambda_l2': 0.32914841988173693}. Best is trial 92 with value: 8.493674196666912.\n",
      "[I 2023-11-01 19:25:26,095] Trial 93 finished with value: 8.523521234908143 and parameters: {'objective': 'regression', 'max_depth': 9, 'n_estimators': 526, 'learning_rate': 0.05787351668562763, 'num_leaves': 45, 'feature_fraction': 0.8989339906414363, 'bagging_fraction': 0.49891304209949394, 'lambda_l1': 0.40271225885068923, 'lambda_l2': 0.32288097698515283}. Best is trial 92 with value: 8.493674196666912.\n",
      "[I 2023-11-01 19:25:34,498] Trial 94 finished with value: 8.550509917468847 and parameters: {'objective': 'regression', 'max_depth': 9, 'n_estimators': 523, 'learning_rate': 0.05750969295280541, 'num_leaves': 45, 'feature_fraction': 0.979539937515088, 'bagging_fraction': 0.4981276685227418, 'lambda_l1': 0.40512332576872906, 'lambda_l2': 0.3292309329262696}. Best is trial 92 with value: 8.493674196666912.\n",
      "[I 2023-11-01 19:26:50,093] Trial 95 finished with value: 8.539597292671097 and parameters: {'objective': 'regression', 'max_depth': 10, 'n_estimators': 565, 'learning_rate': 0.05477747853518976, 'num_leaves': 45, 'feature_fraction': 0.9741038028900825, 'bagging_fraction': 0.5714973088347808, 'lambda_l1': 0.3550339423198762, 'lambda_l2': 0.342850583365603}. Best is trial 92 with value: 8.493674196666912.\n",
      "[I 2023-11-01 19:27:02,337] Trial 96 finished with value: 8.512414641842792 and parameters: {'objective': 'regression', 'max_depth': 8, 'n_estimators': 599, 'learning_rate': 0.05487565672947665, 'num_leaves': 50, 'feature_fraction': 0.969643165655634, 'bagging_fraction': 0.5607948099037582, 'lambda_l1': 0.3551153064067914, 'lambda_l2': 0.2253893885364595}. Best is trial 92 with value: 8.493674196666912.\n",
      "[I 2023-11-01 19:28:22,155] Trial 97 finished with value: 8.551604892214947 and parameters: {'objective': 'regression', 'max_depth': 10, 'n_estimators': 578, 'learning_rate': 0.0509149111305414, 'num_leaves': 49, 'feature_fraction': 0.9983317995938947, 'bagging_fraction': 0.5424016040297452, 'lambda_l1': 0.4885551259501911, 'lambda_l2': 0.26797282826225677}. Best is trial 92 with value: 8.493674196666912.\n",
      "[I 2023-11-01 19:28:36,454] Trial 98 finished with value: 8.809188012732013 and parameters: {'objective': 'regression_l1', 'max_depth': 8, 'n_estimators': 597, 'learning_rate': 0.049980445836234996, 'num_leaves': 50, 'feature_fraction': 0.9702376417801678, 'bagging_fraction': 0.5433772057295868, 'lambda_l1': 0.48392867047572286, 'lambda_l2': 0.2654540020114499}. Best is trial 92 with value: 8.493674196666912.\n",
      "[I 2023-11-01 19:29:53,962] Trial 100 finished with value: 8.564009724780188 and parameters: {'objective': 'regression', 'max_depth': 8, 'n_estimators': 549, 'learning_rate': 0.04594793902330287, 'num_leaves': 44, 'feature_fraction': 0.9347383836952935, 'bagging_fraction': 0.5802066188123266, 'lambda_l1': 0.37082049229277464, 'lambda_l2': 0.19645186600716044}. Best is trial 92 with value: 8.493674196666912.\n",
      "[I 2023-11-01 19:29:56,973] Trial 99 finished with value: 8.81099597958608 and parameters: {'objective': 'regression_l1', 'max_depth': 8, 'n_estimators': 596, 'learning_rate': 0.04607974480237991, 'num_leaves': 50, 'feature_fraction': 0.9642444630042734, 'bagging_fraction': 0.5735419396464758, 'lambda_l1': 0.35908088120473913, 'lambda_l2': 0.22393048612910285}. Best is trial 92 with value: 8.493674196666912.\n",
      "[I 2023-11-01 19:31:21,329] Trial 101 finished with value: 8.506193625741316 and parameters: {'objective': 'regression', 'max_depth': 9, 'n_estimators': 582, 'learning_rate': 0.054472890806071234, 'num_leaves': 46, 'feature_fraction': 0.953597282564182, 'bagging_fraction': 0.5613465943247495, 'lambda_l1': 0.3348799521470807, 'lambda_l2': 0.22803652935824423}. Best is trial 92 with value: 8.493674196666912.\n",
      "[I 2023-11-01 19:31:22,381] Trial 102 finished with value: 8.554754693372887 and parameters: {'objective': 'regression', 'max_depth': 9, 'n_estimators': 600, 'learning_rate': 0.06160492100711684, 'num_leaves': 46, 'feature_fraction': 0.9022142353512461, 'bagging_fraction': 0.5936208920219392, 'lambda_l1': 0.33283210888516856, 'lambda_l2': 0.3032491577350655}. Best is trial 92 with value: 8.493674196666912.\n",
      "[I 2023-11-01 19:32:42,717] Trial 103 finished with value: 8.52554843209368 and parameters: {'objective': 'regression', 'max_depth': 9, 'n_estimators': 569, 'learning_rate': 0.054403048029021746, 'num_leaves': 46, 'feature_fraction': 0.9303334882030536, 'bagging_fraction': 0.48343465589578005, 'lambda_l1': 0.33300383117903487, 'lambda_l2': 0.24072262314878978}. Best is trial 92 with value: 8.493674196666912.\n",
      "[I 2023-11-01 19:32:43,809] Trial 104 finished with value: 8.584194666632847 and parameters: {'objective': 'regression', 'max_depth': 9, 'n_estimators': 583, 'learning_rate': 0.054507947135015784, 'num_leaves': 44, 'feature_fraction': 0.9322938835002732, 'bagging_fraction': 0.5164964168552603, 'lambda_l1': 0.3364497559770059, 'lambda_l2': 0.2093175207045645}. Best is trial 92 with value: 8.493674196666912.\n",
      "[I 2023-11-01 19:34:03,310] Trial 105 finished with value: 8.575825254361588 and parameters: {'objective': 'regression', 'max_depth': 7, 'n_estimators': 582, 'learning_rate': 0.05250346855692219, 'num_leaves': 44, 'feature_fraction': 0.9989742365076008, 'bagging_fraction': 0.515596399545646, 'lambda_l1': 0.2973277254224033, 'lambda_l2': 0.20641040825998003}. Best is trial 92 with value: 8.493674196666912.\n",
      "[I 2023-11-01 19:34:06,394] Trial 106 finished with value: 8.51990547748128 and parameters: {'objective': 'regression', 'max_depth': 8, 'n_estimators': 560, 'learning_rate': 0.05843919546168129, 'num_leaves': 49, 'feature_fraction': 0.9550011956618893, 'bagging_fraction': 0.5511383610412072, 'lambda_l1': 0.29905003068850106, 'lambda_l2': 0.15209550948726314}. Best is trial 92 with value: 8.493674196666912.\n",
      "[I 2023-11-01 19:35:00,818] Trial 108 finished with value: 8.647557888414987 and parameters: {'objective': 'regression', 'max_depth': 10, 'n_estimators': 297, 'learning_rate': 0.05544701936457773, 'num_leaves': 47, 'feature_fraction': 0.9812706738207426, 'bagging_fraction': 0.5506160351436977, 'lambda_l1': 0.39441782474449394, 'lambda_l2': 0.1826095150877989}. Best is trial 92 with value: 8.493674196666912.\n",
      "[I 2023-11-01 19:35:26,920] Trial 107 finished with value: 8.532566711022552 and parameters: {'objective': 'regression', 'max_depth': 9, 'n_estimators': 559, 'learning_rate': 0.05833640530401846, 'num_leaves': 47, 'feature_fraction': 0.9549954556935366, 'bagging_fraction': 0.5469596359386484, 'lambda_l1': 0.43987645632189193, 'lambda_l2': 0.1512874428574807}. Best is trial 92 with value: 8.493674196666912.\n",
      "[I 2023-11-01 19:36:23,833] Trial 109 finished with value: 8.539463708269675 and parameters: {'objective': 'regression', 'max_depth': 9, 'n_estimators': 573, 'learning_rate': 0.058747106639071865, 'num_leaves': 48, 'feature_fraction': 0.9010146177083251, 'bagging_fraction': 0.4934914613653664, 'lambda_l1': 0.36340629627905024, 'lambda_l2': 0.23825836070794187}. Best is trial 92 with value: 8.493674196666912.\n",
      "[I 2023-11-01 19:36:51,225] Trial 110 finished with value: 8.507249726318484 and parameters: {'objective': 'regression', 'max_depth': 9, 'n_estimators': 570, 'learning_rate': 0.05103235765364563, 'num_leaves': 48, 'feature_fraction': 0.9009514288181358, 'bagging_fraction': 0.49497458381546944, 'lambda_l1': 0.2667897952066134, 'lambda_l2': 0.23687688349458041}. Best is trial 92 with value: 8.493674196666912.\n",
      "[I 2023-11-01 19:37:39,594] Trial 111 finished with value: 8.506849896075792 and parameters: {'objective': 'regression', 'max_depth': 7, 'n_estimators': 591, 'learning_rate': 0.05121058704254569, 'num_leaves': 46, 'feature_fraction': 0.86829387291997, 'bagging_fraction': 0.6000138189859657, 'lambda_l1': 0.37045572036811386, 'lambda_l2': 0.2655383446164462}. Best is trial 92 with value: 8.493674196666912.\n",
      "[I 2023-11-01 19:38:18,407] Trial 112 finished with value: 8.512898828186755 and parameters: {'objective': 'regression', 'max_depth': 9, 'n_estimators': 591, 'learning_rate': 0.0486903180096427, 'num_leaves': 48, 'feature_fraction': 0.9249364536966228, 'bagging_fraction': 0.4523030237975929, 'lambda_l1': 0.27642431886492497, 'lambda_l2': 0.2660050250379449}. Best is trial 92 with value: 8.493674196666912.\n",
      "[I 2023-11-01 19:38:58,443] Trial 113 finished with value: 8.509015264038938 and parameters: {'objective': 'regression', 'max_depth': 7, 'n_estimators': 590, 'learning_rate': 0.048514227075575865, 'num_leaves': 49, 'feature_fraction': 0.8746729645544005, 'bagging_fraction': 0.5971579883198219, 'lambda_l1': 0.3723942525937603, 'lambda_l2': 0.26767979813717685}. Best is trial 92 with value: 8.493674196666912.\n",
      "[I 2023-11-01 19:39:35,861] Trial 114 finished with value: 8.537780480243226 and parameters: {'objective': 'regression', 'max_depth': 7, 'n_estimators': 591, 'learning_rate': 0.04959849281168101, 'num_leaves': 49, 'feature_fraction': 0.8821204875036363, 'bagging_fraction': 0.4483347002131791, 'lambda_l1': 0.26739608152598016, 'lambda_l2': 0.2636702860517974}. Best is trial 92 with value: 8.493674196666912.\n",
      "[I 2023-11-01 19:40:16,934] Trial 115 finished with value: 8.52490702284753 and parameters: {'objective': 'regression', 'max_depth': 7, 'n_estimators': 589, 'learning_rate': 0.048413954021102226, 'num_leaves': 50, 'feature_fraction': 0.868483105597503, 'bagging_fraction': 0.4415433406962844, 'lambda_l1': 0.2633756470576028, 'lambda_l2': 0.2644104709186928}. Best is trial 92 with value: 8.493674196666912.\n",
      "[I 2023-11-01 19:40:54,249] Trial 116 finished with value: 8.528434381339576 and parameters: {'objective': 'regression', 'max_depth': 7, 'n_estimators': 587, 'learning_rate': 0.048580046006603435, 'num_leaves': 50, 'feature_fraction': 0.87308461399963, 'bagging_fraction': 0.6023569116306065, 'lambda_l1': 0.28099895185064655, 'lambda_l2': 0.2755066102622865}. Best is trial 92 with value: 8.493674196666912.\n",
      "[I 2023-11-01 19:41:30,433] Trial 117 finished with value: 8.538348972404618 and parameters: {'objective': 'regression', 'max_depth': 7, 'n_estimators': 581, 'learning_rate': 0.05628091179215543, 'num_leaves': 48, 'feature_fraction': 0.8128592338370785, 'bagging_fraction': 0.3838133727816936, 'lambda_l1': 0.2848999333316128, 'lambda_l2': 0.2220349157921604}. Best is trial 92 with value: 8.493674196666912.\n",
      "[I 2023-11-01 19:42:04,386] Trial 118 finished with value: 8.600599680979931 and parameters: {'objective': 'regression', 'max_depth': 6, 'n_estimators': 599, 'learning_rate': 0.05635859425108083, 'num_leaves': 48, 'feature_fraction': 0.9162534821120667, 'bagging_fraction': 0.5852782958876311, 'lambda_l1': 0.35023186433221976, 'lambda_l2': 0.21354606028408202}. Best is trial 92 with value: 8.493674196666912.\n",
      "[I 2023-11-01 19:42:53,104] Trial 119 finished with value: 8.551627283339075 and parameters: {'objective': 'regression', 'max_depth': 8, 'n_estimators': 596, 'learning_rate': 0.04384849784494639, 'num_leaves': 49, 'feature_fraction': 0.836619970795967, 'bagging_fraction': 0.5981141624146913, 'lambda_l1': 0.3492912179545879, 'lambda_l2': 0.29163332239870576}. Best is trial 92 with value: 8.493674196666912.\n",
      "[I 2023-11-01 19:43:07,588] Trial 120 finished with value: 8.656624637949111 and parameters: {'objective': 'regression', 'max_depth': 6, 'n_estimators': 551, 'learning_rate': 0.04313295546951202, 'num_leaves': 40, 'feature_fraction': 0.8321507545590363, 'bagging_fraction': 0.48976256511277416, 'lambda_l1': 0.3175597479544095, 'lambda_l2': 0.17787712643686315}. Best is trial 92 with value: 8.493674196666912.\n",
      "[I 2023-11-01 19:44:07,337] Trial 121 finished with value: 8.526744627686135 and parameters: {'objective': 'regression', 'max_depth': 7, 'n_estimators': 578, 'learning_rate': 0.046648888942261046, 'num_leaves': 48, 'feature_fraction': 0.8449012044494386, 'bagging_fraction': 0.5335447026428111, 'lambda_l1': 0.31755027831182464, 'lambda_l2': 0.1663653356486366}. Best is trial 92 with value: 8.493674196666912.\n",
      "[I 2023-11-01 19:44:29,503] Trial 122 finished with value: 8.495026920228561 and parameters: {'objective': 'regression', 'max_depth': 8, 'n_estimators': 576, 'learning_rate': 0.0517414275850837, 'num_leaves': 48, 'feature_fraction': 0.8968480374847262, 'bagging_fraction': 0.5282507700122614, 'lambda_l1': 0.3831555340492295, 'lambda_l2': 0.22947598259611857}. Best is trial 92 with value: 8.493674196666912.\n",
      "[I 2023-11-01 19:45:28,862] Trial 123 finished with value: 8.509490963362241 and parameters: {'objective': 'regression', 'max_depth': 8, 'n_estimators': 569, 'learning_rate': 0.051758612846148966, 'num_leaves': 48, 'feature_fraction': 0.9248527281758786, 'bagging_fraction': 0.508456287735778, 'lambda_l1': 0.3755582457614275, 'lambda_l2': 0.23253167329026853}. Best is trial 92 with value: 8.493674196666912.\n",
      "[I 2023-11-01 19:45:52,843] Trial 124 finished with value: 8.495416678762513 and parameters: {'objective': 'regression', 'max_depth': 8, 'n_estimators': 580, 'learning_rate': 0.05335266849239708, 'num_leaves': 48, 'feature_fraction': 0.8972610248362292, 'bagging_fraction': 0.5327035949917258, 'lambda_l1': 0.40676836899687735, 'lambda_l2': 0.19186214530769027}. Best is trial 92 with value: 8.493674196666912.\n",
      "[I 2023-11-01 19:46:03,545] Trial 125 finished with value: 9.271875223761473 and parameters: {'objective': 'regression', 'max_depth': 3, 'n_estimators': 566, 'learning_rate': 0.053133103024208726, 'num_leaves': 49, 'feature_fraction': 0.9002190919977379, 'bagging_fraction': 0.5253709695492521, 'lambda_l1': 0.41144171348809183, 'lambda_l2': 0.19691786452721913}. Best is trial 92 with value: 8.493674196666912.\n",
      "[I 2023-11-01 19:46:27,890] Trial 126 finished with value: 9.295446111919729 and parameters: {'objective': 'regression', 'max_depth': 3, 'n_estimators': 568, 'learning_rate': 0.05276521583881238, 'num_leaves': 49, 'feature_fraction': 0.807871650746622, 'bagging_fraction': 0.47877793783823497, 'lambda_l1': 0.4068691354169228, 'lambda_l2': 0.18448958033873705}. Best is trial 92 with value: 8.493674196666912.\n",
      "[I 2023-11-01 19:47:26,207] Trial 127 finished with value: 8.526436562646145 and parameters: {'objective': 'regression', 'max_depth': 8, 'n_estimators': 547, 'learning_rate': 0.051409995206762475, 'num_leaves': 46, 'feature_fraction': 0.8099117916364985, 'bagging_fraction': 0.800645888652219, 'lambda_l1': 0.3954714351955093, 'lambda_l2': 0.18887111685508431}. Best is trial 92 with value: 8.493674196666912.\n",
      "[I 2023-11-01 19:47:51,696] Trial 128 finished with value: 8.540532694729828 and parameters: {'objective': 'regression', 'max_depth': 8, 'n_estimators': 547, 'learning_rate': 0.05082963682409031, 'num_leaves': 46, 'feature_fraction': 0.8592139905750541, 'bagging_fraction': 0.8028538095140847, 'lambda_l1': 0.38242283603642746, 'lambda_l2': 0.1330762158586536}. Best is trial 92 with value: 8.493674196666912.\n",
      "[I 2023-11-01 19:48:25,574] Trial 130 finished with value: 8.703701073248709 and parameters: {'objective': 'regression', 'max_depth': 7, 'n_estimators': 200, 'learning_rate': 0.06080515940328365, 'num_leaves': 48, 'feature_fraction': 0.8879190479374157, 'bagging_fraction': 0.6196095795626642, 'lambda_l1': 0.43813686578885974, 'lambda_l2': 0.10951847259179659}. Best is trial 92 with value: 8.493674196666912.\n",
      "[I 2023-11-01 19:48:45,793] Trial 129 finished with value: 8.530112056978522 and parameters: {'objective': 'regression', 'max_depth': 8, 'n_estimators': 578, 'learning_rate': 0.06105376831043273, 'num_leaves': 48, 'feature_fraction': 0.8606909297942121, 'bagging_fraction': 0.5070687115324664, 'lambda_l1': 0.4361575220875579, 'lambda_l2': 0.13516529739297362}. Best is trial 92 with value: 8.493674196666912.\n",
      "[I 2023-11-01 19:49:34,788] Trial 131 finished with value: 8.618374192906622 and parameters: {'objective': 'regression', 'max_depth': 6, 'n_estimators': 578, 'learning_rate': 0.04741709921496227, 'num_leaves': 47, 'feature_fraction': 0.9155608172792702, 'bagging_fraction': 0.5032193844208948, 'lambda_l1': 0.36820662536522347, 'lambda_l2': 0.159050106912062}. Best is trial 92 with value: 8.493674196666912.\n",
      "[I 2023-11-01 19:50:10,549] Trial 132 finished with value: 8.520952056062747 and parameters: {'objective': 'regression', 'max_depth': 8, 'n_estimators': 583, 'learning_rate': 0.05298683687338416, 'num_leaves': 47, 'feature_fraction': 0.9482289861914974, 'bagging_fraction': 0.5321034154526544, 'lambda_l1': 0.3855738500505164, 'lambda_l2': 0.2412704586854992}. Best is trial 92 with value: 8.493674196666912.\n",
      "[I 2023-11-01 19:51:04,442] Trial 133 finished with value: 8.530442698249473 and parameters: {'objective': 'regression', 'max_depth': 8, 'n_estimators': 600, 'learning_rate': 0.05361423016527792, 'num_leaves': 50, 'feature_fraction': 0.9467183374198599, 'bagging_fraction': 0.558000332005469, 'lambda_l1': 0.3380098080534031, 'lambda_l2': 0.22467317885634533}. Best is trial 92 with value: 8.493674196666912.\n",
      "[I 2023-11-01 19:51:37,005] Trial 134 finished with value: 8.560523539577698 and parameters: {'objective': 'regression', 'max_depth': 8, 'n_estimators': 562, 'learning_rate': 0.049617695229566404, 'num_leaves': 50, 'feature_fraction': 0.9420371586759024, 'bagging_fraction': 0.5601567860707094, 'lambda_l1': 0.4676717988144858, 'lambda_l2': 0.22036096470258723}. Best is trial 92 with value: 8.493674196666912.\n",
      "[I 2023-11-01 19:52:24,214] Trial 135 finished with value: 8.569342801012015 and parameters: {'objective': 'regression', 'max_depth': 8, 'n_estimators': 561, 'learning_rate': 0.056018076974422376, 'num_leaves': 49, 'feature_fraction': 0.900899126216364, 'bagging_fraction': 0.5637454788398203, 'lambda_l1': 0.4675498360569122, 'lambda_l2': 0.29173219814501083}. Best is trial 92 with value: 8.493674196666912.\n",
      "[I 2023-11-01 19:52:51,602] Trial 136 finished with value: 8.600124777417799 and parameters: {'objective': 'regression', 'max_depth': 7, 'n_estimators': 573, 'learning_rate': 0.055775525773325334, 'num_leaves': 49, 'feature_fraction': 0.8732829476506072, 'bagging_fraction': 0.5726260797477167, 'lambda_l1': 0.36702781074003116, 'lambda_l2': 0.2850355826491051}. Best is trial 92 with value: 8.493674196666912.\n",
      "[I 2023-11-01 19:53:36,976] Trial 137 finished with value: 8.601142096025963 and parameters: {'objective': 'regression', 'max_depth': 7, 'n_estimators': 572, 'learning_rate': 0.057917330511473276, 'num_leaves': 45, 'feature_fraction': 0.8778311612164993, 'bagging_fraction': 0.6384504201285969, 'lambda_l1': 0.36768003199414634, 'lambda_l2': 0.20759781455971973}. Best is trial 92 with value: 8.493674196666912.\n",
      "[I 2023-11-01 19:54:14,937] Trial 138 finished with value: 8.868115506309422 and parameters: {'objective': 'regression_l1', 'max_depth': 7, 'n_estimators': 589, 'learning_rate': 0.058934157546256055, 'num_leaves': 48, 'feature_fraction': 0.9239020623574938, 'bagging_fraction': 0.5993304089772312, 'lambda_l1': 0.4184238312103476, 'lambda_l2': 0.25017813021474794}. Best is trial 92 with value: 8.493674196666912.\n",
      "[I 2023-11-01 19:55:02,791] Trial 139 finished with value: 8.86963615905775 and parameters: {'objective': 'regression_l1', 'max_depth': 8, 'n_estimators': 589, 'learning_rate': 0.04988951019471354, 'num_leaves': 43, 'feature_fraction': 0.9163663179445513, 'bagging_fraction': 0.5976857861166431, 'lambda_l1': 0.41917144665931505, 'lambda_l2': 0.24171733145719032}. Best is trial 92 with value: 8.493674196666912.\n",
      "[I 2023-11-01 19:55:29,009] Trial 140 finished with value: 8.525971266069874 and parameters: {'objective': 'regression', 'max_depth': 8, 'n_estimators': 584, 'learning_rate': 0.0511011686118352, 'num_leaves': 43, 'feature_fraction': 0.8435606308190976, 'bagging_fraction': 0.7092057680735939, 'lambda_l1': 0.3104122482021796, 'lambda_l2': 0.30839319290234984}. Best is trial 92 with value: 8.493674196666912.\n",
      "[I 2023-11-01 19:56:25,114] Trial 141 finished with value: 8.555530056381933 and parameters: {'objective': 'regression', 'max_depth': 10, 'n_estimators': 582, 'learning_rate': 0.044822937758196124, 'num_leaves': 47, 'feature_fraction': 0.8470231257815427, 'bagging_fraction': 0.5324425361392365, 'lambda_l1': 0.30320394213540813, 'lambda_l2': 0.3067357692163777}. Best is trial 92 with value: 8.493674196666912.\n",
      "[I 2023-11-01 19:56:54,005] Trial 142 finished with value: 8.514824901814949 and parameters: {'objective': 'regression', 'max_depth': 9, 'n_estimators': 589, 'learning_rate': 0.04853351988893044, 'num_leaves': 47, 'feature_fraction': 0.9290310434185598, 'bagging_fraction': 0.528876172111306, 'lambda_l1': 0.23828334160868592, 'lambda_l2': 0.2701365389270489}. Best is trial 92 with value: 8.493674196666912.\n",
      "[I 2023-11-01 19:57:51,428] Trial 143 finished with value: 8.464907495734705 and parameters: {'objective': 'regression', 'max_depth': 9, 'n_estimators': 600, 'learning_rate': 0.05407259875757809, 'num_leaves': 48, 'feature_fraction': 0.9285796959921393, 'bagging_fraction': 0.46298631015520186, 'lambda_l1': 0.33238599755361947, 'lambda_l2': 0.2697731934954458}. Best is trial 143 with value: 8.464907495734705.\n",
      "[I 2023-11-01 19:58:18,902] Trial 144 finished with value: 8.509268973426773 and parameters: {'objective': 'regression', 'max_depth': 9, 'n_estimators': 592, 'learning_rate': 0.05390752033607304, 'num_leaves': 48, 'feature_fraction': 0.9023292270098136, 'bagging_fraction': 0.4776318169831088, 'lambda_l1': 0.3361737567955192, 'lambda_l2': 0.25856388825794907}. Best is trial 143 with value: 8.464907495734705.\n",
      "[I 2023-11-01 19:59:04,781] Trial 146 finished with value: 8.743436758256511 and parameters: {'objective': 'regression', 'max_depth': 9, 'n_estimators': 223, 'learning_rate': 0.05279556746966293, 'num_leaves': 46, 'feature_fraction': 0.8929100740609525, 'bagging_fraction': 0.46413819833990677, 'lambda_l1': 0.3310959537764059, 'lambda_l2': 0.2633246198139468}. Best is trial 143 with value: 8.464907495734705.\n",
      "[I 2023-11-01 19:59:24,221] Trial 145 finished with value: 8.511850979520622 and parameters: {'objective': 'regression', 'max_depth': 9, 'n_estimators': 598, 'learning_rate': 0.05416556266566828, 'num_leaves': 48, 'feature_fraction': 0.8999489745569171, 'bagging_fraction': 0.46912596185589606, 'lambda_l1': 0.3365753358139571, 'lambda_l2': 0.25593590786987447}. Best is trial 143 with value: 8.464907495734705.\n",
      "[I 2023-11-01 20:00:28,542] Trial 147 finished with value: 8.515750648695134 and parameters: {'objective': 'regression', 'max_depth': 9, 'n_estimators': 568, 'learning_rate': 0.05388869328925204, 'num_leaves': 48, 'feature_fraction': 0.9020415105493897, 'bagging_fraction': 0.509244755777327, 'lambda_l1': 0.39351193064247075, 'lambda_l2': 0.24883947466487294}. Best is trial 143 with value: 8.464907495734705.\n",
      "[I 2023-11-01 20:00:38,876] Trial 148 finished with value: 8.527661857240828 and parameters: {'objective': 'regression', 'max_depth': 9, 'n_estimators': 554, 'learning_rate': 0.0569238309522007, 'num_leaves': 48, 'feature_fraction': 0.7889173916579444, 'bagging_fraction': 0.4205480774066175, 'lambda_l1': 0.40465919596486005, 'lambda_l2': 0.32758343723939953}. Best is trial 143 with value: 8.464907495734705.\n",
      "[I 2023-11-01 20:01:46,781] Trial 149 finished with value: 8.542880032238237 and parameters: {'objective': 'regression', 'max_depth': 10, 'n_estimators': 577, 'learning_rate': 0.057052900870030614, 'num_leaves': 47, 'feature_fraction': 0.779109016820425, 'bagging_fraction': 0.42357069817518284, 'lambda_l1': 0.24704596073842314, 'lambda_l2': 0.1959853202076003}. Best is trial 143 with value: 8.464907495734705.\n",
      "[I 2023-11-01 20:02:07,435] Trial 150 finished with value: 8.521495323665928 and parameters: {'objective': 'regression', 'max_depth': 10, 'n_estimators': 576, 'learning_rate': 0.052087702857899446, 'num_leaves': 47, 'feature_fraction': 0.9447375776778949, 'bagging_fraction': 0.4578291695138579, 'lambda_l1': 0.25303673116164765, 'lambda_l2': 0.19716768836494472}. Best is trial 143 with value: 8.464907495734705.\n",
      "[I 2023-11-01 20:03:15,677] Trial 151 finished with value: 8.57732798699167 and parameters: {'objective': 'regression', 'max_depth': 9, 'n_estimators': 561, 'learning_rate': 0.05145155355881846, 'num_leaves': 45, 'feature_fraction': 0.9421314834765517, 'bagging_fraction': 0.4862217272542156, 'lambda_l1': 0.29531089371251984, 'lambda_l2': 0.1730243742810818}. Best is trial 143 with value: 8.464907495734705.\n",
      "[I 2023-11-01 20:03:36,812] Trial 152 finished with value: 8.513981706816683 and parameters: {'objective': 'regression', 'max_depth': 9, 'n_estimators': 591, 'learning_rate': 0.054715350437811, 'num_leaves': 48, 'feature_fraction': 0.8872975444080211, 'bagging_fraction': 0.48018678201902065, 'lambda_l1': 0.3463209978364307, 'lambda_l2': 0.27697249488472736}. Best is trial 143 with value: 8.464907495734705.\n",
      "[I 2023-11-01 20:04:38,856] Trial 153 finished with value: 8.553390559553906 and parameters: {'objective': 'regression', 'max_depth': 9, 'n_estimators': 592, 'learning_rate': 0.05411489136782338, 'num_leaves': 48, 'feature_fraction': 0.8895027266909368, 'bagging_fraction': 0.47496204312257195, 'lambda_l1': 0.34392022711148496, 'lambda_l2': 0.277739967908951}. Best is trial 143 with value: 8.464907495734705.\n",
      "[I 2023-11-01 20:05:04,665] Trial 154 finished with value: 8.540570830342745 and parameters: {'objective': 'regression', 'max_depth': 9, 'n_estimators': 599, 'learning_rate': 0.04986666052962738, 'num_leaves': 49, 'feature_fraction': 0.9101243844343272, 'bagging_fraction': 0.46000476701334625, 'lambda_l1': 0.33089248124041204, 'lambda_l2': 0.22790298389232488}. Best is trial 143 with value: 8.464907495734705.\n",
      "[I 2023-11-01 20:06:07,440] Trial 155 finished with value: 8.540401918659006 and parameters: {'objective': 'regression', 'max_depth': 9, 'n_estimators': 598, 'learning_rate': 0.047166920433789006, 'num_leaves': 49, 'feature_fraction': 0.9169703603601966, 'bagging_fraction': 0.4654992351304579, 'lambda_l1': 0.38103174086759106, 'lambda_l2': 0.23008310612213195}. Best is trial 143 with value: 8.464907495734705.\n",
      "[I 2023-11-01 20:06:30,588] Trial 156 finished with value: 8.529324681866594 and parameters: {'objective': 'regression', 'max_depth': 10, 'n_estimators': 600, 'learning_rate': 0.04690085640258053, 'num_leaves': 46, 'feature_fraction': 0.8559725571207742, 'bagging_fraction': 0.49681078144169455, 'lambda_l1': 0.38055529311234226, 'lambda_l2': 0.25153301676948814}. Best is trial 143 with value: 8.464907495734705.\n",
      "[I 2023-11-01 20:07:30,159] Trial 157 finished with value: 8.496790069392475 and parameters: {'objective': 'regression', 'max_depth': 10, 'n_estimators': 582, 'learning_rate': 0.059183117470655085, 'num_leaves': 46, 'feature_fraction': 0.8641081837523205, 'bagging_fraction': 0.504727271234827, 'lambda_l1': 0.29891084629167947, 'lambda_l2': 0.25388744830932986}. Best is trial 143 with value: 8.464907495734705.\n",
      "[I 2023-11-01 20:08:03,031] Trial 158 finished with value: 8.515713764320466 and parameters: {'objective': 'regression', 'max_depth': 9, 'n_estimators': 583, 'learning_rate': 0.052400075531159884, 'num_leaves': 48, 'feature_fraction': 0.9625497218781114, 'bagging_fraction': 0.5034727524891973, 'lambda_l1': 0.32265855903117807, 'lambda_l2': 0.29405966177498377}. Best is trial 143 with value: 8.464907495734705.\n",
      "[I 2023-11-01 20:09:03,965] Trial 159 finished with value: 8.492106215839478 and parameters: {'objective': 'regression', 'max_depth': 10, 'n_estimators': 568, 'learning_rate': 0.059389747490166275, 'num_leaves': 46, 'feature_fraction': 0.9599080401635653, 'bagging_fraction': 0.515948741157733, 'lambda_l1': 0.3016445706243026, 'lambda_l2': 0.21194756234547174}. Best is trial 143 with value: 8.464907495734705.\n",
      "[I 2023-11-01 20:09:28,145] Trial 160 finished with value: 8.54972100885603 and parameters: {'objective': 'regression', 'max_depth': 10, 'n_estimators': 568, 'learning_rate': 0.059122484785579736, 'num_leaves': 46, 'feature_fraction': 0.8185326647207101, 'bagging_fraction': 0.5250127139537945, 'lambda_l1': 0.2923813182096972, 'lambda_l2': 0.3194815356163461}. Best is trial 143 with value: 8.464907495734705.\n",
      "[I 2023-11-01 20:10:17,119] Trial 161 finished with value: 8.53932541484324 and parameters: {'objective': 'regression', 'max_depth': 10, 'n_estimators': 569, 'learning_rate': 0.058696885724064576, 'num_leaves': 45, 'feature_fraction': 0.7453444327977481, 'bagging_fraction': 0.5355002482747284, 'lambda_l1': 0.29585345847662414, 'lambda_l2': 0.20452593086997012}. Best is trial 143 with value: 8.464907495734705.\n",
      "[I 2023-11-01 20:10:46,401] Trial 162 finished with value: 8.527648774320273 and parameters: {'objective': 'regression', 'max_depth': 10, 'n_estimators': 555, 'learning_rate': 0.05592350097223968, 'num_leaves': 45, 'feature_fraction': 0.8689440078616825, 'bagging_fraction': 0.5438850453481371, 'lambda_l1': 0.2671762011877048, 'lambda_l2': 0.21081996778808887}. Best is trial 143 with value: 8.464907495734705.\n",
      "[I 2023-11-01 20:11:34,756] Trial 163 finished with value: 8.562748282212132 and parameters: {'objective': 'regression', 'max_depth': 10, 'n_estimators': 554, 'learning_rate': 0.062129289696940884, 'num_leaves': 46, 'feature_fraction': 0.8690166646411779, 'bagging_fraction': 0.6811437306454795, 'lambda_l1': 0.2590151027134699, 'lambda_l2': 0.21537741980336142}. Best is trial 143 with value: 8.464907495734705.\n",
      "[I 2023-11-01 20:12:14,781] Trial 164 finished with value: 8.566064936247693 and parameters: {'objective': 'regression', 'max_depth': 10, 'n_estimators': 583, 'learning_rate': 0.061478251251083374, 'num_leaves': 46, 'feature_fraction': 0.993480983872842, 'bagging_fraction': 0.5812492496088013, 'lambda_l1': 0.31367216850870727, 'lambda_l2': 0.2381856529596497}. Best is trial 143 with value: 8.464907495734705.\n",
      "[I 2023-11-01 20:13:04,204] Trial 165 finished with value: 8.54040435192244 and parameters: {'objective': 'regression', 'max_depth': 11, 'n_estimators': 582, 'learning_rate': 0.06149235776539792, 'num_leaves': 47, 'feature_fraction': 0.930367097795772, 'bagging_fraction': 0.6539573360485498, 'lambda_l1': 0.3598734886639865, 'lambda_l2': 0.2393987644852464}. Best is trial 143 with value: 8.464907495734705.\n",
      "[I 2023-11-01 20:13:45,326] Trial 166 finished with value: 8.520456782761151 and parameters: {'objective': 'regression', 'max_depth': 11, 'n_estimators': 576, 'learning_rate': 0.06019178681368348, 'num_leaves': 47, 'feature_fraction': 0.9601024095797351, 'bagging_fraction': 0.5131146953830116, 'lambda_l1': 0.3650364017926836, 'lambda_l2': 0.2560849190586792}. Best is trial 143 with value: 8.464907495734705.\n",
      "[I 2023-11-01 20:14:19,397] Trial 167 finished with value: 8.505651990572069 and parameters: {'objective': 'regression', 'max_depth': 10, 'n_estimators': 541, 'learning_rate': 0.057244660622162574, 'num_leaves': 39, 'feature_fraction': 0.9602284596015718, 'bagging_fraction': 0.5117451567899762, 'lambda_l1': 0.43278624763038503, 'lambda_l2': 0.16664314776773342}. Best is trial 143 with value: 8.464907495734705.\n",
      "[I 2023-11-01 20:15:06,301] Trial 168 finished with value: 8.609485111562734 and parameters: {'objective': 'regression', 'max_depth': 10, 'n_estimators': 567, 'learning_rate': 0.05064493057715558, 'num_leaves': 40, 'feature_fraction': 0.9778553452253793, 'bagging_fraction': 0.43725174264952016, 'lambda_l1': 0.27845874716299146, 'lambda_l2': 0.16322809699296614}. Best is trial 143 with value: 8.464907495734705.\n",
      "[I 2023-11-01 20:15:36,340] Trial 169 finished with value: 8.570598968925234 and parameters: {'objective': 'regression', 'max_depth': 10, 'n_estimators': 542, 'learning_rate': 0.05719309716507141, 'num_leaves': 40, 'feature_fraction': 0.9767670790831476, 'bagging_fraction': 0.49152542073857247, 'lambda_l1': 0.4017539656250203, 'lambda_l2': 0.10744787991619259}. Best is trial 143 with value: 8.464907495734705.\n",
      "[I 2023-11-01 20:16:27,131] Trial 170 finished with value: 8.53146961865995 and parameters: {'objective': 'regression', 'max_depth': 10, 'n_estimators': 539, 'learning_rate': 0.05717120307264372, 'num_leaves': 44, 'feature_fraction': 0.9575809304560001, 'bagging_fraction': 0.4862046369710805, 'lambda_l1': 0.40267176030200924, 'lambda_l2': 0.1807887676030979}. Best is trial 143 with value: 8.464907495734705.\n",
      "[I 2023-11-01 20:16:29,050] Trial 171 finished with value: 8.605440876589169 and parameters: {'objective': 'regression', 'max_depth': 10, 'n_estimators': 289, 'learning_rate': 0.055222941186667235, 'num_leaves': 47, 'feature_fraction': 0.9491393880406558, 'bagging_fraction': 0.49461719715045854, 'lambda_l1': 0.4329972176798668, 'lambda_l2': 0.16353953176266636}. Best is trial 143 with value: 8.464907495734705.\n",
      "[I 2023-11-01 20:17:22,001] Trial 173 finished with value: 8.617784864850067 and parameters: {'objective': 'regression', 'max_depth': 7, 'n_estimators': 361, 'learning_rate': 0.052530426571481804, 'num_leaves': 46, 'feature_fraction': 0.9281466308558654, 'bagging_fraction': 0.5533958689516993, 'lambda_l1': 0.44887293732250805, 'lambda_l2': 0.28746258867869723}. Best is trial 143 with value: 8.464907495734705.\n",
      "[I 2023-11-01 20:17:39,562] Trial 172 finished with value: 8.572999696902151 and parameters: {'objective': 'regression', 'max_depth': 10, 'n_estimators': 514, 'learning_rate': 0.05529554242591006, 'num_leaves': 41, 'feature_fraction': 0.9323572384385412, 'bagging_fraction': 0.553923799847103, 'lambda_l1': 0.22393857058112687, 'lambda_l2': 0.2797892583431118}. Best is trial 143 with value: 8.464907495734705.\n",
      "[I 2023-11-01 20:18:07,813] Trial 174 finished with value: 8.880631792021425 and parameters: {'objective': 'regression', 'max_depth': 4, 'n_estimators': 590, 'learning_rate': 0.05529816494136016, 'num_leaves': 49, 'feature_fraction': 0.9990481397704263, 'bagging_fraction': 0.5176757330481796, 'lambda_l1': 0.23066158558054053, 'lambda_l2': 0.22527151540276374}. Best is trial 143 with value: 8.464907495734705.\n",
      "[I 2023-11-01 20:18:23,349] Trial 175 finished with value: 8.817209754444491 and parameters: {'objective': 'regression', 'max_depth': 4, 'n_estimators': 589, 'learning_rate': 0.050844617555809456, 'num_leaves': 45, 'feature_fraction': 0.9090217010307267, 'bagging_fraction': 0.5189236921915236, 'lambda_l1': 0.37992415882718544, 'lambda_l2': 0.21887732267573784}. Best is trial 143 with value: 8.464907495734705.\n",
      "[I 2023-11-01 20:19:29,736] Trial 176 finished with value: 8.53327317657063 and parameters: {'objective': 'regression', 'max_depth': 11, 'n_estimators': 561, 'learning_rate': 0.06358506234562043, 'num_leaves': 47, 'feature_fraction': 0.9079379279763605, 'bagging_fraction': 0.5811421602170945, 'lambda_l1': 0.35187269550414657, 'lambda_l2': 0.2612943628708481}. Best is trial 143 with value: 8.464907495734705.\n",
      "[I 2023-11-01 20:19:32,573] Trial 177 finished with value: 8.564912620041342 and parameters: {'objective': 'regression', 'max_depth': 9, 'n_estimators': 561, 'learning_rate': 0.0635675747355154, 'num_leaves': 47, 'feature_fraction': 0.6879294358081234, 'bagging_fraction': 0.8263799982514101, 'lambda_l1': 0.4260317665311208, 'lambda_l2': 0.1907039528219049}. Best is trial 143 with value: 8.464907495734705.\n",
      "[I 2023-11-01 20:20:34,072] Trial 178 finished with value: 8.57297409337615 and parameters: {'objective': 'regression', 'max_depth': 9, 'n_estimators': 574, 'learning_rate': 0.05954626929764877, 'num_leaves': 37, 'feature_fraction': 0.7135198296616687, 'bagging_fraction': 0.7564287368777668, 'lambda_l1': 0.42434452405046097, 'lambda_l2': 0.18585899383140136}. Best is trial 143 with value: 8.464907495734705.\n",
      "[I 2023-11-01 20:20:48,501] Trial 179 finished with value: 8.517088120304205 and parameters: {'objective': 'regression', 'max_depth': 8, 'n_estimators': 575, 'learning_rate': 0.059549455048038165, 'num_leaves': 46, 'feature_fraction': 0.8320807025569474, 'bagging_fraction': 0.7175208761252944, 'lambda_l1': 0.29686318987260196, 'lambda_l2': 0.14098618305495547}. Best is trial 143 with value: 8.464907495734705.\n",
      "[I 2023-11-01 20:21:52,362] Trial 180 finished with value: 8.54276680004359 and parameters: {'objective': 'regression', 'max_depth': 10, 'n_estimators': 578, 'learning_rate': 0.04893762310461146, 'num_leaves': 39, 'feature_fraction': 0.8392688542720405, 'bagging_fraction': 0.6094935352888569, 'lambda_l1': 0.3162925050914068, 'lambda_l2': 0.3598371494659717}. Best is trial 143 with value: 8.464907495734705.\n",
      "[I 2023-11-01 20:22:15,202] Trial 181 finished with value: 8.549885374265 and parameters: {'objective': 'regression', 'max_depth': 10, 'n_estimators': 548, 'learning_rate': 0.04886845718545531, 'num_leaves': 48, 'feature_fraction': 0.8774537813971126, 'bagging_fraction': 0.44637449553674474, 'lambda_l1': 0.32419818092764713, 'lambda_l2': 0.3540962036932687}. Best is trial 143 with value: 8.464907495734705.\n",
      "[I 2023-11-01 20:23:24,538] Trial 182 finished with value: 8.563829413534071 and parameters: {'objective': 'regression', 'max_depth': 9, 'n_estimators': 592, 'learning_rate': 0.05434892863018631, 'num_leaves': 48, 'feature_fraction': 0.8746446403758688, 'bagging_fraction': 0.44630486606237263, 'lambda_l1': 0.33432287185052917, 'lambda_l2': 0.260552123675235}. Best is trial 143 with value: 8.464907495734705.\n",
      "[I 2023-11-01 20:23:45,437] Trial 183 finished with value: 8.51644482808825 and parameters: {'objective': 'regression', 'max_depth': 9, 'n_estimators': 591, 'learning_rate': 0.0534843975352794, 'num_leaves': 49, 'feature_fraction': 0.8881302499267268, 'bagging_fraction': 0.41136732300565937, 'lambda_l1': 0.3369203234682708, 'lambda_l2': 0.25203555011925854}. Best is trial 143 with value: 8.464907495734705.\n",
      "[I 2023-11-01 20:24:57,692] Trial 184 finished with value: 8.529152593794132 and parameters: {'objective': 'regression', 'max_depth': 9, 'n_estimators': 585, 'learning_rate': 0.05382970656117585, 'num_leaves': 48, 'feature_fraction': 0.9010028752685372, 'bagging_fraction': 0.40820055459685106, 'lambda_l1': 0.3601857327249881, 'lambda_l2': 0.24455378724317178}. Best is trial 143 with value: 8.464907495734705.\n",
      "[I 2023-11-01 20:25:18,497] Trial 185 finished with value: 8.502194578466355 and parameters: {'objective': 'regression', 'max_depth': 9, 'n_estimators': 584, 'learning_rate': 0.05208851378314431, 'num_leaves': 48, 'feature_fraction': 0.8950443408533225, 'bagging_fraction': 0.4683279934030166, 'lambda_l1': 0.3624818702185, 'lambda_l2': 0.22975425192072127}. Best is trial 143 with value: 8.464907495734705.\n",
      "[I 2023-11-01 20:25:54,088] Trial 186 finished with value: 8.583630827522532 and parameters: {'objective': 'regression', 'max_depth': 8, 'n_estimators': 423, 'learning_rate': 0.05192509585514125, 'num_leaves': 48, 'feature_fraction': 0.7586302578117448, 'bagging_fraction': 0.47642959152709835, 'lambda_l1': 0.3859934878668386, 'lambda_l2': 0.29826856475330354}. Best is trial 143 with value: 8.464907495734705.\n",
      "[I 2023-11-01 20:26:33,134] Trial 187 finished with value: 8.82912613833606 and parameters: {'objective': 'regression_l1', 'max_depth': 8, 'n_estimators': 489, 'learning_rate': 0.051749353585277116, 'num_leaves': 49, 'feature_fraction': 0.9357255176954318, 'bagging_fraction': 0.5002387608075798, 'lambda_l1': 0.39197591374292784, 'lambda_l2': 0.20249854398643272}. Best is trial 143 with value: 8.464907495734705.\n",
      "[I 2023-11-01 20:27:17,316] Trial 188 finished with value: 8.868382767221545 and parameters: {'objective': 'regression_l1', 'max_depth': 9, 'n_estimators': 529, 'learning_rate': 0.0577829282624555, 'num_leaves': 49, 'feature_fraction': 0.9292708107639318, 'bagging_fraction': 0.5309497563881259, 'lambda_l1': 0.3667380444172137, 'lambda_l2': 0.48065678332584416}. Best is trial 143 with value: 8.464907495734705.\n",
      "[I 2023-11-01 20:27:50,333] Trial 189 finished with value: 8.548971566935766 and parameters: {'objective': 'regression', 'max_depth': 9, 'n_estimators': 570, 'learning_rate': 0.0574523860714294, 'num_leaves': 42, 'feature_fraction': 0.9656708882000796, 'bagging_fraction': 0.5388253667447808, 'lambda_l1': 0.36690333872410563, 'lambda_l2': 0.23190609393604966}. Best is trial 143 with value: 8.464907495734705.\n",
      "[I 2023-11-01 20:28:31,659] Trial 190 finished with value: 8.589109792016565 and parameters: {'objective': 'regression', 'max_depth': 7, 'n_estimators': 569, 'learning_rate': 0.05000574797581538, 'num_leaves': 47, 'feature_fraction': 0.9628100734027665, 'bagging_fraction': 0.5415760859798237, 'lambda_l1': 0.5080882348134818, 'lambda_l2': 0.23036319574215394}. Best is trial 143 with value: 8.464907495734705.\n",
      "[I 2023-11-01 20:29:02,603] Trial 191 finished with value: 8.544263994686347 and parameters: {'objective': 'regression', 'max_depth': 7, 'n_estimators': 582, 'learning_rate': 0.050616187247350286, 'num_leaves': 47, 'feature_fraction': 0.8577196386919846, 'bagging_fraction': 0.5688015445671686, 'lambda_l1': 0.40883177553114836, 'lambda_l2': 0.27704530686033746}. Best is trial 143 with value: 8.464907495734705.\n",
      "[I 2023-11-01 20:29:58,572] Trial 192 finished with value: 8.505224275456332 and parameters: {'objective': 'regression', 'max_depth': 9, 'n_estimators': 583, 'learning_rate': 0.05395067153894235, 'num_leaves': 48, 'feature_fraction': 0.8962885186695678, 'bagging_fraction': 0.4622967258481891, 'lambda_l1': 0.34888762619818464, 'lambda_l2': 0.2742264192088755}. Best is trial 143 with value: 8.464907495734705.\n",
      "[I 2023-11-01 20:30:31,538] Trial 193 finished with value: 8.512503654578865 and parameters: {'objective': 'regression', 'max_depth': 9, 'n_estimators': 599, 'learning_rate': 0.05312266566666442, 'num_leaves': 48, 'feature_fraction': 0.8941012474394309, 'bagging_fraction': 0.4641665215932158, 'lambda_l1': 0.2824554783830243, 'lambda_l2': 0.263958138053159}. Best is trial 143 with value: 8.464907495734705.\n",
      "[I 2023-11-01 20:31:21,169] Trial 194 finished with value: 8.515131258584915 and parameters: {'objective': 'regression', 'max_depth': 9, 'n_estimators': 583, 'learning_rate': 0.05577186322986864, 'num_leaves': 48, 'feature_fraction': 0.9152043038723552, 'bagging_fraction': 0.7840320233757172, 'lambda_l1': 0.3059920941512736, 'lambda_l2': 0.21227498230992028}. Best is trial 143 with value: 8.464907495734705.\n",
      "[I 2023-11-01 20:31:52,613] Trial 195 finished with value: 8.536970174633655 and parameters: {'objective': 'regression', 'max_depth': 9, 'n_estimators': 583, 'learning_rate': 0.055962331496444535, 'num_leaves': 46, 'feature_fraction': 0.947438592559882, 'bagging_fraction': 0.5059226155535563, 'lambda_l1': 0.34693986012338324, 'lambda_l2': 0.5752211287191675}. Best is trial 143 with value: 8.464907495734705.\n",
      "[I 2023-11-01 20:32:44,904] Trial 196 finished with value: 8.549335212024031 and parameters: {'objective': 'regression', 'max_depth': 10, 'n_estimators': 577, 'learning_rate': 0.052633762570464135, 'num_leaves': 46, 'feature_fraction': 0.9403715609865445, 'bagging_fraction': 0.8686953375859742, 'lambda_l1': 0.3490809577457481, 'lambda_l2': 0.30345636690225447}. Best is trial 143 with value: 8.464907495734705.\n",
      "[I 2023-11-01 20:32:59,695] Trial 197 finished with value: 8.673638408472568 and parameters: {'objective': 'regression', 'max_depth': 10, 'n_estimators': 575, 'learning_rate': 0.05264426658450893, 'num_leaves': 49, 'feature_fraction': 0.5799315003483595, 'bagging_fraction': 0.4826603358944801, 'lambda_l1': 0.38140618739754223, 'lambda_l2': 0.2363165437702443}. Best is trial 143 with value: 8.464907495734705.\n",
      "[I 2023-11-01 20:33:41,456] Trial 198 finished with value: 8.97326936862276 and parameters: {'objective': 'regression', 'max_depth': 10, 'n_estimators': 564, 'learning_rate': 0.04763389001776222, 'num_leaves': 48, 'feature_fraction': 0.4652995942558426, 'bagging_fraction': 0.42930160427161246, 'lambda_l1': 0.45375057419442105, 'lambda_l2': 0.23556662550968835}. Best is trial 143 with value: 8.464907495734705.\n",
      "[I 2023-11-01 20:33:56,558] Trial 199 finished with value: 8.60038724942145 and parameters: {'objective': 'regression', 'max_depth': 9, 'n_estimators': 564, 'learning_rate': 0.04940696982510952, 'num_leaves': 48, 'feature_fraction': 0.6120752475426905, 'bagging_fraction': 0.43497244030404364, 'lambda_l1': 0.45178029048135715, 'lambda_l2': 0.2734995639389979}. Best is trial 143 with value: 8.464907495734705.\n"
     ]
    }
   ],
   "source": [
    "study = optuna.create_study(direction=\"minimize\", sampler=optuna.samplers.TPESampler(seed=42))\n",
    "study.optimize(objective, n_trials=200, n_jobs=-1)"
   ],
   "metadata": {
    "collapsed": false,
    "ExecuteTime": {
     "end_time": "2023-11-01T17:33:56.569659100Z",
     "start_time": "2023-11-01T15:34:44.951284300Z"
    }
   },
   "id": "2905507f49564fd6"
  },
  {
   "cell_type": "code",
   "execution_count": 59,
   "outputs": [],
   "source": [
    "stack = StackingRegressor(\n",
    "    estimators=[('lin', linear_pipeline)],\n",
    "    final_estimator=make_pipeline(\n",
    "        scaler, LGBMRegressor(**study.best_params, random_state=42, verbosity=-1, n_jobs=-1)),\n",
    "    passthrough=True)\n",
    "stack_pipeline = make_pipeline(scaler, stack)"
   ],
   "metadata": {
    "collapsed": false,
    "ExecuteTime": {
     "end_time": "2023-11-01T17:33:56.594487500Z",
     "start_time": "2023-11-01T17:33:56.569659100Z"
    }
   },
   "id": "fbd1f13e103c826b"
  },
  {
   "cell_type": "code",
   "execution_count": 60,
   "outputs": [
    {
     "data": {
      "text/plain": "Pipeline(steps=[('minmaxscaler', MinMaxScaler()),\n                ('stackingregressor',\n                 StackingRegressor(estimators=[('lin',\n                                                Pipeline(steps=[('minmaxscaler',\n                                                                 MinMaxScaler()),\n                                                                ('linearregression',\n                                                                 LinearRegression())]))],\n                                   final_estimator=Pipeline(steps=[('minmaxscaler',\n                                                                    MinMaxScaler()),\n                                                                   ('lgbmregressor',\n                                                                    LGBMRegressor(bagging_fraction=0.46298631015520186,\n                                                                                  feature_fraction=0.9285796959921393,\n                                                                                  lambda_l1=0.33238599755361947,\n                                                                                  lambda_l2=0.2697731934954458,\n                                                                                  learning_rate=0.05407259875757809,\n                                                                                  max_depth=9,\n                                                                                  n_estimators=600,\n                                                                                  n_jobs=-1,\n                                                                                  num_leaves=48,\n                                                                                  objective='regression',\n                                                                                  random_state=42,\n                                                                                  verbosity=-1))]),\n                                   passthrough=True))])",
      "text/html": "<style>#sk-container-id-7 {color: black;}#sk-container-id-7 pre{padding: 0;}#sk-container-id-7 div.sk-toggleable {background-color: white;}#sk-container-id-7 label.sk-toggleable__label {cursor: pointer;display: block;width: 100%;margin-bottom: 0;padding: 0.3em;box-sizing: border-box;text-align: center;}#sk-container-id-7 label.sk-toggleable__label-arrow:before {content: \"▸\";float: left;margin-right: 0.25em;color: #696969;}#sk-container-id-7 label.sk-toggleable__label-arrow:hover:before {color: black;}#sk-container-id-7 div.sk-estimator:hover label.sk-toggleable__label-arrow:before {color: black;}#sk-container-id-7 div.sk-toggleable__content {max-height: 0;max-width: 0;overflow: hidden;text-align: left;background-color: #f0f8ff;}#sk-container-id-7 div.sk-toggleable__content pre {margin: 0.2em;color: black;border-radius: 0.25em;background-color: #f0f8ff;}#sk-container-id-7 input.sk-toggleable__control:checked~div.sk-toggleable__content {max-height: 200px;max-width: 100%;overflow: auto;}#sk-container-id-7 input.sk-toggleable__control:checked~label.sk-toggleable__label-arrow:before {content: \"▾\";}#sk-container-id-7 div.sk-estimator input.sk-toggleable__control:checked~label.sk-toggleable__label {background-color: #d4ebff;}#sk-container-id-7 div.sk-label input.sk-toggleable__control:checked~label.sk-toggleable__label {background-color: #d4ebff;}#sk-container-id-7 input.sk-hidden--visually {border: 0;clip: rect(1px 1px 1px 1px);clip: rect(1px, 1px, 1px, 1px);height: 1px;margin: -1px;overflow: hidden;padding: 0;position: absolute;width: 1px;}#sk-container-id-7 div.sk-estimator {font-family: monospace;background-color: #f0f8ff;border: 1px dotted black;border-radius: 0.25em;box-sizing: border-box;margin-bottom: 0.5em;}#sk-container-id-7 div.sk-estimator:hover {background-color: #d4ebff;}#sk-container-id-7 div.sk-parallel-item::after {content: \"\";width: 100%;border-bottom: 1px solid gray;flex-grow: 1;}#sk-container-id-7 div.sk-label:hover label.sk-toggleable__label {background-color: #d4ebff;}#sk-container-id-7 div.sk-serial::before {content: \"\";position: absolute;border-left: 1px solid gray;box-sizing: border-box;top: 0;bottom: 0;left: 50%;z-index: 0;}#sk-container-id-7 div.sk-serial {display: flex;flex-direction: column;align-items: center;background-color: white;padding-right: 0.2em;padding-left: 0.2em;position: relative;}#sk-container-id-7 div.sk-item {position: relative;z-index: 1;}#sk-container-id-7 div.sk-parallel {display: flex;align-items: stretch;justify-content: center;background-color: white;position: relative;}#sk-container-id-7 div.sk-item::before, #sk-container-id-7 div.sk-parallel-item::before {content: \"\";position: absolute;border-left: 1px solid gray;box-sizing: border-box;top: 0;bottom: 0;left: 50%;z-index: -1;}#sk-container-id-7 div.sk-parallel-item {display: flex;flex-direction: column;z-index: 1;position: relative;background-color: white;}#sk-container-id-7 div.sk-parallel-item:first-child::after {align-self: flex-end;width: 50%;}#sk-container-id-7 div.sk-parallel-item:last-child::after {align-self: flex-start;width: 50%;}#sk-container-id-7 div.sk-parallel-item:only-child::after {width: 0;}#sk-container-id-7 div.sk-dashed-wrapped {border: 1px dashed gray;margin: 0 0.4em 0.5em 0.4em;box-sizing: border-box;padding-bottom: 0.4em;background-color: white;}#sk-container-id-7 div.sk-label label {font-family: monospace;font-weight: bold;display: inline-block;line-height: 1.2em;}#sk-container-id-7 div.sk-label-container {text-align: center;}#sk-container-id-7 div.sk-container {/* jupyter's `normalize.less` sets `[hidden] { display: none; }` but bootstrap.min.css set `[hidden] { display: none !important; }` so we also need the `!important` here to be able to override the default hidden behavior on the sphinx rendered scikit-learn.org. See: https://github.com/scikit-learn/scikit-learn/issues/21755 */display: inline-block !important;position: relative;}#sk-container-id-7 div.sk-text-repr-fallback {display: none;}</style><div id=\"sk-container-id-7\" class=\"sk-top-container\"><div class=\"sk-text-repr-fallback\"><pre>Pipeline(steps=[(&#x27;minmaxscaler&#x27;, MinMaxScaler()),\n                (&#x27;stackingregressor&#x27;,\n                 StackingRegressor(estimators=[(&#x27;lin&#x27;,\n                                                Pipeline(steps=[(&#x27;minmaxscaler&#x27;,\n                                                                 MinMaxScaler()),\n                                                                (&#x27;linearregression&#x27;,\n                                                                 LinearRegression())]))],\n                                   final_estimator=Pipeline(steps=[(&#x27;minmaxscaler&#x27;,\n                                                                    MinMaxScaler()),\n                                                                   (&#x27;lgbmregressor&#x27;,\n                                                                    LGBMRegressor(bagging_fraction=0.46298631015520186,\n                                                                                  feature_fraction=0.9285796959921393,\n                                                                                  lambda_l1=0.33238599755361947,\n                                                                                  lambda_l2=0.2697731934954458,\n                                                                                  learning_rate=0.05407259875757809,\n                                                                                  max_depth=9,\n                                                                                  n_estimators=600,\n                                                                                  n_jobs=-1,\n                                                                                  num_leaves=48,\n                                                                                  objective=&#x27;regression&#x27;,\n                                                                                  random_state=42,\n                                                                                  verbosity=-1))]),\n                                   passthrough=True))])</pre><b>In a Jupyter environment, please rerun this cell to show the HTML representation or trust the notebook. <br />On GitHub, the HTML representation is unable to render, please try loading this page with nbviewer.org.</b></div><div class=\"sk-container\" hidden><div class=\"sk-item sk-dashed-wrapped\"><div class=\"sk-label-container\"><div class=\"sk-label sk-toggleable\"><input class=\"sk-toggleable__control sk-hidden--visually\" id=\"sk-estimator-id-15\" type=\"checkbox\" ><label for=\"sk-estimator-id-15\" class=\"sk-toggleable__label sk-toggleable__label-arrow\">Pipeline</label><div class=\"sk-toggleable__content\"><pre>Pipeline(steps=[(&#x27;minmaxscaler&#x27;, MinMaxScaler()),\n                (&#x27;stackingregressor&#x27;,\n                 StackingRegressor(estimators=[(&#x27;lin&#x27;,\n                                                Pipeline(steps=[(&#x27;minmaxscaler&#x27;,\n                                                                 MinMaxScaler()),\n                                                                (&#x27;linearregression&#x27;,\n                                                                 LinearRegression())]))],\n                                   final_estimator=Pipeline(steps=[(&#x27;minmaxscaler&#x27;,\n                                                                    MinMaxScaler()),\n                                                                   (&#x27;lgbmregressor&#x27;,\n                                                                    LGBMRegressor(bagging_fraction=0.46298631015520186,\n                                                                                  feature_fraction=0.9285796959921393,\n                                                                                  lambda_l1=0.33238599755361947,\n                                                                                  lambda_l2=0.2697731934954458,\n                                                                                  learning_rate=0.05407259875757809,\n                                                                                  max_depth=9,\n                                                                                  n_estimators=600,\n                                                                                  n_jobs=-1,\n                                                                                  num_leaves=48,\n                                                                                  objective=&#x27;regression&#x27;,\n                                                                                  random_state=42,\n                                                                                  verbosity=-1))]),\n                                   passthrough=True))])</pre></div></div></div><div class=\"sk-serial\"><div class=\"sk-item\"><div class=\"sk-estimator sk-toggleable\"><input class=\"sk-toggleable__control sk-hidden--visually\" id=\"sk-estimator-id-16\" type=\"checkbox\" ><label for=\"sk-estimator-id-16\" class=\"sk-toggleable__label sk-toggleable__label-arrow\">MinMaxScaler</label><div class=\"sk-toggleable__content\"><pre>MinMaxScaler()</pre></div></div></div><div class=\"sk-item\"><div class=\"sk-label-container\"><div class=\"sk-label sk-toggleable\"><input class=\"sk-toggleable__control sk-hidden--visually\" id=\"sk-estimator-id-17\" type=\"checkbox\" ><label for=\"sk-estimator-id-17\" class=\"sk-toggleable__label sk-toggleable__label-arrow\">stackingregressor: StackingRegressor</label><div class=\"sk-toggleable__content\"><pre>StackingRegressor(estimators=[(&#x27;lin&#x27;,\n                               Pipeline(steps=[(&#x27;minmaxscaler&#x27;, MinMaxScaler()),\n                                               (&#x27;linearregression&#x27;,\n                                                LinearRegression())]))],\n                  final_estimator=Pipeline(steps=[(&#x27;minmaxscaler&#x27;,\n                                                   MinMaxScaler()),\n                                                  (&#x27;lgbmregressor&#x27;,\n                                                   LGBMRegressor(bagging_fraction=0.46298631015520186,\n                                                                 feature_fraction=0.9285796959921393,\n                                                                 lambda_l1=0.33238599755361947,\n                                                                 lambda_l2=0.2697731934954458,\n                                                                 learning_rate=0.05407259875757809,\n                                                                 max_depth=9,\n                                                                 n_estimators=600,\n                                                                 n_jobs=-1,\n                                                                 num_leaves=48,\n                                                                 objective=&#x27;regression&#x27;,\n                                                                 random_state=42,\n                                                                 verbosity=-1))]),\n                  passthrough=True)</pre></div></div></div><div class=\"sk-serial\"><div class=\"sk-item\"><div class=\"sk-parallel\"><div class=\"sk-parallel-item\"><div class=\"sk-item\"><div class=\"sk-label-container\"><div class=\"sk-label sk-toggleable\"><label>lin</label></div></div><div class=\"sk-serial\"><div class=\"sk-item\"><div class=\"sk-serial\"><div class=\"sk-item\"><div class=\"sk-estimator sk-toggleable\"><input class=\"sk-toggleable__control sk-hidden--visually\" id=\"sk-estimator-id-18\" type=\"checkbox\" ><label for=\"sk-estimator-id-18\" class=\"sk-toggleable__label sk-toggleable__label-arrow\">MinMaxScaler</label><div class=\"sk-toggleable__content\"><pre>MinMaxScaler()</pre></div></div></div><div class=\"sk-item\"><div class=\"sk-estimator sk-toggleable\"><input class=\"sk-toggleable__control sk-hidden--visually\" id=\"sk-estimator-id-19\" type=\"checkbox\" ><label for=\"sk-estimator-id-19\" class=\"sk-toggleable__label sk-toggleable__label-arrow\">LinearRegression</label><div class=\"sk-toggleable__content\"><pre>LinearRegression()</pre></div></div></div></div></div></div></div></div></div></div><div class=\"sk-item\"><div class=\"sk-parallel\"><div class=\"sk-parallel-item\"><div class=\"sk-item\"><div class=\"sk-label-container\"><div class=\"sk-label sk-toggleable\"><label>final_estimator</label></div></div><div class=\"sk-serial\"><div class=\"sk-item\"><div class=\"sk-serial\"><div class=\"sk-item\"><div class=\"sk-estimator sk-toggleable\"><input class=\"sk-toggleable__control sk-hidden--visually\" id=\"sk-estimator-id-20\" type=\"checkbox\" ><label for=\"sk-estimator-id-20\" class=\"sk-toggleable__label sk-toggleable__label-arrow\">MinMaxScaler</label><div class=\"sk-toggleable__content\"><pre>MinMaxScaler()</pre></div></div></div><div class=\"sk-item\"><div class=\"sk-estimator sk-toggleable\"><input class=\"sk-toggleable__control sk-hidden--visually\" id=\"sk-estimator-id-21\" type=\"checkbox\" ><label for=\"sk-estimator-id-21\" class=\"sk-toggleable__label sk-toggleable__label-arrow\">LGBMRegressor</label><div class=\"sk-toggleable__content\"><pre>LGBMRegressor(bagging_fraction=0.46298631015520186,\n              feature_fraction=0.9285796959921393,\n              lambda_l1=0.33238599755361947, lambda_l2=0.2697731934954458,\n              learning_rate=0.05407259875757809, max_depth=9, n_estimators=600,\n              n_jobs=-1, num_leaves=48, objective=&#x27;regression&#x27;, random_state=42,\n              verbosity=-1)</pre></div></div></div></div></div></div></div></div></div></div></div></div></div></div></div></div>"
     },
     "execution_count": 60,
     "metadata": {},
     "output_type": "execute_result"
    }
   ],
   "source": [
    "stack_pipeline.fit(features_full, target_full)"
   ],
   "metadata": {
    "collapsed": false,
    "ExecuteTime": {
     "end_time": "2023-11-01T17:33:59.416348500Z",
     "start_time": "2023-11-01T17:33:56.576487500Z"
    }
   },
   "id": "1fc801bfc8f8ef8d"
  },
  {
   "cell_type": "code",
   "execution_count": 61,
   "outputs": [
    {
     "data": {
      "text/plain": "3.598186692827119"
     },
     "execution_count": 61,
     "metadata": {},
     "output_type": "execute_result"
    }
   ],
   "source": [
    "mean_absolute_error(target_full, stack_pipeline.predict(features_full))"
   ],
   "metadata": {
    "collapsed": false,
    "ExecuteTime": {
     "end_time": "2023-11-01T17:34:00.241173400Z",
     "start_time": "2023-11-01T17:33:59.409829900Z"
    }
   },
   "id": "bedb7ec15b5ddccb"
  },
  {
   "cell_type": "markdown",
   "source": [
    "### Dump"
   ],
   "metadata": {
    "collapsed": false
   },
   "id": "bb9e5b16dfb8986f"
  },
  {
   "cell_type": "code",
   "execution_count": 62,
   "outputs": [
    {
     "data": {
      "text/plain": "['../files/stack_pipeline_1h']"
     },
     "execution_count": 62,
     "metadata": {},
     "output_type": "execute_result"
    }
   ],
   "source": [
    "joblib.dump(target_encoder, '../files/target_encoder_1h')\n",
    "joblib.dump(linear_pipeline, '../files/linear_pipeline_1h')\n",
    "joblib.dump(lgbm_pipeline, '../files/lgbm_pipeline_1h')\n",
    "joblib.dump(stack_pipeline, '../files/stack_pipeline_1h')"
   ],
   "metadata": {
    "collapsed": false,
    "ExecuteTime": {
     "end_time": "2023-11-01T17:38:31.396700300Z",
     "start_time": "2023-11-01T17:38:31.142980900Z"
    }
   },
   "id": "60986211db913282"
  },
  {
   "cell_type": "markdown",
   "source": [
    "### Plot"
   ],
   "metadata": {
    "collapsed": false
   },
   "id": "a5a374b4eaa995f"
  },
  {
   "cell_type": "code",
   "execution_count": 324,
   "outputs": [
    {
     "data": {
      "text/plain": "<Figure size 1200x600 with 1 Axes>",
      "image/png": "[encoded data removed]"
     },
     "metadata": {},
     "output_type": "display_data"
    }
   ],
   "source": [
    "plt.figure(figsize=(12, 6))\n",
    "plt.plot(np.array(target_full), label=\"True\")\n",
    "plt.plot(stack_pipeline.predict(features_full), label='Predict') #target_full.index, \n",
    "#plt.xlim(35000, 36000)\n",
    "#plt.ylim(400, 700)\n",
    "plt.legend();"
   ],
   "metadata": {
    "collapsed": false,
    "ExecuteTime": {
     "end_time": "2023-10-31T19:20:31.009158900Z",
     "start_time": "2023-10-31T19:20:29.130984700Z"
    }
   },
   "id": "f3ed522c9196c95c"
  },
  {
   "cell_type": "code",
   "execution_count": null,
   "outputs": [],
   "source": [],
   "metadata": {
    "collapsed": false
   },
   "id": "ce420fd8901a9c88"
  }
 ],
 "metadata": {
  "kernelspec": {
   "display_name": "Python 3",
   "language": "python",
   "name": "python3"
  },
  "language_info": {
   "codemirror_mode": {
    "name": "ipython",
    "version": 2
   },
   "file_extension": ".py",
   "mimetype": "text/x-python",
   "name": "python",
   "nbconvert_exporter": "python",
   "pygments_lexer": "ipython2",
   "version": "2.7.6"
  }
 },
 "nbformat": 4,
 "nbformat_minor": 5
}
