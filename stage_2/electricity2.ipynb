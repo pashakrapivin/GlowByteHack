{
 "cells": [
  {
   "cell_type": "code",
   "execution_count": 20,
   "id": "initial_id",
   "metadata": {
    "collapsed": true,
    "ExecuteTime": {
     "end_time": "2023-11-01T13:36:56.600059900Z",
     "start_time": "2023-11-01T13:36:56.559185200Z"
    }
   },
   "outputs": [],
   "source": [
    "import pandas as pd\n",
    "import numpy as np\n",
    "import joblib\n",
    "import warnings\n",
    "import holidays\n",
    "from datetime import timedelta\n",
    "import matplotlib.pyplot as plt\n",
    "\n",
    "from sklearn.preprocessing import MinMaxScaler\n",
    "from sklearn.model_selection import cross_val_score, TimeSeriesSplit\n",
    "from sklearn.linear_model import LinearRegression\n",
    "from sklearn.metrics import mean_absolute_error, r2_score, mean_absolute_percentage_error\n",
    "from category_encoders.target_encoder import TargetEncoder\n",
    "from sklearn.pipeline import make_pipeline\n",
    "from sklearn.inspection import permutation_importance\n",
    "from sklearn.ensemble import StackingRegressor\n",
    "\n",
    "from lightgbm import LGBMRegressor\n",
    "import optuna"
   ]
  },
  {
   "cell_type": "code",
   "execution_count": 3,
   "outputs": [],
   "source": [
    "warnings.simplefilter('ignore', category=FutureWarning)"
   ],
   "metadata": {
    "collapsed": false,
    "ExecuteTime": {
     "end_time": "2023-11-01T13:34:00.563620600Z",
     "start_time": "2023-11-01T13:34:00.515097900Z"
    }
   },
   "id": "b37cd3db0e474a11"
  },
  {
   "cell_type": "markdown",
   "source": [
    "## Prepairing"
   ],
   "metadata": {
    "collapsed": false
   },
   "id": "b282184b2b52ec32"
  },
  {
   "cell_type": "code",
   "execution_count": 5,
   "outputs": [],
   "source": [
    "# Таргет-энкодер и модель для предсказаний на 1 день\n",
    "target_encoder_1d = joblib.load('../files/target_encoder_1d')\n",
    "stack_pipeline_1d = joblib.load('../files/stack_pipeline_1d')"
   ],
   "metadata": {
    "collapsed": false,
    "ExecuteTime": {
     "end_time": "2023-11-01T13:34:29.664627800Z",
     "start_time": "2023-11-01T13:34:29.544015Z"
    }
   },
   "id": "b769185b679f802d"
  },
  {
   "cell_type": "code",
   "execution_count": 6,
   "outputs": [],
   "source": [
    "# Функция извлечения признаков, для предсказаний на 1 день\n",
    "def features_extractor_1d(dataset, target_encoder):\n",
    "    features = pd.DataFrame()\n",
    "    res_dataset = dataset.resample('1D')\n",
    "\n",
    "    # Вчерашняя температура\n",
    "    features['temp_pred'] = res_dataset.agg({'temp_pred': 'mean'})\n",
    "    features['yst_temp_min'] = res_dataset.agg({'temp': 'min'}).shift(1)\n",
    "    features['yst_temp_med'] = res_dataset.agg({'temp': 'median'}).shift(1)\n",
    "    for i in range(3):\n",
    "        features[f'yst_temp_mean{i+1}'] = res_dataset.agg({'temp': 'mean'}).shift(i+1)\n",
    "    features['yst_temp_max'] = res_dataset.agg({'temp': 'max'}).shift(1)\n",
    "    features['yst_temp_last'] = dataset.query('time==23')['temp'].shift(1)\n",
    "    # Вчерашний таргет\n",
    "    features['yst_target_min'] = res_dataset.agg({'target': 'min'}).shift(1)\n",
    "    features['yst_target_med'] = res_dataset.agg({'target': 'median'}).shift(1)\n",
    "    features['yst_target_mean'] = res_dataset.agg({'target': 'mean'}).shift(1)\n",
    "    features['yst_target_max'] = res_dataset.agg({'target': 'max'}).shift(1)\n",
    "    features['yst_target_last'] = dataset.query('time==23')['target'].shift(1)\n",
    "\n",
    "    # Погода энкодед\n",
    "    features[['weather_pred', 'yst_weather_fact_1']] = (\n",
    "        target_encoder.transform(dataset[['weather_pred', 'weather_fact']]).resample('D').mean()\n",
    "    )\n",
    "    features['yst_weather_fact_1'] = features['yst_weather_fact_1'].shift(1)\n",
    "    for i in range(1, 2):\n",
    "        features[f'yst_weather_fact_{i+1}'] = features['yst_weather_fact_1'].shift(i+1)\n",
    "\n",
    "\n",
    "    # Лаг\n",
    "    for i in range(31):\n",
    "        features[f'target_lag_{i+1}'] = res_dataset.agg({'target': 'sum'}).shift(i+1)\n",
    "\n",
    "\n",
    "    # Дни\n",
    "    features['week_day'] = features.index.dayofweek\n",
    "    features['year'] = features.index.year\n",
    "    features['month'] = features.index.month\n",
    "    features['day'] = features.index.day\n",
    "    #features['quarter'] = (features.index.month - 1) // 3 + 1\n",
    "\n",
    "    # Выходные праздники\n",
    "    #features['is_weekend'] = [1 if day == 6 or day == 0 else 0 for day in features.week_day]\n",
    "    holidays_list = []\n",
    "    for i in holidays.RUS(years=[2019, 2020, 2021, 2022, 2023]).items():\n",
    "        holidays_list.append(str(i[0]))\n",
    "    holidays_list = holidays_list + ['2019-12-31', '2020-12-31', '2021-12-31', '2022-12-31', '2023-12-31']\n",
    "    features['is_holiday'] = [1 if str(val).split()[0] in holidays_list else 0 for val in features.index]\n",
    "\n",
    "    features = features.dropna()\n",
    "    return features"
   ],
   "metadata": {
    "collapsed": false,
    "ExecuteTime": {
     "end_time": "2023-11-01T13:34:31.583076900Z",
     "start_time": "2023-11-01T13:34:31.551290400Z"
    }
   },
   "id": "4da5c09e52ea5c9"
  },
  {
   "cell_type": "code",
   "execution_count": 7,
   "outputs": [],
   "source": [
    "# Функция извлечения признаков, для предсказаний на 1 час\n",
    "def features_extractor(dataset, target_encoder, predict_1d):\n",
    "    features = pd.DataFrame()\n",
    "    \n",
    "    features['time'] = dataset['time']\n",
    "    \n",
    "    # Температура\n",
    "    features['temp_pred'] = dataset['temp_pred']\n",
    "    features['temp_pred'] = features['temp_pred'].ffill()\n",
    "    features['yst_temp'] = dataset['temp'].shift(24)\n",
    "    features['yst_temp_mean'] = features.resample('1D').agg({'yst_temp': 'mean'})\n",
    "    features['yst_temp_med'] = features.resample('1D').agg({'yst_temp': 'median'})\n",
    "    \n",
    "    # Погода\n",
    "    features['weather_pred'] = dataset['weather_pred']\n",
    "    features['weather_pred'] = features['weather_pred'].ffill()\n",
    "    features['weather_fact'] = dataset['weather_fact'].shift(24)\n",
    "    features[['weather_pred', 'weather_fact']] = (\n",
    "        target_encoder.transform(features[['weather_pred', 'weather_fact']])\n",
    "    )\n",
    "    features = features.rename(columns={'weather_fact': 'yst_weather_fact'})\n",
    "    features['yst_weather_fact_mean'] = features.resample('1D').agg({'yst_weather_fact': 'mean'})\n",
    "    features['yst_weather_fact_med'] = features.resample('1D').agg({'yst_weather_fact': 'median'})\n",
    "    \n",
    "    # Лаг таргета на 7 дней\n",
    "    for i in range(24, 192, 24):\n",
    "        features[f'yst_target_{i}'] = dataset['target'].shift(i)\n",
    "    \n",
    "    features['yst_target_sum'] = features.resample('1D').agg({'yst_target_24': 'sum'})\n",
    "    \n",
    "    # Предикт на 1 день\n",
    "    features = features.join(predict_1d)\n",
    "\n",
    "    # Дни\n",
    "    features['week_day'] = features.index.dayofweek\n",
    "    features['year'] = features.index.year\n",
    "    features['month'] = features.index.month\n",
    "    features['day'] = features.index.day\n",
    "    \n",
    "    # Праздники\n",
    "    holidays_list = []\n",
    "    for i in holidays.RUS(years=[2019, 2020, 2021, 2022, 2023]).items():\n",
    "        holidays_list.append(str(i[0]))\n",
    "    holidays_list = holidays_list + ['2019-12-31', '2020-12-31', '2021-12-31', '2022-12-31', '2023-12-31']\n",
    "    features['is_holiday'] = [1 if str(val).split()[0] in holidays_list else 0 for val in features.index]\n",
    "    \n",
    "    features = features.dropna()\n",
    "    return features"
   ],
   "metadata": {
    "collapsed": false,
    "ExecuteTime": {
     "end_time": "2023-11-01T13:34:32.185446900Z",
     "start_time": "2023-11-01T13:34:32.154834100Z"
    }
   },
   "id": "7a420c7113c6e978"
  },
  {
   "cell_type": "code",
   "execution_count": 8,
   "outputs": [],
   "source": [
    "# Функция для извлечения таргета\n",
    "def target_creator(dataset, features_idx):\n",
    "    target = dataset['target']\n",
    "    target = target.loc[features_idx.unique()]\n",
    "    return target"
   ],
   "metadata": {
    "collapsed": false,
    "ExecuteTime": {
     "end_time": "2023-11-01T13:34:32.949642300Z",
     "start_time": "2023-11-01T13:34:32.924635500Z"
    }
   },
   "id": "6dc7d52d1e37ecd7"
  },
  {
   "cell_type": "code",
   "execution_count": 9,
   "outputs": [],
   "source": [
    "target_encoder = TargetEncoder()\n",
    "scaler = MinMaxScaler()\n",
    "CV = TimeSeriesSplit(n_splits=5)"
   ],
   "metadata": {
    "collapsed": false,
    "ExecuteTime": {
     "end_time": "2023-11-01T13:34:34.015474700Z",
     "start_time": "2023-11-01T13:34:33.950479500Z"
    }
   },
   "id": "eb4ad55af60e5313"
  },
  {
   "cell_type": "markdown",
   "source": [
    "## TRAIN"
   ],
   "metadata": {
    "collapsed": false
   },
   "id": "16deadc7f172e940"
  },
  {
   "cell_type": "code",
   "execution_count": 10,
   "outputs": [
    {
     "data": {
      "text/plain": "            time   target  temp  temp_pred weather_pred weather_fact\ndate                                                                \n2019-01-01     0  481.510   2.9        2.0  пасм, ветер        ветер\n2019-01-01     1  462.872   2.9        2.0  пасм, ветер        ветер\n2019-01-01     2  449.718   2.9        2.0  пасм, ветер        ветер\n2019-01-01     3  430.908   4.3        2.0  пасм, ветер  ветер, пасм\n2019-01-01     4  415.163   4.3        2.0  пасм, ветер  ветер, пасм\n...          ...      ...   ...        ...          ...          ...\n2023-03-31    19  552.960   7.9        6.0    пасм, 61%  пасм, дымка\n2023-03-31    20  563.985   7.9        6.0    пасм, 61%  пасм, дымка\n2023-03-31    21  560.191   6.3        5.0    пасм, 61%  пасм, дымка\n2023-03-31    22  538.796   6.3        5.0    пасм, 61%  пасм, дымка\n2023-03-31    23  518.685   6.3        5.0    пасм, 61%  пасм, дымка\n\n[37224 rows x 6 columns]",
      "text/html": "<div>\n<style scoped>\n    .dataframe tbody tr th:only-of-type {\n        vertical-align: middle;\n    }\n\n    .dataframe tbody tr th {\n        vertical-align: top;\n    }\n\n    .dataframe thead th {\n        text-align: right;\n    }\n</style>\n<table border=\"1\" class=\"dataframe\">\n  <thead>\n    <tr style=\"text-align: right;\">\n      <th></th>\n      <th>time</th>\n      <th>target</th>\n      <th>temp</th>\n      <th>temp_pred</th>\n      <th>weather_pred</th>\n      <th>weather_fact</th>\n    </tr>\n    <tr>\n      <th>date</th>\n      <th></th>\n      <th></th>\n      <th></th>\n      <th></th>\n      <th></th>\n      <th></th>\n    </tr>\n  </thead>\n  <tbody>\n    <tr>\n      <th>2019-01-01</th>\n      <td>0</td>\n      <td>481.510</td>\n      <td>2.9</td>\n      <td>2.0</td>\n      <td>пасм, ветер</td>\n      <td>ветер</td>\n    </tr>\n    <tr>\n      <th>2019-01-01</th>\n      <td>1</td>\n      <td>462.872</td>\n      <td>2.9</td>\n      <td>2.0</td>\n      <td>пасм, ветер</td>\n      <td>ветер</td>\n    </tr>\n    <tr>\n      <th>2019-01-01</th>\n      <td>2</td>\n      <td>449.718</td>\n      <td>2.9</td>\n      <td>2.0</td>\n      <td>пасм, ветер</td>\n      <td>ветер</td>\n    </tr>\n    <tr>\n      <th>2019-01-01</th>\n      <td>3</td>\n      <td>430.908</td>\n      <td>4.3</td>\n      <td>2.0</td>\n      <td>пасм, ветер</td>\n      <td>ветер, пасм</td>\n    </tr>\n    <tr>\n      <th>2019-01-01</th>\n      <td>4</td>\n      <td>415.163</td>\n      <td>4.3</td>\n      <td>2.0</td>\n      <td>пасм, ветер</td>\n      <td>ветер, пасм</td>\n    </tr>\n    <tr>\n      <th>...</th>\n      <td>...</td>\n      <td>...</td>\n      <td>...</td>\n      <td>...</td>\n      <td>...</td>\n      <td>...</td>\n    </tr>\n    <tr>\n      <th>2023-03-31</th>\n      <td>19</td>\n      <td>552.960</td>\n      <td>7.9</td>\n      <td>6.0</td>\n      <td>пасм, 61%</td>\n      <td>пасм, дымка</td>\n    </tr>\n    <tr>\n      <th>2023-03-31</th>\n      <td>20</td>\n      <td>563.985</td>\n      <td>7.9</td>\n      <td>6.0</td>\n      <td>пасм, 61%</td>\n      <td>пасм, дымка</td>\n    </tr>\n    <tr>\n      <th>2023-03-31</th>\n      <td>21</td>\n      <td>560.191</td>\n      <td>6.3</td>\n      <td>5.0</td>\n      <td>пасм, 61%</td>\n      <td>пасм, дымка</td>\n    </tr>\n    <tr>\n      <th>2023-03-31</th>\n      <td>22</td>\n      <td>538.796</td>\n      <td>6.3</td>\n      <td>5.0</td>\n      <td>пасм, 61%</td>\n      <td>пасм, дымка</td>\n    </tr>\n    <tr>\n      <th>2023-03-31</th>\n      <td>23</td>\n      <td>518.685</td>\n      <td>6.3</td>\n      <td>5.0</td>\n      <td>пасм, 61%</td>\n      <td>пасм, дымка</td>\n    </tr>\n  </tbody>\n</table>\n<p>37224 rows × 6 columns</p>\n</div>"
     },
     "execution_count": 10,
     "metadata": {},
     "output_type": "execute_result"
    }
   ],
   "source": [
    "df_train = pd.read_csv('../data/train_dataset.csv', index_col='date', parse_dates=True)\n",
    "df_train"
   ],
   "metadata": {
    "collapsed": false,
    "ExecuteTime": {
     "end_time": "2023-11-01T13:34:36.782487100Z",
     "start_time": "2023-11-01T13:34:36.672741100Z"
    }
   },
   "id": "44b6c39283de8503"
  },
  {
   "cell_type": "code",
   "execution_count": 11,
   "outputs": [],
   "source": [
    "# Извлекаем признаки для предсказания суммарного потребления электричества на 1 день\n",
    "features_train_1d = features_extractor_1d(df_train, target_encoder_1d)"
   ],
   "metadata": {
    "collapsed": false,
    "ExecuteTime": {
     "end_time": "2023-11-01T13:34:39.169944800Z",
     "start_time": "2023-11-01T13:34:38.887561200Z"
    }
   },
   "id": "65fcd570d0b370c1"
  },
  {
   "cell_type": "code",
   "execution_count": 12,
   "outputs": [],
   "source": [
    "# Получаем предсказания суммарного потребления на 1 день \n",
    "predict_train_1d = pd.DataFrame(\n",
    "    stack_pipeline_1d.predict(features_train_1d),\n",
    "    index=features_train_1d.index,\n",
    "    columns=['target_sum_pred']\n",
    ")"
   ],
   "metadata": {
    "collapsed": false,
    "ExecuteTime": {
     "end_time": "2023-11-01T13:34:57.965167500Z",
     "start_time": "2023-11-01T13:34:57.850141400Z"
    }
   },
   "id": "96cba359efd0a200"
  },
  {
   "cell_type": "code",
   "execution_count": 13,
   "outputs": [
    {
     "data": {
      "text/plain": "TargetEncoder(cols=['weather_pred', 'weather_fact'])",
      "text/html": "<style>#sk-container-id-1 {color: black;}#sk-container-id-1 pre{padding: 0;}#sk-container-id-1 div.sk-toggleable {background-color: white;}#sk-container-id-1 label.sk-toggleable__label {cursor: pointer;display: block;width: 100%;margin-bottom: 0;padding: 0.3em;box-sizing: border-box;text-align: center;}#sk-container-id-1 label.sk-toggleable__label-arrow:before {content: \"▸\";float: left;margin-right: 0.25em;color: #696969;}#sk-container-id-1 label.sk-toggleable__label-arrow:hover:before {color: black;}#sk-container-id-1 div.sk-estimator:hover label.sk-toggleable__label-arrow:before {color: black;}#sk-container-id-1 div.sk-toggleable__content {max-height: 0;max-width: 0;overflow: hidden;text-align: left;background-color: #f0f8ff;}#sk-container-id-1 div.sk-toggleable__content pre {margin: 0.2em;color: black;border-radius: 0.25em;background-color: #f0f8ff;}#sk-container-id-1 input.sk-toggleable__control:checked~div.sk-toggleable__content {max-height: 200px;max-width: 100%;overflow: auto;}#sk-container-id-1 input.sk-toggleable__control:checked~label.sk-toggleable__label-arrow:before {content: \"▾\";}#sk-container-id-1 div.sk-estimator input.sk-toggleable__control:checked~label.sk-toggleable__label {background-color: #d4ebff;}#sk-container-id-1 div.sk-label input.sk-toggleable__control:checked~label.sk-toggleable__label {background-color: #d4ebff;}#sk-container-id-1 input.sk-hidden--visually {border: 0;clip: rect(1px 1px 1px 1px);clip: rect(1px, 1px, 1px, 1px);height: 1px;margin: -1px;overflow: hidden;padding: 0;position: absolute;width: 1px;}#sk-container-id-1 div.sk-estimator {font-family: monospace;background-color: #f0f8ff;border: 1px dotted black;border-radius: 0.25em;box-sizing: border-box;margin-bottom: 0.5em;}#sk-container-id-1 div.sk-estimator:hover {background-color: #d4ebff;}#sk-container-id-1 div.sk-parallel-item::after {content: \"\";width: 100%;border-bottom: 1px solid gray;flex-grow: 1;}#sk-container-id-1 div.sk-label:hover label.sk-toggleable__label {background-color: #d4ebff;}#sk-container-id-1 div.sk-serial::before {content: \"\";position: absolute;border-left: 1px solid gray;box-sizing: border-box;top: 0;bottom: 0;left: 50%;z-index: 0;}#sk-container-id-1 div.sk-serial {display: flex;flex-direction: column;align-items: center;background-color: white;padding-right: 0.2em;padding-left: 0.2em;position: relative;}#sk-container-id-1 div.sk-item {position: relative;z-index: 1;}#sk-container-id-1 div.sk-parallel {display: flex;align-items: stretch;justify-content: center;background-color: white;position: relative;}#sk-container-id-1 div.sk-item::before, #sk-container-id-1 div.sk-parallel-item::before {content: \"\";position: absolute;border-left: 1px solid gray;box-sizing: border-box;top: 0;bottom: 0;left: 50%;z-index: -1;}#sk-container-id-1 div.sk-parallel-item {display: flex;flex-direction: column;z-index: 1;position: relative;background-color: white;}#sk-container-id-1 div.sk-parallel-item:first-child::after {align-self: flex-end;width: 50%;}#sk-container-id-1 div.sk-parallel-item:last-child::after {align-self: flex-start;width: 50%;}#sk-container-id-1 div.sk-parallel-item:only-child::after {width: 0;}#sk-container-id-1 div.sk-dashed-wrapped {border: 1px dashed gray;margin: 0 0.4em 0.5em 0.4em;box-sizing: border-box;padding-bottom: 0.4em;background-color: white;}#sk-container-id-1 div.sk-label label {font-family: monospace;font-weight: bold;display: inline-block;line-height: 1.2em;}#sk-container-id-1 div.sk-label-container {text-align: center;}#sk-container-id-1 div.sk-container {/* jupyter's `normalize.less` sets `[hidden] { display: none; }` but bootstrap.min.css set `[hidden] { display: none !important; }` so we also need the `!important` here to be able to override the default hidden behavior on the sphinx rendered scikit-learn.org. See: https://github.com/scikit-learn/scikit-learn/issues/21755 */display: inline-block !important;position: relative;}#sk-container-id-1 div.sk-text-repr-fallback {display: none;}</style><div id=\"sk-container-id-1\" class=\"sk-top-container\"><div class=\"sk-text-repr-fallback\"><pre>TargetEncoder(cols=[&#x27;weather_pred&#x27;, &#x27;weather_fact&#x27;])</pre><b>In a Jupyter environment, please rerun this cell to show the HTML representation or trust the notebook. <br />On GitHub, the HTML representation is unable to render, please try loading this page with nbviewer.org.</b></div><div class=\"sk-container\" hidden><div class=\"sk-item\"><div class=\"sk-estimator sk-toggleable\"><input class=\"sk-toggleable__control sk-hidden--visually\" id=\"sk-estimator-id-1\" type=\"checkbox\" checked><label for=\"sk-estimator-id-1\" class=\"sk-toggleable__label sk-toggleable__label-arrow\">TargetEncoder</label><div class=\"sk-toggleable__content\"><pre>TargetEncoder(cols=[&#x27;weather_pred&#x27;, &#x27;weather_fact&#x27;])</pre></div></div></div></div></div>"
     },
     "execution_count": 13,
     "metadata": {},
     "output_type": "execute_result"
    }
   ],
   "source": [
    "target_encoder.fit(df_train[['weather_pred', 'weather_fact']], df_train['target'])"
   ],
   "metadata": {
    "collapsed": false,
    "ExecuteTime": {
     "end_time": "2023-11-01T13:34:59.264751800Z",
     "start_time": "2023-11-01T13:34:59.116258200Z"
    }
   },
   "id": "4048b18cdbb6c8e"
  },
  {
   "cell_type": "code",
   "execution_count": 14,
   "outputs": [
    {
     "data": {
      "text/plain": "            time  temp_pred  yst_temp  yst_temp_mean  yst_temp_med  \\\ndate                                                                 \n2019-02-01     0       -2.0      -5.4        -2.2125         -1.40   \n2019-02-01     1       -2.0      -5.4        -2.2125         -1.40   \n2019-02-01     2       -2.0      -5.4        -2.2125         -1.40   \n2019-02-01     3       -3.0      -4.7        -2.2125         -1.40   \n2019-02-01     4       -3.0      -4.7        -2.2125         -1.40   \n...          ...        ...       ...            ...           ...   \n2023-03-31    19        6.0       7.8         7.4375          7.45   \n2023-03-31    20        6.0       7.8         7.4375          7.45   \n2023-03-31    21        5.0       7.1         7.4375          7.45   \n2023-03-31    22        5.0       7.1         7.4375          7.45   \n2023-03-31    23        5.0       7.1         7.4375          7.45   \n\n            weather_pred  yst_weather_fact  yst_weather_fact_mean  \\\ndate                                                                \n2019-02-01    569.001286        497.958169             508.221174   \n2019-02-01    569.001286        497.958169             508.221174   \n2019-02-01    569.001286        497.958169             508.221174   \n2019-02-01    569.001286        497.958169             508.221174   \n2019-02-01    569.001286        497.958169             508.221174   \n...                  ...               ...                    ...   \n2023-03-31    485.578462        492.763055             504.097550   \n2023-03-31    485.578462        492.763055             504.097550   \n2023-03-31    485.578462        492.763055             504.097550   \n2023-03-31    485.578462        492.763055             504.097550   \n2023-03-31    485.578462        492.763055             504.097550   \n\n            yst_weather_fact_med  yst_target_24  ...  yst_target_120  \\\ndate                                             ...                   \n2019-02-01            509.859225        551.764  ...         574.720   \n2019-02-01            509.859225        509.703  ...         538.396   \n2019-02-01            509.859225        486.041  ...         513.026   \n2019-02-01            509.859225        476.100  ...         501.166   \n2019-02-01            509.859225        471.236  ...         491.833   \n...                          ...            ...  ...             ...   \n2023-03-31            509.859225        561.542  ...         544.108   \n2023-03-31            509.859225        582.464  ...         560.807   \n2023-03-31            509.859225        571.899  ...         564.381   \n2023-03-31            509.859225        545.723  ...         543.763   \n2023-03-31            509.859225        520.055  ...         512.350   \n\n            yst_target_144  yst_target_168  yst_target_sum  target_sum_pred  \\\ndate                                                                          \n2019-02-01         578.847         576.305       14543.391     14321.601822   \n2019-02-01         538.638         537.491       14543.391     14321.601822   \n2019-02-01         512.829         515.493       14543.391     14321.601822   \n2019-02-01         500.753         504.864       14543.391     14321.601822   \n2019-02-01         494.790         498.515       14543.391     14321.601822   \n...                    ...             ...             ...              ...   \n2023-03-31         534.198         559.747       12478.985     12305.600969   \n2023-03-31         556.276         570.206       12478.985     12305.600969   \n2023-03-31         551.944         555.419       12478.985     12305.600969   \n2023-03-31         532.412         530.734       12478.985     12305.600969   \n2023-03-31         501.791         511.163       12478.985     12305.600969   \n\n            week_day  year  month  day  is_holiday  \ndate                                                \n2019-02-01         4  2019      2    1           0  \n2019-02-01         4  2019      2    1           0  \n2019-02-01         4  2019      2    1           0  \n2019-02-01         4  2019      2    1           0  \n2019-02-01         4  2019      2    1           0  \n...              ...   ...    ...  ...         ...  \n2023-03-31         4  2023      3   31           0  \n2023-03-31         4  2023      3   31           0  \n2023-03-31         4  2023      3   31           0  \n2023-03-31         4  2023      3   31           0  \n2023-03-31         4  2023      3   31           0  \n\n[36480 rows x 23 columns]",
      "text/html": "<div>\n<style scoped>\n    .dataframe tbody tr th:only-of-type {\n        vertical-align: middle;\n    }\n\n    .dataframe tbody tr th {\n        vertical-align: top;\n    }\n\n    .dataframe thead th {\n        text-align: right;\n    }\n</style>\n<table border=\"1\" class=\"dataframe\">\n  <thead>\n    <tr style=\"text-align: right;\">\n      <th></th>\n      <th>time</th>\n      <th>temp_pred</th>\n      <th>yst_temp</th>\n      <th>yst_temp_mean</th>\n      <th>yst_temp_med</th>\n      <th>weather_pred</th>\n      <th>yst_weather_fact</th>\n      <th>yst_weather_fact_mean</th>\n      <th>yst_weather_fact_med</th>\n      <th>yst_target_24</th>\n      <th>...</th>\n      <th>yst_target_120</th>\n      <th>yst_target_144</th>\n      <th>yst_target_168</th>\n      <th>yst_target_sum</th>\n      <th>target_sum_pred</th>\n      <th>week_day</th>\n      <th>year</th>\n      <th>month</th>\n      <th>day</th>\n      <th>is_holiday</th>\n    </tr>\n    <tr>\n      <th>date</th>\n      <th></th>\n      <th></th>\n      <th></th>\n      <th></th>\n      <th></th>\n      <th></th>\n      <th></th>\n      <th></th>\n      <th></th>\n      <th></th>\n      <th></th>\n      <th></th>\n      <th></th>\n      <th></th>\n      <th></th>\n      <th></th>\n      <th></th>\n      <th></th>\n      <th></th>\n      <th></th>\n      <th></th>\n    </tr>\n  </thead>\n  <tbody>\n    <tr>\n      <th>2019-02-01</th>\n      <td>0</td>\n      <td>-2.0</td>\n      <td>-5.4</td>\n      <td>-2.2125</td>\n      <td>-1.40</td>\n      <td>569.001286</td>\n      <td>497.958169</td>\n      <td>508.221174</td>\n      <td>509.859225</td>\n      <td>551.764</td>\n      <td>...</td>\n      <td>574.720</td>\n      <td>578.847</td>\n      <td>576.305</td>\n      <td>14543.391</td>\n      <td>14321.601822</td>\n      <td>4</td>\n      <td>2019</td>\n      <td>2</td>\n      <td>1</td>\n      <td>0</td>\n    </tr>\n    <tr>\n      <th>2019-02-01</th>\n      <td>1</td>\n      <td>-2.0</td>\n      <td>-5.4</td>\n      <td>-2.2125</td>\n      <td>-1.40</td>\n      <td>569.001286</td>\n      <td>497.958169</td>\n      <td>508.221174</td>\n      <td>509.859225</td>\n      <td>509.703</td>\n      <td>...</td>\n      <td>538.396</td>\n      <td>538.638</td>\n      <td>537.491</td>\n      <td>14543.391</td>\n      <td>14321.601822</td>\n      <td>4</td>\n      <td>2019</td>\n      <td>2</td>\n      <td>1</td>\n      <td>0</td>\n    </tr>\n    <tr>\n      <th>2019-02-01</th>\n      <td>2</td>\n      <td>-2.0</td>\n      <td>-5.4</td>\n      <td>-2.2125</td>\n      <td>-1.40</td>\n      <td>569.001286</td>\n      <td>497.958169</td>\n      <td>508.221174</td>\n      <td>509.859225</td>\n      <td>486.041</td>\n      <td>...</td>\n      <td>513.026</td>\n      <td>512.829</td>\n      <td>515.493</td>\n      <td>14543.391</td>\n      <td>14321.601822</td>\n      <td>4</td>\n      <td>2019</td>\n      <td>2</td>\n      <td>1</td>\n      <td>0</td>\n    </tr>\n    <tr>\n      <th>2019-02-01</th>\n      <td>3</td>\n      <td>-3.0</td>\n      <td>-4.7</td>\n      <td>-2.2125</td>\n      <td>-1.40</td>\n      <td>569.001286</td>\n      <td>497.958169</td>\n      <td>508.221174</td>\n      <td>509.859225</td>\n      <td>476.100</td>\n      <td>...</td>\n      <td>501.166</td>\n      <td>500.753</td>\n      <td>504.864</td>\n      <td>14543.391</td>\n      <td>14321.601822</td>\n      <td>4</td>\n      <td>2019</td>\n      <td>2</td>\n      <td>1</td>\n      <td>0</td>\n    </tr>\n    <tr>\n      <th>2019-02-01</th>\n      <td>4</td>\n      <td>-3.0</td>\n      <td>-4.7</td>\n      <td>-2.2125</td>\n      <td>-1.40</td>\n      <td>569.001286</td>\n      <td>497.958169</td>\n      <td>508.221174</td>\n      <td>509.859225</td>\n      <td>471.236</td>\n      <td>...</td>\n      <td>491.833</td>\n      <td>494.790</td>\n      <td>498.515</td>\n      <td>14543.391</td>\n      <td>14321.601822</td>\n      <td>4</td>\n      <td>2019</td>\n      <td>2</td>\n      <td>1</td>\n      <td>0</td>\n    </tr>\n    <tr>\n      <th>...</th>\n      <td>...</td>\n      <td>...</td>\n      <td>...</td>\n      <td>...</td>\n      <td>...</td>\n      <td>...</td>\n      <td>...</td>\n      <td>...</td>\n      <td>...</td>\n      <td>...</td>\n      <td>...</td>\n      <td>...</td>\n      <td>...</td>\n      <td>...</td>\n      <td>...</td>\n      <td>...</td>\n      <td>...</td>\n      <td>...</td>\n      <td>...</td>\n      <td>...</td>\n      <td>...</td>\n    </tr>\n    <tr>\n      <th>2023-03-31</th>\n      <td>19</td>\n      <td>6.0</td>\n      <td>7.8</td>\n      <td>7.4375</td>\n      <td>7.45</td>\n      <td>485.578462</td>\n      <td>492.763055</td>\n      <td>504.097550</td>\n      <td>509.859225</td>\n      <td>561.542</td>\n      <td>...</td>\n      <td>544.108</td>\n      <td>534.198</td>\n      <td>559.747</td>\n      <td>12478.985</td>\n      <td>12305.600969</td>\n      <td>4</td>\n      <td>2023</td>\n      <td>3</td>\n      <td>31</td>\n      <td>0</td>\n    </tr>\n    <tr>\n      <th>2023-03-31</th>\n      <td>20</td>\n      <td>6.0</td>\n      <td>7.8</td>\n      <td>7.4375</td>\n      <td>7.45</td>\n      <td>485.578462</td>\n      <td>492.763055</td>\n      <td>504.097550</td>\n      <td>509.859225</td>\n      <td>582.464</td>\n      <td>...</td>\n      <td>560.807</td>\n      <td>556.276</td>\n      <td>570.206</td>\n      <td>12478.985</td>\n      <td>12305.600969</td>\n      <td>4</td>\n      <td>2023</td>\n      <td>3</td>\n      <td>31</td>\n      <td>0</td>\n    </tr>\n    <tr>\n      <th>2023-03-31</th>\n      <td>21</td>\n      <td>5.0</td>\n      <td>7.1</td>\n      <td>7.4375</td>\n      <td>7.45</td>\n      <td>485.578462</td>\n      <td>492.763055</td>\n      <td>504.097550</td>\n      <td>509.859225</td>\n      <td>571.899</td>\n      <td>...</td>\n      <td>564.381</td>\n      <td>551.944</td>\n      <td>555.419</td>\n      <td>12478.985</td>\n      <td>12305.600969</td>\n      <td>4</td>\n      <td>2023</td>\n      <td>3</td>\n      <td>31</td>\n      <td>0</td>\n    </tr>\n    <tr>\n      <th>2023-03-31</th>\n      <td>22</td>\n      <td>5.0</td>\n      <td>7.1</td>\n      <td>7.4375</td>\n      <td>7.45</td>\n      <td>485.578462</td>\n      <td>492.763055</td>\n      <td>504.097550</td>\n      <td>509.859225</td>\n      <td>545.723</td>\n      <td>...</td>\n      <td>543.763</td>\n      <td>532.412</td>\n      <td>530.734</td>\n      <td>12478.985</td>\n      <td>12305.600969</td>\n      <td>4</td>\n      <td>2023</td>\n      <td>3</td>\n      <td>31</td>\n      <td>0</td>\n    </tr>\n    <tr>\n      <th>2023-03-31</th>\n      <td>23</td>\n      <td>5.0</td>\n      <td>7.1</td>\n      <td>7.4375</td>\n      <td>7.45</td>\n      <td>485.578462</td>\n      <td>492.763055</td>\n      <td>504.097550</td>\n      <td>509.859225</td>\n      <td>520.055</td>\n      <td>...</td>\n      <td>512.350</td>\n      <td>501.791</td>\n      <td>511.163</td>\n      <td>12478.985</td>\n      <td>12305.600969</td>\n      <td>4</td>\n      <td>2023</td>\n      <td>3</td>\n      <td>31</td>\n      <td>0</td>\n    </tr>\n  </tbody>\n</table>\n<p>36480 rows × 23 columns</p>\n</div>"
     },
     "execution_count": 14,
     "metadata": {},
     "output_type": "execute_result"
    }
   ],
   "source": [
    "features_train = features_extractor(df_train, target_encoder, predict_train_1d)\n",
    "features_train"
   ],
   "metadata": {
    "collapsed": false,
    "ExecuteTime": {
     "end_time": "2023-11-01T13:35:01.836658800Z",
     "start_time": "2023-11-01T13:35:01.314510600Z"
    }
   },
   "id": "1035c78b86c97116"
  },
  {
   "cell_type": "code",
   "execution_count": 15,
   "outputs": [
    {
     "data": {
      "text/plain": "date\n2019-02-01    557.528\n2019-02-01    519.482\n2019-02-01    494.380\n2019-02-01    484.917\n2019-02-01    478.837\n               ...   \n2023-03-31    552.960\n2023-03-31    563.985\n2023-03-31    560.191\n2023-03-31    538.796\n2023-03-31    518.685\nName: target, Length: 36480, dtype: float64"
     },
     "execution_count": 15,
     "metadata": {},
     "output_type": "execute_result"
    }
   ],
   "source": [
    "target_train = target_creator(df_train, features_train.index)\n",
    "target_train"
   ],
   "metadata": {
    "collapsed": false,
    "ExecuteTime": {
     "end_time": "2023-11-01T13:35:03.538724200Z",
     "start_time": "2023-11-01T13:35:03.497889200Z"
    }
   },
   "id": "5a6f6ca50f10a91b"
  },
  {
   "cell_type": "code",
   "execution_count": 16,
   "outputs": [
    {
     "data": {
      "text/plain": "((36480, 23), (36480,))"
     },
     "execution_count": 16,
     "metadata": {},
     "output_type": "execute_result"
    }
   ],
   "source": [
    "features_train.shape, target_train.shape"
   ],
   "metadata": {
    "collapsed": false,
    "ExecuteTime": {
     "end_time": "2023-11-01T13:35:04.575608300Z",
     "start_time": "2023-11-01T13:35:04.515727100Z"
    }
   },
   "id": "5c9283dbd17cd51d"
  },
  {
   "cell_type": "markdown",
   "source": [
    "### Linear Regression"
   ],
   "metadata": {
    "collapsed": false
   },
   "id": "9fe18dbb849e1690"
  },
  {
   "cell_type": "code",
   "execution_count": 17,
   "outputs": [
    {
     "data": {
      "text/plain": "Pipeline(steps=[('minmaxscaler', MinMaxScaler()),\n                ('linearregression', LinearRegression())])",
      "text/html": "<style>#sk-container-id-2 {color: black;}#sk-container-id-2 pre{padding: 0;}#sk-container-id-2 div.sk-toggleable {background-color: white;}#sk-container-id-2 label.sk-toggleable__label {cursor: pointer;display: block;width: 100%;margin-bottom: 0;padding: 0.3em;box-sizing: border-box;text-align: center;}#sk-container-id-2 label.sk-toggleable__label-arrow:before {content: \"▸\";float: left;margin-right: 0.25em;color: #696969;}#sk-container-id-2 label.sk-toggleable__label-arrow:hover:before {color: black;}#sk-container-id-2 div.sk-estimator:hover label.sk-toggleable__label-arrow:before {color: black;}#sk-container-id-2 div.sk-toggleable__content {max-height: 0;max-width: 0;overflow: hidden;text-align: left;background-color: #f0f8ff;}#sk-container-id-2 div.sk-toggleable__content pre {margin: 0.2em;color: black;border-radius: 0.25em;background-color: #f0f8ff;}#sk-container-id-2 input.sk-toggleable__control:checked~div.sk-toggleable__content {max-height: 200px;max-width: 100%;overflow: auto;}#sk-container-id-2 input.sk-toggleable__control:checked~label.sk-toggleable__label-arrow:before {content: \"▾\";}#sk-container-id-2 div.sk-estimator input.sk-toggleable__control:checked~label.sk-toggleable__label {background-color: #d4ebff;}#sk-container-id-2 div.sk-label input.sk-toggleable__control:checked~label.sk-toggleable__label {background-color: #d4ebff;}#sk-container-id-2 input.sk-hidden--visually {border: 0;clip: rect(1px 1px 1px 1px);clip: rect(1px, 1px, 1px, 1px);height: 1px;margin: -1px;overflow: hidden;padding: 0;position: absolute;width: 1px;}#sk-container-id-2 div.sk-estimator {font-family: monospace;background-color: #f0f8ff;border: 1px dotted black;border-radius: 0.25em;box-sizing: border-box;margin-bottom: 0.5em;}#sk-container-id-2 div.sk-estimator:hover {background-color: #d4ebff;}#sk-container-id-2 div.sk-parallel-item::after {content: \"\";width: 100%;border-bottom: 1px solid gray;flex-grow: 1;}#sk-container-id-2 div.sk-label:hover label.sk-toggleable__label {background-color: #d4ebff;}#sk-container-id-2 div.sk-serial::before {content: \"\";position: absolute;border-left: 1px solid gray;box-sizing: border-box;top: 0;bottom: 0;left: 50%;z-index: 0;}#sk-container-id-2 div.sk-serial {display: flex;flex-direction: column;align-items: center;background-color: white;padding-right: 0.2em;padding-left: 0.2em;position: relative;}#sk-container-id-2 div.sk-item {position: relative;z-index: 1;}#sk-container-id-2 div.sk-parallel {display: flex;align-items: stretch;justify-content: center;background-color: white;position: relative;}#sk-container-id-2 div.sk-item::before, #sk-container-id-2 div.sk-parallel-item::before {content: \"\";position: absolute;border-left: 1px solid gray;box-sizing: border-box;top: 0;bottom: 0;left: 50%;z-index: -1;}#sk-container-id-2 div.sk-parallel-item {display: flex;flex-direction: column;z-index: 1;position: relative;background-color: white;}#sk-container-id-2 div.sk-parallel-item:first-child::after {align-self: flex-end;width: 50%;}#sk-container-id-2 div.sk-parallel-item:last-child::after {align-self: flex-start;width: 50%;}#sk-container-id-2 div.sk-parallel-item:only-child::after {width: 0;}#sk-container-id-2 div.sk-dashed-wrapped {border: 1px dashed gray;margin: 0 0.4em 0.5em 0.4em;box-sizing: border-box;padding-bottom: 0.4em;background-color: white;}#sk-container-id-2 div.sk-label label {font-family: monospace;font-weight: bold;display: inline-block;line-height: 1.2em;}#sk-container-id-2 div.sk-label-container {text-align: center;}#sk-container-id-2 div.sk-container {/* jupyter's `normalize.less` sets `[hidden] { display: none; }` but bootstrap.min.css set `[hidden] { display: none !important; }` so we also need the `!important` here to be able to override the default hidden behavior on the sphinx rendered scikit-learn.org. See: https://github.com/scikit-learn/scikit-learn/issues/21755 */display: inline-block !important;position: relative;}#sk-container-id-2 div.sk-text-repr-fallback {display: none;}</style><div id=\"sk-container-id-2\" class=\"sk-top-container\"><div class=\"sk-text-repr-fallback\"><pre>Pipeline(steps=[(&#x27;minmaxscaler&#x27;, MinMaxScaler()),\n                (&#x27;linearregression&#x27;, LinearRegression())])</pre><b>In a Jupyter environment, please rerun this cell to show the HTML representation or trust the notebook. <br />On GitHub, the HTML representation is unable to render, please try loading this page with nbviewer.org.</b></div><div class=\"sk-container\" hidden><div class=\"sk-item sk-dashed-wrapped\"><div class=\"sk-label-container\"><div class=\"sk-label sk-toggleable\"><input class=\"sk-toggleable__control sk-hidden--visually\" id=\"sk-estimator-id-2\" type=\"checkbox\" ><label for=\"sk-estimator-id-2\" class=\"sk-toggleable__label sk-toggleable__label-arrow\">Pipeline</label><div class=\"sk-toggleable__content\"><pre>Pipeline(steps=[(&#x27;minmaxscaler&#x27;, MinMaxScaler()),\n                (&#x27;linearregression&#x27;, LinearRegression())])</pre></div></div></div><div class=\"sk-serial\"><div class=\"sk-item\"><div class=\"sk-estimator sk-toggleable\"><input class=\"sk-toggleable__control sk-hidden--visually\" id=\"sk-estimator-id-3\" type=\"checkbox\" ><label for=\"sk-estimator-id-3\" class=\"sk-toggleable__label sk-toggleable__label-arrow\">MinMaxScaler</label><div class=\"sk-toggleable__content\"><pre>MinMaxScaler()</pre></div></div></div><div class=\"sk-item\"><div class=\"sk-estimator sk-toggleable\"><input class=\"sk-toggleable__control sk-hidden--visually\" id=\"sk-estimator-id-4\" type=\"checkbox\" ><label for=\"sk-estimator-id-4\" class=\"sk-toggleable__label sk-toggleable__label-arrow\">LinearRegression</label><div class=\"sk-toggleable__content\"><pre>LinearRegression()</pre></div></div></div></div></div></div></div>"
     },
     "execution_count": 17,
     "metadata": {},
     "output_type": "execute_result"
    }
   ],
   "source": [
    "linear_pipeline = make_pipeline(scaler, LinearRegression())\n",
    "linear_pipeline.fit(features_train, target_train)"
   ],
   "metadata": {
    "collapsed": false,
    "ExecuteTime": {
     "end_time": "2023-11-01T13:35:09.197600200Z",
     "start_time": "2023-11-01T13:35:09.139532900Z"
    }
   },
   "id": "14d41b083c8e129b"
  },
  {
   "cell_type": "code",
   "execution_count": 18,
   "outputs": [],
   "source": [
    "lin_cv_mae = -np.mean(cross_val_score(\n",
    "    linear_pipeline,\n",
    "    features_train,\n",
    "    target_train,\n",
    "    scoring='neg_mean_absolute_error',\n",
    "    cv=CV\n",
    "))"
   ],
   "metadata": {
    "collapsed": false,
    "ExecuteTime": {
     "end_time": "2023-11-01T13:35:11.930391200Z",
     "start_time": "2023-11-01T13:35:11.769482400Z"
    }
   },
   "id": "31a870068f261ca5"
  },
  {
   "cell_type": "code",
   "execution_count": 22,
   "outputs": [],
   "source": [
    "lin_mae = mean_absolute_error(target_train, linear_pipeline.predict(features_train))\n",
    "lin_r2 = r2_score(target_train, linear_pipeline.predict(features_train))\n",
    "lin_mape = mean_absolute_percentage_error(target_train, linear_pipeline.predict(features_train))"
   ],
   "metadata": {
    "collapsed": false,
    "ExecuteTime": {
     "end_time": "2023-11-01T13:38:07.821785900Z",
     "start_time": "2023-11-01T13:38:07.730046400Z"
    }
   },
   "id": "62872761d6d90a72"
  },
  {
   "cell_type": "markdown",
   "source": [
    "### LightGBM Regressor"
   ],
   "metadata": {
    "collapsed": false
   },
   "id": "7a97c12f7e927118"
  },
  {
   "cell_type": "code",
   "execution_count": 23,
   "outputs": [],
   "source": [
    "def objective(trial):\n",
    "    # Объявляем гиперпараметры для оптимизации\n",
    "    params = {\n",
    "        'objective': trial.suggest_categorical('objective', ['regression', 'regression_l1']),\n",
    "        'max_depth': trial.suggest_int('max_depth', 3, 12),\n",
    "        'n_estimators': trial.suggest_int('n_estimators', 200, 600),\n",
    "        'learning_rate': trial.suggest_float('learning_rate', 0.01, 0.1),\n",
    "        'num_leaves': trial.suggest_int('num_leaves', 30, 50),\n",
    "        'feature_fraction': trial.suggest_float('feature_fraction', 0, 1),\n",
    "        'bagging_fraction': trial.suggest_float('bagging_fraction', 0, 1),\n",
    "        'lambda_l1': trial.suggest_float('lambda_l1', 0, 1),\n",
    "        'lambda_l2': trial.suggest_float('lambda_l2', 0, 1),\n",
    "        #'min_gain_to_split': trial.suggest_float('min_gain_to_split', 0, 1),\n",
    "        #'min_sum_hessian_in_leaf': trial.suggest_int('min_sum_hessian_in_leaf', 1, 7, 2),\n",
    "        'random_state': 42,\n",
    "        'verbosity': -1\n",
    "    }\n",
    "\n",
    "    # Объявляем модель\n",
    "    model = LGBMRegressor(**params)\n",
    "    pipeline = make_pipeline(scaler, model)\n",
    "\n",
    "    # Вычисляем качество\n",
    "    result = cross_val_score(\n",
    "        pipeline,\n",
    "        features_train,\n",
    "        target_train,\n",
    "        scoring='neg_mean_absolute_error',\n",
    "        cv=CV).mean() * -1\n",
    "\n",
    "    return result"
   ],
   "metadata": {
    "collapsed": false,
    "ExecuteTime": {
     "end_time": "2023-11-01T13:38:09.802481100Z",
     "start_time": "2023-11-01T13:38:09.767474400Z"
    }
   },
   "id": "a1d52c7c402edca"
  },
  {
   "cell_type": "code",
   "execution_count": null,
   "outputs": [],
   "source": [
    "study = optuna.create_study(direction=\"minimize\", sampler=optuna.samplers.TPESampler(seed=42))\n",
    "study.optimize(objective, n_trials=300, n_jobs=-1)"
   ],
   "metadata": {
    "collapsed": false
   },
   "id": "12b79fc85a1644bf"
  },
  {
   "cell_type": "code",
   "execution_count": 25,
   "outputs": [
    {
     "data": {
      "text/plain": "Pipeline(steps=[('minmaxscaler', MinMaxScaler()),\n                ('lgbmregressor',\n                 LGBMRegressor(bagging_fraction=0.2715629921058105,\n                               feature_fraction=0.870877190020895,\n                               lambda_l1=0.7596497242527024,\n                               lambda_l2=0.9316685605931798,\n                               learning_rate=0.0653492843240291, max_depth=10,\n                               n_estimators=586, n_jobs=-1, num_leaves=47,\n                               objective='regression', random_state=42,\n                               verbosity=-1))])",
      "text/html": "<style>#sk-container-id-3 {color: black;}#sk-container-id-3 pre{padding: 0;}#sk-container-id-3 div.sk-toggleable {background-color: white;}#sk-container-id-3 label.sk-toggleable__label {cursor: pointer;display: block;width: 100%;margin-bottom: 0;padding: 0.3em;box-sizing: border-box;text-align: center;}#sk-container-id-3 label.sk-toggleable__label-arrow:before {content: \"▸\";float: left;margin-right: 0.25em;color: #696969;}#sk-container-id-3 label.sk-toggleable__label-arrow:hover:before {color: black;}#sk-container-id-3 div.sk-estimator:hover label.sk-toggleable__label-arrow:before {color: black;}#sk-container-id-3 div.sk-toggleable__content {max-height: 0;max-width: 0;overflow: hidden;text-align: left;background-color: #f0f8ff;}#sk-container-id-3 div.sk-toggleable__content pre {margin: 0.2em;color: black;border-radius: 0.25em;background-color: #f0f8ff;}#sk-container-id-3 input.sk-toggleable__control:checked~div.sk-toggleable__content {max-height: 200px;max-width: 100%;overflow: auto;}#sk-container-id-3 input.sk-toggleable__control:checked~label.sk-toggleable__label-arrow:before {content: \"▾\";}#sk-container-id-3 div.sk-estimator input.sk-toggleable__control:checked~label.sk-toggleable__label {background-color: #d4ebff;}#sk-container-id-3 div.sk-label input.sk-toggleable__control:checked~label.sk-toggleable__label {background-color: #d4ebff;}#sk-container-id-3 input.sk-hidden--visually {border: 0;clip: rect(1px 1px 1px 1px);clip: rect(1px, 1px, 1px, 1px);height: 1px;margin: -1px;overflow: hidden;padding: 0;position: absolute;width: 1px;}#sk-container-id-3 div.sk-estimator {font-family: monospace;background-color: #f0f8ff;border: 1px dotted black;border-radius: 0.25em;box-sizing: border-box;margin-bottom: 0.5em;}#sk-container-id-3 div.sk-estimator:hover {background-color: #d4ebff;}#sk-container-id-3 div.sk-parallel-item::after {content: \"\";width: 100%;border-bottom: 1px solid gray;flex-grow: 1;}#sk-container-id-3 div.sk-label:hover label.sk-toggleable__label {background-color: #d4ebff;}#sk-container-id-3 div.sk-serial::before {content: \"\";position: absolute;border-left: 1px solid gray;box-sizing: border-box;top: 0;bottom: 0;left: 50%;z-index: 0;}#sk-container-id-3 div.sk-serial {display: flex;flex-direction: column;align-items: center;background-color: white;padding-right: 0.2em;padding-left: 0.2em;position: relative;}#sk-container-id-3 div.sk-item {position: relative;z-index: 1;}#sk-container-id-3 div.sk-parallel {display: flex;align-items: stretch;justify-content: center;background-color: white;position: relative;}#sk-container-id-3 div.sk-item::before, #sk-container-id-3 div.sk-parallel-item::before {content: \"\";position: absolute;border-left: 1px solid gray;box-sizing: border-box;top: 0;bottom: 0;left: 50%;z-index: -1;}#sk-container-id-3 div.sk-parallel-item {display: flex;flex-direction: column;z-index: 1;position: relative;background-color: white;}#sk-container-id-3 div.sk-parallel-item:first-child::after {align-self: flex-end;width: 50%;}#sk-container-id-3 div.sk-parallel-item:last-child::after {align-self: flex-start;width: 50%;}#sk-container-id-3 div.sk-parallel-item:only-child::after {width: 0;}#sk-container-id-3 div.sk-dashed-wrapped {border: 1px dashed gray;margin: 0 0.4em 0.5em 0.4em;box-sizing: border-box;padding-bottom: 0.4em;background-color: white;}#sk-container-id-3 div.sk-label label {font-family: monospace;font-weight: bold;display: inline-block;line-height: 1.2em;}#sk-container-id-3 div.sk-label-container {text-align: center;}#sk-container-id-3 div.sk-container {/* jupyter's `normalize.less` sets `[hidden] { display: none; }` but bootstrap.min.css set `[hidden] { display: none !important; }` so we also need the `!important` here to be able to override the default hidden behavior on the sphinx rendered scikit-learn.org. See: https://github.com/scikit-learn/scikit-learn/issues/21755 */display: inline-block !important;position: relative;}#sk-container-id-3 div.sk-text-repr-fallback {display: none;}</style><div id=\"sk-container-id-3\" class=\"sk-top-container\"><div class=\"sk-text-repr-fallback\"><pre>Pipeline(steps=[(&#x27;minmaxscaler&#x27;, MinMaxScaler()),\n                (&#x27;lgbmregressor&#x27;,\n                 LGBMRegressor(bagging_fraction=0.2715629921058105,\n                               feature_fraction=0.870877190020895,\n                               lambda_l1=0.7596497242527024,\n                               lambda_l2=0.9316685605931798,\n                               learning_rate=0.0653492843240291, max_depth=10,\n                               n_estimators=586, n_jobs=-1, num_leaves=47,\n                               objective=&#x27;regression&#x27;, random_state=42,\n                               verbosity=-1))])</pre><b>In a Jupyter environment, please rerun this cell to show the HTML representation or trust the notebook. <br />On GitHub, the HTML representation is unable to render, please try loading this page with nbviewer.org.</b></div><div class=\"sk-container\" hidden><div class=\"sk-item sk-dashed-wrapped\"><div class=\"sk-label-container\"><div class=\"sk-label sk-toggleable\"><input class=\"sk-toggleable__control sk-hidden--visually\" id=\"sk-estimator-id-5\" type=\"checkbox\" ><label for=\"sk-estimator-id-5\" class=\"sk-toggleable__label sk-toggleable__label-arrow\">Pipeline</label><div class=\"sk-toggleable__content\"><pre>Pipeline(steps=[(&#x27;minmaxscaler&#x27;, MinMaxScaler()),\n                (&#x27;lgbmregressor&#x27;,\n                 LGBMRegressor(bagging_fraction=0.2715629921058105,\n                               feature_fraction=0.870877190020895,\n                               lambda_l1=0.7596497242527024,\n                               lambda_l2=0.9316685605931798,\n                               learning_rate=0.0653492843240291, max_depth=10,\n                               n_estimators=586, n_jobs=-1, num_leaves=47,\n                               objective=&#x27;regression&#x27;, random_state=42,\n                               verbosity=-1))])</pre></div></div></div><div class=\"sk-serial\"><div class=\"sk-item\"><div class=\"sk-estimator sk-toggleable\"><input class=\"sk-toggleable__control sk-hidden--visually\" id=\"sk-estimator-id-6\" type=\"checkbox\" ><label for=\"sk-estimator-id-6\" class=\"sk-toggleable__label sk-toggleable__label-arrow\">MinMaxScaler</label><div class=\"sk-toggleable__content\"><pre>MinMaxScaler()</pre></div></div></div><div class=\"sk-item\"><div class=\"sk-estimator sk-toggleable\"><input class=\"sk-toggleable__control sk-hidden--visually\" id=\"sk-estimator-id-7\" type=\"checkbox\" ><label for=\"sk-estimator-id-7\" class=\"sk-toggleable__label sk-toggleable__label-arrow\">LGBMRegressor</label><div class=\"sk-toggleable__content\"><pre>LGBMRegressor(bagging_fraction=0.2715629921058105,\n              feature_fraction=0.870877190020895, lambda_l1=0.7596497242527024,\n              lambda_l2=0.9316685605931798, learning_rate=0.0653492843240291,\n              max_depth=10, n_estimators=586, n_jobs=-1, num_leaves=47,\n              objective=&#x27;regression&#x27;, random_state=42, verbosity=-1)</pre></div></div></div></div></div></div></div>"
     },
     "execution_count": 25,
     "metadata": {},
     "output_type": "execute_result"
    }
   ],
   "source": [
    "lgbm_model = LGBMRegressor(**study.best_params, random_state=42, verbosity=-1, n_jobs=-1)\n",
    "lgbm_pipeline = make_pipeline(scaler, lgbm_model)\n",
    "lgbm_pipeline.fit(features_train, target_train)"
   ],
   "metadata": {
    "collapsed": false,
    "ExecuteTime": {
     "end_time": "2023-11-01T14:07:52.838776900Z",
     "start_time": "2023-11-01T14:07:49.167027100Z"
    }
   },
   "id": "7a9ba35bbe83839e"
  },
  {
   "cell_type": "code",
   "execution_count": 26,
   "outputs": [],
   "source": [
    "lgbm_cv_mae = -np.mean(cross_val_score(\n",
    "    lgbm_pipeline,\n",
    "    features_train,\n",
    "    target_train,\n",
    "    scoring='neg_mean_absolute_error',\n",
    "    cv=CV\n",
    "))"
   ],
   "metadata": {
    "collapsed": false,
    "ExecuteTime": {
     "end_time": "2023-11-01T14:08:06.479677600Z",
     "start_time": "2023-11-01T14:07:52.833779Z"
    }
   },
   "id": "e5464105081f474e"
  },
  {
   "cell_type": "markdown",
   "source": [
    "### Results"
   ],
   "metadata": {
    "collapsed": false
   },
   "id": "1c9628f7cbb9bd0e"
  },
  {
   "cell_type": "code",
   "execution_count": 27,
   "outputs": [],
   "source": [
    "lgbm_mae = mean_absolute_error(target_train, lgbm_pipeline.predict(features_train))\n",
    "lgbm_r2 = r2_score(target_train, lgbm_pipeline.predict(features_train))\n",
    "lgbm_mape = mean_absolute_percentage_error(target_train, lgbm_pipeline.predict(features_train))"
   ],
   "metadata": {
    "collapsed": false,
    "ExecuteTime": {
     "start_time": "2023-11-01T14:08:06.482679200Z"
    }
   },
   "id": "1c32ef7fcaecd32f"
  },
  {
   "cell_type": "code",
   "execution_count": 28,
   "outputs": [
    {
     "name": "stdout",
     "output_type": "stream",
     "text": [
      "Linear MAE: 10.082733644761788 \n",
      "Linear CV MAE: 10.681892204283287 \n",
      "Linear r2: 0.9820737282393059 \n",
      "Linear MAPE: 0.021852068848155964 \n",
      "LGBM MAE: 3.364175351288271 \n",
      "LGBM CV MAE: 9.282748073494087 \n",
      "LGBM r2: 0.9980425112378374 \n",
      "LGBM MAPE: 0.007142422771827111 \n"
     ]
    }
   ],
   "source": [
    "print(f'Linear MAE: {lin_mae} \\n'\n",
    "      f'Linear CV MAE: {lin_cv_mae} \\n'\n",
    "      f'Linear r2: {lin_r2} \\n'\n",
    "      f'Linear MAPE: {lin_mape} \\n'\n",
    "      f'LGBM MAE: {lgbm_mae} \\n'\n",
    "      f'LGBM CV MAE: {lgbm_cv_mae} \\n'\n",
    "      f'LGBM r2: {lgbm_r2} \\n'\n",
    "      f'LGBM MAPE: {lgbm_mape} \\n')"
   ],
   "metadata": {
    "collapsed": false,
    "ExecuteTime": {
     "end_time": "2023-11-01T14:08:08.348065700Z",
     "start_time": "2023-11-01T14:08:08.315775600Z"
    }
   },
   "id": "c213b7977188edcb"
  },
  {
   "cell_type": "markdown",
   "source": [
    "## TEST"
   ],
   "metadata": {
    "collapsed": false
   },
   "id": "1fbcadb963f9884c"
  },
  {
   "cell_type": "code",
   "execution_count": 29,
   "outputs": [
    {
     "data": {
      "text/plain": "            time   target  temp  temp_pred     weather_pred  weather_fact\ndate                                                                     \n2023-04-01     0  479.282   5.7        5.0        пасм, 58%  пасм, морось\n2023-04-01     1  445.182   5.7        5.0        пасм, 58%  пасм, морось\n2023-04-01     2  424.225   5.7        5.0        пасм, 58%  пасм, морось\n2023-04-01     3  413.866   5.0        4.0  пасм, 71% дождь   пасм, дымка\n2023-04-01     4  408.146   5.0        4.0  пасм, 71% дождь   пасм, дымка\n...          ...      ...   ...        ...              ...           ...\n2023-07-31    19  453.173  17.2       18.0  пасм, 24% дождь         п/обл\n2023-07-31    20  446.287  17.2       18.0  пасм, 24% дождь         п/обл\n2023-07-31    21  444.373  15.8       17.0  пасм, 24% дождь         п/обл\n2023-07-31    22  449.078  15.8       17.0  пасм, 24% дождь         п/обл\n2023-07-31    23  416.078  15.8       17.0  пасм, 24% дождь         п/обл\n\n[2928 rows x 6 columns]",
      "text/html": "<div>\n<style scoped>\n    .dataframe tbody tr th:only-of-type {\n        vertical-align: middle;\n    }\n\n    .dataframe tbody tr th {\n        vertical-align: top;\n    }\n\n    .dataframe thead th {\n        text-align: right;\n    }\n</style>\n<table border=\"1\" class=\"dataframe\">\n  <thead>\n    <tr style=\"text-align: right;\">\n      <th></th>\n      <th>time</th>\n      <th>target</th>\n      <th>temp</th>\n      <th>temp_pred</th>\n      <th>weather_pred</th>\n      <th>weather_fact</th>\n    </tr>\n    <tr>\n      <th>date</th>\n      <th></th>\n      <th></th>\n      <th></th>\n      <th></th>\n      <th></th>\n      <th></th>\n    </tr>\n  </thead>\n  <tbody>\n    <tr>\n      <th>2023-04-01</th>\n      <td>0</td>\n      <td>479.282</td>\n      <td>5.7</td>\n      <td>5.0</td>\n      <td>пасм, 58%</td>\n      <td>пасм, морось</td>\n    </tr>\n    <tr>\n      <th>2023-04-01</th>\n      <td>1</td>\n      <td>445.182</td>\n      <td>5.7</td>\n      <td>5.0</td>\n      <td>пасм, 58%</td>\n      <td>пасм, морось</td>\n    </tr>\n    <tr>\n      <th>2023-04-01</th>\n      <td>2</td>\n      <td>424.225</td>\n      <td>5.7</td>\n      <td>5.0</td>\n      <td>пасм, 58%</td>\n      <td>пасм, морось</td>\n    </tr>\n    <tr>\n      <th>2023-04-01</th>\n      <td>3</td>\n      <td>413.866</td>\n      <td>5.0</td>\n      <td>4.0</td>\n      <td>пасм, 71% дождь</td>\n      <td>пасм, дымка</td>\n    </tr>\n    <tr>\n      <th>2023-04-01</th>\n      <td>4</td>\n      <td>408.146</td>\n      <td>5.0</td>\n      <td>4.0</td>\n      <td>пасм, 71% дождь</td>\n      <td>пасм, дымка</td>\n    </tr>\n    <tr>\n      <th>...</th>\n      <td>...</td>\n      <td>...</td>\n      <td>...</td>\n      <td>...</td>\n      <td>...</td>\n      <td>...</td>\n    </tr>\n    <tr>\n      <th>2023-07-31</th>\n      <td>19</td>\n      <td>453.173</td>\n      <td>17.2</td>\n      <td>18.0</td>\n      <td>пасм, 24% дождь</td>\n      <td>п/обл</td>\n    </tr>\n    <tr>\n      <th>2023-07-31</th>\n      <td>20</td>\n      <td>446.287</td>\n      <td>17.2</td>\n      <td>18.0</td>\n      <td>пасм, 24% дождь</td>\n      <td>п/обл</td>\n    </tr>\n    <tr>\n      <th>2023-07-31</th>\n      <td>21</td>\n      <td>444.373</td>\n      <td>15.8</td>\n      <td>17.0</td>\n      <td>пасм, 24% дождь</td>\n      <td>п/обл</td>\n    </tr>\n    <tr>\n      <th>2023-07-31</th>\n      <td>22</td>\n      <td>449.078</td>\n      <td>15.8</td>\n      <td>17.0</td>\n      <td>пасм, 24% дождь</td>\n      <td>п/обл</td>\n    </tr>\n    <tr>\n      <th>2023-07-31</th>\n      <td>23</td>\n      <td>416.078</td>\n      <td>15.8</td>\n      <td>17.0</td>\n      <td>пасм, 24% дождь</td>\n      <td>п/обл</td>\n    </tr>\n  </tbody>\n</table>\n<p>2928 rows × 6 columns</p>\n</div>"
     },
     "execution_count": 29,
     "metadata": {},
     "output_type": "execute_result"
    }
   ],
   "source": [
    "df_test = pd.read_csv('../data/test_dataset.csv', index_col='date', parse_dates=True)\n",
    "df_test"
   ],
   "metadata": {
    "collapsed": false,
    "ExecuteTime": {
     "end_time": "2023-11-01T14:09:33.094924Z",
     "start_time": "2023-11-01T14:09:32.988930900Z"
    }
   },
   "id": "6f85682dd2b24d62"
  },
  {
   "cell_type": "code",
   "execution_count": 30,
   "outputs": [],
   "source": [
    "get_idx = [df_test.index[0] - timedelta(days=i) for i in range(1, 32)]"
   ],
   "metadata": {
    "collapsed": false,
    "ExecuteTime": {
     "end_time": "2023-11-01T14:09:34.167528600Z",
     "start_time": "2023-11-01T14:09:34.108529Z"
    }
   },
   "id": "cd5b68db4a6c8fe2"
  },
  {
   "cell_type": "code",
   "execution_count": 31,
   "outputs": [
    {
     "data": {
      "text/plain": "            time   target  temp  temp_pred     weather_pred   weather_fact\ndate                                                                      \n2023-03-01     0  512.865   2.5        2.0             пасм       пасмурно\n2023-03-01     1  478.071   2.5        2.0             пасм       пасмурно\n2023-03-01     2  456.643   2.5        2.0             пасм       пасмурно\n2023-03-01     3  448.305   1.5        1.0             пасм  пасм, ветерок\n2023-03-01     4  442.351   1.5        1.0             пасм  пасм, ветерок\n...          ...      ...   ...        ...              ...            ...\n2023-07-31    19  453.173  17.2       18.0  пасм, 24% дождь          п/обл\n2023-07-31    20  446.287  17.2       18.0  пасм, 24% дождь          п/обл\n2023-07-31    21  444.373  15.8       17.0  пасм, 24% дождь          п/обл\n2023-07-31    22  449.078  15.8       17.0  пасм, 24% дождь          п/обл\n2023-07-31    23  416.078  15.8       17.0  пасм, 24% дождь          п/обл\n\n[3672 rows x 6 columns]",
      "text/html": "<div>\n<style scoped>\n    .dataframe tbody tr th:only-of-type {\n        vertical-align: middle;\n    }\n\n    .dataframe tbody tr th {\n        vertical-align: top;\n    }\n\n    .dataframe thead th {\n        text-align: right;\n    }\n</style>\n<table border=\"1\" class=\"dataframe\">\n  <thead>\n    <tr style=\"text-align: right;\">\n      <th></th>\n      <th>time</th>\n      <th>target</th>\n      <th>temp</th>\n      <th>temp_pred</th>\n      <th>weather_pred</th>\n      <th>weather_fact</th>\n    </tr>\n    <tr>\n      <th>date</th>\n      <th></th>\n      <th></th>\n      <th></th>\n      <th></th>\n      <th></th>\n      <th></th>\n    </tr>\n  </thead>\n  <tbody>\n    <tr>\n      <th>2023-03-01</th>\n      <td>0</td>\n      <td>512.865</td>\n      <td>2.5</td>\n      <td>2.0</td>\n      <td>пасм</td>\n      <td>пасмурно</td>\n    </tr>\n    <tr>\n      <th>2023-03-01</th>\n      <td>1</td>\n      <td>478.071</td>\n      <td>2.5</td>\n      <td>2.0</td>\n      <td>пасм</td>\n      <td>пасмурно</td>\n    </tr>\n    <tr>\n      <th>2023-03-01</th>\n      <td>2</td>\n      <td>456.643</td>\n      <td>2.5</td>\n      <td>2.0</td>\n      <td>пасм</td>\n      <td>пасмурно</td>\n    </tr>\n    <tr>\n      <th>2023-03-01</th>\n      <td>3</td>\n      <td>448.305</td>\n      <td>1.5</td>\n      <td>1.0</td>\n      <td>пасм</td>\n      <td>пасм, ветерок</td>\n    </tr>\n    <tr>\n      <th>2023-03-01</th>\n      <td>4</td>\n      <td>442.351</td>\n      <td>1.5</td>\n      <td>1.0</td>\n      <td>пасм</td>\n      <td>пасм, ветерок</td>\n    </tr>\n    <tr>\n      <th>...</th>\n      <td>...</td>\n      <td>...</td>\n      <td>...</td>\n      <td>...</td>\n      <td>...</td>\n      <td>...</td>\n    </tr>\n    <tr>\n      <th>2023-07-31</th>\n      <td>19</td>\n      <td>453.173</td>\n      <td>17.2</td>\n      <td>18.0</td>\n      <td>пасм, 24% дождь</td>\n      <td>п/обл</td>\n    </tr>\n    <tr>\n      <th>2023-07-31</th>\n      <td>20</td>\n      <td>446.287</td>\n      <td>17.2</td>\n      <td>18.0</td>\n      <td>пасм, 24% дождь</td>\n      <td>п/обл</td>\n    </tr>\n    <tr>\n      <th>2023-07-31</th>\n      <td>21</td>\n      <td>444.373</td>\n      <td>15.8</td>\n      <td>17.0</td>\n      <td>пасм, 24% дождь</td>\n      <td>п/обл</td>\n    </tr>\n    <tr>\n      <th>2023-07-31</th>\n      <td>22</td>\n      <td>449.078</td>\n      <td>15.8</td>\n      <td>17.0</td>\n      <td>пасм, 24% дождь</td>\n      <td>п/обл</td>\n    </tr>\n    <tr>\n      <th>2023-07-31</th>\n      <td>23</td>\n      <td>416.078</td>\n      <td>15.8</td>\n      <td>17.0</td>\n      <td>пасм, 24% дождь</td>\n      <td>п/обл</td>\n    </tr>\n  </tbody>\n</table>\n<p>3672 rows × 6 columns</p>\n</div>"
     },
     "execution_count": 31,
     "metadata": {},
     "output_type": "execute_result"
    }
   ],
   "source": [
    "df_test = pd.concat([df_test, df_train.loc[get_idx]], axis=0)\n",
    "df_test = df_test.sort_values(by=['date', 'time'])\n",
    "df_test"
   ],
   "metadata": {
    "collapsed": false,
    "ExecuteTime": {
     "end_time": "2023-11-01T14:09:36.699139Z",
     "start_time": "2023-11-01T14:09:36.613660200Z"
    }
   },
   "id": "6138c44504d1d34"
  },
  {
   "cell_type": "code",
   "execution_count": 32,
   "outputs": [],
   "source": [
    "# Извлекаем признаки для предсказания суммарного потребления электричества на 1 день\n",
    "features_test_1d = features_extractor_1d(df_test, target_encoder_1d)"
   ],
   "metadata": {
    "collapsed": false,
    "ExecuteTime": {
     "end_time": "2023-11-01T14:09:43.761518800Z",
     "start_time": "2023-11-01T14:09:43.650350200Z"
    }
   },
   "id": "239a507d6316ab63"
  },
  {
   "cell_type": "code",
   "execution_count": 33,
   "outputs": [],
   "source": [
    "# Получаем предсказания суммарного потребления на 1 день \n",
    "predict_test_1d = pd.DataFrame(\n",
    "    stack_pipeline_1d.predict(features_test_1d),\n",
    "    index=features_test_1d.index,\n",
    "    columns=['target_sum_pred']\n",
    ")"
   ],
   "metadata": {
    "collapsed": false,
    "ExecuteTime": {
     "end_time": "2023-11-01T14:09:52.606868400Z",
     "start_time": "2023-11-01T14:09:52.527255100Z"
    }
   },
   "id": "74a936732a3e4548"
  },
  {
   "cell_type": "code",
   "execution_count": 34,
   "outputs": [
    {
     "data": {
      "text/plain": "            time  temp_pred  yst_temp  yst_temp_mean  yst_temp_med  \\\ndate                                                                 \n2023-04-01     0        5.0       7.2         8.8125           7.9   \n2023-04-01     1        5.0       7.2         8.8125           7.9   \n2023-04-01     2        5.0       7.2         8.8125           7.9   \n2023-04-01     3        4.0       7.9         8.8125           7.9   \n2023-04-01     4        4.0       7.9         8.8125           7.9   \n...          ...        ...       ...            ...           ...   \n2023-07-31    19       18.0      19.7        18.8250          18.0   \n2023-07-31    20       18.0      19.7        18.8250          18.0   \n2023-07-31    21       17.0      16.6        18.8250          18.0   \n2023-07-31    22       17.0      16.6        18.8250          18.0   \n2023-07-31    23       17.0      16.6        18.8250          18.0   \n\n            weather_pred  yst_weather_fact  yst_weather_fact_mean  \\\ndate                                                                \n2023-04-01    459.902061        492.763055             514.485231   \n2023-04-01    459.902061        492.763055             514.485231   \n2023-04-01    459.902061        492.763055             514.485231   \n2023-04-01    503.832900        492.763055             514.485231   \n2023-04-01    503.832900        492.763055             514.485231   \n...                  ...               ...                    ...   \n2023-07-31    528.770689        470.997571             481.880313   \n2023-07-31    528.770689        470.997571             481.880313   \n2023-07-31    528.770689        470.997571             481.880313   \n2023-07-31    528.770689        470.997571             481.880313   \n2023-07-31    528.770689        470.997571             481.880313   \n\n            yst_weather_fact_med  yst_target_24  ...  yst_target_120  \\\ndate                                             ...                   \n2023-04-01            501.311140        481.201  ...         469.910   \n2023-04-01            501.311140        446.881  ...         436.449   \n2023-04-01            501.311140        425.556  ...         415.774   \n2023-04-01            501.311140        416.225  ...         404.896   \n2023-04-01            501.311140        411.703  ...         401.041   \n...                          ...            ...  ...             ...   \n2023-07-31            481.880313        429.767  ...         446.658   \n2023-07-31            481.880313        424.231  ...         438.176   \n2023-07-31            481.880313        433.278  ...         438.106   \n2023-07-31            481.880313        440.695  ...         447.976   \n2023-07-31            481.880313        413.233  ...         421.352   \n\n            yst_target_144  yst_target_168  yst_target_sum  target_sum_pred  \\\ndate                                                                          \n2023-04-01         467.235         474.667       12414.945     12017.517456   \n2023-04-01         434.829         443.669       12414.945     12017.517456   \n2023-04-01         412.991         420.886       12414.945     12017.517456   \n2023-04-01         400.996         409.593       12414.945     12017.517456   \n2023-04-01         395.980         405.119       12414.945     12017.517456   \n...                    ...             ...             ...              ...   \n2023-07-31         450.699         452.459        9296.344      9668.609133   \n2023-07-31         440.681         447.430        9296.344      9668.609133   \n2023-07-31         438.982         451.141        9296.344      9668.609133   \n2023-07-31         449.350         453.595        9296.344      9668.609133   \n2023-07-31         423.133         428.070        9296.344      9668.609133   \n\n            week_day  year  month  day  is_holiday  \ndate                                                \n2023-04-01         5  2023      4    1           0  \n2023-04-01         5  2023      4    1           0  \n2023-04-01         5  2023      4    1           0  \n2023-04-01         5  2023      4    1           0  \n2023-04-01         5  2023      4    1           0  \n...              ...   ...    ...  ...         ...  \n2023-07-31         0  2023      7   31           0  \n2023-07-31         0  2023      7   31           0  \n2023-07-31         0  2023      7   31           0  \n2023-07-31         0  2023      7   31           0  \n2023-07-31         0  2023      7   31           0  \n\n[2928 rows x 23 columns]",
      "text/html": "<div>\n<style scoped>\n    .dataframe tbody tr th:only-of-type {\n        vertical-align: middle;\n    }\n\n    .dataframe tbody tr th {\n        vertical-align: top;\n    }\n\n    .dataframe thead th {\n        text-align: right;\n    }\n</style>\n<table border=\"1\" class=\"dataframe\">\n  <thead>\n    <tr style=\"text-align: right;\">\n      <th></th>\n      <th>time</th>\n      <th>temp_pred</th>\n      <th>yst_temp</th>\n      <th>yst_temp_mean</th>\n      <th>yst_temp_med</th>\n      <th>weather_pred</th>\n      <th>yst_weather_fact</th>\n      <th>yst_weather_fact_mean</th>\n      <th>yst_weather_fact_med</th>\n      <th>yst_target_24</th>\n      <th>...</th>\n      <th>yst_target_120</th>\n      <th>yst_target_144</th>\n      <th>yst_target_168</th>\n      <th>yst_target_sum</th>\n      <th>target_sum_pred</th>\n      <th>week_day</th>\n      <th>year</th>\n      <th>month</th>\n      <th>day</th>\n      <th>is_holiday</th>\n    </tr>\n    <tr>\n      <th>date</th>\n      <th></th>\n      <th></th>\n      <th></th>\n      <th></th>\n      <th></th>\n      <th></th>\n      <th></th>\n      <th></th>\n      <th></th>\n      <th></th>\n      <th></th>\n      <th></th>\n      <th></th>\n      <th></th>\n      <th></th>\n      <th></th>\n      <th></th>\n      <th></th>\n      <th></th>\n      <th></th>\n      <th></th>\n    </tr>\n  </thead>\n  <tbody>\n    <tr>\n      <th>2023-04-01</th>\n      <td>0</td>\n      <td>5.0</td>\n      <td>7.2</td>\n      <td>8.8125</td>\n      <td>7.9</td>\n      <td>459.902061</td>\n      <td>492.763055</td>\n      <td>514.485231</td>\n      <td>501.311140</td>\n      <td>481.201</td>\n      <td>...</td>\n      <td>469.910</td>\n      <td>467.235</td>\n      <td>474.667</td>\n      <td>12414.945</td>\n      <td>12017.517456</td>\n      <td>5</td>\n      <td>2023</td>\n      <td>4</td>\n      <td>1</td>\n      <td>0</td>\n    </tr>\n    <tr>\n      <th>2023-04-01</th>\n      <td>1</td>\n      <td>5.0</td>\n      <td>7.2</td>\n      <td>8.8125</td>\n      <td>7.9</td>\n      <td>459.902061</td>\n      <td>492.763055</td>\n      <td>514.485231</td>\n      <td>501.311140</td>\n      <td>446.881</td>\n      <td>...</td>\n      <td>436.449</td>\n      <td>434.829</td>\n      <td>443.669</td>\n      <td>12414.945</td>\n      <td>12017.517456</td>\n      <td>5</td>\n      <td>2023</td>\n      <td>4</td>\n      <td>1</td>\n      <td>0</td>\n    </tr>\n    <tr>\n      <th>2023-04-01</th>\n      <td>2</td>\n      <td>5.0</td>\n      <td>7.2</td>\n      <td>8.8125</td>\n      <td>7.9</td>\n      <td>459.902061</td>\n      <td>492.763055</td>\n      <td>514.485231</td>\n      <td>501.311140</td>\n      <td>425.556</td>\n      <td>...</td>\n      <td>415.774</td>\n      <td>412.991</td>\n      <td>420.886</td>\n      <td>12414.945</td>\n      <td>12017.517456</td>\n      <td>5</td>\n      <td>2023</td>\n      <td>4</td>\n      <td>1</td>\n      <td>0</td>\n    </tr>\n    <tr>\n      <th>2023-04-01</th>\n      <td>3</td>\n      <td>4.0</td>\n      <td>7.9</td>\n      <td>8.8125</td>\n      <td>7.9</td>\n      <td>503.832900</td>\n      <td>492.763055</td>\n      <td>514.485231</td>\n      <td>501.311140</td>\n      <td>416.225</td>\n      <td>...</td>\n      <td>404.896</td>\n      <td>400.996</td>\n      <td>409.593</td>\n      <td>12414.945</td>\n      <td>12017.517456</td>\n      <td>5</td>\n      <td>2023</td>\n      <td>4</td>\n      <td>1</td>\n      <td>0</td>\n    </tr>\n    <tr>\n      <th>2023-04-01</th>\n      <td>4</td>\n      <td>4.0</td>\n      <td>7.9</td>\n      <td>8.8125</td>\n      <td>7.9</td>\n      <td>503.832900</td>\n      <td>492.763055</td>\n      <td>514.485231</td>\n      <td>501.311140</td>\n      <td>411.703</td>\n      <td>...</td>\n      <td>401.041</td>\n      <td>395.980</td>\n      <td>405.119</td>\n      <td>12414.945</td>\n      <td>12017.517456</td>\n      <td>5</td>\n      <td>2023</td>\n      <td>4</td>\n      <td>1</td>\n      <td>0</td>\n    </tr>\n    <tr>\n      <th>...</th>\n      <td>...</td>\n      <td>...</td>\n      <td>...</td>\n      <td>...</td>\n      <td>...</td>\n      <td>...</td>\n      <td>...</td>\n      <td>...</td>\n      <td>...</td>\n      <td>...</td>\n      <td>...</td>\n      <td>...</td>\n      <td>...</td>\n      <td>...</td>\n      <td>...</td>\n      <td>...</td>\n      <td>...</td>\n      <td>...</td>\n      <td>...</td>\n      <td>...</td>\n      <td>...</td>\n    </tr>\n    <tr>\n      <th>2023-07-31</th>\n      <td>19</td>\n      <td>18.0</td>\n      <td>19.7</td>\n      <td>18.8250</td>\n      <td>18.0</td>\n      <td>528.770689</td>\n      <td>470.997571</td>\n      <td>481.880313</td>\n      <td>481.880313</td>\n      <td>429.767</td>\n      <td>...</td>\n      <td>446.658</td>\n      <td>450.699</td>\n      <td>452.459</td>\n      <td>9296.344</td>\n      <td>9668.609133</td>\n      <td>0</td>\n      <td>2023</td>\n      <td>7</td>\n      <td>31</td>\n      <td>0</td>\n    </tr>\n    <tr>\n      <th>2023-07-31</th>\n      <td>20</td>\n      <td>18.0</td>\n      <td>19.7</td>\n      <td>18.8250</td>\n      <td>18.0</td>\n      <td>528.770689</td>\n      <td>470.997571</td>\n      <td>481.880313</td>\n      <td>481.880313</td>\n      <td>424.231</td>\n      <td>...</td>\n      <td>438.176</td>\n      <td>440.681</td>\n      <td>447.430</td>\n      <td>9296.344</td>\n      <td>9668.609133</td>\n      <td>0</td>\n      <td>2023</td>\n      <td>7</td>\n      <td>31</td>\n      <td>0</td>\n    </tr>\n    <tr>\n      <th>2023-07-31</th>\n      <td>21</td>\n      <td>17.0</td>\n      <td>16.6</td>\n      <td>18.8250</td>\n      <td>18.0</td>\n      <td>528.770689</td>\n      <td>470.997571</td>\n      <td>481.880313</td>\n      <td>481.880313</td>\n      <td>433.278</td>\n      <td>...</td>\n      <td>438.106</td>\n      <td>438.982</td>\n      <td>451.141</td>\n      <td>9296.344</td>\n      <td>9668.609133</td>\n      <td>0</td>\n      <td>2023</td>\n      <td>7</td>\n      <td>31</td>\n      <td>0</td>\n    </tr>\n    <tr>\n      <th>2023-07-31</th>\n      <td>22</td>\n      <td>17.0</td>\n      <td>16.6</td>\n      <td>18.8250</td>\n      <td>18.0</td>\n      <td>528.770689</td>\n      <td>470.997571</td>\n      <td>481.880313</td>\n      <td>481.880313</td>\n      <td>440.695</td>\n      <td>...</td>\n      <td>447.976</td>\n      <td>449.350</td>\n      <td>453.595</td>\n      <td>9296.344</td>\n      <td>9668.609133</td>\n      <td>0</td>\n      <td>2023</td>\n      <td>7</td>\n      <td>31</td>\n      <td>0</td>\n    </tr>\n    <tr>\n      <th>2023-07-31</th>\n      <td>23</td>\n      <td>17.0</td>\n      <td>16.6</td>\n      <td>18.8250</td>\n      <td>18.0</td>\n      <td>528.770689</td>\n      <td>470.997571</td>\n      <td>481.880313</td>\n      <td>481.880313</td>\n      <td>413.233</td>\n      <td>...</td>\n      <td>421.352</td>\n      <td>423.133</td>\n      <td>428.070</td>\n      <td>9296.344</td>\n      <td>9668.609133</td>\n      <td>0</td>\n      <td>2023</td>\n      <td>7</td>\n      <td>31</td>\n      <td>0</td>\n    </tr>\n  </tbody>\n</table>\n<p>2928 rows × 23 columns</p>\n</div>"
     },
     "execution_count": 34,
     "metadata": {},
     "output_type": "execute_result"
    }
   ],
   "source": [
    "features_test = features_extractor(df_test, target_encoder, predict_test_1d)\n",
    "features_test"
   ],
   "metadata": {
    "collapsed": false,
    "ExecuteTime": {
     "end_time": "2023-11-01T14:09:57.045045700Z",
     "start_time": "2023-11-01T14:09:56.943613700Z"
    }
   },
   "id": "276ccc97cba48f56"
  },
  {
   "cell_type": "code",
   "execution_count": 35,
   "outputs": [
    {
     "data": {
      "text/plain": "date\n2023-04-01    479.282\n2023-04-01    445.182\n2023-04-01    424.225\n2023-04-01    413.866\n2023-04-01    408.146\n               ...   \n2023-07-31    453.173\n2023-07-31    446.287\n2023-07-31    444.373\n2023-07-31    449.078\n2023-07-31    416.078\nName: target, Length: 2928, dtype: float64"
     },
     "execution_count": 35,
     "metadata": {},
     "output_type": "execute_result"
    }
   ],
   "source": [
    "target_test = target_creator(df_test, features_test.index)\n",
    "target_test"
   ],
   "metadata": {
    "collapsed": false,
    "ExecuteTime": {
     "end_time": "2023-11-01T14:09:59.547053400Z",
     "start_time": "2023-11-01T14:09:59.504761500Z"
    }
   },
   "id": "e29eeb6d87c7e097"
  },
  {
   "cell_type": "code",
   "execution_count": 36,
   "outputs": [
    {
     "data": {
      "text/plain": "((2928, 23), (2928,))"
     },
     "execution_count": 36,
     "metadata": {},
     "output_type": "execute_result"
    }
   ],
   "source": [
    "features_test.shape, target_test.shape"
   ],
   "metadata": {
    "collapsed": false,
    "ExecuteTime": {
     "end_time": "2023-11-01T14:10:01.454743600Z",
     "start_time": "2023-11-01T14:10:01.408038Z"
    }
   },
   "id": "819c0639baf98a7b"
  },
  {
   "cell_type": "code",
   "execution_count": 37,
   "outputs": [],
   "source": [
    "lin_mae = mean_absolute_error(target_test, linear_pipeline.predict(features_test))\n",
    "lgbm_mae = mean_absolute_error(target_test, lgbm_pipeline.predict(features_test))\n",
    "lin_mape = mean_absolute_percentage_error(target_test, linear_pipeline.predict(features_test))\n",
    "lgbm_mape = mean_absolute_percentage_error(target_test, lgbm_pipeline.predict(features_test))\n",
    "lin_r2 = r2_score(target_test, linear_pipeline.predict(features_test))\n",
    "lgbm_r2 = r2_score(target_test, lgbm_pipeline.predict(features_test))"
   ],
   "metadata": {
    "collapsed": false,
    "ExecuteTime": {
     "end_time": "2023-11-01T14:10:48.699381200Z",
     "start_time": "2023-11-01T14:10:48.446463500Z"
    }
   },
   "id": "2886230e72d9abbc"
  },
  {
   "cell_type": "code",
   "execution_count": 38,
   "outputs": [
    {
     "name": "stdout",
     "output_type": "stream",
     "text": [
      "Linear MAE: 8.53458294290885 \n",
      "Linear r2: 0.9745862493909938 \n",
      "Linear MAPE: 0.02079793733354389 \n",
      "LGBM MAE: 6.439385376770354 \n",
      "LGBM r2: 0.9844497155734939 \n",
      "LGBM MAPE: 0.015167085629997003\n"
     ]
    }
   ],
   "source": [
    "print(f'Linear MAE: {lin_mae} \\n'\n",
    "      f'Linear r2: {lin_r2} \\n'\n",
    "      f'Linear MAPE: {lin_mape} \\n'\n",
    "      f'LGBM MAE: {lgbm_mae} \\n'\n",
    "      f'LGBM r2: {lgbm_r2} \\n'\n",
    "      f'LGBM MAPE: {lgbm_mape}')"
   ],
   "metadata": {
    "collapsed": false,
    "ExecuteTime": {
     "end_time": "2023-11-01T14:10:49.483623600Z",
     "start_time": "2023-11-01T14:10:49.421328400Z"
    }
   },
   "id": "ee628ff6a04ea8f7"
  },
  {
   "cell_type": "markdown",
   "source": [
    "## FULL"
   ],
   "metadata": {
    "collapsed": false
   },
   "id": "6343ddc34e5a1018"
  },
  {
   "cell_type": "code",
   "execution_count": 39,
   "outputs": [],
   "source": [
    "CV = TimeSeriesSplit(n_splits=27)"
   ],
   "metadata": {
    "collapsed": false,
    "ExecuteTime": {
     "end_time": "2023-11-01T14:11:21.845355400Z",
     "start_time": "2023-11-01T14:11:21.794930200Z"
    }
   },
   "id": "a8172a9ada03e093"
  },
  {
   "cell_type": "code",
   "execution_count": 40,
   "outputs": [],
   "source": [
    "df_full = pd.concat([\n",
    "    pd.read_csv('../data/train_dataset.csv', index_col='date', parse_dates=True),\n",
    "    pd.read_csv('../data/test_dataset.csv', index_col='date', parse_dates=True)\n",
    "], axis=0)"
   ],
   "metadata": {
    "collapsed": false,
    "ExecuteTime": {
     "end_time": "2023-11-01T14:11:22.507043600Z",
     "start_time": "2023-11-01T14:11:22.406627200Z"
    }
   },
   "id": "6865f32d465142ca"
  },
  {
   "cell_type": "code",
   "execution_count": 41,
   "outputs": [
    {
     "data": {
      "text/plain": "            time   target  temp  temp_pred     weather_pred weather_fact\ndate                                                                    \n2019-01-01     0  481.510   2.9        2.0      пасм, ветер        ветер\n2019-01-01     1  462.872   2.9        2.0      пасм, ветер        ветер\n2019-01-01     2  449.718   2.9        2.0      пасм, ветер        ветер\n2019-01-01     3  430.908   4.3        2.0      пасм, ветер  ветер, пасм\n2019-01-01     4  415.163   4.3        2.0      пасм, ветер  ветер, пасм\n...          ...      ...   ...        ...              ...          ...\n2023-07-31    19  453.173  17.2       18.0  пасм, 24% дождь        п/обл\n2023-07-31    20  446.287  17.2       18.0  пасм, 24% дождь        п/обл\n2023-07-31    21  444.373  15.8       17.0  пасм, 24% дождь        п/обл\n2023-07-31    22  449.078  15.8       17.0  пасм, 24% дождь        п/обл\n2023-07-31    23  416.078  15.8       17.0  пасм, 24% дождь        п/обл\n\n[40152 rows x 6 columns]",
      "text/html": "<div>\n<style scoped>\n    .dataframe tbody tr th:only-of-type {\n        vertical-align: middle;\n    }\n\n    .dataframe tbody tr th {\n        vertical-align: top;\n    }\n\n    .dataframe thead th {\n        text-align: right;\n    }\n</style>\n<table border=\"1\" class=\"dataframe\">\n  <thead>\n    <tr style=\"text-align: right;\">\n      <th></th>\n      <th>time</th>\n      <th>target</th>\n      <th>temp</th>\n      <th>temp_pred</th>\n      <th>weather_pred</th>\n      <th>weather_fact</th>\n    </tr>\n    <tr>\n      <th>date</th>\n      <th></th>\n      <th></th>\n      <th></th>\n      <th></th>\n      <th></th>\n      <th></th>\n    </tr>\n  </thead>\n  <tbody>\n    <tr>\n      <th>2019-01-01</th>\n      <td>0</td>\n      <td>481.510</td>\n      <td>2.9</td>\n      <td>2.0</td>\n      <td>пасм, ветер</td>\n      <td>ветер</td>\n    </tr>\n    <tr>\n      <th>2019-01-01</th>\n      <td>1</td>\n      <td>462.872</td>\n      <td>2.9</td>\n      <td>2.0</td>\n      <td>пасм, ветер</td>\n      <td>ветер</td>\n    </tr>\n    <tr>\n      <th>2019-01-01</th>\n      <td>2</td>\n      <td>449.718</td>\n      <td>2.9</td>\n      <td>2.0</td>\n      <td>пасм, ветер</td>\n      <td>ветер</td>\n    </tr>\n    <tr>\n      <th>2019-01-01</th>\n      <td>3</td>\n      <td>430.908</td>\n      <td>4.3</td>\n      <td>2.0</td>\n      <td>пасм, ветер</td>\n      <td>ветер, пасм</td>\n    </tr>\n    <tr>\n      <th>2019-01-01</th>\n      <td>4</td>\n      <td>415.163</td>\n      <td>4.3</td>\n      <td>2.0</td>\n      <td>пасм, ветер</td>\n      <td>ветер, пасм</td>\n    </tr>\n    <tr>\n      <th>...</th>\n      <td>...</td>\n      <td>...</td>\n      <td>...</td>\n      <td>...</td>\n      <td>...</td>\n      <td>...</td>\n    </tr>\n    <tr>\n      <th>2023-07-31</th>\n      <td>19</td>\n      <td>453.173</td>\n      <td>17.2</td>\n      <td>18.0</td>\n      <td>пасм, 24% дождь</td>\n      <td>п/обл</td>\n    </tr>\n    <tr>\n      <th>2023-07-31</th>\n      <td>20</td>\n      <td>446.287</td>\n      <td>17.2</td>\n      <td>18.0</td>\n      <td>пасм, 24% дождь</td>\n      <td>п/обл</td>\n    </tr>\n    <tr>\n      <th>2023-07-31</th>\n      <td>21</td>\n      <td>444.373</td>\n      <td>15.8</td>\n      <td>17.0</td>\n      <td>пасм, 24% дождь</td>\n      <td>п/обл</td>\n    </tr>\n    <tr>\n      <th>2023-07-31</th>\n      <td>22</td>\n      <td>449.078</td>\n      <td>15.8</td>\n      <td>17.0</td>\n      <td>пасм, 24% дождь</td>\n      <td>п/обл</td>\n    </tr>\n    <tr>\n      <th>2023-07-31</th>\n      <td>23</td>\n      <td>416.078</td>\n      <td>15.8</td>\n      <td>17.0</td>\n      <td>пасм, 24% дождь</td>\n      <td>п/обл</td>\n    </tr>\n  </tbody>\n</table>\n<p>40152 rows × 6 columns</p>\n</div>"
     },
     "execution_count": 41,
     "metadata": {},
     "output_type": "execute_result"
    }
   ],
   "source": [
    "df_full"
   ],
   "metadata": {
    "collapsed": false,
    "ExecuteTime": {
     "end_time": "2023-11-01T14:11:23.131698600Z",
     "start_time": "2023-11-01T14:11:23.075903700Z"
    }
   },
   "id": "fec222547f0ba0ec"
  },
  {
   "cell_type": "code",
   "execution_count": 42,
   "outputs": [],
   "source": [
    "# Извлекаем признаки для предсказания суммарного потребления электричества на 1 день\n",
    "features_full_1d = features_extractor_1d(df_full, target_encoder_1d)"
   ],
   "metadata": {
    "collapsed": false,
    "ExecuteTime": {
     "end_time": "2023-11-01T14:11:26.180913800Z",
     "start_time": "2023-11-01T14:11:25.992121500Z"
    }
   },
   "id": "7df96a9a71c0dd66"
  },
  {
   "cell_type": "code",
   "execution_count": 43,
   "outputs": [],
   "source": [
    "# Получаем предсказания суммарного потребления на 1 день \n",
    "predict_full_1d = pd.DataFrame(\n",
    "    stack_pipeline_1d.predict(features_full_1d),\n",
    "    index=features_full_1d.index,\n",
    "    columns=['target_sum_pred']\n",
    ")"
   ],
   "metadata": {
    "collapsed": false,
    "ExecuteTime": {
     "end_time": "2023-11-01T14:11:30.646335100Z",
     "start_time": "2023-11-01T14:11:30.508385Z"
    }
   },
   "id": "48ce204b8d55bf11"
  },
  {
   "cell_type": "code",
   "execution_count": 44,
   "outputs": [
    {
     "data": {
      "text/plain": "TargetEncoder(cols=['weather_pred', 'weather_fact'])",
      "text/html": "<style>#sk-container-id-4 {color: black;}#sk-container-id-4 pre{padding: 0;}#sk-container-id-4 div.sk-toggleable {background-color: white;}#sk-container-id-4 label.sk-toggleable__label {cursor: pointer;display: block;width: 100%;margin-bottom: 0;padding: 0.3em;box-sizing: border-box;text-align: center;}#sk-container-id-4 label.sk-toggleable__label-arrow:before {content: \"▸\";float: left;margin-right: 0.25em;color: #696969;}#sk-container-id-4 label.sk-toggleable__label-arrow:hover:before {color: black;}#sk-container-id-4 div.sk-estimator:hover label.sk-toggleable__label-arrow:before {color: black;}#sk-container-id-4 div.sk-toggleable__content {max-height: 0;max-width: 0;overflow: hidden;text-align: left;background-color: #f0f8ff;}#sk-container-id-4 div.sk-toggleable__content pre {margin: 0.2em;color: black;border-radius: 0.25em;background-color: #f0f8ff;}#sk-container-id-4 input.sk-toggleable__control:checked~div.sk-toggleable__content {max-height: 200px;max-width: 100%;overflow: auto;}#sk-container-id-4 input.sk-toggleable__control:checked~label.sk-toggleable__label-arrow:before {content: \"▾\";}#sk-container-id-4 div.sk-estimator input.sk-toggleable__control:checked~label.sk-toggleable__label {background-color: #d4ebff;}#sk-container-id-4 div.sk-label input.sk-toggleable__control:checked~label.sk-toggleable__label {background-color: #d4ebff;}#sk-container-id-4 input.sk-hidden--visually {border: 0;clip: rect(1px 1px 1px 1px);clip: rect(1px, 1px, 1px, 1px);height: 1px;margin: -1px;overflow: hidden;padding: 0;position: absolute;width: 1px;}#sk-container-id-4 div.sk-estimator {font-family: monospace;background-color: #f0f8ff;border: 1px dotted black;border-radius: 0.25em;box-sizing: border-box;margin-bottom: 0.5em;}#sk-container-id-4 div.sk-estimator:hover {background-color: #d4ebff;}#sk-container-id-4 div.sk-parallel-item::after {content: \"\";width: 100%;border-bottom: 1px solid gray;flex-grow: 1;}#sk-container-id-4 div.sk-label:hover label.sk-toggleable__label {background-color: #d4ebff;}#sk-container-id-4 div.sk-serial::before {content: \"\";position: absolute;border-left: 1px solid gray;box-sizing: border-box;top: 0;bottom: 0;left: 50%;z-index: 0;}#sk-container-id-4 div.sk-serial {display: flex;flex-direction: column;align-items: center;background-color: white;padding-right: 0.2em;padding-left: 0.2em;position: relative;}#sk-container-id-4 div.sk-item {position: relative;z-index: 1;}#sk-container-id-4 div.sk-parallel {display: flex;align-items: stretch;justify-content: center;background-color: white;position: relative;}#sk-container-id-4 div.sk-item::before, #sk-container-id-4 div.sk-parallel-item::before {content: \"\";position: absolute;border-left: 1px solid gray;box-sizing: border-box;top: 0;bottom: 0;left: 50%;z-index: -1;}#sk-container-id-4 div.sk-parallel-item {display: flex;flex-direction: column;z-index: 1;position: relative;background-color: white;}#sk-container-id-4 div.sk-parallel-item:first-child::after {align-self: flex-end;width: 50%;}#sk-container-id-4 div.sk-parallel-item:last-child::after {align-self: flex-start;width: 50%;}#sk-container-id-4 div.sk-parallel-item:only-child::after {width: 0;}#sk-container-id-4 div.sk-dashed-wrapped {border: 1px dashed gray;margin: 0 0.4em 0.5em 0.4em;box-sizing: border-box;padding-bottom: 0.4em;background-color: white;}#sk-container-id-4 div.sk-label label {font-family: monospace;font-weight: bold;display: inline-block;line-height: 1.2em;}#sk-container-id-4 div.sk-label-container {text-align: center;}#sk-container-id-4 div.sk-container {/* jupyter's `normalize.less` sets `[hidden] { display: none; }` but bootstrap.min.css set `[hidden] { display: none !important; }` so we also need the `!important` here to be able to override the default hidden behavior on the sphinx rendered scikit-learn.org. See: https://github.com/scikit-learn/scikit-learn/issues/21755 */display: inline-block !important;position: relative;}#sk-container-id-4 div.sk-text-repr-fallback {display: none;}</style><div id=\"sk-container-id-4\" class=\"sk-top-container\"><div class=\"sk-text-repr-fallback\"><pre>TargetEncoder(cols=[&#x27;weather_pred&#x27;, &#x27;weather_fact&#x27;])</pre><b>In a Jupyter environment, please rerun this cell to show the HTML representation or trust the notebook. <br />On GitHub, the HTML representation is unable to render, please try loading this page with nbviewer.org.</b></div><div class=\"sk-container\" hidden><div class=\"sk-item\"><div class=\"sk-estimator sk-toggleable\"><input class=\"sk-toggleable__control sk-hidden--visually\" id=\"sk-estimator-id-8\" type=\"checkbox\" checked><label for=\"sk-estimator-id-8\" class=\"sk-toggleable__label sk-toggleable__label-arrow\">TargetEncoder</label><div class=\"sk-toggleable__content\"><pre>TargetEncoder(cols=[&#x27;weather_pred&#x27;, &#x27;weather_fact&#x27;])</pre></div></div></div></div></div>"
     },
     "execution_count": 44,
     "metadata": {},
     "output_type": "execute_result"
    }
   ],
   "source": [
    "target_encoder.fit(df_full[['weather_pred', 'weather_fact']], df_full['target'])"
   ],
   "metadata": {
    "collapsed": false,
    "ExecuteTime": {
     "end_time": "2023-11-01T14:11:32.071763500Z",
     "start_time": "2023-11-01T14:11:31.906399400Z"
    }
   },
   "id": "80c16d5fd9f5561f"
  },
  {
   "cell_type": "code",
   "execution_count": 45,
   "outputs": [
    {
     "data": {
      "text/plain": "            time  temp_pred  yst_temp  yst_temp_mean  yst_temp_med  \\\ndate                                                                 \n2019-02-01     0       -2.0      -5.4        -2.2125          -1.4   \n2019-02-01     1       -2.0      -5.4        -2.2125          -1.4   \n2019-02-01     2       -2.0      -5.4        -2.2125          -1.4   \n2019-02-01     3       -3.0      -4.7        -2.2125          -1.4   \n2019-02-01     4       -3.0      -4.7        -2.2125          -1.4   \n...          ...        ...       ...            ...           ...   \n2023-07-31    19       18.0      19.7        18.8250          18.0   \n2023-07-31    20       18.0      19.7        18.8250          18.0   \n2023-07-31    21       17.0      16.6        18.8250          18.0   \n2023-07-31    22       17.0      16.6        18.8250          18.0   \n2023-07-31    23       17.0      16.6        18.8250          18.0   \n\n            weather_pred  yst_weather_fact  yst_weather_fact_mean  \\\ndate                                                                \n2019-02-01    567.446299         494.72471             505.506553   \n2019-02-01    567.446299         494.72471             505.506553   \n2019-02-01    567.446299         494.72471             505.506553   \n2019-02-01    567.446299         494.72471             505.506553   \n2019-02-01    567.446299         494.72471             505.506553   \n...                  ...               ...                    ...   \n2023-07-31    510.031230         467.27507             477.169233   \n2023-07-31    510.031230         467.27507             477.169233   \n2023-07-31    510.031230         467.27507             477.169233   \n2023-07-31    510.031230         467.27507             477.169233   \n2023-07-31    510.031230         467.27507             477.169233   \n\n            yst_weather_fact_med  yst_target_24  ...  yst_target_120  \\\ndate                                             ...                   \n2019-02-01            507.804703        551.764  ...         574.720   \n2019-02-01            507.804703        509.703  ...         538.396   \n2019-02-01            507.804703        486.041  ...         513.026   \n2019-02-01            507.804703        476.100  ...         501.166   \n2019-02-01            507.804703        471.236  ...         491.833   \n...                          ...            ...  ...             ...   \n2023-07-31            477.169233        429.767  ...         446.658   \n2023-07-31            477.169233        424.231  ...         438.176   \n2023-07-31            477.169233        433.278  ...         438.106   \n2023-07-31            477.169233        440.695  ...         447.976   \n2023-07-31            477.169233        413.233  ...         421.352   \n\n            yst_target_144  yst_target_168  yst_target_sum  target_sum_pred  \\\ndate                                                                          \n2019-02-01         578.847         576.305       14543.391     14321.601822   \n2019-02-01         538.638         537.491       14543.391     14321.601822   \n2019-02-01         512.829         515.493       14543.391     14321.601822   \n2019-02-01         500.753         504.864       14543.391     14321.601822   \n2019-02-01         494.790         498.515       14543.391     14321.601822   \n...                    ...             ...             ...              ...   \n2023-07-31         450.699         452.459        9296.344      9668.609133   \n2023-07-31         440.681         447.430        9296.344      9668.609133   \n2023-07-31         438.982         451.141        9296.344      9668.609133   \n2023-07-31         449.350         453.595        9296.344      9668.609133   \n2023-07-31         423.133         428.070        9296.344      9668.609133   \n\n            week_day  year  month  day  is_holiday  \ndate                                                \n2019-02-01         4  2019      2    1           0  \n2019-02-01         4  2019      2    1           0  \n2019-02-01         4  2019      2    1           0  \n2019-02-01         4  2019      2    1           0  \n2019-02-01         4  2019      2    1           0  \n...              ...   ...    ...  ...         ...  \n2023-07-31         0  2023      7   31           0  \n2023-07-31         0  2023      7   31           0  \n2023-07-31         0  2023      7   31           0  \n2023-07-31         0  2023      7   31           0  \n2023-07-31         0  2023      7   31           0  \n\n[39408 rows x 23 columns]",
      "text/html": "<div>\n<style scoped>\n    .dataframe tbody tr th:only-of-type {\n        vertical-align: middle;\n    }\n\n    .dataframe tbody tr th {\n        vertical-align: top;\n    }\n\n    .dataframe thead th {\n        text-align: right;\n    }\n</style>\n<table border=\"1\" class=\"dataframe\">\n  <thead>\n    <tr style=\"text-align: right;\">\n      <th></th>\n      <th>time</th>\n      <th>temp_pred</th>\n      <th>yst_temp</th>\n      <th>yst_temp_mean</th>\n      <th>yst_temp_med</th>\n      <th>weather_pred</th>\n      <th>yst_weather_fact</th>\n      <th>yst_weather_fact_mean</th>\n      <th>yst_weather_fact_med</th>\n      <th>yst_target_24</th>\n      <th>...</th>\n      <th>yst_target_120</th>\n      <th>yst_target_144</th>\n      <th>yst_target_168</th>\n      <th>yst_target_sum</th>\n      <th>target_sum_pred</th>\n      <th>week_day</th>\n      <th>year</th>\n      <th>month</th>\n      <th>day</th>\n      <th>is_holiday</th>\n    </tr>\n    <tr>\n      <th>date</th>\n      <th></th>\n      <th></th>\n      <th></th>\n      <th></th>\n      <th></th>\n      <th></th>\n      <th></th>\n      <th></th>\n      <th></th>\n      <th></th>\n      <th></th>\n      <th></th>\n      <th></th>\n      <th></th>\n      <th></th>\n      <th></th>\n      <th></th>\n      <th></th>\n      <th></th>\n      <th></th>\n      <th></th>\n    </tr>\n  </thead>\n  <tbody>\n    <tr>\n      <th>2019-02-01</th>\n      <td>0</td>\n      <td>-2.0</td>\n      <td>-5.4</td>\n      <td>-2.2125</td>\n      <td>-1.4</td>\n      <td>567.446299</td>\n      <td>494.72471</td>\n      <td>505.506553</td>\n      <td>507.804703</td>\n      <td>551.764</td>\n      <td>...</td>\n      <td>574.720</td>\n      <td>578.847</td>\n      <td>576.305</td>\n      <td>14543.391</td>\n      <td>14321.601822</td>\n      <td>4</td>\n      <td>2019</td>\n      <td>2</td>\n      <td>1</td>\n      <td>0</td>\n    </tr>\n    <tr>\n      <th>2019-02-01</th>\n      <td>1</td>\n      <td>-2.0</td>\n      <td>-5.4</td>\n      <td>-2.2125</td>\n      <td>-1.4</td>\n      <td>567.446299</td>\n      <td>494.72471</td>\n      <td>505.506553</td>\n      <td>507.804703</td>\n      <td>509.703</td>\n      <td>...</td>\n      <td>538.396</td>\n      <td>538.638</td>\n      <td>537.491</td>\n      <td>14543.391</td>\n      <td>14321.601822</td>\n      <td>4</td>\n      <td>2019</td>\n      <td>2</td>\n      <td>1</td>\n      <td>0</td>\n    </tr>\n    <tr>\n      <th>2019-02-01</th>\n      <td>2</td>\n      <td>-2.0</td>\n      <td>-5.4</td>\n      <td>-2.2125</td>\n      <td>-1.4</td>\n      <td>567.446299</td>\n      <td>494.72471</td>\n      <td>505.506553</td>\n      <td>507.804703</td>\n      <td>486.041</td>\n      <td>...</td>\n      <td>513.026</td>\n      <td>512.829</td>\n      <td>515.493</td>\n      <td>14543.391</td>\n      <td>14321.601822</td>\n      <td>4</td>\n      <td>2019</td>\n      <td>2</td>\n      <td>1</td>\n      <td>0</td>\n    </tr>\n    <tr>\n      <th>2019-02-01</th>\n      <td>3</td>\n      <td>-3.0</td>\n      <td>-4.7</td>\n      <td>-2.2125</td>\n      <td>-1.4</td>\n      <td>567.446299</td>\n      <td>494.72471</td>\n      <td>505.506553</td>\n      <td>507.804703</td>\n      <td>476.100</td>\n      <td>...</td>\n      <td>501.166</td>\n      <td>500.753</td>\n      <td>504.864</td>\n      <td>14543.391</td>\n      <td>14321.601822</td>\n      <td>4</td>\n      <td>2019</td>\n      <td>2</td>\n      <td>1</td>\n      <td>0</td>\n    </tr>\n    <tr>\n      <th>2019-02-01</th>\n      <td>4</td>\n      <td>-3.0</td>\n      <td>-4.7</td>\n      <td>-2.2125</td>\n      <td>-1.4</td>\n      <td>567.446299</td>\n      <td>494.72471</td>\n      <td>505.506553</td>\n      <td>507.804703</td>\n      <td>471.236</td>\n      <td>...</td>\n      <td>491.833</td>\n      <td>494.790</td>\n      <td>498.515</td>\n      <td>14543.391</td>\n      <td>14321.601822</td>\n      <td>4</td>\n      <td>2019</td>\n      <td>2</td>\n      <td>1</td>\n      <td>0</td>\n    </tr>\n    <tr>\n      <th>...</th>\n      <td>...</td>\n      <td>...</td>\n      <td>...</td>\n      <td>...</td>\n      <td>...</td>\n      <td>...</td>\n      <td>...</td>\n      <td>...</td>\n      <td>...</td>\n      <td>...</td>\n      <td>...</td>\n      <td>...</td>\n      <td>...</td>\n      <td>...</td>\n      <td>...</td>\n      <td>...</td>\n      <td>...</td>\n      <td>...</td>\n      <td>...</td>\n      <td>...</td>\n      <td>...</td>\n    </tr>\n    <tr>\n      <th>2023-07-31</th>\n      <td>19</td>\n      <td>18.0</td>\n      <td>19.7</td>\n      <td>18.8250</td>\n      <td>18.0</td>\n      <td>510.031230</td>\n      <td>467.27507</td>\n      <td>477.169233</td>\n      <td>477.169233</td>\n      <td>429.767</td>\n      <td>...</td>\n      <td>446.658</td>\n      <td>450.699</td>\n      <td>452.459</td>\n      <td>9296.344</td>\n      <td>9668.609133</td>\n      <td>0</td>\n      <td>2023</td>\n      <td>7</td>\n      <td>31</td>\n      <td>0</td>\n    </tr>\n    <tr>\n      <th>2023-07-31</th>\n      <td>20</td>\n      <td>18.0</td>\n      <td>19.7</td>\n      <td>18.8250</td>\n      <td>18.0</td>\n      <td>510.031230</td>\n      <td>467.27507</td>\n      <td>477.169233</td>\n      <td>477.169233</td>\n      <td>424.231</td>\n      <td>...</td>\n      <td>438.176</td>\n      <td>440.681</td>\n      <td>447.430</td>\n      <td>9296.344</td>\n      <td>9668.609133</td>\n      <td>0</td>\n      <td>2023</td>\n      <td>7</td>\n      <td>31</td>\n      <td>0</td>\n    </tr>\n    <tr>\n      <th>2023-07-31</th>\n      <td>21</td>\n      <td>17.0</td>\n      <td>16.6</td>\n      <td>18.8250</td>\n      <td>18.0</td>\n      <td>510.031230</td>\n      <td>467.27507</td>\n      <td>477.169233</td>\n      <td>477.169233</td>\n      <td>433.278</td>\n      <td>...</td>\n      <td>438.106</td>\n      <td>438.982</td>\n      <td>451.141</td>\n      <td>9296.344</td>\n      <td>9668.609133</td>\n      <td>0</td>\n      <td>2023</td>\n      <td>7</td>\n      <td>31</td>\n      <td>0</td>\n    </tr>\n    <tr>\n      <th>2023-07-31</th>\n      <td>22</td>\n      <td>17.0</td>\n      <td>16.6</td>\n      <td>18.8250</td>\n      <td>18.0</td>\n      <td>510.031230</td>\n      <td>467.27507</td>\n      <td>477.169233</td>\n      <td>477.169233</td>\n      <td>440.695</td>\n      <td>...</td>\n      <td>447.976</td>\n      <td>449.350</td>\n      <td>453.595</td>\n      <td>9296.344</td>\n      <td>9668.609133</td>\n      <td>0</td>\n      <td>2023</td>\n      <td>7</td>\n      <td>31</td>\n      <td>0</td>\n    </tr>\n    <tr>\n      <th>2023-07-31</th>\n      <td>23</td>\n      <td>17.0</td>\n      <td>16.6</td>\n      <td>18.8250</td>\n      <td>18.0</td>\n      <td>510.031230</td>\n      <td>467.27507</td>\n      <td>477.169233</td>\n      <td>477.169233</td>\n      <td>413.233</td>\n      <td>...</td>\n      <td>421.352</td>\n      <td>423.133</td>\n      <td>428.070</td>\n      <td>9296.344</td>\n      <td>9668.609133</td>\n      <td>0</td>\n      <td>2023</td>\n      <td>7</td>\n      <td>31</td>\n      <td>0</td>\n    </tr>\n  </tbody>\n</table>\n<p>39408 rows × 23 columns</p>\n</div>"
     },
     "execution_count": 45,
     "metadata": {},
     "output_type": "execute_result"
    }
   ],
   "source": [
    "features_full = features_extractor(df_full, target_encoder, predict_full_1d)\n",
    "features_full"
   ],
   "metadata": {
    "collapsed": false,
    "ExecuteTime": {
     "end_time": "2023-11-01T14:11:35.960588300Z",
     "start_time": "2023-11-01T14:11:35.398111700Z"
    }
   },
   "id": "780fe9d5bd69c8db"
  },
  {
   "cell_type": "code",
   "execution_count": 46,
   "outputs": [
    {
     "data": {
      "text/plain": "date\n2019-02-01    557.528\n2019-02-01    519.482\n2019-02-01    494.380\n2019-02-01    484.917\n2019-02-01    478.837\n               ...   \n2023-07-31    453.173\n2023-07-31    446.287\n2023-07-31    444.373\n2023-07-31    449.078\n2023-07-31    416.078\nName: target, Length: 39408, dtype: float64"
     },
     "execution_count": 46,
     "metadata": {},
     "output_type": "execute_result"
    }
   ],
   "source": [
    "target_full = target_creator(df_full, features_full.index)\n",
    "target_full"
   ],
   "metadata": {
    "collapsed": false,
    "ExecuteTime": {
     "end_time": "2023-11-01T14:11:37.186299Z",
     "start_time": "2023-11-01T14:11:37.117187100Z"
    }
   },
   "id": "20cdfc47b73b0abc"
  },
  {
   "cell_type": "code",
   "execution_count": 47,
   "outputs": [
    {
     "data": {
      "text/plain": "((39408, 23), (39408,))"
     },
     "execution_count": 47,
     "metadata": {},
     "output_type": "execute_result"
    }
   ],
   "source": [
    "features_full.shape, target_full.shape"
   ],
   "metadata": {
    "collapsed": false,
    "ExecuteTime": {
     "end_time": "2023-11-01T14:11:39.510951600Z",
     "start_time": "2023-11-01T14:11:39.464830700Z"
    }
   },
   "id": "ccf1c138bb427ba"
  },
  {
   "cell_type": "code",
   "execution_count": 48,
   "outputs": [
    {
     "data": {
      "text/plain": "Pipeline(steps=[('minmaxscaler', MinMaxScaler()),\n                ('linearregression', LinearRegression())])",
      "text/html": "<style>#sk-container-id-5 {color: black;}#sk-container-id-5 pre{padding: 0;}#sk-container-id-5 div.sk-toggleable {background-color: white;}#sk-container-id-5 label.sk-toggleable__label {cursor: pointer;display: block;width: 100%;margin-bottom: 0;padding: 0.3em;box-sizing: border-box;text-align: center;}#sk-container-id-5 label.sk-toggleable__label-arrow:before {content: \"▸\";float: left;margin-right: 0.25em;color: #696969;}#sk-container-id-5 label.sk-toggleable__label-arrow:hover:before {color: black;}#sk-container-id-5 div.sk-estimator:hover label.sk-toggleable__label-arrow:before {color: black;}#sk-container-id-5 div.sk-toggleable__content {max-height: 0;max-width: 0;overflow: hidden;text-align: left;background-color: #f0f8ff;}#sk-container-id-5 div.sk-toggleable__content pre {margin: 0.2em;color: black;border-radius: 0.25em;background-color: #f0f8ff;}#sk-container-id-5 input.sk-toggleable__control:checked~div.sk-toggleable__content {max-height: 200px;max-width: 100%;overflow: auto;}#sk-container-id-5 input.sk-toggleable__control:checked~label.sk-toggleable__label-arrow:before {content: \"▾\";}#sk-container-id-5 div.sk-estimator input.sk-toggleable__control:checked~label.sk-toggleable__label {background-color: #d4ebff;}#sk-container-id-5 div.sk-label input.sk-toggleable__control:checked~label.sk-toggleable__label {background-color: #d4ebff;}#sk-container-id-5 input.sk-hidden--visually {border: 0;clip: rect(1px 1px 1px 1px);clip: rect(1px, 1px, 1px, 1px);height: 1px;margin: -1px;overflow: hidden;padding: 0;position: absolute;width: 1px;}#sk-container-id-5 div.sk-estimator {font-family: monospace;background-color: #f0f8ff;border: 1px dotted black;border-radius: 0.25em;box-sizing: border-box;margin-bottom: 0.5em;}#sk-container-id-5 div.sk-estimator:hover {background-color: #d4ebff;}#sk-container-id-5 div.sk-parallel-item::after {content: \"\";width: 100%;border-bottom: 1px solid gray;flex-grow: 1;}#sk-container-id-5 div.sk-label:hover label.sk-toggleable__label {background-color: #d4ebff;}#sk-container-id-5 div.sk-serial::before {content: \"\";position: absolute;border-left: 1px solid gray;box-sizing: border-box;top: 0;bottom: 0;left: 50%;z-index: 0;}#sk-container-id-5 div.sk-serial {display: flex;flex-direction: column;align-items: center;background-color: white;padding-right: 0.2em;padding-left: 0.2em;position: relative;}#sk-container-id-5 div.sk-item {position: relative;z-index: 1;}#sk-container-id-5 div.sk-parallel {display: flex;align-items: stretch;justify-content: center;background-color: white;position: relative;}#sk-container-id-5 div.sk-item::before, #sk-container-id-5 div.sk-parallel-item::before {content: \"\";position: absolute;border-left: 1px solid gray;box-sizing: border-box;top: 0;bottom: 0;left: 50%;z-index: -1;}#sk-container-id-5 div.sk-parallel-item {display: flex;flex-direction: column;z-index: 1;position: relative;background-color: white;}#sk-container-id-5 div.sk-parallel-item:first-child::after {align-self: flex-end;width: 50%;}#sk-container-id-5 div.sk-parallel-item:last-child::after {align-self: flex-start;width: 50%;}#sk-container-id-5 div.sk-parallel-item:only-child::after {width: 0;}#sk-container-id-5 div.sk-dashed-wrapped {border: 1px dashed gray;margin: 0 0.4em 0.5em 0.4em;box-sizing: border-box;padding-bottom: 0.4em;background-color: white;}#sk-container-id-5 div.sk-label label {font-family: monospace;font-weight: bold;display: inline-block;line-height: 1.2em;}#sk-container-id-5 div.sk-label-container {text-align: center;}#sk-container-id-5 div.sk-container {/* jupyter's `normalize.less` sets `[hidden] { display: none; }` but bootstrap.min.css set `[hidden] { display: none !important; }` so we also need the `!important` here to be able to override the default hidden behavior on the sphinx rendered scikit-learn.org. See: https://github.com/scikit-learn/scikit-learn/issues/21755 */display: inline-block !important;position: relative;}#sk-container-id-5 div.sk-text-repr-fallback {display: none;}</style><div id=\"sk-container-id-5\" class=\"sk-top-container\"><div class=\"sk-text-repr-fallback\"><pre>Pipeline(steps=[(&#x27;minmaxscaler&#x27;, MinMaxScaler()),\n                (&#x27;linearregression&#x27;, LinearRegression())])</pre><b>In a Jupyter environment, please rerun this cell to show the HTML representation or trust the notebook. <br />On GitHub, the HTML representation is unable to render, please try loading this page with nbviewer.org.</b></div><div class=\"sk-container\" hidden><div class=\"sk-item sk-dashed-wrapped\"><div class=\"sk-label-container\"><div class=\"sk-label sk-toggleable\"><input class=\"sk-toggleable__control sk-hidden--visually\" id=\"sk-estimator-id-9\" type=\"checkbox\" ><label for=\"sk-estimator-id-9\" class=\"sk-toggleable__label sk-toggleable__label-arrow\">Pipeline</label><div class=\"sk-toggleable__content\"><pre>Pipeline(steps=[(&#x27;minmaxscaler&#x27;, MinMaxScaler()),\n                (&#x27;linearregression&#x27;, LinearRegression())])</pre></div></div></div><div class=\"sk-serial\"><div class=\"sk-item\"><div class=\"sk-estimator sk-toggleable\"><input class=\"sk-toggleable__control sk-hidden--visually\" id=\"sk-estimator-id-10\" type=\"checkbox\" ><label for=\"sk-estimator-id-10\" class=\"sk-toggleable__label sk-toggleable__label-arrow\">MinMaxScaler</label><div class=\"sk-toggleable__content\"><pre>MinMaxScaler()</pre></div></div></div><div class=\"sk-item\"><div class=\"sk-estimator sk-toggleable\"><input class=\"sk-toggleable__control sk-hidden--visually\" id=\"sk-estimator-id-11\" type=\"checkbox\" ><label for=\"sk-estimator-id-11\" class=\"sk-toggleable__label sk-toggleable__label-arrow\">LinearRegression</label><div class=\"sk-toggleable__content\"><pre>LinearRegression()</pre></div></div></div></div></div></div></div>"
     },
     "execution_count": 48,
     "metadata": {},
     "output_type": "execute_result"
    }
   ],
   "source": [
    "linear_pipeline.fit(features_full, target_full)"
   ],
   "metadata": {
    "collapsed": false,
    "ExecuteTime": {
     "end_time": "2023-11-01T14:11:42.753179200Z",
     "start_time": "2023-11-01T14:11:42.676313500Z"
    }
   },
   "id": "d16cec269ea9b95c"
  },
  {
   "cell_type": "code",
   "execution_count": 49,
   "outputs": [],
   "source": [
    "def objective(trial):\n",
    "    # Объявляем гиперпараметры для оптимизации\n",
    "    params = {\n",
    "        'objective': trial.suggest_categorical('objective', ['regression', 'regression_l1']),\n",
    "        'max_depth': trial.suggest_int('max_depth', 3, 12),\n",
    "        'n_estimators': trial.suggest_int('n_estimators', 200, 600),\n",
    "        'learning_rate': trial.suggest_float('learning_rate', 0.01, 0.1),\n",
    "        'num_leaves': trial.suggest_int('num_leaves', 30, 50),\n",
    "        'feature_fraction': trial.suggest_float('feature_fraction', 0, 1),\n",
    "        'bagging_fraction': trial.suggest_float('bagging_fraction', 0, 1),\n",
    "        'lambda_l1': trial.suggest_float('lambda_l1', 0, 1),\n",
    "        'lambda_l2': trial.suggest_float('lambda_l2', 0, 1),\n",
    "        #'min_gain_to_split': trial.suggest_float('min_gain_to_split', 0, 1),\n",
    "        #'min_sum_hessian_in_leaf': trial.suggest_int('min_sum_hessian_in_leaf', 1, 7, 2),\n",
    "        'random_state': 42,\n",
    "        'verbosity': -1\n",
    "    }\n",
    "\n",
    "    # Объявляем модель\n",
    "    model = LGBMRegressor(**params)\n",
    "    pipeline = make_pipeline(scaler, model)\n",
    "\n",
    "    # Вычисляем качество\n",
    "    result = cross_val_score(\n",
    "        pipeline,\n",
    "        features_full,\n",
    "        target_full,\n",
    "        scoring='neg_mean_absolute_error',\n",
    "        cv=CV).mean() * -1\n",
    "\n",
    "    return result"
   ],
   "metadata": {
    "collapsed": false,
    "ExecuteTime": {
     "end_time": "2023-11-01T14:11:48.016292100Z",
     "start_time": "2023-11-01T14:11:47.977768300Z"
    }
   },
   "id": "fc69abdf9d31e45c"
  },
  {
   "cell_type": "code",
   "execution_count": null,
   "outputs": [],
   "source": [
    "study = optuna.create_study(direction=\"minimize\", sampler=optuna.samplers.TPESampler(seed=42))\n",
    "study.optimize(objective, n_trials=200, n_jobs=-1)"
   ],
   "metadata": {
    "collapsed": false
   },
   "id": "95688fd8a513248a"
  },
  {
   "cell_type": "code",
   "execution_count": 51,
   "outputs": [],
   "source": [
    "lgbm_model = LGBMRegressor(**study.best_params, random_state=42, verbosity=-1, n_jobs=-1)\n",
    "lgbm_pipeline = make_pipeline(scaler, lgbm_model)"
   ],
   "metadata": {
    "collapsed": false,
    "ExecuteTime": {
     "end_time": "2023-11-01T15:23:21.024651900Z",
     "start_time": "2023-11-01T15:23:21.001897700Z"
    }
   },
   "id": "b3279e27eee9870a"
  },
  {
   "cell_type": "code",
   "execution_count": 52,
   "outputs": [
    {
     "data": {
      "text/plain": "Pipeline(steps=[('minmaxscaler', MinMaxScaler()),\n                ('lgbmregressor',\n                 LGBMRegressor(bagging_fraction=0.726310845606191,\n                               feature_fraction=0.8632609998541577,\n                               lambda_l1=0.3831278615173321,\n                               lambda_l2=0.5129630087170781,\n                               learning_rate=0.09999035126266356, max_depth=9,\n                               n_estimators=563, n_jobs=-1, num_leaves=44,\n                               objective='regression', random_state=42,\n                               verbosity=-1))])",
      "text/html": "<style>#sk-container-id-6 {color: black;}#sk-container-id-6 pre{padding: 0;}#sk-container-id-6 div.sk-toggleable {background-color: white;}#sk-container-id-6 label.sk-toggleable__label {cursor: pointer;display: block;width: 100%;margin-bottom: 0;padding: 0.3em;box-sizing: border-box;text-align: center;}#sk-container-id-6 label.sk-toggleable__label-arrow:before {content: \"▸\";float: left;margin-right: 0.25em;color: #696969;}#sk-container-id-6 label.sk-toggleable__label-arrow:hover:before {color: black;}#sk-container-id-6 div.sk-estimator:hover label.sk-toggleable__label-arrow:before {color: black;}#sk-container-id-6 div.sk-toggleable__content {max-height: 0;max-width: 0;overflow: hidden;text-align: left;background-color: #f0f8ff;}#sk-container-id-6 div.sk-toggleable__content pre {margin: 0.2em;color: black;border-radius: 0.25em;background-color: #f0f8ff;}#sk-container-id-6 input.sk-toggleable__control:checked~div.sk-toggleable__content {max-height: 200px;max-width: 100%;overflow: auto;}#sk-container-id-6 input.sk-toggleable__control:checked~label.sk-toggleable__label-arrow:before {content: \"▾\";}#sk-container-id-6 div.sk-estimator input.sk-toggleable__control:checked~label.sk-toggleable__label {background-color: #d4ebff;}#sk-container-id-6 div.sk-label input.sk-toggleable__control:checked~label.sk-toggleable__label {background-color: #d4ebff;}#sk-container-id-6 input.sk-hidden--visually {border: 0;clip: rect(1px 1px 1px 1px);clip: rect(1px, 1px, 1px, 1px);height: 1px;margin: -1px;overflow: hidden;padding: 0;position: absolute;width: 1px;}#sk-container-id-6 div.sk-estimator {font-family: monospace;background-color: #f0f8ff;border: 1px dotted black;border-radius: 0.25em;box-sizing: border-box;margin-bottom: 0.5em;}#sk-container-id-6 div.sk-estimator:hover {background-color: #d4ebff;}#sk-container-id-6 div.sk-parallel-item::after {content: \"\";width: 100%;border-bottom: 1px solid gray;flex-grow: 1;}#sk-container-id-6 div.sk-label:hover label.sk-toggleable__label {background-color: #d4ebff;}#sk-container-id-6 div.sk-serial::before {content: \"\";position: absolute;border-left: 1px solid gray;box-sizing: border-box;top: 0;bottom: 0;left: 50%;z-index: 0;}#sk-container-id-6 div.sk-serial {display: flex;flex-direction: column;align-items: center;background-color: white;padding-right: 0.2em;padding-left: 0.2em;position: relative;}#sk-container-id-6 div.sk-item {position: relative;z-index: 1;}#sk-container-id-6 div.sk-parallel {display: flex;align-items: stretch;justify-content: center;background-color: white;position: relative;}#sk-container-id-6 div.sk-item::before, #sk-container-id-6 div.sk-parallel-item::before {content: \"\";position: absolute;border-left: 1px solid gray;box-sizing: border-box;top: 0;bottom: 0;left: 50%;z-index: -1;}#sk-container-id-6 div.sk-parallel-item {display: flex;flex-direction: column;z-index: 1;position: relative;background-color: white;}#sk-container-id-6 div.sk-parallel-item:first-child::after {align-self: flex-end;width: 50%;}#sk-container-id-6 div.sk-parallel-item:last-child::after {align-self: flex-start;width: 50%;}#sk-container-id-6 div.sk-parallel-item:only-child::after {width: 0;}#sk-container-id-6 div.sk-dashed-wrapped {border: 1px dashed gray;margin: 0 0.4em 0.5em 0.4em;box-sizing: border-box;padding-bottom: 0.4em;background-color: white;}#sk-container-id-6 div.sk-label label {font-family: monospace;font-weight: bold;display: inline-block;line-height: 1.2em;}#sk-container-id-6 div.sk-label-container {text-align: center;}#sk-container-id-6 div.sk-container {/* jupyter's `normalize.less` sets `[hidden] { display: none; }` but bootstrap.min.css set `[hidden] { display: none !important; }` so we also need the `!important` here to be able to override the default hidden behavior on the sphinx rendered scikit-learn.org. See: https://github.com/scikit-learn/scikit-learn/issues/21755 */display: inline-block !important;position: relative;}#sk-container-id-6 div.sk-text-repr-fallback {display: none;}</style><div id=\"sk-container-id-6\" class=\"sk-top-container\"><div class=\"sk-text-repr-fallback\"><pre>Pipeline(steps=[(&#x27;minmaxscaler&#x27;, MinMaxScaler()),\n                (&#x27;lgbmregressor&#x27;,\n                 LGBMRegressor(bagging_fraction=0.726310845606191,\n                               feature_fraction=0.8632609998541577,\n                               lambda_l1=0.3831278615173321,\n                               lambda_l2=0.5129630087170781,\n                               learning_rate=0.09999035126266356, max_depth=9,\n                               n_estimators=563, n_jobs=-1, num_leaves=44,\n                               objective=&#x27;regression&#x27;, random_state=42,\n                               verbosity=-1))])</pre><b>In a Jupyter environment, please rerun this cell to show the HTML representation or trust the notebook. <br />On GitHub, the HTML representation is unable to render, please try loading this page with nbviewer.org.</b></div><div class=\"sk-container\" hidden><div class=\"sk-item sk-dashed-wrapped\"><div class=\"sk-label-container\"><div class=\"sk-label sk-toggleable\"><input class=\"sk-toggleable__control sk-hidden--visually\" id=\"sk-estimator-id-12\" type=\"checkbox\" ><label for=\"sk-estimator-id-12\" class=\"sk-toggleable__label sk-toggleable__label-arrow\">Pipeline</label><div class=\"sk-toggleable__content\"><pre>Pipeline(steps=[(&#x27;minmaxscaler&#x27;, MinMaxScaler()),\n                (&#x27;lgbmregressor&#x27;,\n                 LGBMRegressor(bagging_fraction=0.726310845606191,\n                               feature_fraction=0.8632609998541577,\n                               lambda_l1=0.3831278615173321,\n                               lambda_l2=0.5129630087170781,\n                               learning_rate=0.09999035126266356, max_depth=9,\n                               n_estimators=563, n_jobs=-1, num_leaves=44,\n                               objective=&#x27;regression&#x27;, random_state=42,\n                               verbosity=-1))])</pre></div></div></div><div class=\"sk-serial\"><div class=\"sk-item\"><div class=\"sk-estimator sk-toggleable\"><input class=\"sk-toggleable__control sk-hidden--visually\" id=\"sk-estimator-id-13\" type=\"checkbox\" ><label for=\"sk-estimator-id-13\" class=\"sk-toggleable__label sk-toggleable__label-arrow\">MinMaxScaler</label><div class=\"sk-toggleable__content\"><pre>MinMaxScaler()</pre></div></div></div><div class=\"sk-item\"><div class=\"sk-estimator sk-toggleable\"><input class=\"sk-toggleable__control sk-hidden--visually\" id=\"sk-estimator-id-14\" type=\"checkbox\" ><label for=\"sk-estimator-id-14\" class=\"sk-toggleable__label sk-toggleable__label-arrow\">LGBMRegressor</label><div class=\"sk-toggleable__content\"><pre>LGBMRegressor(bagging_fraction=0.726310845606191,\n              feature_fraction=0.8632609998541577, lambda_l1=0.3831278615173321,\n              lambda_l2=0.5129630087170781, learning_rate=0.09999035126266356,\n              max_depth=9, n_estimators=563, n_jobs=-1, num_leaves=44,\n              objective=&#x27;regression&#x27;, random_state=42, verbosity=-1)</pre></div></div></div></div></div></div></div>"
     },
     "execution_count": 52,
     "metadata": {},
     "output_type": "execute_result"
    }
   ],
   "source": [
    "lgbm_pipeline.fit(features_full, target_full)"
   ],
   "metadata": {
    "collapsed": false,
    "ExecuteTime": {
     "end_time": "2023-11-01T15:23:22.707524800Z",
     "start_time": "2023-11-01T15:23:21.012650300Z"
    }
   },
   "id": "abd3cbd1cff9c756"
  },
  {
   "cell_type": "markdown",
   "source": [
    "### Results"
   ],
   "metadata": {
    "collapsed": false
   },
   "id": "ac34153c945c1c5c"
  },
  {
   "cell_type": "code",
   "execution_count": 53,
   "outputs": [],
   "source": [
    "lin_mae = mean_absolute_error(target_full, linear_pipeline.predict(features_full))\n",
    "lgbm_mae = mean_absolute_error(target_full, lgbm_pipeline.predict(features_full))\n",
    "lin_cv_mae = -np.mean(cross_val_score(linear_pipeline, features_full, target_full, cv=CV, scoring='neg_mean_absolute_error'))\n",
    "lgbm_cv_mae = -np.mean(cross_val_score(lgbm_pipeline, features_full, target_full, cv=CV, scoring='neg_mean_absolute_error'))\n",
    "lin_r2 = r2_score(target_full, linear_pipeline.predict(features_full))\n",
    "lgbm_r2 = r2_score(target_full, lgbm_pipeline.predict(features_full))\n",
    "lin_mape = mean_absolute_percentage_error(target_full, linear_pipeline.predict(features_full))\n",
    "lgbm_mape = mean_absolute_percentage_error(target_full, lgbm_pipeline.predict(features_full))"
   ],
   "metadata": {
    "collapsed": false,
    "ExecuteTime": {
     "end_time": "2023-11-01T15:23:58.690516400Z",
     "start_time": "2023-11-01T15:23:22.707524800Z"
    }
   },
   "id": "1431ca6061a2ab11"
  },
  {
   "cell_type": "code",
   "execution_count": 54,
   "outputs": [
    {
     "name": "stdout",
     "output_type": "stream",
     "text": [
      "Linear MAE: 9.959395502742572 \n",
      "Linear CV MAE: 10.548051668093981 \n",
      "Linear r2: 0.9822725326235461 \n",
      "Linear MAPE: 0.021755508853499323 \n",
      "LGBM MAE: 3.030099212835933 \n",
      "LGBM CV MAE: 9.393541992724039 \n",
      "LGBM r2: 0.9983879317782108 \n",
      "LGBM MAPE: 0.006492255283355377\n"
     ]
    }
   ],
   "source": [
    "print(f'Linear MAE: {lin_mae} \\n'\n",
    "      f'Linear CV MAE: {lin_cv_mae} \\n'\n",
    "      f'Linear r2: {lin_r2} \\n'\n",
    "      f'Linear MAPE: {lin_mape} \\n'\n",
    "      f'LGBM MAE: {lgbm_mae} \\n'\n",
    "      f'LGBM CV MAE: {lgbm_cv_mae} \\n'\n",
    "      f'LGBM r2: {lgbm_r2} \\n'\n",
    "      f'LGBM MAPE: {lgbm_mape}')"
   ],
   "metadata": {
    "collapsed": false,
    "ExecuteTime": {
     "end_time": "2023-11-01T15:23:58.699976200Z",
     "start_time": "2023-11-01T15:23:58.690516400Z"
    }
   },
   "id": "42159aae4a56eb07"
  },
  {
   "cell_type": "markdown",
   "source": [
    "### Features importance"
   ],
   "metadata": {
    "collapsed": false
   },
   "id": "726ab93fc31e06d7"
  },
  {
   "cell_type": "code",
   "execution_count": 55,
   "outputs": [
    {
     "name": "stdout",
     "output_type": "stream",
     "text": [
      "yst_target_24                           75.775 +/- 0.215\n",
      "target_sum_pred                         70.098 +/- 0.249\n",
      "yst_target_sum                          65.856 +/- 0.225\n",
      "yst_target_168                          9.500 +/- 0.055\n",
      "yst_target_120                          4.317 +/- 0.029\n",
      "yst_temp_mean                           4.255 +/- 0.037\n",
      "yst_target_144                          3.325 +/- 0.032\n",
      "yst_temp                                1.282 +/- 0.019\n",
      "yst_target_72                           1.259 +/- 0.019\n",
      "yst_temp_med                            0.830 +/- 0.016\n",
      "yst_target_96                           0.490 +/- 0.013\n",
      "time                                    0.296 +/- 0.012\n",
      "month                                   0.109 +/- 0.007\n",
      "is_holiday                              0.063 +/- 0.004\n",
      "week_day                                0.034 +/- 0.004\n",
      "yst_target_48                           0.031 +/- 0.002\n",
      "yst_weather_fact_mean                   0.011 +/- 0.001\n",
      "yst_weather_fact_med                    0.008 +/- 0.002\n",
      "day                                     0.001 +/- 0.001\n",
      "year                                    0.000 +/- 0.000\n",
      "yst_weather_fact                        0.000 +/- 0.000\n",
      "temp_pred                               -0.000 +/- 0.000\n",
      "weather_pred                            -0.000 +/- 0.001\n"
     ]
    }
   ],
   "source": [
    "# Важность фичей для линейной регрессии\n",
    "importance = permutation_importance(linear_pipeline,\n",
    "                                    features_full,\n",
    "                                    target_full,\n",
    "                                    n_repeats=50,\n",
    "                                    random_state=42,\n",
    "                                    scoring='neg_mean_absolute_error')\n",
    "for i in importance.importances_mean.argsort()[::-1]:\n",
    "    print(f'{features_test.columns[i]:<40}'\n",
    "          f'{importance.importances_mean[i]:.3f}'\n",
    "          f' +/- {importance.importances_std[i]:.3f}')"
   ],
   "metadata": {
    "collapsed": false,
    "ExecuteTime": {
     "end_time": "2023-11-01T15:24:13.930837400Z",
     "start_time": "2023-11-01T15:23:58.699976200Z"
    }
   },
   "id": "12a087d81bf0dfe9"
  },
  {
   "cell_type": "code",
   "execution_count": 56,
   "outputs": [
    {
     "name": "stdout",
     "output_type": "stream",
     "text": [
      "yst_target_24                           66.612 +/- 0.198\n",
      "target_sum_pred                         19.864 +/- 0.062\n",
      "time                                    12.210 +/- 0.052\n",
      "yst_target_sum                          9.323 +/- 0.032\n",
      "week_day                                5.216 +/- 0.032\n",
      "yst_target_144                          4.948 +/- 0.022\n",
      "yst_target_168                          4.328 +/- 0.019\n",
      "temp_pred                               3.314 +/- 0.019\n",
      "yst_target_48                           2.246 +/- 0.012\n",
      "month                                   2.119 +/- 0.015\n",
      "yst_temp_mean                           2.005 +/- 0.016\n",
      "yst_target_72                           1.524 +/- 0.010\n",
      "yst_temp_med                            1.355 +/- 0.010\n",
      "yst_target_96                           1.324 +/- 0.010\n",
      "yst_temp                                1.062 +/- 0.009\n",
      "yst_target_120                          0.854 +/- 0.008\n",
      "weather_pred                            0.706 +/- 0.007\n",
      "day                                     0.687 +/- 0.006\n",
      "yst_weather_fact_mean                   0.637 +/- 0.006\n",
      "is_holiday                              0.625 +/- 0.009\n",
      "yst_weather_fact_med                    0.406 +/- 0.005\n",
      "yst_weather_fact                        0.309 +/- 0.004\n",
      "year                                    0.285 +/- 0.004\n"
     ]
    }
   ],
   "source": [
    "# Важность фичей для бустинга\n",
    "importance = permutation_importance(lgbm_pipeline,\n",
    "                                    features_full,\n",
    "                                    target_full,\n",
    "                                    n_repeats=50,\n",
    "                                    random_state=42,\n",
    "                                    scoring='neg_mean_absolute_error')\n",
    "for i in importance.importances_mean.argsort()[::-1]:\n",
    "    print(f'{features_test.columns[i]:<40}'\n",
    "          f'{importance.importances_mean[i]:.3f}'\n",
    "          f' +/- {importance.importances_std[i]:.3f}')"
   ],
   "metadata": {
    "collapsed": false,
    "ExecuteTime": {
     "end_time": "2023-11-01T15:34:44.942188500Z",
     "start_time": "2023-11-01T15:24:13.930837400Z"
    }
   },
   "id": "bcdc6f3fa9411cad"
  },
  {
   "cell_type": "markdown",
   "source": [
    "## STACK"
   ],
   "metadata": {
    "collapsed": false
   },
   "id": "c38b7580c0389e8c"
  },
  {
   "cell_type": "code",
   "execution_count": 57,
   "outputs": [],
   "source": [
    "def objective(trial):\n",
    "    # Объявляем гиперпараметры для оптимизации\n",
    "    params = {\n",
    "        'objective': trial.suggest_categorical('objective', ['regression', 'regression_l1']),\n",
    "        'max_depth': trial.suggest_int('max_depth', 3, 12),\n",
    "        'n_estimators': trial.suggest_int('n_estimators', 200, 600),\n",
    "        'learning_rate': trial.suggest_float('learning_rate', 0.01, 0.1),\n",
    "        'num_leaves': trial.suggest_int('num_leaves', 30, 50),\n",
    "        'feature_fraction': trial.suggest_float('feature_fraction', 0, 1),\n",
    "        'bagging_fraction': trial.suggest_float('bagging_fraction', 0, 1),\n",
    "        'lambda_l1': trial.suggest_float('lambda_l1', 0, 1),\n",
    "        'lambda_l2': trial.suggest_float('lambda_l2', 0, 1),\n",
    "        #'min_gain_to_split': trial.suggest_float('min_gain_to_split', 0, 1),\n",
    "        #'min_sum_hessian_in_leaf': trial.suggest_int('min_sum_hessian_in_leaf', 1, 7, 2),\n",
    "        'random_state': 42,\n",
    "        'verbosity': -1\n",
    "    }\n",
    "\n",
    "    # Объявляем модель\n",
    "    model = StackingRegressor(\n",
    "        estimators=[('lin', linear_pipeline)],\n",
    "        final_estimator=make_pipeline(scaler, LGBMRegressor(**params)), passthrough=True)\n",
    "    pipeline = make_pipeline(scaler, model)\n",
    "\n",
    "    # Вычисляем качество\n",
    "    result = cross_val_score(\n",
    "        pipeline,\n",
    "        features_full,\n",
    "        target_full,\n",
    "        scoring='neg_mean_absolute_error',\n",
    "        cv=CV).mean() * -1\n",
    "\n",
    "    return result"
   ],
   "metadata": {
    "collapsed": false,
    "ExecuteTime": {
     "end_time": "2023-11-01T15:34:44.977285500Z",
     "start_time": "2023-11-01T15:34:44.936193Z"
    }
   },
   "id": "337332eb837401eb"
  },
  {
   "cell_type": "code",
   "execution_count": null,
   "outputs": [],
   "source": [
    "study = optuna.create_study(direction=\"minimize\", sampler=optuna.samplers.TPESampler(seed=42))\n",
    "study.optimize(objective, n_trials=200, n_jobs=-1)"
   ],
   "metadata": {
    "collapsed": false
   },
   "id": "2905507f49564fd6"
  },
  {
   "cell_type": "code",
   "execution_count": 59,
   "outputs": [],
   "source": [
    "stack = StackingRegressor(\n",
    "    estimators=[('lin', linear_pipeline)],\n",
    "    final_estimator=make_pipeline(\n",
    "        scaler, LGBMRegressor(**study.best_params, random_state=42, verbosity=-1, n_jobs=-1)),\n",
    "    passthrough=True)\n",
    "stack_pipeline = make_pipeline(scaler, stack)"
   ],
   "metadata": {
    "collapsed": false,
    "ExecuteTime": {
     "end_time": "2023-11-01T17:33:56.594487500Z",
     "start_time": "2023-11-01T17:33:56.569659100Z"
    }
   },
   "id": "fbd1f13e103c826b"
  },
  {
   "cell_type": "code",
   "execution_count": 60,
   "outputs": [
    {
     "data": {
      "text/plain": "Pipeline(steps=[('minmaxscaler', MinMaxScaler()),\n                ('stackingregressor',\n                 StackingRegressor(estimators=[('lin',\n                                                Pipeline(steps=[('minmaxscaler',\n                                                                 MinMaxScaler()),\n                                                                ('linearregression',\n                                                                 LinearRegression())]))],\n                                   final_estimator=Pipeline(steps=[('minmaxscaler',\n                                                                    MinMaxScaler()),\n                                                                   ('lgbmregressor',\n                                                                    LGBMRegressor(bagging_fraction=0.46298631015520186,\n                                                                                  feature_fraction=0.9285796959921393,\n                                                                                  lambda_l1=0.33238599755361947,\n                                                                                  lambda_l2=0.2697731934954458,\n                                                                                  learning_rate=0.05407259875757809,\n                                                                                  max_depth=9,\n                                                                                  n_estimators=600,\n                                                                                  n_jobs=-1,\n                                                                                  num_leaves=48,\n                                                                                  objective='regression',\n                                                                                  random_state=42,\n                                                                                  verbosity=-1))]),\n                                   passthrough=True))])",
      "text/html": "<style>#sk-container-id-7 {color: black;}#sk-container-id-7 pre{padding: 0;}#sk-container-id-7 div.sk-toggleable {background-color: white;}#sk-container-id-7 label.sk-toggleable__label {cursor: pointer;display: block;width: 100%;margin-bottom: 0;padding: 0.3em;box-sizing: border-box;text-align: center;}#sk-container-id-7 label.sk-toggleable__label-arrow:before {content: \"▸\";float: left;margin-right: 0.25em;color: #696969;}#sk-container-id-7 label.sk-toggleable__label-arrow:hover:before {color: black;}#sk-container-id-7 div.sk-estimator:hover label.sk-toggleable__label-arrow:before {color: black;}#sk-container-id-7 div.sk-toggleable__content {max-height: 0;max-width: 0;overflow: hidden;text-align: left;background-color: #f0f8ff;}#sk-container-id-7 div.sk-toggleable__content pre {margin: 0.2em;color: black;border-radius: 0.25em;background-color: #f0f8ff;}#sk-container-id-7 input.sk-toggleable__control:checked~div.sk-toggleable__content {max-height: 200px;max-width: 100%;overflow: auto;}#sk-container-id-7 input.sk-toggleable__control:checked~label.sk-toggleable__label-arrow:before {content: \"▾\";}#sk-container-id-7 div.sk-estimator input.sk-toggleable__control:checked~label.sk-toggleable__label {background-color: #d4ebff;}#sk-container-id-7 div.sk-label input.sk-toggleable__control:checked~label.sk-toggleable__label {background-color: #d4ebff;}#sk-container-id-7 input.sk-hidden--visually {border: 0;clip: rect(1px 1px 1px 1px);clip: rect(1px, 1px, 1px, 1px);height: 1px;margin: -1px;overflow: hidden;padding: 0;position: absolute;width: 1px;}#sk-container-id-7 div.sk-estimator {font-family: monospace;background-color: #f0f8ff;border: 1px dotted black;border-radius: 0.25em;box-sizing: border-box;margin-bottom: 0.5em;}#sk-container-id-7 div.sk-estimator:hover {background-color: #d4ebff;}#sk-container-id-7 div.sk-parallel-item::after {content: \"\";width: 100%;border-bottom: 1px solid gray;flex-grow: 1;}#sk-container-id-7 div.sk-label:hover label.sk-toggleable__label {background-color: #d4ebff;}#sk-container-id-7 div.sk-serial::before {content: \"\";position: absolute;border-left: 1px solid gray;box-sizing: border-box;top: 0;bottom: 0;left: 50%;z-index: 0;}#sk-container-id-7 div.sk-serial {display: flex;flex-direction: column;align-items: center;background-color: white;padding-right: 0.2em;padding-left: 0.2em;position: relative;}#sk-container-id-7 div.sk-item {position: relative;z-index: 1;}#sk-container-id-7 div.sk-parallel {display: flex;align-items: stretch;justify-content: center;background-color: white;position: relative;}#sk-container-id-7 div.sk-item::before, #sk-container-id-7 div.sk-parallel-item::before {content: \"\";position: absolute;border-left: 1px solid gray;box-sizing: border-box;top: 0;bottom: 0;left: 50%;z-index: -1;}#sk-container-id-7 div.sk-parallel-item {display: flex;flex-direction: column;z-index: 1;position: relative;background-color: white;}#sk-container-id-7 div.sk-parallel-item:first-child::after {align-self: flex-end;width: 50%;}#sk-container-id-7 div.sk-parallel-item:last-child::after {align-self: flex-start;width: 50%;}#sk-container-id-7 div.sk-parallel-item:only-child::after {width: 0;}#sk-container-id-7 div.sk-dashed-wrapped {border: 1px dashed gray;margin: 0 0.4em 0.5em 0.4em;box-sizing: border-box;padding-bottom: 0.4em;background-color: white;}#sk-container-id-7 div.sk-label label {font-family: monospace;font-weight: bold;display: inline-block;line-height: 1.2em;}#sk-container-id-7 div.sk-label-container {text-align: center;}#sk-container-id-7 div.sk-container {/* jupyter's `normalize.less` sets `[hidden] { display: none; }` but bootstrap.min.css set `[hidden] { display: none !important; }` so we also need the `!important` here to be able to override the default hidden behavior on the sphinx rendered scikit-learn.org. See: https://github.com/scikit-learn/scikit-learn/issues/21755 */display: inline-block !important;position: relative;}#sk-container-id-7 div.sk-text-repr-fallback {display: none;}</style><div id=\"sk-container-id-7\" class=\"sk-top-container\"><div class=\"sk-text-repr-fallback\"><pre>Pipeline(steps=[(&#x27;minmaxscaler&#x27;, MinMaxScaler()),\n                (&#x27;stackingregressor&#x27;,\n                 StackingRegressor(estimators=[(&#x27;lin&#x27;,\n                                                Pipeline(steps=[(&#x27;minmaxscaler&#x27;,\n                                                                 MinMaxScaler()),\n                                                                (&#x27;linearregression&#x27;,\n                                                                 LinearRegression())]))],\n                                   final_estimator=Pipeline(steps=[(&#x27;minmaxscaler&#x27;,\n                                                                    MinMaxScaler()),\n                                                                   (&#x27;lgbmregressor&#x27;,\n                                                                    LGBMRegressor(bagging_fraction=0.46298631015520186,\n                                                                                  feature_fraction=0.9285796959921393,\n                                                                                  lambda_l1=0.33238599755361947,\n                                                                                  lambda_l2=0.2697731934954458,\n                                                                                  learning_rate=0.05407259875757809,\n                                                                                  max_depth=9,\n                                                                                  n_estimators=600,\n                                                                                  n_jobs=-1,\n                                                                                  num_leaves=48,\n                                                                                  objective=&#x27;regression&#x27;,\n                                                                                  random_state=42,\n                                                                                  verbosity=-1))]),\n                                   passthrough=True))])</pre><b>In a Jupyter environment, please rerun this cell to show the HTML representation or trust the notebook. <br />On GitHub, the HTML representation is unable to render, please try loading this page with nbviewer.org.</b></div><div class=\"sk-container\" hidden><div class=\"sk-item sk-dashed-wrapped\"><div class=\"sk-label-container\"><div class=\"sk-label sk-toggleable\"><input class=\"sk-toggleable__control sk-hidden--visually\" id=\"sk-estimator-id-15\" type=\"checkbox\" ><label for=\"sk-estimator-id-15\" class=\"sk-toggleable__label sk-toggleable__label-arrow\">Pipeline</label><div class=\"sk-toggleable__content\"><pre>Pipeline(steps=[(&#x27;minmaxscaler&#x27;, MinMaxScaler()),\n                (&#x27;stackingregressor&#x27;,\n                 StackingRegressor(estimators=[(&#x27;lin&#x27;,\n                                                Pipeline(steps=[(&#x27;minmaxscaler&#x27;,\n                                                                 MinMaxScaler()),\n                                                                (&#x27;linearregression&#x27;,\n                                                                 LinearRegression())]))],\n                                   final_estimator=Pipeline(steps=[(&#x27;minmaxscaler&#x27;,\n                                                                    MinMaxScaler()),\n                                                                   (&#x27;lgbmregressor&#x27;,\n                                                                    LGBMRegressor(bagging_fraction=0.46298631015520186,\n                                                                                  feature_fraction=0.9285796959921393,\n                                                                                  lambda_l1=0.33238599755361947,\n                                                                                  lambda_l2=0.2697731934954458,\n                                                                                  learning_rate=0.05407259875757809,\n                                                                                  max_depth=9,\n                                                                                  n_estimators=600,\n                                                                                  n_jobs=-1,\n                                                                                  num_leaves=48,\n                                                                                  objective=&#x27;regression&#x27;,\n                                                                                  random_state=42,\n                                                                                  verbosity=-1))]),\n                                   passthrough=True))])</pre></div></div></div><div class=\"sk-serial\"><div class=\"sk-item\"><div class=\"sk-estimator sk-toggleable\"><input class=\"sk-toggleable__control sk-hidden--visually\" id=\"sk-estimator-id-16\" type=\"checkbox\" ><label for=\"sk-estimator-id-16\" class=\"sk-toggleable__label sk-toggleable__label-arrow\">MinMaxScaler</label><div class=\"sk-toggleable__content\"><pre>MinMaxScaler()</pre></div></div></div><div class=\"sk-item\"><div class=\"sk-label-container\"><div class=\"sk-label sk-toggleable\"><input class=\"sk-toggleable__control sk-hidden--visually\" id=\"sk-estimator-id-17\" type=\"checkbox\" ><label for=\"sk-estimator-id-17\" class=\"sk-toggleable__label sk-toggleable__label-arrow\">stackingregressor: StackingRegressor</label><div class=\"sk-toggleable__content\"><pre>StackingRegressor(estimators=[(&#x27;lin&#x27;,\n                               Pipeline(steps=[(&#x27;minmaxscaler&#x27;, MinMaxScaler()),\n                                               (&#x27;linearregression&#x27;,\n                                                LinearRegression())]))],\n                  final_estimator=Pipeline(steps=[(&#x27;minmaxscaler&#x27;,\n                                                   MinMaxScaler()),\n                                                  (&#x27;lgbmregressor&#x27;,\n                                                   LGBMRegressor(bagging_fraction=0.46298631015520186,\n                                                                 feature_fraction=0.9285796959921393,\n                                                                 lambda_l1=0.33238599755361947,\n                                                                 lambda_l2=0.2697731934954458,\n                                                                 learning_rate=0.05407259875757809,\n                                                                 max_depth=9,\n                                                                 n_estimators=600,\n                                                                 n_jobs=-1,\n                                                                 num_leaves=48,\n                                                                 objective=&#x27;regression&#x27;,\n                                                                 random_state=42,\n                                                                 verbosity=-1))]),\n                  passthrough=True)</pre></div></div></div><div class=\"sk-serial\"><div class=\"sk-item\"><div class=\"sk-parallel\"><div class=\"sk-parallel-item\"><div class=\"sk-item\"><div class=\"sk-label-container\"><div class=\"sk-label sk-toggleable\"><label>lin</label></div></div><div class=\"sk-serial\"><div class=\"sk-item\"><div class=\"sk-serial\"><div class=\"sk-item\"><div class=\"sk-estimator sk-toggleable\"><input class=\"sk-toggleable__control sk-hidden--visually\" id=\"sk-estimator-id-18\" type=\"checkbox\" ><label for=\"sk-estimator-id-18\" class=\"sk-toggleable__label sk-toggleable__label-arrow\">MinMaxScaler</label><div class=\"sk-toggleable__content\"><pre>MinMaxScaler()</pre></div></div></div><div class=\"sk-item\"><div class=\"sk-estimator sk-toggleable\"><input class=\"sk-toggleable__control sk-hidden--visually\" id=\"sk-estimator-id-19\" type=\"checkbox\" ><label for=\"sk-estimator-id-19\" class=\"sk-toggleable__label sk-toggleable__label-arrow\">LinearRegression</label><div class=\"sk-toggleable__content\"><pre>LinearRegression()</pre></div></div></div></div></div></div></div></div></div></div><div class=\"sk-item\"><div class=\"sk-parallel\"><div class=\"sk-parallel-item\"><div class=\"sk-item\"><div class=\"sk-label-container\"><div class=\"sk-label sk-toggleable\"><label>final_estimator</label></div></div><div class=\"sk-serial\"><div class=\"sk-item\"><div class=\"sk-serial\"><div class=\"sk-item\"><div class=\"sk-estimator sk-toggleable\"><input class=\"sk-toggleable__control sk-hidden--visually\" id=\"sk-estimator-id-20\" type=\"checkbox\" ><label for=\"sk-estimator-id-20\" class=\"sk-toggleable__label sk-toggleable__label-arrow\">MinMaxScaler</label><div class=\"sk-toggleable__content\"><pre>MinMaxScaler()</pre></div></div></div><div class=\"sk-item\"><div class=\"sk-estimator sk-toggleable\"><input class=\"sk-toggleable__control sk-hidden--visually\" id=\"sk-estimator-id-21\" type=\"checkbox\" ><label for=\"sk-estimator-id-21\" class=\"sk-toggleable__label sk-toggleable__label-arrow\">LGBMRegressor</label><div class=\"sk-toggleable__content\"><pre>LGBMRegressor(bagging_fraction=0.46298631015520186,\n              feature_fraction=0.9285796959921393,\n              lambda_l1=0.33238599755361947, lambda_l2=0.2697731934954458,\n              learning_rate=0.05407259875757809, max_depth=9, n_estimators=600,\n              n_jobs=-1, num_leaves=48, objective=&#x27;regression&#x27;, random_state=42,\n              verbosity=-1)</pre></div></div></div></div></div></div></div></div></div></div></div></div></div></div></div></div>"
     },
     "execution_count": 60,
     "metadata": {},
     "output_type": "execute_result"
    }
   ],
   "source": [
    "stack_pipeline.fit(features_full, target_full)"
   ],
   "metadata": {
    "collapsed": false,
    "ExecuteTime": {
     "end_time": "2023-11-01T17:33:59.416348500Z",
     "start_time": "2023-11-01T17:33:56.576487500Z"
    }
   },
   "id": "1fc801bfc8f8ef8d"
  },
  {
   "cell_type": "code",
   "execution_count": 61,
   "outputs": [
    {
     "data": {
      "text/plain": "3.598186692827119"
     },
     "execution_count": 61,
     "metadata": {},
     "output_type": "execute_result"
    }
   ],
   "source": [
    "mean_absolute_error(target_full, stack_pipeline.predict(features_full))"
   ],
   "metadata": {
    "collapsed": false,
    "ExecuteTime": {
     "end_time": "2023-11-01T17:34:00.241173400Z",
     "start_time": "2023-11-01T17:33:59.409829900Z"
    }
   },
   "id": "bedb7ec15b5ddccb"
  },
  {
   "cell_type": "markdown",
   "source": [
    "### Dump"
   ],
   "metadata": {
    "collapsed": false
   },
   "id": "bb9e5b16dfb8986f"
  },
  {
   "cell_type": "code",
   "execution_count": 62,
   "outputs": [
    {
     "data": {
      "text/plain": "['../files/stack_pipeline_1h']"
     },
     "execution_count": 62,
     "metadata": {},
     "output_type": "execute_result"
    }
   ],
   "source": [
    "joblib.dump(target_encoder, '../files/target_encoder_1h')\n",
    "joblib.dump(linear_pipeline, '../files/linear_pipeline_1h')\n",
    "joblib.dump(lgbm_pipeline, '../files/lgbm_pipeline_1h')\n",
    "joblib.dump(stack_pipeline, '../files/stack_pipeline_1h')"
   ],
   "metadata": {
    "collapsed": false,
    "ExecuteTime": {
     "end_time": "2023-11-01T17:38:31.396700300Z",
     "start_time": "2023-11-01T17:38:31.142980900Z"
    }
   },
   "id": "60986211db913282"
  },
  {
   "cell_type": "markdown",
   "source": [
    "### Plot"
   ],
   "metadata": {
    "collapsed": false
   },
   "id": "a5a374b4eaa995f"
  },
  {
   "cell_type": "code",
   "execution_count": 63,
   "outputs": [
    {
     "data": {
      "text/plain": "<Figure size 1200x600 with 1 Axes>",
      "image/png": "[encoded data removed]"
     },
     "metadata": {},
     "output_type": "display_data"
    }
   ],
   "source": [
    "plt.figure(figsize=(12, 6))\n",
    "plt.plot(np.array(target_full), label=\"True\")\n",
    "plt.plot(lgbm_pipeline.predict(features_full), label='Predict') #target_full.index, \n",
    "#plt.xlim(35000, 36000)\n",
    "#plt.ylim(400, 700)\n",
    "plt.legend();"
   ],
   "metadata": {
    "collapsed": false,
    "ExecuteTime": {
     "end_time": "2023-11-01T17:53:36.915780100Z",
     "start_time": "2023-11-01T17:53:34.857699100Z"
    }
   },
   "id": "f3ed522c9196c95c"
  },
  {
   "cell_type": "code",
   "execution_count": null,
   "outputs": [],
   "source": [],
   "metadata": {
    "collapsed": false
   },
   "id": "ce420fd8901a9c88"
  }
 ],
 "metadata": {
  "kernelspec": {
   "display_name": "Python 3",
   "language": "python",
   "name": "python3"
  },
  "language_info": {
   "codemirror_mode": {
    "name": "ipython",
    "version": 2
   },
   "file_extension": ".py",
   "mimetype": "text/x-python",
   "name": "python",
   "nbconvert_exporter": "python",
   "pygments_lexer": "ipython2",
   "version": "2.7.6"
  }
 },
 "nbformat": 4,
 "nbformat_minor": 5
}
